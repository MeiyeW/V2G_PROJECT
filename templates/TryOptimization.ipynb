{
 "cells": [
  {
   "cell_type": "code",
   "execution_count": 1,
   "metadata": {
    "tags": []
   },
   "outputs": [],
   "source": [
    "from __future__ import division\n",
    "import datetime\n",
    "import matplotlib.pyplot as plt\n",
    "import cPickle as pickle\n",
    "import numpy as np\n",
    "import v2gsim \n",
    "import pandas \n",
    "\n",
    "# ### Require gurobi or CPLEX #####\n",
    "# Create a project and initialize it with someitineraries\n",
    "project = v2gsim.model.Project()\n",
    "project = v2gsim.itinerary.from_excel(project, '../data/NHTS/Tennessee.xlsx')\n",
    "project = v2gsim.itinerary.copy_append(project, nb_of_days_to_add=2)\n",
    "\n",
    "# This function from the itinerary module return all the vehicles that\n",
    "# start and end their day at the same location (e.g. home)\n",
    "project.vehicles = v2gsim.itinerary.get_cycling_itineraries(project)\n",
    "\n",
    "\n",
    "# Reduce the number of vehicles\n",
    "project.vehicles = project.vehicles[0:100]\n"
   ]
  },
  {
   "cell_type": "code",
   "execution_count": 2,
   "metadata": {
    "tags": []
   },
   "outputs": [
    {
     "output_type": "stream",
     "name": "stderr",
     "text": "core.initialize_SOC: 100%|####################################################|\ncore.run:  26%|################                                               |       mean  mean_rate       std  std_rate\n0  0.950000   0.000000  0.000000  0.000000\n1  0.914688   0.035312  0.126707 -0.126707\n2  0.914691  -0.000003  0.126678  0.000030\n\ncore.run: 100%|###############################################################|\n"
    }
   ],
   "source": [
    "# Create some new charging infrastructures, append those new\n",
    "# infrastructures to the project list of infrastructures\n",
    "charging_stations = []\n",
    "charging_stations.append(\n",
    "    v2gsim.model.ChargingStation(name='L2', maximum_power=7200, minimum_power=0))\n",
    "charging_stations.append(\n",
    "    v2gsim.model.ChargingStation(name='L1_V1G', maximum_power=1400, minimum_power=0, post_simulation=True))\n",
    "charging_stations.append(\n",
    "    v2gsim.model.ChargingStation(name='L2_V2G', maximum_power=7200, minimum_power=-7200, post_simulation=True))\n",
    "project.charging_stations.extend(charging_stations)\n",
    "\n",
    " #Create a data frame with the new infrastructures mix and\n",
    "# apply this mix at all the locations\n",
    "df = pandas.DataFrame(index=['L2', 'L1_V1G', 'L2_V2G'],\n",
    "                      data={'charging_station': charging_stations,\n",
    "                            'probability': [0.0, 0.4, 0.6]})\n",
    "for location in project.locations:\n",
    "    if location.category in ['Work', 'Home']:\n",
    "        location.available_charging_station = df.copy()\n",
    "\n",
    "# Initiate SOC and charging infrastructures\n",
    "v2gsim.core.initialize_SOC(project, nb_iteration=2)\n",
    "\n",
    "# Assign a basic result function to save power demand\n",
    "for vehicle in project.vehicles:\n",
    "    vehicle.result_function = v2gsim.post_simulation.netload_optimization.save_vehicle_state_for_optimization\n",
    "\n",
    "\n",
    "# Launch the simulation\n",
    "v2gsim.core.run(project, date_from=project.date + datetime.timedelta(days=1),\n",
    "                date_to=project.date + datetime.timedelta(days=2),\n",
    "                reset_charging_station=False)\n"
   ]
  },
  {
   "cell_type": "code",
   "execution_count": 3,
   "metadata": {},
   "outputs": [],
   "source": [
    "# Look at the results\n",
    "total_power_demand = v2gsim.post_simulation.result.total_power_demand(project)\n",
    "\n",
    "# Optimization\n",
    "myopti = v2gsim.post_simulation.netload_optimization.CentralOptimization(project, 10,\n",
    "                                                                         project.date + datetime.timedelta(days=1),\n",
    "                                                                         project.date + datetime.timedelta(days=2),\n",
    "                                                                         minimum_SOC=0.1, maximum_SOC=0.95)"
   ]
  },
  {
   "cell_type": "code",
   "execution_count": 4,
   "metadata": {},
   "outputs": [],
   "source": [
    "finalResult = pandas.DataFrame()\n",
    "filename = '../data/netload/2025.pickle'\n",
    "# with open(filename, 'rb') as fp:\n",
    "#     net_load = pickle.load(fp)\n",
    "net_load=pandas.read_pickle(filename)\n",
    "day = datetime.datetime(2025, 6, 17)\n",
    "net_load = pandas.DataFrame(net_load[day: day + datetime.timedelta(days=1)]['netload'])\n",
    "net_load.head()\n",
    "net_load.shape\n",
    "\n",
    "net_load.to_csv('../UCED/netload.csv')\n",
    "pr=pandas.read_csv(\"../UCED/out_camb_R1_2018_price.csv\")"
   ]
  },
  {
   "cell_type": "code",
   "execution_count": 5,
   "metadata": {
    "tags": []
   },
   "outputs": [
    {
     "output_type": "stream",
     "name": "stdout",
     "text": "There is 95 vehicle participating in the optimization (95.0%)\nThere is 5 unfeasible vehicle.\n\nSolver script file: 'c:\\users\\meiye'~1\\appdata\\local\\temp\\tmpisveya.gurobi.script'\nSolver log file: 'c:\\users\\meiye'~1\\appdata\\local\\temp\\tmpq1u24t.gurobi.log'\nSolver solution file: 'c:\\users\\meiye'~1\\appdata\\local\\temp\\tmpppn66h.gurobi.txt'\nSolver problem files: (\"c:\\\\users\\\\meiye'~1\\\\appdata\\\\local\\\\temp\\\\tmpb_agkg.pyomo.lp\",)\nAcademic license - for non-commercial use only\nRead LP format model from file c:\\users\\meiye'~1\\appdata\\local\\temp\\tmpb_agkg.pyomo.lp\nReading time = 6.02 seconds\nx82081: 41041 rows, 82081 columns, 68401 nonzeros\nOptimize a model with 41041 rows, 82081 columns and 68401 nonzeros\nModel has 41040 quadratic objective terms\nModel has 27455 quadratic constraints\nVariable types: 41041 continuous, 41040 integer (41040 binary)\nCoefficient statistics:\n  Matrix range     [1e+00, 1e+00]\n  QMatrix range    [1e+00, 1e+00]\n  Objective range  [0e+00, 0e+00]\n  QObjective range [6e+00, 7e+00]\n  Bounds range     [1e+00, 1e+00]\n  RHS range        [1e+00, 7e+03]\n  QRHS range       [1e+02, 3e+05]\nPresolve removed 27361 rows and 3121 columns\nPresolve time: 1.91s\n\nExplored 0 nodes (0 simplex iterations) in 2.00 seconds\nThread count was 1 (of 8 available processors)\n\nSolution count 0\n\nBest objective -, best bound -, gap -\nule>\n  File \"D:\\Anaconda\\envs\\py27\\lib\\site-packages\\pyomo\\solvers\\plugins\\solvers\\GUROBI_RUN.py\", line 82, in gurobi_run\n    model.optimize()\n  File \"model.pxi\", line 727, in gurobipy.Model.optimize\ngurobipy.GurobiError: Objective Q not PSD (diagonal adjustment of 3.5e+00 would be required)\nERROR: \"[base]\\site-packages\\pyomo\\opt\\base\\solvers.py\", 570, solve\n    Solver (gurobi) returned non-zero return code (1)\nERROR: \"[base]\\site-packages\\pyomo\\opt\\base\\solvers.py\", 573, solve\n    See the solver log above for diagnostic information.\n"
    },
    {
     "output_type": "error",
     "ename": "ApplicationError",
     "evalue": "Solver (gurobi) did not exit normally",
     "traceback": [
      "\u001b[1;31m\u001b[0m",
      "\u001b[1;31mApplicationError\u001b[0mTraceback (most recent call last)",
      "\u001b[1;32m<ipython-input-5-9e04f1a9fc4e>\u001b[0m in \u001b[0;36m<module>\u001b[1;34m()\u001b[0m\n\u001b[0;32m      1\u001b[0m myresult, u1result = myopti.solve(project, net_load * 1000000,1500000, price=pr,\n\u001b[1;32m----> 2\u001b[1;33m                         peak_shaving='economic', SOC_margin=0.05)\n\u001b[0m",
      "\u001b[1;32mD:\\Anaconda\\envs\\py27\\lib\\site-packages\\v2gsim\\post_simulation\\netload_optimization.pyc\u001b[0m in \u001b[0;36msolve\u001b[1;34m(self, project, net_load, real_number_of_vehicle, price, SOC_margin, SOC_offset, peak_shaving, penalization, beta, plot)\u001b[0m\n\u001b[0;32m     71\u001b[0m                                           \u001b[0mself\u001b[0m\u001b[1;33m.\u001b[0m\u001b[0mpmin\u001b[0m\u001b[1;33m,\u001b[0m \u001b[0mself\u001b[0m\u001b[1;33m.\u001b[0m\u001b[0memin\u001b[0m\u001b[1;33m,\u001b[0m \u001b[0mself\u001b[0m\u001b[1;33m.\u001b[0m\u001b[0memax\u001b[0m\u001b[1;33m,\u001b[0m\u001b[0mself\u001b[0m\u001b[1;33m.\u001b[0m\u001b[0mefinal\u001b[0m\u001b[1;33m,\u001b[0m\u001b[1;33m\u001b[0m\u001b[0m\n\u001b[0;32m     72\u001b[0m                                           \u001b[0mself\u001b[0m\u001b[1;33m.\u001b[0m\u001b[0mpr_e\u001b[0m\u001b[1;33m,\u001b[0m\u001b[0mself\u001b[0m\u001b[1;33m.\u001b[0m\u001b[0mpr_fre_c1\u001b[0m\u001b[1;33m,\u001b[0m\u001b[0mself\u001b[0m\u001b[1;33m.\u001b[0m\u001b[0mpr_fre_c2\u001b[0m\u001b[1;33m,\u001b[0m  \u001b[0mself\u001b[0m\u001b[1;33m.\u001b[0m\u001b[0mtimeindex\u001b[0m\u001b[1;33m,\u001b[0m \u001b[0mself\u001b[0m\u001b[1;33m.\u001b[0m\u001b[0mre_energy_u\u001b[0m\u001b[1;33m,\u001b[0m\u001b[0mself\u001b[0m\u001b[1;33m.\u001b[0m\u001b[0mre_energy_d\u001b[0m\u001b[1;33m,\u001b[0m\u001b[1;33m\u001b[0m\u001b[0m\n\u001b[1;32m---> 73\u001b[1;33m                                           peak_shaving, penalization)#self.pr_ba\n\u001b[0m\u001b[0;32m     74\u001b[0m         \u001b[0mtimer2\u001b[0m \u001b[1;33m=\u001b[0m \u001b[0mtime\u001b[0m\u001b[1;33m.\u001b[0m\u001b[0mtime\u001b[0m\u001b[1;33m(\u001b[0m\u001b[1;33m)\u001b[0m\u001b[1;33m\u001b[0m\u001b[0m\n\u001b[0;32m     75\u001b[0m         \u001b[1;32mprint\u001b[0m\u001b[1;33m(\u001b[0m\u001b[1;34m'The optimization duration was '\u001b[0m \u001b[1;33m+\u001b[0m \u001b[0mstr\u001b[0m\u001b[1;33m(\u001b[0m\u001b[1;33m(\u001b[0m\u001b[0mtimer2\u001b[0m \u001b[1;33m-\u001b[0m \u001b[0mtimer\u001b[0m\u001b[1;33m)\u001b[0m \u001b[1;33m/\u001b[0m \u001b[1;36m60\u001b[0m\u001b[1;33m)\u001b[0m \u001b[1;33m+\u001b[0m \u001b[1;34m' minutes'\u001b[0m\u001b[1;33m)\u001b[0m\u001b[1;33m\u001b[0m\u001b[0m\n",
      "\u001b[1;32mD:\\Anaconda\\envs\\py27\\lib\\site-packages\\v2gsim\\post_simulation\\netload_optimization.pyc\u001b[0m in \u001b[0;36mprocess\u001b[1;34m(self, times, vehicles, d, pmax, pmin, emin, emax, efinal, pr_e, pr_fre_c1, pr_fre_c2, timeindex, re_energy_u, re_energy_d, peak_shaving, penalization, solver)\u001b[0m\n\u001b[0;32m    488\u001b[0m                 \u001b[0mmodel\u001b[0m\u001b[1;33m.\u001b[0m\u001b[0mobjective\u001b[0m \u001b[1;33m=\u001b[0m \u001b[0mObjective\u001b[0m\u001b[1;33m(\u001b[0m\u001b[0mrule\u001b[0m\u001b[1;33m=\u001b[0m\u001b[0mobjective_rule\u001b[0m\u001b[1;33m,\u001b[0m \u001b[0msense\u001b[0m\u001b[1;33m=\u001b[0m\u001b[0mminimize\u001b[0m\u001b[1;33m,\u001b[0m \u001b[0mdoc\u001b[0m\u001b[1;33m=\u001b[0m\u001b[1;34m'Define objective function'\u001b[0m\u001b[1;33m)\u001b[0m\u001b[1;33m\u001b[0m\u001b[0m\n\u001b[0;32m    489\u001b[0m \u001b[1;33m\u001b[0m\u001b[0m\n\u001b[1;32m--> 490\u001b[1;33m             \u001b[0mresults\u001b[0m \u001b[1;33m=\u001b[0m \u001b[0mopt\u001b[0m\u001b[1;33m.\u001b[0m\u001b[0msolve\u001b[0m\u001b[1;33m(\u001b[0m\u001b[0mmodel\u001b[0m\u001b[1;33m,\u001b[0m\u001b[0mtee\u001b[0m\u001b[1;33m=\u001b[0m\u001b[0mTrue\u001b[0m\u001b[1;33m,\u001b[0m \u001b[0mkeepfiles\u001b[0m\u001b[1;33m=\u001b[0m\u001b[0mTrue\u001b[0m\u001b[1;33m)\u001b[0m\u001b[1;33m\u001b[0m\u001b[0m\n\u001b[0m\u001b[0;32m    491\u001b[0m             \u001b[1;31m# results.write()\u001b[0m\u001b[1;33m\u001b[0m\u001b[1;33m\u001b[0m\u001b[0m\n\u001b[0;32m    492\u001b[0m \u001b[1;33m\u001b[0m\u001b[0m\n",
      "\u001b[1;32mD:\\Anaconda\\envs\\py27\\lib\\site-packages\\pyomo\\opt\\base\\solvers.pyc\u001b[0m in \u001b[0;36msolve\u001b[1;34m(self, *args, **kwds)\u001b[0m\n\u001b[0;32m    575\u001b[0m                     \u001b[0mlogger\u001b[0m\u001b[1;33m.\u001b[0m\u001b[0merror\u001b[0m\u001b[1;33m(\u001b[0m\u001b[1;34m\"Solver log:\\n\"\u001b[0m \u001b[1;33m+\u001b[0m \u001b[0mstr\u001b[0m\u001b[1;33m(\u001b[0m\u001b[0m_status\u001b[0m\u001b[1;33m.\u001b[0m\u001b[0mlog\u001b[0m\u001b[1;33m)\u001b[0m\u001b[1;33m)\u001b[0m\u001b[1;33m\u001b[0m\u001b[0m\n\u001b[0;32m    576\u001b[0m                 raise pyutilib.common.ApplicationError(\n\u001b[1;32m--> 577\u001b[1;33m                     \"Solver (%s) did not exit normally\" % self.name)\n\u001b[0m\u001b[0;32m    578\u001b[0m             \u001b[0msolve_completion_time\u001b[0m \u001b[1;33m=\u001b[0m \u001b[0mtime\u001b[0m\u001b[1;33m.\u001b[0m\u001b[0mtime\u001b[0m\u001b[1;33m(\u001b[0m\u001b[1;33m)\u001b[0m\u001b[1;33m\u001b[0m\u001b[0m\n\u001b[0;32m    579\u001b[0m \u001b[1;33m\u001b[0m\u001b[0m\n",
      "\u001b[1;31mApplicationError\u001b[0m: Solver (gurobi) did not exit normally"
     ]
    }
   ],
   "source": [
    "myresult, u1result = myopti.solve(project, net_load * 1000000,1500000, price=pr,\n",
    "                        peak_shaving='economic', SOC_margin=0.05)"
   ]
  },
  {
   "cell_type": "code",
   "execution_count": 6,
   "metadata": {
    "tags": []
   },
   "outputs": [
    {
     "output_type": "stream",
     "name": "stdout",
     "text": "Unnamed: 0  Hour    pr_e  pr_fre_u  pr_fre_d\n0              0     0  18.665     17.08    16.446\n1              1     1  18.665     17.08    16.446\n2              2     2  18.665     17.08    16.446\n3              3     3  18.665     17.08    16.446\n4              4     4  18.665     17.08    16.446\n5              5     5  18.665     17.08    16.446\n6              6     6  18.665     17.08    16.446\n7              7     7  18.665     17.08    16.236\n8              8     8  18.665     17.08    16.236\n9              9     9  18.665     17.08    16.236\n10            10    10  18.665     17.08    16.236\n11            11    11  18.665     17.08    16.236\n12            12    12  18.665     17.08    16.236\n13            13    13  18.665     17.08    16.446\n14            14    14  18.665     17.08    16.236\n15            15    15  18.665     17.08    16.236\n16            16    16  18.665     17.08    16.236\n17            17    17  18.665     17.08    16.236\n18            18    18  18.665     17.08    16.236\n19            19    19  18.665     17.08    16.236\n20            20    20  18.665     17.08    16.236\n21            21    21  18.665     17.08    16.236\n22            22    22  18.665     17.08    16.236\n23            23    23  18.665     16.87    16.236\n24            24    24  18.665     17.08    16.446\n25            25    25  18.665     17.08    16.446\n26            26    26  18.665     17.08    16.446\n27            27    27  18.665     17.08    16.446\n28            28    28  18.665     17.08    16.446\n29            29    29  18.665     17.08    16.446\n...          ...   ...     ...       ...       ...\n8730        8730  8730  18.665     17.08    16.236\n8731        8731  8731  18.665     17.08    16.236\n8732        8732  8732  18.665     17.08    16.236\n8733        8733  8733  18.665     17.08    16.236\n8734        8734  8734  18.665     17.08    16.236\n8735        8735  8735  18.665     16.87    16.236\n8736        8736  8736  18.665     17.08    16.446\n8737        8737  8737  18.665     17.08    16.446\n8738        8738  8738  18.665     17.08    16.446\n8739        8739  8739  18.665     17.08    16.446\n8740        8740  8740  18.665     17.08    16.446\n8741        8741  8741  18.665     17.08    16.446\n8742        8742  8742  18.665     17.08    16.446\n8743        8743  8743  18.665     17.08    16.236\n8744        8744  8744  18.665     17.08    16.236\n8745        8745  8745  18.665     17.08    16.236\n8746        8746  8746  18.665     17.08    16.236\n8747        8747  8747  18.665     17.08    16.236\n8748        8748  8748  18.665     17.08    16.236\n8749        8749  8749  18.665     17.08    16.236\n8750        8750  8750  18.665     17.08    16.236\n8751        8751  8751  18.665     17.08    16.236\n8752        8752  8752  18.665     17.08    16.236\n8753        8753  8753  18.665     16.87    16.236\n8754        8754  8754  18.665     17.08    16.236\n8755        8755  8755  18.665     17.08    16.236\n8756        8756  8756  18.665     17.08    16.236\n8757        8757  8757  18.665     17.08    16.236\n8758        8758  8758  18.455     16.87    16.236\n8759        8759  8759  18.455     16.87    16.236\n\n[8760 rows x 5 columns]\n"
    }
   ],
   "source": [
    "print(pr)"
   ]
  },
  {
   "cell_type": "code",
   "execution_count": null,
   "metadata": {
    "tags": []
   },
   "outputs": [],
   "source": [
    "u1, ub, c1, cb, c2, cb2 ,i = u1result\n",
    "u1pd = pandas.DataFrame(index=['power'], data=u1).transpose()\n",
    "# u1pd.head(20)\n",
    "# u1pd.shape\n",
    "ubpd=pandas.DataFrame(index=['power binary'], data=ub).transpose()\n",
    "# ubpd.shape\n",
    "# ubpd.head(20)\n",
    "u=pandas.concat([u1pd,ubpd],axis=1)"
   ]
  },
  {
   "cell_type": "code",
   "execution_count": null,
   "metadata": {},
   "outputs": [],
   "source": [
    "u['powerresult']=u['power']*u['power binary']\n",
    "u.head(20)\n",
    "\n",
    "# powerresult=u['powerresult'].groupby(level=0).sum()"
   ]
  },
  {
   "cell_type": "code",
   "execution_count": null,
   "metadata": {},
   "outputs": [],
   "source": [
    "discharge=u[u['power']>=0]\n",
    "# discharge.head()\n",
    "# discharge.shape\n",
    "discharge = discharge.groupby(level=0).sum()\n",
    "# discharge.rename(columns={'power':'power discharge'},inplace=True)\n",
    "discharge.head()\n",
    "# discharge.shape\n",
    "# powerresult=pandas.DataFrame()\n",
    "# powerresult=pandas.concat([powerresult,discharge],axis=1)\n",
    "# powerresult.head()\n",
    "# powerresult.shape\n"
   ]
  },
  {
   "cell_type": "code",
   "execution_count": null,
   "metadata": {},
   "outputs": [],
   "source": [
    "charge=u[u['powerresult']<0]\n",
    "charge.head()\n",
    "# charge = charge['powerresult'].groupby(level=0).sum()"
   ]
  },
  {
   "cell_type": "code",
   "execution_count": null,
   "metadata": {},
   "outputs": [],
   "source": [
    "charge.head()"
   ]
  },
  {
   "cell_type": "code",
   "execution_count": null,
   "metadata": {},
   "outputs": [],
   "source": [
    "charge=u[u['power']<0]\n",
    "charge.head()\n",
    "# charge.shape"
   ]
  },
  {
   "cell_type": "code",
   "execution_count": null,
   "metadata": {
    "tags": []
   },
   "outputs": [],
   "source": [
    "pandas.DataFrame(data=np.ones(13680)).set_index?\n",
    "# pandas.DataFrame(data=np.ones(13680)).head()"
   ]
  },
  {
   "cell_type": "code",
   "execution_count": null,
   "metadata": {},
   "outputs": [],
   "source": []
  },
  {
   "cell_type": "code",
   "execution_count": null,
   "metadata": {},
   "outputs": [],
   "source": [
    "\n",
    "\n"
   ]
  },
  {
   "cell_type": "code",
   "execution_count": null,
   "metadata": {},
   "outputs": [],
   "source": []
  },
  {
   "cell_type": "code",
   "execution_count": null,
   "metadata": {},
   "outputs": [],
   "source": [
    "charge = charge.groupby(level=0).sum()\n",
    "charge.rename(columns={'power':'power charge'},inplace=True)\n",
    "charge.head()\n",
    "charge.shape"
   ]
  },
  {
   "cell_type": "code",
   "execution_count": null,
   "metadata": {},
   "outputs": [],
   "source": [
    "powerresult=pandas.concat([powerresult,charge],axis=1)\n",
    "powerresult.head()\n",
    "# powerresult.shape"
   ]
  },
  {
   "cell_type": "code",
   "execution_count": null,
   "metadata": {},
   "outputs": [],
   "source": [
    "\n",
    "df = pandas.DataFrame(index=['power discharged binary'], data=model.ub.get_values()).transpose().groupby(level=0).sum()\n",
    "power = pandas.concat([power, df], axis=1)\n",
    "       \n",
    "df = pandas.DataFrame(index=['power regulation up'], data=model.c1.get_values()).transpose().groupby(level=0).sum()\n",
    "power = pandas.concat([power, df], axis=1)\n",
    "        \n",
    "df = pandas.DataFrame(index=['power regulation up binary'], data=model.cb.get_values()).transpose().groupby(level=0).sum()\n",
    "power = pandas.concat([power, df], axis=1)\n",
    "        \n",
    "df = pandas.DataFrame(index=['power regulation down'], data=model.c2.get_values()).transpose().groupby(level=0).sum()\n",
    "power = pandas.concat([power, df], axis=1)\n",
    "        \n",
    "df = pandas.DataFrame(index=['power regulation down binary'], data=model.cb2.get_values()).transpose().groupby(level=0).sum()\n",
    "power = pandas.concat([power, df], axis=1)"
   ]
  },
  {
   "cell_type": "code",
   "execution_count": null,
   "metadata": {},
   "outputs": [],
   "source": [
    "powerresult =[]\n",
    "\n",
    "dischar=[]\n",
    "char=[]\n",
    "regup=[]\n",
    "regdown=[]\n",
    "powersum=[]\n",
    "\n",
    "for i in range(len(df)):           \n",
    "    dischar.append(power.loc[[i],'power discharged']*power.loc[[i],'power discharged binary'])\n",
    "    char.append(power.loc[[i],'power charged']*power.loc[[i],'power discharged binary'])\n",
    "    regup.append(power.loc[[i],'power regulation up']*power.loc[[i],'power regulation up binary'])\n",
    "    regdown.append(power.loc[[i],'power regulation down']*power.loc[[i],'power regulation down binary'])\n",
    "    powersum.append(dischar[i]-char[i])\n",
    "    powerresult.append((dischar[i],char[i],regup[i],regdown[i],powersum[i]))\n",
    "        \n",
    "powerresult_pd=pandas.DataFrame(powerresult,columns=('Discharge','Charge','Regup','Regdown','EnergySum'))\n"
   ]
  },
  {
   "cell_type": "code",
   "execution_count": null,
   "metadata": {},
   "outputs": [],
   "source": [
    "powerresult\n"
   ]
  },
  {
   "cell_type": "code",
   "execution_count": null,
   "metadata": {},
   "outputs": [],
   "source": [
    "temp2 = pandas.DataFrame(index=['vehicle_after'], data=powerresult_pd['EnergySum'])\n",
    "temp2.head()"
   ]
  },
  {
   "cell_type": "code",
   "execution_count": null,
   "metadata": {},
   "outputs": [],
   "source": [
    "powerresult.head()"
   ]
  },
  {
   "cell_type": "code",
   "execution_count": null,
   "metadata": {},
   "outputs": [],
   "source": [
    "\n",
    "# dischar=np.array(powerresult.loc[:,'power discharged'])\n",
    "# char=np.array(powerresult.loc[:,'power charged'])\n",
    " \n",
    "powersum={}\n",
    "power=[]\n",
    "\n",
    "dischar=[]\n",
    "for i in range(len(df)):           \n",
    "    dischar[i]=powerresult.loc[[i],'power discharged']*powerresult.loc[[i],'power charged']\n",
    "    char[i]=powerresult.loc[[i],'power discharged']+powerresult.loc[[i],'power charged']\n",
    "    powersum[i]=dischar[i]+char[i]\n",
    "    power.append((dischar[i],char[i],powersum[i]))\n",
    "\n"
   ]
  },
  {
   "cell_type": "code",
   "execution_count": null,
   "metadata": {
    "tags": []
   },
   "outputs": [],
   "source": [
    " powerresult =[]\n",
    "\n",
    "        dischar=[]\n",
    "        char=[]\n",
    "        regup=[]\n",
    "        regdown=[]\n",
    "        powersum=[]\n",
    "\n",
    "        for i in range(len(df)):           \n",
    "            dischar.append(power.loc[[i],'power discharged']*power.loc[[i],'power discharged binary'])\n",
    "            char.append(power.loc[[i],'power charged']*power.loc[[i],'power discharged binary'])\n",
    "            regup.append(power.loc[[i],'power regulation up']*power.loc[[i],'power regulation up binary'])\n",
    "            regdown.append(power.loc[[i],'power regulation down']*power.loc[[i],'power regulation down binary'])\n",
    "            powersum.append(dischar[i]-char[i])\n",
    "            powerresult.append((dischar[i],char[i],regup[i],regdown[i],powersum[i]))\n",
    "        \n",
    "        powerresult_pd=pandas.DataFrame(powerresult,columns=('Discharge','Charge','Regup','Regdown','EnergySum'))\n",
    "        \n",
    "        \n",
    "        for vehicle in project.vehicles:\n",
    "            if vehicle.result is not None:\n",
    "                if first:\n",
    "                    temp['vehicle_before'] = vehicle.result['power_demand']\n",
    "                    first = False\n",
    "                else:\n",
    "                    temp['vehicle_before'] += vehicle.result['power_demand']\n",
    "\n",
    "        temp2 = pandas.DataFrame(index=['vehicle_after'], data=powerresult_pd['EnergySum'])\n",
    "        i = pandas.date_range(start=self.date_from, end=self.date_to,\n",
    "                              freq=str(self.optimization_timestep) + 'T', closed='left')\n",
    "\n",
    "        temp2 = temp2.set_index(i)\n",
    "        temp2 = temp2.resample(str(project.timestep) + 'S')\n",
    "        temp2 = temp2.fillna(method='ffill').fillna(method='bfill')\n",
    "\n",
    "        temp3 = pandas.DataFrame(index=['vehicle_after_demand'], data=powerresult_pd['Charge'])\n",
    "        i = pandas.date_range(start=self.date_from, end=self.date_to,\n",
    "                              freq=str(self.optimization_timestep) + 'T', closed='left')\n",
    "        temp3 = temp3.set_index(i)\n",
    "        temp3 = temp3.resample(str(project.timestep) + 'S')\n",
    "        temp3 = temp3.fillna(method='ffill').fillna(method='bfill')\n",
    "\n",
    "        temp4 = pandas.DataFrame(index=['vehicle_after_generation'], data=powerresult_pd['Discharge'])\n",
    "        i = pandas.date_range(start=self.date_from, end=self.date_to,\n",
    "                              freq=str(self.optimization_timestep) + 'T', closed='left')\n",
    "        temp4 = temp4.set_index(i)\n",
    "        temp4 = temp4.resample(str(project.timestep) + 'S')\n",
    "        temp4 = temp4.fillna(method='ffill').fillna(method='bfill')\n",
    "\n",
    "        final_result = pandas.DataFrame()\n",
    "        final_result = pandas.concat([temp['vehicle_before'], temp2['vehicle_after']],temp3['vehicle_after_demand'],temp4['vehicle_after_generatio'],axis=1)\n",
    "        final_result = final_result.fillna(method='ffill').fillna(method='bfill')\n"
   ]
  },
  {
   "cell_type": "code",
   "execution_count": null,
   "metadata": {},
   "outputs": [],
   "source": [
    "power_pd=pandas.DataFrame(power,columns=('Discharge','Charge','EnergySum'))\n",
    "power_pd['EnergySum']"
   ]
  },
  {
   "cell_type": "code",
   "execution_count": null,
   "metadata": {},
   "outputs": [],
   "source": [
    "#Get the result in the right format\n",
    "temp_vehicle = pandas.DataFrame(\n",
    "    (total_power_demand['total'] - myresult['vehicle_before'] + myresult['vehicle_after']) *\n",
    "    (1500000 / len(project.vehicles)) / (1000 * 1000))  # Scale up and W to MW\n",
    "temp_vehicle = temp_vehicle.rename(columns={0: 'vehicle'})\n",
    "temp_vehicle['index'] = range(0, len(temp_vehicle))\n",
    "temp_vehicle = temp_vehicle.set_index(['index'], drop=True)\n",
    "\n",
    "temp_netload = net_load.copy()\n",
    "temp_netload = temp_netload.resample('60S')\n",
    "temp_netload = temp_netload.fillna(method='ffill').fillna(method='bfill')\n",
    "temp_netload = temp_netload.head(len(temp_vehicle))\n",
    "tempIndex = temp_netload.index\n",
    "temp_netload['index'] = range(0, len(temp_vehicle))\n",
    "temp_netload = temp_netload.set_index(['index'], drop=True)\n",
    "\n",
    "temp_result = pandas.DataFrame(temp_netload['netload'] + temp_vehicle['vehicle'])\n",
    "temp_result = temp_result.rename(columns={0: 'netload'})\n",
    "temp_result = temp_result.set_index(tempIndex)\n",
    "temp_netload = temp_netload.set_index(tempIndex)\n",
    "temp_vehicle = temp_vehicle.set_index(tempIndex)"
   ]
  },
  {
   "cell_type": "code",
   "execution_count": null,
   "metadata": {},
   "outputs": [],
   "source": [
    "\n",
    "plt.plot(temp_netload['netload'], label='netload')\n",
    "plt.plot(temp_result['netload'], label='netload + vehicles')\n",
    "plt.ylabel('Power (MW)')\n",
    "plt.legend()\n",
    "plt.show()\n"
   ]
  },
  {
   "cell_type": "code",
   "execution_count": null,
   "metadata": {},
   "outputs": [],
   "source": [
    "# temp_netload\n",
    "temp_vehicle"
   ]
  },
  {
   "cell_type": "code",
   "execution_count": null,
   "metadata": {},
   "outputs": [],
   "source": []
  },
  {
   "cell_type": "code",
   "execution_count": null,
   "metadata": {},
   "outputs": [],
   "source": []
  },
  {
   "cell_type": "code",
   "execution_count": null,
   "metadata": {},
   "outputs": [],
   "source": [
    "myopti.plot_result()"
   ]
  },
  {
   "cell_type": "code",
   "execution_count": null,
   "metadata": {},
   "outputs": [],
   "source": []
  }
 ],
 "metadata": {
  "kernelspec": {
   "display_name": "Python 2",
   "language": "python",
   "name": "python2"
  },
  "language_info": {
   "codemirror_mode": {
    "name": "ipython",
    "version": 2
   },
   "file_extension": ".py",
   "mimetype": "text/x-python",
   "name": "python",
   "nbconvert_exporter": "python",
   "pygments_lexer": "ipython2",
   "version": "2.7.16-final"
  }
 },
 "nbformat": 4,
 "nbformat_minor": 2
}