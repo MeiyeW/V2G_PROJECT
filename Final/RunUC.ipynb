{
 "metadata": {
  "language_info": {
   "codemirror_mode": {
    "name": "ipython",
    "version": 3
   },
   "file_extension": ".py",
   "mimetype": "text/x-python",
   "name": "python",
   "nbconvert_exporter": "python",
   "pygments_lexer": "ipython3",
   "version": "2.7.16-final"
  },
  "orig_nbformat": 2,
  "kernelspec": {
   "name": "python_defaultSpec_1606328649856",
   "display_name": "Python 2.7.16 64-bit ('py27': conda)"
  }
 },
 "nbformat": 4,
 "nbformat_minor": 2,
 "cells": [
  {
   "cell_type": "code",
   "execution_count": 84,
   "metadata": {
    "tags": []
   },
   "outputs": [
    {
     "output_type": "stream",
     "name": "stderr",
     "text": "/Users/meiyewang/opt/anaconda3/envs/py27/lib/python2.7/site-packages/ipykernel_launcher.py:9: FutureWarning: Sorting because non-concatenation axis is not aligned. A future version\nof pandas will change to not sort by default.\n\nTo accept the future behavior, pass 'sort=False'.\n\nTo retain the current behavior and silence the warning, pass 'sort=True'.\n\n  if __name__ == '__main__':\n/Users/meiyewang/opt/anaconda3/envs/py27/lib/python2.7/site-packages/ipykernel_launcher.py:10: FutureWarning: Sorting because non-concatenation axis is not aligned. A future version\nof pandas will change to not sort by default.\n\nTo accept the future behavior, pass 'sort=False'.\n\nTo retain the current behavior and silence the warning, pass 'sort=True'.\n\n  # Remove the CWD from sys.path while we load stuff.\n"
    },
    {
     "output_type": "execute_result",
     "data": {
      "text/html": "<div>\n<style scoped>\n    .dataframe tbody tr th:only-of-type {\n        vertical-align: middle;\n    }\n\n    .dataframe tbody tr th {\n        vertical-align: top;\n    }\n\n    .dataframe thead th {\n        text-align: right;\n    }\n</style>\n<table border=\"1\" class=\"dataframe\">\n  <thead>\n    <tr style=\"text-align: right;\">\n      <th></th>\n      <th>cost_e</th>\n      <th>cost_fre_d</th>\n      <th>cost_fre_u</th>\n    </tr>\n  </thead>\n  <tbody>\n    <tr>\n      <th>0</th>\n      <td>34.526317</td>\n      <td>3.092632</td>\n      <td>3.092632</td>\n    </tr>\n    <tr>\n      <th>1</th>\n      <td>34.547589</td>\n      <td>3.094759</td>\n      <td>3.094759</td>\n    </tr>\n    <tr>\n      <th>2</th>\n      <td>0.041104</td>\n      <td>9999.000000</td>\n      <td>9999.000000</td>\n    </tr>\n    <tr>\n      <th>3</th>\n      <td>0.012510</td>\n      <td>9999.000000</td>\n      <td>9999.000000</td>\n    </tr>\n    <tr>\n      <th>4</th>\n      <td>0.033753</td>\n      <td>9999.000000</td>\n      <td>9999.000000</td>\n    </tr>\n    <tr>\n      <th>5</th>\n      <td>0.024846</td>\n      <td>9999.000000</td>\n      <td>9999.000000</td>\n    </tr>\n    <tr>\n      <th>6</th>\n      <td>35.076102</td>\n      <td>3.147610</td>\n      <td>3.147610</td>\n    </tr>\n    <tr>\n      <th>7</th>\n      <td>35.119860</td>\n      <td>3.151986</td>\n      <td>3.151986</td>\n    </tr>\n    <tr>\n      <th>8</th>\n      <td>0.010268</td>\n      <td>9999.000000</td>\n      <td>9999.000000</td>\n    </tr>\n    <tr>\n      <th>9</th>\n      <td>276.916279</td>\n      <td>9999.000000</td>\n      <td>9999.000000</td>\n    </tr>\n    <tr>\n      <th>10</th>\n      <td>35.705414</td>\n      <td>3.210541</td>\n      <td>3.210541</td>\n    </tr>\n    <tr>\n      <th>11</th>\n      <td>35.677775</td>\n      <td>3.207778</td>\n      <td>3.207778</td>\n    </tr>\n    <tr>\n      <th>12</th>\n      <td>35.676910</td>\n      <td>3.207691</td>\n      <td>3.207691</td>\n    </tr>\n    <tr>\n      <th>13</th>\n      <td>35.689913</td>\n      <td>3.208991</td>\n      <td>3.208991</td>\n    </tr>\n    <tr>\n      <th>14</th>\n      <td>31.987642</td>\n      <td>2.838764</td>\n      <td>2.838764</td>\n    </tr>\n    <tr>\n      <th>15</th>\n      <td>31.977673</td>\n      <td>2.837767</td>\n      <td>2.837767</td>\n    </tr>\n    <tr>\n      <th>16</th>\n      <td>0.004044</td>\n      <td>9999.000000</td>\n      <td>9999.000000</td>\n    </tr>\n    <tr>\n      <th>17</th>\n      <td>0.046085</td>\n      <td>9999.000000</td>\n      <td>9999.000000</td>\n    </tr>\n    <tr>\n      <th>18</th>\n      <td>0.009841</td>\n      <td>9999.000000</td>\n      <td>9999.000000</td>\n    </tr>\n    <tr>\n      <th>19</th>\n      <td>0.027812</td>\n      <td>9999.000000</td>\n      <td>9999.000000</td>\n    </tr>\n    <tr>\n      <th>20</th>\n      <td>34.999695</td>\n      <td>3.139970</td>\n      <td>3.139970</td>\n    </tr>\n    <tr>\n      <th>21</th>\n      <td>34.982795</td>\n      <td>3.138280</td>\n      <td>3.138280</td>\n    </tr>\n    <tr>\n      <th>22</th>\n      <td>34.672038</td>\n      <td>3.107204</td>\n      <td>3.107204</td>\n    </tr>\n    <tr>\n      <th>23</th>\n      <td>34.692437</td>\n      <td>3.109244</td>\n      <td>3.109244</td>\n    </tr>\n    <tr>\n      <th>24</th>\n      <td>34.695072</td>\n      <td>3.109507</td>\n      <td>3.109507</td>\n    </tr>\n    <tr>\n      <th>25</th>\n      <td>39.745719</td>\n      <td>3.614572</td>\n      <td>3.614572</td>\n    </tr>\n    <tr>\n      <th>26</th>\n      <td>39.775341</td>\n      <td>3.617534</td>\n      <td>3.617534</td>\n    </tr>\n    <tr>\n      <th>27</th>\n      <td>0.026803</td>\n      <td>9999.000000</td>\n      <td>9999.000000</td>\n    </tr>\n    <tr>\n      <th>28</th>\n      <td>0.032194</td>\n      <td>0.003219</td>\n      <td>0.003219</td>\n    </tr>\n    <tr>\n      <th>29</th>\n      <td>0.034293</td>\n      <td>0.003429</td>\n      <td>0.003429</td>\n    </tr>\n    <tr>\n      <th>...</th>\n      <td>...</td>\n      <td>...</td>\n      <td>...</td>\n    </tr>\n    <tr>\n      <th>770</th>\n      <td>68.753401</td>\n      <td>9999.000000</td>\n      <td>9999.000000</td>\n    </tr>\n    <tr>\n      <th>771</th>\n      <td>67.139960</td>\n      <td>9999.000000</td>\n      <td>9999.000000</td>\n    </tr>\n    <tr>\n      <th>772</th>\n      <td>67.142803</td>\n      <td>9999.000000</td>\n      <td>9999.000000</td>\n    </tr>\n    <tr>\n      <th>773</th>\n      <td>72.458487</td>\n      <td>9999.000000</td>\n      <td>9999.000000</td>\n    </tr>\n    <tr>\n      <th>774</th>\n      <td>68.863158</td>\n      <td>9999.000000</td>\n      <td>9999.000000</td>\n    </tr>\n    <tr>\n      <th>775</th>\n      <td>70.017648</td>\n      <td>9999.000000</td>\n      <td>9999.000000</td>\n    </tr>\n    <tr>\n      <th>776</th>\n      <td>66.626276</td>\n      <td>9999.000000</td>\n      <td>9999.000000</td>\n    </tr>\n    <tr>\n      <th>777</th>\n      <td>66.212591</td>\n      <td>9999.000000</td>\n      <td>9999.000000</td>\n    </tr>\n    <tr>\n      <th>778</th>\n      <td>65.959143</td>\n      <td>9999.000000</td>\n      <td>9999.000000</td>\n    </tr>\n    <tr>\n      <th>779</th>\n      <td>65.960974</td>\n      <td>9999.000000</td>\n      <td>9999.000000</td>\n    </tr>\n    <tr>\n      <th>780</th>\n      <td>66.199526</td>\n      <td>9999.000000</td>\n      <td>9999.000000</td>\n    </tr>\n    <tr>\n      <th>781</th>\n      <td>65.895101</td>\n      <td>9999.000000</td>\n      <td>9999.000000</td>\n    </tr>\n    <tr>\n      <th>782</th>\n      <td>67.791310</td>\n      <td>9999.000000</td>\n      <td>9999.000000</td>\n    </tr>\n    <tr>\n      <th>783</th>\n      <td>67.112500</td>\n      <td>9999.000000</td>\n      <td>9999.000000</td>\n    </tr>\n    <tr>\n      <th>784</th>\n      <td>114.906468</td>\n      <td>9999.000000</td>\n      <td>9999.000000</td>\n    </tr>\n    <tr>\n      <th>785</th>\n      <td>10.566100</td>\n      <td>9999.000000</td>\n      <td>9999.000000</td>\n    </tr>\n    <tr>\n      <th>786</th>\n      <td>10.520002</td>\n      <td>9999.000000</td>\n      <td>9999.000000</td>\n    </tr>\n    <tr>\n      <th>787</th>\n      <td>10.549119</td>\n      <td>9999.000000</td>\n      <td>9999.000000</td>\n    </tr>\n    <tr>\n      <th>788</th>\n      <td>10.539049</td>\n      <td>9999.000000</td>\n      <td>9999.000000</td>\n    </tr>\n    <tr>\n      <th>789</th>\n      <td>10.563635</td>\n      <td>9999.000000</td>\n      <td>9999.000000</td>\n    </tr>\n    <tr>\n      <th>790</th>\n      <td>10.528497</td>\n      <td>9999.000000</td>\n      <td>9999.000000</td>\n    </tr>\n    <tr>\n      <th>791</th>\n      <td>10.560056</td>\n      <td>9999.000000</td>\n      <td>9999.000000</td>\n    </tr>\n    <tr>\n      <th>792</th>\n      <td>10.552054</td>\n      <td>9999.000000</td>\n      <td>9999.000000</td>\n    </tr>\n    <tr>\n      <th>793</th>\n      <td>10.522487</td>\n      <td>9999.000000</td>\n      <td>9999.000000</td>\n    </tr>\n    <tr>\n      <th>794</th>\n      <td>10.521133</td>\n      <td>9999.000000</td>\n      <td>9999.000000</td>\n    </tr>\n    <tr>\n      <th>795</th>\n      <td>8.963197</td>\n      <td>9999.000000</td>\n      <td>9999.000000</td>\n    </tr>\n    <tr>\n      <th>796</th>\n      <td>8.948072</td>\n      <td>9999.000000</td>\n      <td>9999.000000</td>\n    </tr>\n    <tr>\n      <th>797</th>\n      <td>0.025455</td>\n      <td>9999.000000</td>\n      <td>9999.000000</td>\n    </tr>\n    <tr>\n      <th>798</th>\n      <td>0.025674</td>\n      <td>9999.000000</td>\n      <td>9999.000000</td>\n    </tr>\n    <tr>\n      <th>799</th>\n      <td>20.000000</td>\n      <td>10.000000</td>\n      <td>10.000000</td>\n    </tr>\n  </tbody>\n</table>\n<p>800 rows × 3 columns</p>\n</div>",
      "text/plain": "         cost_e   cost_fre_d   cost_fre_u\n0     34.526317     3.092632     3.092632\n1     34.547589     3.094759     3.094759\n2      0.041104  9999.000000  9999.000000\n3      0.012510  9999.000000  9999.000000\n4      0.033753  9999.000000  9999.000000\n5      0.024846  9999.000000  9999.000000\n6     35.076102     3.147610     3.147610\n7     35.119860     3.151986     3.151986\n8      0.010268  9999.000000  9999.000000\n9    276.916279  9999.000000  9999.000000\n10    35.705414     3.210541     3.210541\n11    35.677775     3.207778     3.207778\n12    35.676910     3.207691     3.207691\n13    35.689913     3.208991     3.208991\n14    31.987642     2.838764     2.838764\n15    31.977673     2.837767     2.837767\n16     0.004044  9999.000000  9999.000000\n17     0.046085  9999.000000  9999.000000\n18     0.009841  9999.000000  9999.000000\n19     0.027812  9999.000000  9999.000000\n20    34.999695     3.139970     3.139970\n21    34.982795     3.138280     3.138280\n22    34.672038     3.107204     3.107204\n23    34.692437     3.109244     3.109244\n24    34.695072     3.109507     3.109507\n25    39.745719     3.614572     3.614572\n26    39.775341     3.617534     3.617534\n27     0.026803  9999.000000  9999.000000\n28     0.032194     0.003219     0.003219\n29     0.034293     0.003429     0.003429\n..          ...          ...          ...\n770   68.753401  9999.000000  9999.000000\n771   67.139960  9999.000000  9999.000000\n772   67.142803  9999.000000  9999.000000\n773   72.458487  9999.000000  9999.000000\n774   68.863158  9999.000000  9999.000000\n775   70.017648  9999.000000  9999.000000\n776   66.626276  9999.000000  9999.000000\n777   66.212591  9999.000000  9999.000000\n778   65.959143  9999.000000  9999.000000\n779   65.960974  9999.000000  9999.000000\n780   66.199526  9999.000000  9999.000000\n781   65.895101  9999.000000  9999.000000\n782   67.791310  9999.000000  9999.000000\n783   67.112500  9999.000000  9999.000000\n784  114.906468  9999.000000  9999.000000\n785   10.566100  9999.000000  9999.000000\n786   10.520002  9999.000000  9999.000000\n787   10.549119  9999.000000  9999.000000\n788   10.539049  9999.000000  9999.000000\n789   10.563635  9999.000000  9999.000000\n790   10.528497  9999.000000  9999.000000\n791   10.560056  9999.000000  9999.000000\n792   10.552054  9999.000000  9999.000000\n793   10.522487  9999.000000  9999.000000\n794   10.521133  9999.000000  9999.000000\n795    8.963197  9999.000000  9999.000000\n796    8.948072  9999.000000  9999.000000\n797    0.025455  9999.000000  9999.000000\n798    0.025674  9999.000000  9999.000000\n799   20.000000    10.000000    10.000000\n\n[800 rows x 3 columns]"
     },
     "metadata": {},
     "execution_count": 84
    }
   ],
   "source": [
    "import pandas as pd\n",
    "import numpy as np\n",
    "\n",
    "# mwh_pd=pd.read_csv('../data/generator/GeneratorResult.csv',index=False)\n",
    "\n",
    "df_gen_param = pd.read_csv('../data/generator/Generator.csv',header=0)\n",
    "df_solar_cons=pd.read_csv('../data/generator/SolarConstraint.csv',header=0).rename(columns={'opcost_s':'opcost','var_om_s':'var_om','regcost_s':'regcost'})\n",
    "df_wind_cons=pd.read_csv('../data/generator/WindConstraint.csv',header=0).rename(columns={'opcost_w':'opcost','var_om_w':'var_om','regcost_w':'regcost'})\n",
    "cost_pd=pd.concat([df_gen_param,df_solar_cons],axis=0)\n",
    "cost_pd=pd.concat([cost_pd,df_wind_cons],axis=0)\n",
    "cost_pd=cost_pd[['name','opcost','var_om','regcost']]\n",
    "cost_pd=cost_pd.append(pd.DataFrame([['vehicle',10,10,10]], columns=['name','opcost','var_om','regcost']))\n",
    "cost_pd[\"cost_e\"]=cost_pd[\"opcost\"]+cost_pd[\"var_om\"]\n",
    "cost_pd[\"cost_fre_d\"]=cost_pd[\"regcost\"]\n",
    "cost_pd[\"cost_fre_u\"]=cost_pd[\"regcost\"]\n",
    "cost_pd=cost_pd[['cost_e','cost_fre_d','cost_fre_u']].fillna(9999)\n",
    "cost_pd.index=range(cost_pd.shape[0])\n",
    "cost_pd"
   ]
  },
  {
   "cell_type": "code",
   "execution_count": 1,
   "metadata": {
    "tags": []
   },
   "outputs": [
    {
     "output_type": "stream",
     "name": "stdout",
     "text": "[0, 1, 2, 3, 4, 5, 6, 7, 8, 9]\n"
    }
   ],
   "source": [
    "print(range(10))"
   ]
  },
  {
   "cell_type": "code",
   "execution_count": 13,
   "metadata": {},
   "outputs": [],
   "source": [
    "import pandas as pd \n",
    "data_name2='iteration2_version4_regupregdown20'\n",
    "vehCap=pd.read_csv('../data/vehicle/VehiclesCap_'+data_name2+'.csv',header=0)\n",
    "data_name3='iteration4_version4_regupregdown20'\n",
    "vehCap2=pd.read_csv('../data/vehicle/VehiclesCap_'+data_name3+'.csv',header=0)\n",
    "\n",
    "pr=pd.read_csv('../data/price/price'+data_name2+'.csv',header=0)\n",
    "pr2=pd.read_csv('../data/price/price'+data_name3+'.csv',header=0)"
   ]
  },
  {
   "cell_type": "code",
   "execution_count": 17,
   "metadata": {},
   "outputs": [
    {
     "output_type": "execute_result",
     "data": {
      "text/plain": "1.8060035312920013"
     },
     "metadata": {},
     "execution_count": 17
    }
   ],
   "source": [
    "(abs(vehCap2-vehCap)).sum().sum()"
   ]
  },
  {
   "cell_type": "code",
   "execution_count": 18,
   "metadata": {},
   "outputs": [
    {
     "output_type": "execute_result",
     "data": {
      "text/html": "<div>\n<style scoped>\n    .dataframe tbody tr th:only-of-type {\n        vertical-align: middle;\n    }\n\n    .dataframe tbody tr th {\n        vertical-align: top;\n    }\n\n    .dataframe thead th {\n        text-align: right;\n    }\n</style>\n<table border=\"1\" class=\"dataframe\">\n  <thead>\n    <tr style=\"text-align: right;\">\n      <th></th>\n      <th>gen_capacity_veh</th>\n      <th>regup_capacity_veh</th>\n      <th>regdown_capacity_veh</th>\n    </tr>\n  </thead>\n  <tbody>\n    <tr>\n      <th>0</th>\n      <td>0.369600</td>\n      <td>0.029667</td>\n      <td>0.394533</td>\n    </tr>\n    <tr>\n      <th>1</th>\n      <td>0.369600</td>\n      <td>0.031467</td>\n      <td>0.392728</td>\n    </tr>\n    <tr>\n      <th>2</th>\n      <td>0.369600</td>\n      <td>0.029433</td>\n      <td>0.394767</td>\n    </tr>\n    <tr>\n      <th>3</th>\n      <td>0.358254</td>\n      <td>0.029300</td>\n      <td>0.394900</td>\n    </tr>\n    <tr>\n      <th>4</th>\n      <td>0.369600</td>\n      <td>0.032567</td>\n      <td>0.390233</td>\n    </tr>\n  </tbody>\n</table>\n</div>",
      "text/plain": "   gen_capacity_veh  regup_capacity_veh  regdown_capacity_veh\n0          0.369600            0.029667              0.394533\n1          0.369600            0.031467              0.392728\n2          0.369600            0.029433              0.394767\n3          0.358254            0.029300              0.394900\n4          0.369600            0.032567              0.390233"
     },
     "metadata": {},
     "execution_count": 18
    }
   ],
   "source": [
    "vehCap.head()"
   ]
  },
  {
   "cell_type": "code",
   "execution_count": 16,
   "metadata": {},
   "outputs": [
    {
     "output_type": "error",
     "ename": "KeyError",
     "evalue": "'netload'",
     "traceback": [
      "\u001b[0;31m\u001b[0m",
      "\u001b[0;31mKeyError\u001b[0mTraceback (most recent call last)",
      "\u001b[0;32m<ipython-input-16-286ed94db1d2>\u001b[0m in \u001b[0;36m<module>\u001b[0;34m()\u001b[0m\n\u001b[1;32m      2\u001b[0m \u001b[0;32mimport\u001b[0m \u001b[0mnumpy\u001b[0m \u001b[0;32mas\u001b[0m \u001b[0mnp\u001b[0m\u001b[0;34m\u001b[0m\u001b[0m\n\u001b[1;32m      3\u001b[0m \u001b[0;31m# pr=pd.read_csv('../data/price/price'+data_name2+'.csv',header=0)[:24]\u001b[0m\u001b[0;34m\u001b[0m\u001b[0;34m\u001b[0m\u001b[0m\n\u001b[0;32m----> 4\u001b[0;31m \u001b[0mdemandCost\u001b[0m\u001b[0;34m=\u001b[0m\u001b[0mnp\u001b[0m\u001b[0;34m.\u001b[0m\u001b[0masarray\u001b[0m\u001b[0;34m(\u001b[0m\u001b[0mvehCap\u001b[0m\u001b[0;34m[\u001b[0m\u001b[0;34m'netload'\u001b[0m\u001b[0;34m]\u001b[0m\u001b[0;34m*\u001b[0m\u001b[0mpr\u001b[0m\u001b[0;34m[\u001b[0m\u001b[0;34m'pr_e'\u001b[0m\u001b[0;34m]\u001b[0m\u001b[0;34m)\u001b[0m\u001b[0;34m.\u001b[0m\u001b[0msum\u001b[0m\u001b[0;34m(\u001b[0m\u001b[0;34m)\u001b[0m\u001b[0;34m\u001b[0m\u001b[0m\n\u001b[0m\u001b[1;32m      5\u001b[0m \u001b[0mgenerationRev\u001b[0m\u001b[0;34m=\u001b[0m\u001b[0mnp\u001b[0m\u001b[0;34m.\u001b[0m\u001b[0masarray\u001b[0m\u001b[0;34m(\u001b[0m\u001b[0mvehCap\u001b[0m\u001b[0;34m[\u001b[0m\u001b[0;34m'gen_capacity_veh'\u001b[0m\u001b[0;34m]\u001b[0m\u001b[0;34m*\u001b[0m\u001b[0mpr\u001b[0m\u001b[0;34m[\u001b[0m\u001b[0;34m'pr_e'\u001b[0m\u001b[0;34m]\u001b[0m\u001b[0;34m)\u001b[0m\u001b[0;34m.\u001b[0m\u001b[0msum\u001b[0m\u001b[0;34m(\u001b[0m\u001b[0;34m)\u001b[0m\u001b[0;34m\u001b[0m\u001b[0m\n\u001b[1;32m      6\u001b[0m \u001b[0mregupRev\u001b[0m\u001b[0;34m=\u001b[0m\u001b[0mnp\u001b[0m\u001b[0;34m.\u001b[0m\u001b[0masarray\u001b[0m\u001b[0;34m(\u001b[0m\u001b[0mvehCap\u001b[0m\u001b[0;34m[\u001b[0m\u001b[0;34m'regup_capacity_veh'\u001b[0m\u001b[0;34m]\u001b[0m\u001b[0;34m*\u001b[0m\u001b[0mpr\u001b[0m\u001b[0;34m[\u001b[0m\u001b[0;34m'pr_fre_u'\u001b[0m\u001b[0;34m]\u001b[0m\u001b[0;34m)\u001b[0m\u001b[0;34m.\u001b[0m\u001b[0msum\u001b[0m\u001b[0;34m(\u001b[0m\u001b[0;34m)\u001b[0m\u001b[0;34m\u001b[0m\u001b[0m\n",
      "\u001b[0;32m/Users/meiyewang/opt/anaconda3/envs/py27/lib/python2.7/site-packages/pandas/core/frame.pyc\u001b[0m in \u001b[0;36m__getitem__\u001b[0;34m(self, key)\u001b[0m\n\u001b[1;32m   2925\u001b[0m             \u001b[0;32mif\u001b[0m \u001b[0mself\u001b[0m\u001b[0;34m.\u001b[0m\u001b[0mcolumns\u001b[0m\u001b[0;34m.\u001b[0m\u001b[0mnlevels\u001b[0m \u001b[0;34m>\u001b[0m \u001b[0;36m1\u001b[0m\u001b[0;34m:\u001b[0m\u001b[0;34m\u001b[0m\u001b[0m\n\u001b[1;32m   2926\u001b[0m                 \u001b[0;32mreturn\u001b[0m \u001b[0mself\u001b[0m\u001b[0;34m.\u001b[0m\u001b[0m_getitem_multilevel\u001b[0m\u001b[0;34m(\u001b[0m\u001b[0mkey\u001b[0m\u001b[0;34m)\u001b[0m\u001b[0;34m\u001b[0m\u001b[0m\n\u001b[0;32m-> 2927\u001b[0;31m             \u001b[0mindexer\u001b[0m \u001b[0;34m=\u001b[0m \u001b[0mself\u001b[0m\u001b[0;34m.\u001b[0m\u001b[0mcolumns\u001b[0m\u001b[0;34m.\u001b[0m\u001b[0mget_loc\u001b[0m\u001b[0;34m(\u001b[0m\u001b[0mkey\u001b[0m\u001b[0;34m)\u001b[0m\u001b[0;34m\u001b[0m\u001b[0m\n\u001b[0m\u001b[1;32m   2928\u001b[0m             \u001b[0;32mif\u001b[0m \u001b[0mis_integer\u001b[0m\u001b[0;34m(\u001b[0m\u001b[0mindexer\u001b[0m\u001b[0;34m)\u001b[0m\u001b[0;34m:\u001b[0m\u001b[0;34m\u001b[0m\u001b[0m\n\u001b[1;32m   2929\u001b[0m                 \u001b[0mindexer\u001b[0m \u001b[0;34m=\u001b[0m \u001b[0;34m[\u001b[0m\u001b[0mindexer\u001b[0m\u001b[0;34m]\u001b[0m\u001b[0;34m\u001b[0m\u001b[0m\n",
      "\u001b[0;32m/Users/meiyewang/opt/anaconda3/envs/py27/lib/python2.7/site-packages/pandas/core/indexes/base.pyc\u001b[0m in \u001b[0;36mget_loc\u001b[0;34m(self, key, method, tolerance)\u001b[0m\n\u001b[1;32m   2657\u001b[0m                 \u001b[0;32mreturn\u001b[0m \u001b[0mself\u001b[0m\u001b[0;34m.\u001b[0m\u001b[0m_engine\u001b[0m\u001b[0;34m.\u001b[0m\u001b[0mget_loc\u001b[0m\u001b[0;34m(\u001b[0m\u001b[0mkey\u001b[0m\u001b[0;34m)\u001b[0m\u001b[0;34m\u001b[0m\u001b[0m\n\u001b[1;32m   2658\u001b[0m             \u001b[0;32mexcept\u001b[0m \u001b[0mKeyError\u001b[0m\u001b[0;34m:\u001b[0m\u001b[0;34m\u001b[0m\u001b[0m\n\u001b[0;32m-> 2659\u001b[0;31m                 \u001b[0;32mreturn\u001b[0m \u001b[0mself\u001b[0m\u001b[0;34m.\u001b[0m\u001b[0m_engine\u001b[0m\u001b[0;34m.\u001b[0m\u001b[0mget_loc\u001b[0m\u001b[0;34m(\u001b[0m\u001b[0mself\u001b[0m\u001b[0;34m.\u001b[0m\u001b[0m_maybe_cast_indexer\u001b[0m\u001b[0;34m(\u001b[0m\u001b[0mkey\u001b[0m\u001b[0;34m)\u001b[0m\u001b[0;34m)\u001b[0m\u001b[0;34m\u001b[0m\u001b[0m\n\u001b[0m\u001b[1;32m   2660\u001b[0m         \u001b[0mindexer\u001b[0m \u001b[0;34m=\u001b[0m \u001b[0mself\u001b[0m\u001b[0;34m.\u001b[0m\u001b[0mget_indexer\u001b[0m\u001b[0;34m(\u001b[0m\u001b[0;34m[\u001b[0m\u001b[0mkey\u001b[0m\u001b[0;34m]\u001b[0m\u001b[0;34m,\u001b[0m \u001b[0mmethod\u001b[0m\u001b[0;34m=\u001b[0m\u001b[0mmethod\u001b[0m\u001b[0;34m,\u001b[0m \u001b[0mtolerance\u001b[0m\u001b[0;34m=\u001b[0m\u001b[0mtolerance\u001b[0m\u001b[0;34m)\u001b[0m\u001b[0;34m\u001b[0m\u001b[0m\n\u001b[1;32m   2661\u001b[0m         \u001b[0;32mif\u001b[0m \u001b[0mindexer\u001b[0m\u001b[0;34m.\u001b[0m\u001b[0mndim\u001b[0m \u001b[0;34m>\u001b[0m \u001b[0;36m1\u001b[0m \u001b[0;32mor\u001b[0m \u001b[0mindexer\u001b[0m\u001b[0;34m.\u001b[0m\u001b[0msize\u001b[0m \u001b[0;34m>\u001b[0m \u001b[0;36m1\u001b[0m\u001b[0;34m:\u001b[0m\u001b[0;34m\u001b[0m\u001b[0m\n",
      "\u001b[0;32mpandas/_libs/index.pyx\u001b[0m in \u001b[0;36mpandas._libs.index.IndexEngine.get_loc\u001b[0;34m()\u001b[0m\n",
      "\u001b[0;32mpandas/_libs/index.pyx\u001b[0m in \u001b[0;36mpandas._libs.index.IndexEngine.get_loc\u001b[0;34m()\u001b[0m\n",
      "\u001b[0;32mpandas/_libs/hashtable_class_helper.pxi\u001b[0m in \u001b[0;36mpandas._libs.hashtable.PyObjectHashTable.get_item\u001b[0;34m()\u001b[0m\n",
      "\u001b[0;32mpandas/_libs/hashtable_class_helper.pxi\u001b[0m in \u001b[0;36mpandas._libs.hashtable.PyObjectHashTable.get_item\u001b[0;34m()\u001b[0m\n",
      "\u001b[0;31mKeyError\u001b[0m: 'netload'"
     ]
    }
   ],
   "source": [
    "# pr*vehCap\n",
    "import numpy as np\n",
    "# pr=pd.read_csv('../data/price/price'+data_name2+'.csv',header=0)[:24]\n",
    "demandCost=np.asarray(vehCap['netload']*pr['pr_e']).sum()\n",
    "generationRev=np.asarray(vehCap['gen_capacity_veh']*pr['pr_e']).sum()\n",
    "regupRev=np.asarray(vehCap['regup_capacity_veh']*pr['pr_fre_u']).sum()\n",
    "regdownRev=np.asarray(vehCap['regdown_capacity_veh']*pr['pr_fre_d']).sum()"
   ]
  },
  {
   "cell_type": "code",
   "execution_count": 3,
   "metadata": {
    "tags": []
   },
   "outputs": [
    {
     "output_type": "stream",
     "name": "stdout",
     "text": "Unnamed: 0  netload\n0   2019-01-01 08:00:00    73502\n1   2019-01-01 09:00:00    71488\n2   2019-01-01 10:00:00    70058\n3   2019-01-01 11:00:00    69474\n4   2019-01-01 12:00:00    70032\n5   2019-01-01 13:00:00    71811\n6   2019-01-01 14:00:00    74224\n7   2019-01-01 15:00:00    74745\n8   2019-01-01 16:00:00    73903\n9   2019-01-01 17:00:00    72840\n10  2019-01-01 18:00:00    71506\n11  2019-01-01 19:00:00    69849\n12  2019-01-01 20:00:00    68410\n13  2019-01-01 21:00:00    68109\n14  2019-01-01 22:00:00    69356\n15  2019-01-01 23:00:00    72647\n16  2019-01-02 00:00:00    79788\n17  2019-01-02 01:00:00    88055\n18  2019-01-02 02:00:00    89302\n19  2019-01-02 03:00:00    88474\n20  2019-01-02 04:00:00    86872\n21  2019-01-02 05:00:00    83592\n22  2019-01-02 06:00:00    78811\n23  2019-01-02 07:00:00    74373\n24  2019-01-02 08:00:00    71625\n25  2019-01-02 09:00:00    69927\n26  2019-01-02 10:00:00    69302\n27  2019-01-02 11:00:00    70026\n28  2019-01-02 12:00:00    72895\n29  2019-01-02 13:00:00    78259\n30  2019-01-02 14:00:00    84855\n31  2019-01-02 15:00:00    88040\n32  2019-01-02 16:00:00    87220\n33  2019-01-02 17:00:00    84636\n34  2019-01-02 18:00:00    82268\n35  2019-01-02 19:00:00    80119\n36  2019-01-02 20:00:00    78569\n37  2019-01-02 21:00:00    78267\n38  2019-01-02 22:00:00    78890\n39  2019-01-02 23:00:00    81521\n40  2019-01-03 00:00:00    87545\n41  2019-01-03 01:00:00    94691\n42  2019-01-03 02:00:00    95557\n43  2019-01-03 03:00:00    94575\n44  2019-01-03 04:00:00    92647\n45  2019-01-03 05:00:00    88652\n46  2019-01-03 06:00:00    83079\n47  2019-01-03 07:00:00    78039\n             Unnamed: 0  netload\n24  2019-01-02 08:00:00    71625\n25  2019-01-02 09:00:00    69927\n26  2019-01-02 10:00:00    69302\n27  2019-01-02 11:00:00    70026\n28  2019-01-02 12:00:00    72895\n29  2019-01-02 13:00:00    78259\n30  2019-01-02 14:00:00    84855\n31  2019-01-02 15:00:00    88040\n32  2019-01-02 16:00:00    87220\n33  2019-01-02 17:00:00    84636\n34  2019-01-02 18:00:00    82268\n35  2019-01-02 19:00:00    80119\n36  2019-01-02 20:00:00    78569\n37  2019-01-02 21:00:00    78267\n38  2019-01-02 22:00:00    78890\n39  2019-01-02 23:00:00    81521\n40  2019-01-03 00:00:00    87545\n41  2019-01-03 01:00:00    94691\n42  2019-01-03 02:00:00    95557\n43  2019-01-03 03:00:00    94575\n44  2019-01-03 04:00:00    92647\n45  2019-01-03 05:00:00    88652\n46  2019-01-03 06:00:00    83079\n47  2019-01-03 07:00:00    78039\n48  2019-01-03 08:00:00    74395\n49  2019-01-03 09:00:00    72219\n50  2019-01-03 10:00:00    71339\n51  2019-01-03 11:00:00    71698\n52  2019-01-03 12:00:00    74158\n53  2019-01-03 13:00:00    79308\n54  2019-01-03 14:00:00    85972\n55  2019-01-03 15:00:00    89147\n56  2019-01-03 16:00:00    87912\n57  2019-01-03 17:00:00    85142\n58  2019-01-03 18:00:00    82589\n59  2019-01-03 19:00:00    80285\n60  2019-01-03 20:00:00    79100\n61  2019-01-03 21:00:00    79028\n62  2019-01-03 22:00:00    79637\n63  2019-01-03 23:00:00    81446\n64  2019-01-04 00:00:00    86738\n65  2019-01-04 01:00:00    93048\n66  2019-01-04 02:00:00    93642\n67  2019-01-04 03:00:00    92674\n68  2019-01-04 04:00:00    90506\n69  2019-01-04 05:00:00    86466\n70  2019-01-04 06:00:00    80998\n71  2019-01-04 07:00:00    75914\n"
    }
   ],
   "source": [
    "import pandas as pd \n",
    "days=365\n",
    "HorizonHours = 48  ##planning horizon (e.g., 24, 48, 72 hours etc.)\n",
    "\n",
    "\n",
    "for day in range(2):\n",
    "    df_load = pd.read_csv('../data/netload/CAISO2019Load.csv',header=0)[24*day:(24*day+HorizonHours)]\n",
    "    # df_load['netload']=myresult['netload']+df_load['netload']\n",
    "    print(df_load)"
   ]
  },
  {
   "cell_type": "code",
   "execution_count": null,
   "metadata": {},
   "outputs": [],
   "source": []
  },
  {
   "cell_type": "code",
   "execution_count": null,
   "metadata": {},
   "outputs": [],
   "source": [
    "import xml.etree.ElementTree as ET\n",
    "tree = ET.parse('country_data.xml')\n",
    "root = tree.getroot()"
   ]
  },
  {
   "cell_type": "code",
   "execution_count": 5,
   "metadata": {},
   "outputs": [
    {
     "output_type": "execute_result",
     "data": {
      "text/plain": "1"
     },
     "metadata": {},
     "execution_count": 5
    }
   ],
   "source": [
    "int('20201101'[6:9])"
   ]
  },
  {
   "cell_type": "code",
   "execution_count": 12,
   "metadata": {},
   "outputs": [
    {
     "output_type": "execute_result",
     "data": {
      "text/html": "<div>\n<style scoped>\n    .dataframe tbody tr th:only-of-type {\n        vertical-align: middle;\n    }\n\n    .dataframe tbody tr th {\n        vertical-align: top;\n    }\n\n    .dataframe thead th {\n        text-align: right;\n    }\n</style>\n<table border=\"1\" class=\"dataframe\">\n  <thead>\n    <tr style=\"text-align: right;\">\n      <th></th>\n      <th>name</th>\n      <th>maxcap</th>\n      <th>mincap</th>\n      <th>opcost</th>\n      <th>minup</th>\n      <th>ramp</th>\n      <th>st_cost</th>\n      <th>var_om</th>\n      <th>fix_om</th>\n      <th>regcost</th>\n    </tr>\n  </thead>\n  <tbody>\n    <tr>\n      <th>792</th>\n      <td>10091_G_G2</td>\n      <td>46.0</td>\n      <td>46.0</td>\n      <td>5.292054</td>\n      <td>0</td>\n      <td>46.0</td>\n      <td>0</td>\n      <td>5.26</td>\n      <td>105630</td>\n      <td>9999.0</td>\n    </tr>\n    <tr>\n      <th>793</th>\n      <td>57696_G_1</td>\n      <td>11.0</td>\n      <td>11.0</td>\n      <td>5.262487</td>\n      <td>0</td>\n      <td>11.0</td>\n      <td>0</td>\n      <td>5.26</td>\n      <td>105630</td>\n      <td>9999.0</td>\n    </tr>\n    <tr>\n      <th>794</th>\n      <td>60918_G_00003</td>\n      <td>26.0</td>\n      <td>26.0</td>\n      <td>5.261133</td>\n      <td>0</td>\n      <td>26.0</td>\n      <td>0</td>\n      <td>5.26</td>\n      <td>105630</td>\n      <td>9999.0</td>\n    </tr>\n    <tr>\n      <th>795</th>\n      <td>50119_G_GENA</td>\n      <td>45.6</td>\n      <td>45.6</td>\n      <td>4.493197</td>\n      <td>0</td>\n      <td>45.6</td>\n      <td>0</td>\n      <td>4.47</td>\n      <td>37800</td>\n      <td>9999.0</td>\n    </tr>\n    <tr>\n      <th>796</th>\n      <td>56090_G_D182</td>\n      <td>11.2</td>\n      <td>11.2</td>\n      <td>4.478072</td>\n      <td>0</td>\n      <td>11.2</td>\n      <td>0</td>\n      <td>4.47</td>\n      <td>37800</td>\n      <td>9999.0</td>\n    </tr>\n  </tbody>\n</table>\n</div>",
      "text/plain": "              name  maxcap  mincap    opcost  minup  ramp  st_cost  var_om  \\\n792     10091_G_G2    46.0    46.0  5.292054      0  46.0        0    5.26   \n793      57696_G_1    11.0    11.0  5.262487      0  11.0        0    5.26   \n794  60918_G_00003    26.0    26.0  5.261133      0  26.0        0    5.26   \n795   50119_G_GENA    45.6    45.6  4.493197      0  45.6        0    4.47   \n796   56090_G_D182    11.2    11.2  4.478072      0  11.2        0    4.47   \n\n     fix_om  regcost  \n792  105630   9999.0  \n793  105630   9999.0  \n794  105630   9999.0  \n795   37800   9999.0  \n796   37800   9999.0  "
     },
     "metadata": {},
     "execution_count": 12
    }
   ],
   "source": [
    "import pandas as pd\n",
    "df_gen = pd.read_csv('../data/generator/Generator.csv',header=0)\n",
    "\n",
    "df_gen.tail(5)\n"
   ]
  },
  {
   "cell_type": "code",
   "execution_count": 18,
   "metadata": {},
   "outputs": [
    {
     "output_type": "execute_result",
     "data": {
      "text/plain": "47441.4"
     },
     "metadata": {},
     "execution_count": 18
    }
   ],
   "source": [
    "\n",
    "df_gen=df_gen.append({'name':'AddedNGCC','maxcap':500,'mincap':500,'opcost':28.374682864574172,'minup':0.0,'ramp':500,'st_cost':0.0,'var_om':3.5999999999999996,'fix_om':13170.0,'regcost':2.837468286457417},ignore_index=True)\n",
    "df_gen['maxcap'].sum()"
   ]
  },
  {
   "cell_type": "code",
   "execution_count": 23,
   "metadata": {},
   "outputs": [
    {
     "output_type": "execute_result",
     "data": {
      "text/plain": "37145.01228"
     },
     "metadata": {},
     "execution_count": 23
    }
   ],
   "source": [
    "import datetime\n",
    "data_name='iteration1_version3_regupregdown20' # from V2GSIM vehicle cap\n",
    "SimDays = 2\n",
    "SimHours = SimDays * 24\n",
    "HorizonHours = 48  ##planning horizon (e.g., 24, 48, 72 hours etc.)\n",
    "regup_margin = 0.064  ##minimum regulation up reserve as a percent of system demand, referenced from https://www.nrel.gov/docs/fy19osti/73590.pdf\n",
    "regdown_margin = 0.072 ##minimum regulation down reserve as a percent of system demand from https://www.nrel.gov/docs/fy19osti/73590.pdf\n",
    "\n",
    "myresult=pd.read_csv('../data/vehicle/VehiclesCap_V2G_'+data_name+'.csv',header=0)\n",
    "N = 6# from 10mins to 1 hour\n",
    "myresult=myresult.groupby(myresult.index // N).sum()/6/1000000# from the unit of W to MW\n",
    "myresult=myresult.rename(columns={'EnergyDemand':'netload','EnergyGeneration':'gen_capacity_veh','Regup':'regup_capacity_veh','Regdown':'regdown_capacity_veh'})\n",
    "myresult=pd.concat([myresult,myresult],axis=0)\n",
    "myresult.index=range(myresult.shape[0])\n",
    "df_veh_cap=myresult[['gen_capacity_veh'\t,'regup_capacity_veh',\t'regdown_capacity_veh']]\n",
    "\n",
    "df_load = pd.read_csv('../data/netload/20200801CAISO.csv',header=0)[:HorizonHours]\n",
    "df_load['netload']=myresult['netload']+df_load['netload']\n",
    "df_load['netload'].max()"
   ]
  },
  {
   "cell_type": "code",
   "execution_count": 7,
   "metadata": {
    "tags": []
   },
   "outputs": [
    {
     "output_type": "stream",
     "name": "stdout",
     "text": "Hour        pr_e  pr_fre_u  pr_fre_d\ndate_time                                                \n2020-08-01 00:00:00     0  120.000000     120.0     120.0\n2020-08-01 01:00:00     1  120.000000     120.0     120.0\n2020-08-01 02:00:00     2  120.000000     120.0     120.0\n2020-08-01 03:00:00     3   31.986037     120.0     120.0\n2020-08-01 04:00:00     4  120.000000     120.0     120.0\n2020-08-01 05:00:00     5  120.000000     120.0     120.0\n2020-08-01 06:00:00     6   37.656060     120.0     120.0\n2020-08-01 07:00:00     7  120.000000     120.0     120.0\n2020-08-01 08:00:00     8  120.000000     120.0     120.0\n2020-08-01 09:00:00     9  120.000000     120.0     120.0\n2020-08-01 10:00:00    10  120.000000     120.0     120.0\n2020-08-01 11:00:00    11  120.000000     120.0     120.0\n2020-08-01 12:00:00    12   37.656060     120.0     120.0\n2020-08-01 13:00:00    13  120.000000     120.0     120.0\n2020-08-01 14:00:00    14  120.000000     120.0     120.0\n2020-08-01 15:00:00    15  120.000000     120.0     120.0\n2020-08-01 16:00:00    16  120.000000     120.0     120.0\n2020-08-01 17:00:00    17  120.000000     120.0     120.0\n2020-08-01 18:00:00    18  120.000000     120.0     120.0\n2020-08-01 19:00:00    19  120.000000     120.0     120.0\n2020-08-01 20:00:00    20  120.000000     120.0     120.0\n2020-08-01 21:00:00    21  120.000000     120.0     120.0\n2020-08-01 22:00:00    22  120.000000     120.0     120.0\n2020-08-01 23:00:00    23   30.522300     120.0     120.0\n2020-08-02 00:00:00    24  120.000000     120.0     120.0\n"
    }
   ],
   "source": [
    "import pandas as pd\n",
    "import datetime\n",
    "\n",
    "load = pd.read_csv('../data/netload/20200801CAISO.csv',header=0)\n",
    "\n",
    "#CAISO1819: netload in the unit of MW\n",
    "startday = datetime.datetime(2020, 8, 1)#iterate through 1 day per time\n",
    "\n",
    "load['date_time'] = [datetime.datetime.strptime(x,\"%m/%d/%y %H:%M\") for x in load['date_time']]\n",
    "load=load.set_index(load['date_time'])\n",
    "load=load.drop(columns='date_time')\n",
    "\n",
    "# ####################################### add the component of loop around day\n",
    "load = pd.DataFrame(load[startday: startday +datetime.timedelta(days=1)]['netload'])\n",
    "\n",
    "data_name2='iteration1_version2'\n",
    "pr=pd.read_csv('../data/price/price'+data_name2+'.csv',header=0)\n",
    "pr=pr[:25].set_index(load[:25].index)\n",
    "print(pr)"
   ]
  },
  {
   "cell_type": "code",
   "execution_count": 85,
   "metadata": {},
   "outputs": [
    {
     "output_type": "execute_result",
     "data": {
      "text/html": "<div>\n<style scoped>\n    .dataframe tbody tr th:only-of-type {\n        vertical-align: middle;\n    }\n\n    .dataframe tbody tr th {\n        vertical-align: top;\n    }\n\n    .dataframe thead th {\n        text-align: right;\n    }\n</style>\n<table border=\"1\" class=\"dataframe\">\n  <thead>\n    <tr style=\"text-align: right;\">\n      <th></th>\n      <th>Generator</th>\n      <th>Day</th>\n      <th>Hour</th>\n      <th>Generation</th>\n      <th>Reg Up</th>\n      <th>Reg Down</th>\n    </tr>\n  </thead>\n  <tbody>\n    <tr>\n      <th>0</th>\n      <td>1</td>\n      <td>1</td>\n      <td>1</td>\n      <td>400.96</td>\n      <td>0.0</td>\n      <td>0.0</td>\n    </tr>\n    <tr>\n      <th>1</th>\n      <td>1</td>\n      <td>1</td>\n      <td>1</td>\n      <td>0.00</td>\n      <td>0.0</td>\n      <td>0.0</td>\n    </tr>\n    <tr>\n      <th>2</th>\n      <td>1</td>\n      <td>1</td>\n      <td>1</td>\n      <td>0.00</td>\n      <td>2.0</td>\n      <td>0.0</td>\n    </tr>\n    <tr>\n      <th>3</th>\n      <td>10034_G_GEN1</td>\n      <td>1</td>\n      <td>1</td>\n      <td>0.00</td>\n      <td>0.0</td>\n      <td>0.0</td>\n    </tr>\n    <tr>\n      <th>4</th>\n      <td>10034_G_GEN2</td>\n      <td>1</td>\n      <td>1</td>\n      <td>0.00</td>\n      <td>0.0</td>\n      <td>0.0</td>\n    </tr>\n    <tr>\n      <th>5</th>\n      <td>10052_B_BLR1</td>\n      <td>1</td>\n      <td>1</td>\n      <td>0.00</td>\n      <td>0.0</td>\n      <td>0.0</td>\n    </tr>\n    <tr>\n      <th>6</th>\n      <td>10091_G_G2</td>\n      <td>1</td>\n      <td>1</td>\n      <td>0.00</td>\n      <td>0.0</td>\n      <td>0.0</td>\n    </tr>\n    <tr>\n      <th>7</th>\n      <td>10091_G_GEN1</td>\n      <td>1</td>\n      <td>1</td>\n      <td>0.00</td>\n      <td>0.0</td>\n      <td>0.0</td>\n    </tr>\n    <tr>\n      <th>8</th>\n      <td>10110_G_GEN1</td>\n      <td>1</td>\n      <td>1</td>\n      <td>0.00</td>\n      <td>0.0</td>\n      <td>0.0</td>\n    </tr>\n    <tr>\n      <th>9</th>\n      <td>10128_G_GEN1</td>\n      <td>1</td>\n      <td>1</td>\n      <td>0.00</td>\n      <td>0.0</td>\n      <td>0.0</td>\n    </tr>\n    <tr>\n      <th>10</th>\n      <td>10128_G_GEN2</td>\n      <td>1</td>\n      <td>1</td>\n      <td>0.00</td>\n      <td>0.0</td>\n      <td>0.0</td>\n    </tr>\n    <tr>\n      <th>11</th>\n      <td>10139_G_GEN1</td>\n      <td>1</td>\n      <td>1</td>\n      <td>0.00</td>\n      <td>0.0</td>\n      <td>0.0</td>\n    </tr>\n    <tr>\n      <th>12</th>\n      <td>10139_G_GEN2</td>\n      <td>1</td>\n      <td>1</td>\n      <td>0.00</td>\n      <td>0.0</td>\n      <td>0.0</td>\n    </tr>\n    <tr>\n      <th>13</th>\n      <td>10144_B_BLR3</td>\n      <td>1</td>\n      <td>1</td>\n      <td>0.00</td>\n      <td>0.0</td>\n      <td>0.0</td>\n    </tr>\n    <tr>\n      <th>14</th>\n      <td>10156_G_GEN2</td>\n      <td>1</td>\n      <td>1</td>\n      <td>0.00</td>\n      <td>0.0</td>\n      <td>0.0</td>\n    </tr>\n    <tr>\n      <th>15</th>\n      <td>10156_G_GEN3</td>\n      <td>1</td>\n      <td>1</td>\n      <td>0.00</td>\n      <td>0.0</td>\n      <td>0.0</td>\n    </tr>\n    <tr>\n      <th>16</th>\n      <td>10156_G_GEN4</td>\n      <td>1</td>\n      <td>1</td>\n      <td>0.00</td>\n      <td>0.0</td>\n      <td>0.0</td>\n    </tr>\n    <tr>\n      <th>17</th>\n      <td>10162_G_WWHI</td>\n      <td>1</td>\n      <td>1</td>\n      <td>0.00</td>\n      <td>0.0</td>\n      <td>0.0</td>\n    </tr>\n    <tr>\n      <th>18</th>\n      <td>10169_G_GEN1</td>\n      <td>1</td>\n      <td>1</td>\n      <td>0.00</td>\n      <td>0.0</td>\n      <td>0.0</td>\n    </tr>\n    <tr>\n      <th>19</th>\n      <td>10169_G_GEN2</td>\n      <td>1</td>\n      <td>1</td>\n      <td>0.00</td>\n      <td>0.0</td>\n      <td>0.0</td>\n    </tr>\n    <tr>\n      <th>20</th>\n      <td>10175_G_0799</td>\n      <td>1</td>\n      <td>1</td>\n      <td>0.00</td>\n      <td>0.0</td>\n      <td>0.0</td>\n    </tr>\n    <tr>\n      <th>21</th>\n      <td>10175_G_5083</td>\n      <td>1</td>\n      <td>1</td>\n      <td>0.00</td>\n      <td>0.0</td>\n      <td>0.0</td>\n    </tr>\n    <tr>\n      <th>22</th>\n      <td>10213_G_GEN1</td>\n      <td>1</td>\n      <td>1</td>\n      <td>0.00</td>\n      <td>0.0</td>\n      <td>0.0</td>\n    </tr>\n    <tr>\n      <th>23</th>\n      <td>10213_G_GEN2</td>\n      <td>1</td>\n      <td>1</td>\n      <td>0.00</td>\n      <td>0.0</td>\n      <td>0.0</td>\n    </tr>\n    <tr>\n      <th>24</th>\n      <td>10213_G_GEN5</td>\n      <td>1</td>\n      <td>1</td>\n      <td>0.00</td>\n      <td>0.0</td>\n      <td>0.0</td>\n    </tr>\n    <tr>\n      <th>25</th>\n      <td>10213_G_GEN6</td>\n      <td>1</td>\n      <td>1</td>\n      <td>0.00</td>\n      <td>0.0</td>\n      <td>0.0</td>\n    </tr>\n    <tr>\n      <th>26</th>\n      <td>10213_G_GEN7</td>\n      <td>1</td>\n      <td>1</td>\n      <td>0.00</td>\n      <td>0.0</td>\n      <td>0.0</td>\n    </tr>\n    <tr>\n      <th>27</th>\n      <td>10213_G_GEN8</td>\n      <td>1</td>\n      <td>1</td>\n      <td>0.00</td>\n      <td>0.0</td>\n      <td>0.0</td>\n    </tr>\n    <tr>\n      <th>28</th>\n      <td>10222_G_SPP1</td>\n      <td>1</td>\n      <td>1</td>\n      <td>0.00</td>\n      <td>0.0</td>\n      <td>0.0</td>\n    </tr>\n    <tr>\n      <th>29</th>\n      <td>10253_G_LGEN</td>\n      <td>1</td>\n      <td>1</td>\n      <td>0.00</td>\n      <td>0.0</td>\n      <td>0.0</td>\n    </tr>\n    <tr>\n      <th>...</th>\n      <td>...</td>\n      <td>...</td>\n      <td>...</td>\n      <td>...</td>\n      <td>...</td>\n      <td>...</td>\n    </tr>\n    <tr>\n      <th>57570</th>\n      <td>7527_G_2</td>\n      <td>3</td>\n      <td>72</td>\n      <td>0.00</td>\n      <td>0.0</td>\n      <td>0.0</td>\n    </tr>\n    <tr>\n      <th>57571</th>\n      <td>7527_G_CCCT</td>\n      <td>3</td>\n      <td>72</td>\n      <td>0.00</td>\n      <td>0.0</td>\n      <td>0.0</td>\n    </tr>\n    <tr>\n      <th>57572</th>\n      <td>7551_G_CCST</td>\n      <td>3</td>\n      <td>72</td>\n      <td>0.00</td>\n      <td>0.0</td>\n      <td>0.0</td>\n    </tr>\n    <tr>\n      <th>57573</th>\n      <td>7551_G_CT1A</td>\n      <td>3</td>\n      <td>72</td>\n      <td>0.00</td>\n      <td>0.0</td>\n      <td>0.0</td>\n    </tr>\n    <tr>\n      <th>57574</th>\n      <td>7551_G_CT1B</td>\n      <td>3</td>\n      <td>72</td>\n      <td>0.00</td>\n      <td>0.0</td>\n      <td>0.0</td>\n    </tr>\n    <tr>\n      <th>57575</th>\n      <td>7552_G_CCCT</td>\n      <td>3</td>\n      <td>72</td>\n      <td>0.00</td>\n      <td>0.0</td>\n      <td>0.0</td>\n    </tr>\n    <tr>\n      <th>57576</th>\n      <td>7552_G_CCST</td>\n      <td>3</td>\n      <td>72</td>\n      <td>0.00</td>\n      <td>0.0</td>\n      <td>0.0</td>\n    </tr>\n    <tr>\n      <th>57577</th>\n      <td>7646_G_1</td>\n      <td>3</td>\n      <td>72</td>\n      <td>0.00</td>\n      <td>0.0</td>\n      <td>0.0</td>\n    </tr>\n    <tr>\n      <th>57578</th>\n      <td>7646_G_2</td>\n      <td>3</td>\n      <td>72</td>\n      <td>0.00</td>\n      <td>0.0</td>\n      <td>0.0</td>\n    </tr>\n    <tr>\n      <th>57579</th>\n      <td>7646_G_3</td>\n      <td>3</td>\n      <td>72</td>\n      <td>0.00</td>\n      <td>0.0</td>\n      <td>0.0</td>\n    </tr>\n    <tr>\n      <th>57580</th>\n      <td>776_G_1</td>\n      <td>3</td>\n      <td>72</td>\n      <td>0.00</td>\n      <td>0.0</td>\n      <td>0.0</td>\n    </tr>\n    <tr>\n      <th>57581</th>\n      <td>7907_G_1</td>\n      <td>3</td>\n      <td>72</td>\n      <td>0.00</td>\n      <td>0.0</td>\n      <td>0.0</td>\n    </tr>\n    <tr>\n      <th>57582</th>\n      <td>7907_G_2</td>\n      <td>3</td>\n      <td>72</td>\n      <td>0.00</td>\n      <td>0.0</td>\n      <td>0.0</td>\n    </tr>\n    <tr>\n      <th>57583</th>\n      <td>7907_G_3</td>\n      <td>3</td>\n      <td>72</td>\n      <td>0.00</td>\n      <td>0.0</td>\n      <td>0.0</td>\n    </tr>\n    <tr>\n      <th>57584</th>\n      <td>7911_G_1</td>\n      <td>3</td>\n      <td>72</td>\n      <td>0.00</td>\n      <td>0.0</td>\n      <td>0.0</td>\n    </tr>\n    <tr>\n      <th>57585</th>\n      <td>7942_G_10</td>\n      <td>3</td>\n      <td>72</td>\n      <td>0.00</td>\n      <td>0.0</td>\n      <td>0.0</td>\n    </tr>\n    <tr>\n      <th>57586</th>\n      <td>7942_G_11</td>\n      <td>3</td>\n      <td>72</td>\n      <td>0.00</td>\n      <td>0.0</td>\n      <td>0.0</td>\n    </tr>\n    <tr>\n      <th>57587</th>\n      <td>7942_G_12</td>\n      <td>3</td>\n      <td>72</td>\n      <td>0.00</td>\n      <td>0.0</td>\n      <td>0.0</td>\n    </tr>\n    <tr>\n      <th>57588</th>\n      <td>7942_G_2</td>\n      <td>3</td>\n      <td>72</td>\n      <td>0.00</td>\n      <td>0.0</td>\n      <td>0.0</td>\n    </tr>\n    <tr>\n      <th>57589</th>\n      <td>7942_G_3</td>\n      <td>3</td>\n      <td>72</td>\n      <td>0.00</td>\n      <td>0.0</td>\n      <td>0.0</td>\n    </tr>\n    <tr>\n      <th>57590</th>\n      <td>7942_G_4</td>\n      <td>3</td>\n      <td>72</td>\n      <td>0.00</td>\n      <td>0.0</td>\n      <td>0.0</td>\n    </tr>\n    <tr>\n      <th>57591</th>\n      <td>7942_G_6</td>\n      <td>3</td>\n      <td>72</td>\n      <td>0.00</td>\n      <td>0.0</td>\n      <td>0.0</td>\n    </tr>\n    <tr>\n      <th>57592</th>\n      <td>7942_G_7</td>\n      <td>3</td>\n      <td>72</td>\n      <td>0.00</td>\n      <td>0.0</td>\n      <td>0.0</td>\n    </tr>\n    <tr>\n      <th>57593</th>\n      <td>7942_G_8</td>\n      <td>3</td>\n      <td>72</td>\n      <td>0.00</td>\n      <td>0.0</td>\n      <td>0.0</td>\n    </tr>\n    <tr>\n      <th>57594</th>\n      <td>839_G_7P</td>\n      <td>3</td>\n      <td>72</td>\n      <td>0.00</td>\n      <td>0.0</td>\n      <td>0.0</td>\n    </tr>\n    <tr>\n      <th>57595</th>\n      <td>846_G_1</td>\n      <td>3</td>\n      <td>72</td>\n      <td>0.00</td>\n      <td>0.0</td>\n      <td>0.0</td>\n    </tr>\n    <tr>\n      <th>57596</th>\n      <td>846_G_2</td>\n      <td>3</td>\n      <td>72</td>\n      <td>0.00</td>\n      <td>0.0</td>\n      <td>0.0</td>\n    </tr>\n    <tr>\n      <th>57597</th>\n      <td>846_G_3</td>\n      <td>3</td>\n      <td>72</td>\n      <td>0.00</td>\n      <td>0.0</td>\n      <td>0.0</td>\n    </tr>\n    <tr>\n      <th>57598</th>\n      <td>902_G_1</td>\n      <td>3</td>\n      <td>72</td>\n      <td>10.00</td>\n      <td>20.0</td>\n      <td>0.0</td>\n    </tr>\n    <tr>\n      <th>57599</th>\n      <td>905_G_1</td>\n      <td>3</td>\n      <td>72</td>\n      <td>0.00</td>\n      <td>0.0</td>\n      <td>0.0</td>\n    </tr>\n  </tbody>\n</table>\n<p>57600 rows × 6 columns</p>\n</div>",
      "text/plain": "          Generator  Day  Hour  Generation  Reg Up  Reg Down\n0                 1    1     1      400.96     0.0       0.0\n1                 1    1     1        0.00     0.0       0.0\n2                 1    1     1        0.00     2.0       0.0\n3      10034_G_GEN1    1     1        0.00     0.0       0.0\n4      10034_G_GEN2    1     1        0.00     0.0       0.0\n5      10052_B_BLR1    1     1        0.00     0.0       0.0\n6        10091_G_G2    1     1        0.00     0.0       0.0\n7      10091_G_GEN1    1     1        0.00     0.0       0.0\n8      10110_G_GEN1    1     1        0.00     0.0       0.0\n9      10128_G_GEN1    1     1        0.00     0.0       0.0\n10     10128_G_GEN2    1     1        0.00     0.0       0.0\n11     10139_G_GEN1    1     1        0.00     0.0       0.0\n12     10139_G_GEN2    1     1        0.00     0.0       0.0\n13     10144_B_BLR3    1     1        0.00     0.0       0.0\n14     10156_G_GEN2    1     1        0.00     0.0       0.0\n15     10156_G_GEN3    1     1        0.00     0.0       0.0\n16     10156_G_GEN4    1     1        0.00     0.0       0.0\n17     10162_G_WWHI    1     1        0.00     0.0       0.0\n18     10169_G_GEN1    1     1        0.00     0.0       0.0\n19     10169_G_GEN2    1     1        0.00     0.0       0.0\n20     10175_G_0799    1     1        0.00     0.0       0.0\n21     10175_G_5083    1     1        0.00     0.0       0.0\n22     10213_G_GEN1    1     1        0.00     0.0       0.0\n23     10213_G_GEN2    1     1        0.00     0.0       0.0\n24     10213_G_GEN5    1     1        0.00     0.0       0.0\n25     10213_G_GEN6    1     1        0.00     0.0       0.0\n26     10213_G_GEN7    1     1        0.00     0.0       0.0\n27     10213_G_GEN8    1     1        0.00     0.0       0.0\n28     10222_G_SPP1    1     1        0.00     0.0       0.0\n29     10253_G_LGEN    1     1        0.00     0.0       0.0\n...             ...  ...   ...         ...     ...       ...\n57570      7527_G_2    3    72        0.00     0.0       0.0\n57571   7527_G_CCCT    3    72        0.00     0.0       0.0\n57572   7551_G_CCST    3    72        0.00     0.0       0.0\n57573   7551_G_CT1A    3    72        0.00     0.0       0.0\n57574   7551_G_CT1B    3    72        0.00     0.0       0.0\n57575   7552_G_CCCT    3    72        0.00     0.0       0.0\n57576   7552_G_CCST    3    72        0.00     0.0       0.0\n57577      7646_G_1    3    72        0.00     0.0       0.0\n57578      7646_G_2    3    72        0.00     0.0       0.0\n57579      7646_G_3    3    72        0.00     0.0       0.0\n57580       776_G_1    3    72        0.00     0.0       0.0\n57581      7907_G_1    3    72        0.00     0.0       0.0\n57582      7907_G_2    3    72        0.00     0.0       0.0\n57583      7907_G_3    3    72        0.00     0.0       0.0\n57584      7911_G_1    3    72        0.00     0.0       0.0\n57585     7942_G_10    3    72        0.00     0.0       0.0\n57586     7942_G_11    3    72        0.00     0.0       0.0\n57587     7942_G_12    3    72        0.00     0.0       0.0\n57588      7942_G_2    3    72        0.00     0.0       0.0\n57589      7942_G_3    3    72        0.00     0.0       0.0\n57590      7942_G_4    3    72        0.00     0.0       0.0\n57591      7942_G_6    3    72        0.00     0.0       0.0\n57592      7942_G_7    3    72        0.00     0.0       0.0\n57593      7942_G_8    3    72        0.00     0.0       0.0\n57594      839_G_7P    3    72        0.00     0.0       0.0\n57595       846_G_1    3    72        0.00     0.0       0.0\n57596       846_G_2    3    72        0.00     0.0       0.0\n57597       846_G_3    3    72        0.00     0.0       0.0\n57598       902_G_1    3    72       10.00    20.0       0.0\n57599       905_G_1    3    72        0.00     0.0       0.0\n\n[57600 rows x 6 columns]"
     },
     "metadata": {},
     "execution_count": 85
    }
   ],
   "source": [
    "mwh_pd=pd.read_csv('../data/generator/GeneratorResult.csv')\n",
    "\n",
    "mwh_pd=mwh_pd.sort_values(by=['Hour','Generator'])\n",
    "mwh_pd=mwh_pd.reset_index(drop=True)\n",
    "\n",
    "mwh_pd\n",
    "# mwh_pd.shape\n",
    "# cost_pd.shape"
   ]
  },
  {
   "cell_type": "code",
   "execution_count": 86,
   "metadata": {
    "tags": []
   },
   "outputs": [
    {
     "output_type": "execute_result",
     "data": {
      "text/html": "<div>\n<style scoped>\n    .dataframe tbody tr th:only-of-type {\n        vertical-align: middle;\n    }\n\n    .dataframe tbody tr th {\n        vertical-align: top;\n    }\n\n    .dataframe thead th {\n        text-align: right;\n    }\n</style>\n<table border=\"1\" class=\"dataframe\">\n  <thead>\n    <tr style=\"text-align: right;\">\n      <th></th>\n      <th>Hour</th>\n      <th>pr_e</th>\n      <th>pr_fre_u</th>\n      <th>pr_fre_d</th>\n    </tr>\n  </thead>\n  <tbody>\n    <tr>\n      <th>0</th>\n      <td>0</td>\n      <td>83.880057</td>\n      <td>9999.0</td>\n      <td>9999.0</td>\n    </tr>\n    <tr>\n      <th>1</th>\n      <td>1</td>\n      <td>276.916279</td>\n      <td>9999.0</td>\n      <td>9999.0</td>\n    </tr>\n    <tr>\n      <th>2</th>\n      <td>2</td>\n      <td>65.982736</td>\n      <td>9999.0</td>\n      <td>9999.0</td>\n    </tr>\n    <tr>\n      <th>3</th>\n      <td>3</td>\n      <td>75.696922</td>\n      <td>9999.0</td>\n      <td>9999.0</td>\n    </tr>\n    <tr>\n      <th>4</th>\n      <td>4</td>\n      <td>65.980343</td>\n      <td>9999.0</td>\n      <td>9999.0</td>\n    </tr>\n    <tr>\n      <th>5</th>\n      <td>5</td>\n      <td>65.984935</td>\n      <td>9999.0</td>\n      <td>9999.0</td>\n    </tr>\n    <tr>\n      <th>6</th>\n      <td>6</td>\n      <td>59.290272</td>\n      <td>9999.0</td>\n      <td>9999.0</td>\n    </tr>\n    <tr>\n      <th>7</th>\n      <td>7</td>\n      <td>114.906468</td>\n      <td>9999.0</td>\n      <td>9999.0</td>\n    </tr>\n    <tr>\n      <th>8</th>\n      <td>8</td>\n      <td>275.708502</td>\n      <td>9999.0</td>\n      <td>9999.0</td>\n    </tr>\n    <tr>\n      <th>9</th>\n      <td>9</td>\n      <td>85.185988</td>\n      <td>9999.0</td>\n      <td>9999.0</td>\n    </tr>\n    <tr>\n      <th>10</th>\n      <td>10</td>\n      <td>74.936862</td>\n      <td>9999.0</td>\n      <td>9999.0</td>\n    </tr>\n    <tr>\n      <th>11</th>\n      <td>11</td>\n      <td>68.753401</td>\n      <td>9999.0</td>\n      <td>9999.0</td>\n    </tr>\n    <tr>\n      <th>12</th>\n      <td>12</td>\n      <td>276.916279</td>\n      <td>9999.0</td>\n      <td>9999.0</td>\n    </tr>\n    <tr>\n      <th>13</th>\n      <td>13</td>\n      <td>65.980609</td>\n      <td>9999.0</td>\n      <td>9999.0</td>\n    </tr>\n    <tr>\n      <th>14</th>\n      <td>14</td>\n      <td>72.458487</td>\n      <td>9999.0</td>\n      <td>9999.0</td>\n    </tr>\n    <tr>\n      <th>15</th>\n      <td>15</td>\n      <td>65.984557</td>\n      <td>9999.0</td>\n      <td>9999.0</td>\n    </tr>\n    <tr>\n      <th>16</th>\n      <td>16</td>\n      <td>65.984935</td>\n      <td>9999.0</td>\n      <td>9999.0</td>\n    </tr>\n    <tr>\n      <th>17</th>\n      <td>17</td>\n      <td>59.291139</td>\n      <td>9999.0</td>\n      <td>9999.0</td>\n    </tr>\n    <tr>\n      <th>18</th>\n      <td>18</td>\n      <td>231.507326</td>\n      <td>9999.0</td>\n      <td>9999.0</td>\n    </tr>\n    <tr>\n      <th>19</th>\n      <td>19</td>\n      <td>275.708502</td>\n      <td>9999.0</td>\n      <td>9999.0</td>\n    </tr>\n    <tr>\n      <th>20</th>\n      <td>20</td>\n      <td>275.708502</td>\n      <td>9999.0</td>\n      <td>9999.0</td>\n    </tr>\n    <tr>\n      <th>21</th>\n      <td>21</td>\n      <td>214.491818</td>\n      <td>9999.0</td>\n      <td>9999.0</td>\n    </tr>\n    <tr>\n      <th>22</th>\n      <td>22</td>\n      <td>74.924340</td>\n      <td>9999.0</td>\n      <td>9999.0</td>\n    </tr>\n    <tr>\n      <th>23</th>\n      <td>23</td>\n      <td>276.916279</td>\n      <td>9999.0</td>\n      <td>9999.0</td>\n    </tr>\n    <tr>\n      <th>24</th>\n      <td>24</td>\n      <td>276.916279</td>\n      <td>9999.0</td>\n      <td>9999.0</td>\n    </tr>\n    <tr>\n      <th>25</th>\n      <td>25</td>\n      <td>114.906468</td>\n      <td>9999.0</td>\n      <td>9999.0</td>\n    </tr>\n    <tr>\n      <th>26</th>\n      <td>26</td>\n      <td>65.984557</td>\n      <td>9999.0</td>\n      <td>9999.0</td>\n    </tr>\n    <tr>\n      <th>27</th>\n      <td>27</td>\n      <td>65.984557</td>\n      <td>9999.0</td>\n      <td>9999.0</td>\n    </tr>\n    <tr>\n      <th>28</th>\n      <td>28</td>\n      <td>44.239179</td>\n      <td>9999.0</td>\n      <td>9999.0</td>\n    </tr>\n    <tr>\n      <th>29</th>\n      <td>29</td>\n      <td>80.624485</td>\n      <td>9999.0</td>\n      <td>9999.0</td>\n    </tr>\n    <tr>\n      <th>...</th>\n      <td>...</td>\n      <td>...</td>\n      <td>...</td>\n      <td>...</td>\n    </tr>\n    <tr>\n      <th>42</th>\n      <td>42</td>\n      <td>231.507326</td>\n      <td>9999.0</td>\n      <td>9999.0</td>\n    </tr>\n    <tr>\n      <th>43</th>\n      <td>43</td>\n      <td>231.507326</td>\n      <td>9999.0</td>\n      <td>9999.0</td>\n    </tr>\n    <tr>\n      <th>44</th>\n      <td>44</td>\n      <td>74.936862</td>\n      <td>9999.0</td>\n      <td>9999.0</td>\n    </tr>\n    <tr>\n      <th>45</th>\n      <td>45</td>\n      <td>74.936862</td>\n      <td>9999.0</td>\n      <td>9999.0</td>\n    </tr>\n    <tr>\n      <th>46</th>\n      <td>46</td>\n      <td>275.708502</td>\n      <td>9999.0</td>\n      <td>9999.0</td>\n    </tr>\n    <tr>\n      <th>47</th>\n      <td>47</td>\n      <td>65.982736</td>\n      <td>9999.0</td>\n      <td>9999.0</td>\n    </tr>\n    <tr>\n      <th>48</th>\n      <td>48</td>\n      <td>74.936862</td>\n      <td>9999.0</td>\n      <td>9999.0</td>\n    </tr>\n    <tr>\n      <th>49</th>\n      <td>49</td>\n      <td>65.982736</td>\n      <td>9999.0</td>\n      <td>9999.0</td>\n    </tr>\n    <tr>\n      <th>50</th>\n      <td>50</td>\n      <td>67.013090</td>\n      <td>9999.0</td>\n      <td>9999.0</td>\n    </tr>\n    <tr>\n      <th>51</th>\n      <td>51</td>\n      <td>83.880057</td>\n      <td>9999.0</td>\n      <td>9999.0</td>\n    </tr>\n    <tr>\n      <th>52</th>\n      <td>52</td>\n      <td>231.507326</td>\n      <td>9999.0</td>\n      <td>9999.0</td>\n    </tr>\n    <tr>\n      <th>53</th>\n      <td>53</td>\n      <td>72.458487</td>\n      <td>9999.0</td>\n      <td>9999.0</td>\n    </tr>\n    <tr>\n      <th>54</th>\n      <td>54</td>\n      <td>83.880057</td>\n      <td>9999.0</td>\n      <td>9999.0</td>\n    </tr>\n    <tr>\n      <th>55</th>\n      <td>55</td>\n      <td>65.984935</td>\n      <td>9999.0</td>\n      <td>9999.0</td>\n    </tr>\n    <tr>\n      <th>56</th>\n      <td>56</td>\n      <td>276.916279</td>\n      <td>9999.0</td>\n      <td>9999.0</td>\n    </tr>\n    <tr>\n      <th>57</th>\n      <td>57</td>\n      <td>85.185988</td>\n      <td>9999.0</td>\n      <td>9999.0</td>\n    </tr>\n    <tr>\n      <th>58</th>\n      <td>58</td>\n      <td>276.916279</td>\n      <td>9999.0</td>\n      <td>9999.0</td>\n    </tr>\n    <tr>\n      <th>59</th>\n      <td>59</td>\n      <td>65.984935</td>\n      <td>9999.0</td>\n      <td>9999.0</td>\n    </tr>\n    <tr>\n      <th>60</th>\n      <td>60</td>\n      <td>65.981092</td>\n      <td>9999.0</td>\n      <td>9999.0</td>\n    </tr>\n    <tr>\n      <th>61</th>\n      <td>61</td>\n      <td>73.382109</td>\n      <td>9999.0</td>\n      <td>9999.0</td>\n    </tr>\n    <tr>\n      <th>62</th>\n      <td>62</td>\n      <td>114.906468</td>\n      <td>9999.0</td>\n      <td>9999.0</td>\n    </tr>\n    <tr>\n      <th>63</th>\n      <td>63</td>\n      <td>276.916279</td>\n      <td>9999.0</td>\n      <td>9999.0</td>\n    </tr>\n    <tr>\n      <th>64</th>\n      <td>64</td>\n      <td>231.507326</td>\n      <td>9999.0</td>\n      <td>9999.0</td>\n    </tr>\n    <tr>\n      <th>65</th>\n      <td>65</td>\n      <td>275.708502</td>\n      <td>9999.0</td>\n      <td>9999.0</td>\n    </tr>\n    <tr>\n      <th>66</th>\n      <td>66</td>\n      <td>276.916279</td>\n      <td>9999.0</td>\n      <td>9999.0</td>\n    </tr>\n    <tr>\n      <th>67</th>\n      <td>67</td>\n      <td>74.924340</td>\n      <td>9999.0</td>\n      <td>9999.0</td>\n    </tr>\n    <tr>\n      <th>68</th>\n      <td>68</td>\n      <td>214.491818</td>\n      <td>9999.0</td>\n      <td>9999.0</td>\n    </tr>\n    <tr>\n      <th>69</th>\n      <td>69</td>\n      <td>65.984935</td>\n      <td>9999.0</td>\n      <td>9999.0</td>\n    </tr>\n    <tr>\n      <th>70</th>\n      <td>70</td>\n      <td>74.924340</td>\n      <td>9999.0</td>\n      <td>9999.0</td>\n    </tr>\n    <tr>\n      <th>71</th>\n      <td>71</td>\n      <td>65.980343</td>\n      <td>9999.0</td>\n      <td>9999.0</td>\n    </tr>\n  </tbody>\n</table>\n<p>72 rows × 4 columns</p>\n</div>",
      "text/plain": "    Hour        pr_e  pr_fre_u  pr_fre_d\n0      0   83.880057    9999.0    9999.0\n1      1  276.916279    9999.0    9999.0\n2      2   65.982736    9999.0    9999.0\n3      3   75.696922    9999.0    9999.0\n4      4   65.980343    9999.0    9999.0\n5      5   65.984935    9999.0    9999.0\n6      6   59.290272    9999.0    9999.0\n7      7  114.906468    9999.0    9999.0\n8      8  275.708502    9999.0    9999.0\n9      9   85.185988    9999.0    9999.0\n10    10   74.936862    9999.0    9999.0\n11    11   68.753401    9999.0    9999.0\n12    12  276.916279    9999.0    9999.0\n13    13   65.980609    9999.0    9999.0\n14    14   72.458487    9999.0    9999.0\n15    15   65.984557    9999.0    9999.0\n16    16   65.984935    9999.0    9999.0\n17    17   59.291139    9999.0    9999.0\n18    18  231.507326    9999.0    9999.0\n19    19  275.708502    9999.0    9999.0\n20    20  275.708502    9999.0    9999.0\n21    21  214.491818    9999.0    9999.0\n22    22   74.924340    9999.0    9999.0\n23    23  276.916279    9999.0    9999.0\n24    24  276.916279    9999.0    9999.0\n25    25  114.906468    9999.0    9999.0\n26    26   65.984557    9999.0    9999.0\n27    27   65.984557    9999.0    9999.0\n28    28   44.239179    9999.0    9999.0\n29    29   80.624485    9999.0    9999.0\n..   ...         ...       ...       ...\n42    42  231.507326    9999.0    9999.0\n43    43  231.507326    9999.0    9999.0\n44    44   74.936862    9999.0    9999.0\n45    45   74.936862    9999.0    9999.0\n46    46  275.708502    9999.0    9999.0\n47    47   65.982736    9999.0    9999.0\n48    48   74.936862    9999.0    9999.0\n49    49   65.982736    9999.0    9999.0\n50    50   67.013090    9999.0    9999.0\n51    51   83.880057    9999.0    9999.0\n52    52  231.507326    9999.0    9999.0\n53    53   72.458487    9999.0    9999.0\n54    54   83.880057    9999.0    9999.0\n55    55   65.984935    9999.0    9999.0\n56    56  276.916279    9999.0    9999.0\n57    57   85.185988    9999.0    9999.0\n58    58  276.916279    9999.0    9999.0\n59    59   65.984935    9999.0    9999.0\n60    60   65.981092    9999.0    9999.0\n61    61   73.382109    9999.0    9999.0\n62    62  114.906468    9999.0    9999.0\n63    63  276.916279    9999.0    9999.0\n64    64  231.507326    9999.0    9999.0\n65    65  275.708502    9999.0    9999.0\n66    66  276.916279    9999.0    9999.0\n67    67   74.924340    9999.0    9999.0\n68    68  214.491818    9999.0    9999.0\n69    69   65.984935    9999.0    9999.0\n70    70   74.924340    9999.0    9999.0\n71    71   65.980343    9999.0    9999.0\n\n[72 rows x 4 columns]"
     },
     "metadata": {},
     "execution_count": 86
    }
   ],
   "source": [
    "\n",
    "Hour=72\n",
    "price=[]\n",
    "for i in range(Hour):\n",
    "    pr_e=[]\n",
    "    pr_a=[]\n",
    "    pr_b=[]\n",
    "    pr_fre_d=[]\n",
    "    pr_fre_u=[]\n",
    "    for j in range(cost_pd.shape[0]):  \n",
    "        pr_e.append((mwh_pd.loc[i*72+j,'Generation']>0).astype(int)*1*cost_pd.loc[j,\"cost_e\"])\n",
    "        pr_fre_u.append((mwh_pd.loc[i*72+j,'Reg Up']>0).astype(int)*1*cost_pd.loc[j,\"cost_fre_u\"])\n",
    "        pr_fre_d.append((mwh_pd.loc[i*72+j,'Reg Down']>0).astype(int)*1*cost_pd.loc[j,\"cost_fre_d\"])\n",
    "    price.append((i,max(pr_e),max(pr_fre_u),max(pr_fre_d)))#\n",
    "# print(pr_e)\n",
    "# print(pr_fre_u)\n",
    "# print(pr_fre_d)\n",
    "\n",
    "price_pd=pd.DataFrame(price,columns=(\"Hour\",'pr_e','pr_fre_u','pr_fre_d'))\n",
    "price_pd"
   ]
  },
  {
   "cell_type": "code",
   "execution_count": null,
   "metadata": {},
   "outputs": [],
   "source": [
    "import pandas as pd\n",
    "import numpy as np\n",
    "df_windsolar_cap=pd.read_csv('../data/generator/SolarCap.csv',header=0).set_index('name')#SolarWindCap\n",
    "df_windsolar_cap\n",
    "\n",
    "data_name = 'test3'\n",
    "with open(''+str(data_name)+'.dat', 'w') as f:\n",
    "    f.write('param:' + '\\t')\n",
    "    for c in df_windsolar_cap.columns:\n",
    "        if c != 'name':\n",
    "            f.write(c + '\\t')\n",
    "    f.write(':=\\n\\n')\n",
    "    for i in range(0,len(df_windsolar_cap)):    \n",
    "        for c in df_windsolar_cap.columns: \n",
    "            print('i:')\n",
    "            print(i)\n",
    "            print('c:')\n",
    "            print(c)\n",
    "            print(df_windsolar_cap.loc[1,'maxcap_ws'])\n",
    "\n",
    "            # f.write(str(i+1) + '\\t' + str(df_windsolar_cap.iloc[i,c]) + '\\t')            \n",
    "        f.write('\\n')\n",
    "    f.write(';\\n\\n')\n"
   ]
  },
  {
   "cell_type": "code",
   "execution_count": 2,
   "metadata": {},
   "outputs": [
    {
     "output_type": "execute_result",
     "data": {
      "text/html": "<div>\n<style scoped>\n    .dataframe tbody tr th:only-of-type {\n        vertical-align: middle;\n    }\n\n    .dataframe tbody tr th {\n        vertical-align: top;\n    }\n\n    .dataframe thead th {\n        text-align: right;\n    }\n</style>\n<table border=\"1\" class=\"dataframe\">\n  <thead>\n    <tr style=\"text-align: right;\">\n      <th></th>\n      <th>regup_capacity_veh,regdown_capacity_veh, gen_capacity_veh</th>\n    </tr>\n  </thead>\n  <tbody>\n    <tr>\n      <th>0</th>\n      <td>0,1400,460600</td>\n    </tr>\n    <tr>\n      <th>1</th>\n      <td>0,1400,460600</td>\n    </tr>\n    <tr>\n      <th>2</th>\n      <td>0,1400,460600</td>\n    </tr>\n    <tr>\n      <th>3</th>\n      <td>0,1400,460600</td>\n    </tr>\n    <tr>\n      <th>4</th>\n      <td>0,1400,460600</td>\n    </tr>\n    <tr>\n      <th>5</th>\n      <td>0,1400,460600</td>\n    </tr>\n    <tr>\n      <th>6</th>\n      <td>0,1400,460600</td>\n    </tr>\n    <tr>\n      <th>7</th>\n      <td>0,1400,460600</td>\n    </tr>\n    <tr>\n      <th>8</th>\n      <td>0,1400,460600</td>\n    </tr>\n    <tr>\n      <th>9</th>\n      <td>0,1400,460600</td>\n    </tr>\n    <tr>\n      <th>10</th>\n      <td>0,1400,460600</td>\n    </tr>\n    <tr>\n      <th>11</th>\n      <td>0,1400,460600</td>\n    </tr>\n    <tr>\n      <th>12</th>\n      <td>0,1400,460600</td>\n    </tr>\n    <tr>\n      <th>13</th>\n      <td>0,1400,460600</td>\n    </tr>\n    <tr>\n      <th>14</th>\n      <td>0,1400,460600</td>\n    </tr>\n    <tr>\n      <th>15</th>\n      <td>0,1400,460600</td>\n    </tr>\n    <tr>\n      <th>16</th>\n      <td>0,1400,460600</td>\n    </tr>\n    <tr>\n      <th>17</th>\n      <td>0,1400,460600</td>\n    </tr>\n    <tr>\n      <th>18</th>\n      <td>0,1400,460600</td>\n    </tr>\n    <tr>\n      <th>19</th>\n      <td>0,1400,460600</td>\n    </tr>\n    <tr>\n      <th>20</th>\n      <td>0,4200,457800</td>\n    </tr>\n    <tr>\n      <th>21</th>\n      <td>0,4200,457800</td>\n    </tr>\n    <tr>\n      <th>22</th>\n      <td>0,4200,457800</td>\n    </tr>\n    <tr>\n      <th>23</th>\n      <td>0,4200,457800</td>\n    </tr>\n    <tr>\n      <th>24</th>\n      <td>0,4200,457800</td>\n    </tr>\n    <tr>\n      <th>25</th>\n      <td>0,4200,457800</td>\n    </tr>\n    <tr>\n      <th>26</th>\n      <td>0,4200,457800</td>\n    </tr>\n    <tr>\n      <th>27</th>\n      <td>0,4200,457800</td>\n    </tr>\n    <tr>\n      <th>28</th>\n      <td>0,4200,457800</td>\n    </tr>\n    <tr>\n      <th>29</th>\n      <td>0,4200,457800</td>\n    </tr>\n    <tr>\n      <th>...</th>\n      <td>...</td>\n    </tr>\n    <tr>\n      <th>1401</th>\n      <td>0,406400,55600</td>\n    </tr>\n    <tr>\n      <th>1402</th>\n      <td>0,406400,55600</td>\n    </tr>\n    <tr>\n      <th>1403</th>\n      <td>0,406400,55600</td>\n    </tr>\n    <tr>\n      <th>1404</th>\n      <td>0,406400,55600</td>\n    </tr>\n    <tr>\n      <th>1405</th>\n      <td>0,406400,55600</td>\n    </tr>\n    <tr>\n      <th>1406</th>\n      <td>0,406400,55600</td>\n    </tr>\n    <tr>\n      <th>1407</th>\n      <td>0,406400,55600</td>\n    </tr>\n    <tr>\n      <th>1408</th>\n      <td>0,406400,55600</td>\n    </tr>\n    <tr>\n      <th>1409</th>\n      <td>0,406400,55600</td>\n    </tr>\n    <tr>\n      <th>1410</th>\n      <td>0,398400,63600</td>\n    </tr>\n    <tr>\n      <th>1411</th>\n      <td>0,398400,63600</td>\n    </tr>\n    <tr>\n      <th>1412</th>\n      <td>0,398400,63600</td>\n    </tr>\n    <tr>\n      <th>1413</th>\n      <td>0,398400,63600</td>\n    </tr>\n    <tr>\n      <th>1414</th>\n      <td>0,398400,63600</td>\n    </tr>\n    <tr>\n      <th>1415</th>\n      <td>0,398400,63600</td>\n    </tr>\n    <tr>\n      <th>1416</th>\n      <td>0,398400,63600</td>\n    </tr>\n    <tr>\n      <th>1417</th>\n      <td>0,398400,63600</td>\n    </tr>\n    <tr>\n      <th>1418</th>\n      <td>0,398400,63600</td>\n    </tr>\n    <tr>\n      <th>1419</th>\n      <td>0,398400,63600</td>\n    </tr>\n    <tr>\n      <th>1420</th>\n      <td>0,381400,80600</td>\n    </tr>\n    <tr>\n      <th>1421</th>\n      <td>0,381400,80600</td>\n    </tr>\n    <tr>\n      <th>1422</th>\n      <td>0,381400,80600</td>\n    </tr>\n    <tr>\n      <th>1423</th>\n      <td>0,381400,80600</td>\n    </tr>\n    <tr>\n      <th>1424</th>\n      <td>0,381400,80600</td>\n    </tr>\n    <tr>\n      <th>1425</th>\n      <td>0,381400,80600</td>\n    </tr>\n    <tr>\n      <th>1426</th>\n      <td>0,381400,80600</td>\n    </tr>\n    <tr>\n      <th>1427</th>\n      <td>0,381400,80600</td>\n    </tr>\n    <tr>\n      <th>1428</th>\n      <td>0,381400,80600</td>\n    </tr>\n    <tr>\n      <th>1429</th>\n      <td>0,381400,80600</td>\n    </tr>\n    <tr>\n      <th>1430</th>\n      <td>33000,424270.9151,4200</td>\n    </tr>\n  </tbody>\n</table>\n<p>1431 rows × 1 columns</p>\n</div>",
      "text/plain": "     regup_capacity_veh,regdown_capacity_veh, gen_capacity_veh\n0                                         0,1400,460600       \n1                                         0,1400,460600       \n2                                         0,1400,460600       \n3                                         0,1400,460600       \n4                                         0,1400,460600       \n5                                         0,1400,460600       \n6                                         0,1400,460600       \n7                                         0,1400,460600       \n8                                         0,1400,460600       \n9                                         0,1400,460600       \n10                                        0,1400,460600       \n11                                        0,1400,460600       \n12                                        0,1400,460600       \n13                                        0,1400,460600       \n14                                        0,1400,460600       \n15                                        0,1400,460600       \n16                                        0,1400,460600       \n17                                        0,1400,460600       \n18                                        0,1400,460600       \n19                                        0,1400,460600       \n20                                        0,4200,457800       \n21                                        0,4200,457800       \n22                                        0,4200,457800       \n23                                        0,4200,457800       \n24                                        0,4200,457800       \n25                                        0,4200,457800       \n26                                        0,4200,457800       \n27                                        0,4200,457800       \n28                                        0,4200,457800       \n29                                        0,4200,457800       \n...                                                 ...       \n1401                                     0,406400,55600       \n1402                                     0,406400,55600       \n1403                                     0,406400,55600       \n1404                                     0,406400,55600       \n1405                                     0,406400,55600       \n1406                                     0,406400,55600       \n1407                                     0,406400,55600       \n1408                                     0,406400,55600       \n1409                                     0,406400,55600       \n1410                                     0,398400,63600       \n1411                                     0,398400,63600       \n1412                                     0,398400,63600       \n1413                                     0,398400,63600       \n1414                                     0,398400,63600       \n1415                                     0,398400,63600       \n1416                                     0,398400,63600       \n1417                                     0,398400,63600       \n1418                                     0,398400,63600       \n1419                                     0,398400,63600       \n1420                                     0,381400,80600       \n1421                                     0,381400,80600       \n1422                                     0,381400,80600       \n1423                                     0,381400,80600       \n1424                                     0,381400,80600       \n1425                                     0,381400,80600       \n1426                                     0,381400,80600       \n1427                                     0,381400,80600       \n1428                                     0,381400,80600       \n1429                                     0,381400,80600       \n1430                             33000,424270.9151,4200       \n\n[1431 rows x 1 columns]"
     },
     "metadata": {},
     "execution_count": 2
    }
   ],
   "source": [
    "import pandas as pd\n",
    "df_veh_cap=pd.read_csv('../data/vehicle/VehiclesCap.csv',header=0)\n",
    "df_veh_cap"
   ]
  },
  {
   "cell_type": "code",
   "execution_count": 16,
   "metadata": {},
   "outputs": [
    {
     "output_type": "execute_result",
     "data": {
      "text/html": "<div>\n<style scoped>\n    .dataframe tbody tr th:only-of-type {\n        vertical-align: middle;\n    }\n\n    .dataframe tbody tr th {\n        vertical-align: top;\n    }\n\n    .dataframe thead th {\n        text-align: right;\n    }\n</style>\n<table border=\"1\" class=\"dataframe\">\n  <thead>\n    <tr style=\"text-align: right;\">\n      <th></th>\n      <th>maxcap_ws</th>\n    </tr>\n    <tr>\n      <th>name</th>\n      <th></th>\n    </tr>\n  </thead>\n  <tbody>\n    <tr>\n      <th>solar</th>\n      <td>-8.78827</td>\n    </tr>\n    <tr>\n      <th>solar</th>\n      <td>-9.56754</td>\n    </tr>\n    <tr>\n      <th>solar</th>\n      <td>-9.91254</td>\n    </tr>\n    <tr>\n      <th>solar</th>\n      <td>-11.20422</td>\n    </tr>\n    <tr>\n      <th>solar</th>\n      <td>-12.44690</td>\n    </tr>\n    <tr>\n      <th>solar</th>\n      <td>-4.41375</td>\n    </tr>\n    <tr>\n      <th>solar</th>\n      <td>11.06523</td>\n    </tr>\n    <tr>\n      <th>solar</th>\n      <td>1874.37852</td>\n    </tr>\n    <tr>\n      <th>solar</th>\n      <td>7408.84553</td>\n    </tr>\n    <tr>\n      <th>solar</th>\n      <td>10802.54377</td>\n    </tr>\n    <tr>\n      <th>solar</th>\n      <td>11453.97174</td>\n    </tr>\n    <tr>\n      <th>solar</th>\n      <td>11361.78920</td>\n    </tr>\n    <tr>\n      <th>solar</th>\n      <td>11321.33566</td>\n    </tr>\n    <tr>\n      <th>solar</th>\n      <td>11395.51945</td>\n    </tr>\n    <tr>\n      <th>solar</th>\n      <td>10416.26878</td>\n    </tr>\n    <tr>\n      <th>solar</th>\n      <td>6424.38968</td>\n    </tr>\n    <tr>\n      <th>solar</th>\n      <td>1112.12462</td>\n    </tr>\n    <tr>\n      <th>solar</th>\n      <td>-10.04748</td>\n    </tr>\n    <tr>\n      <th>solar</th>\n      <td>-10.16596</td>\n    </tr>\n    <tr>\n      <th>solar</th>\n      <td>-10.16587</td>\n    </tr>\n    <tr>\n      <th>solar</th>\n      <td>-9.91654</td>\n    </tr>\n    <tr>\n      <th>solar</th>\n      <td>-9.88158</td>\n    </tr>\n    <tr>\n      <th>solar</th>\n      <td>-10.83546</td>\n    </tr>\n    <tr>\n      <th>solar</th>\n      <td>-17.04244</td>\n    </tr>\n    <tr>\n      <th>solar</th>\n      <td>-17.88294</td>\n    </tr>\n    <tr>\n      <th>solar</th>\n      <td>-18.01075</td>\n    </tr>\n    <tr>\n      <th>solar</th>\n      <td>-18.22207</td>\n    </tr>\n    <tr>\n      <th>solar</th>\n      <td>-19.28296</td>\n    </tr>\n    <tr>\n      <th>solar</th>\n      <td>-21.43566</td>\n    </tr>\n    <tr>\n      <th>solar</th>\n      <td>-15.43444</td>\n    </tr>\n    <tr>\n      <th>...</th>\n      <td>...</td>\n    </tr>\n    <tr>\n      <th>solar</th>\n      <td>-11.52117</td>\n    </tr>\n    <tr>\n      <th>solar</th>\n      <td>-11.75346</td>\n    </tr>\n    <tr>\n      <th>solar</th>\n      <td>-7.97511</td>\n    </tr>\n    <tr>\n      <th>solar</th>\n      <td>-8.34024</td>\n    </tr>\n    <tr>\n      <th>solar</th>\n      <td>-17.09437</td>\n    </tr>\n    <tr>\n      <th>solar</th>\n      <td>-17.35703</td>\n    </tr>\n    <tr>\n      <th>solar</th>\n      <td>-17.09777</td>\n    </tr>\n    <tr>\n      <th>solar</th>\n      <td>-18.90957</td>\n    </tr>\n    <tr>\n      <th>solar</th>\n      <td>-19.12458</td>\n    </tr>\n    <tr>\n      <th>solar</th>\n      <td>-23.75189</td>\n    </tr>\n    <tr>\n      <th>solar</th>\n      <td>-23.58401</td>\n    </tr>\n    <tr>\n      <th>solar</th>\n      <td>-59.30077</td>\n    </tr>\n    <tr>\n      <th>solar</th>\n      <td>-16.52783</td>\n    </tr>\n    <tr>\n      <th>solar</th>\n      <td>1498.49708</td>\n    </tr>\n    <tr>\n      <th>solar</th>\n      <td>6709.11008</td>\n    </tr>\n    <tr>\n      <th>solar</th>\n      <td>10008.60763</td>\n    </tr>\n    <tr>\n      <th>solar</th>\n      <td>10722.80561</td>\n    </tr>\n    <tr>\n      <th>solar</th>\n      <td>10620.00622</td>\n    </tr>\n    <tr>\n      <th>solar</th>\n      <td>11070.07005</td>\n    </tr>\n    <tr>\n      <th>solar</th>\n      <td>11433.66995</td>\n    </tr>\n    <tr>\n      <th>solar</th>\n      <td>10382.54651</td>\n    </tr>\n    <tr>\n      <th>solar</th>\n      <td>6174.25091</td>\n    </tr>\n    <tr>\n      <th>solar</th>\n      <td>932.65147</td>\n    </tr>\n    <tr>\n      <th>solar</th>\n      <td>-8.62056</td>\n    </tr>\n    <tr>\n      <th>solar</th>\n      <td>-7.18785</td>\n    </tr>\n    <tr>\n      <th>solar</th>\n      <td>-7.30025</td>\n    </tr>\n    <tr>\n      <th>solar</th>\n      <td>-7.11567</td>\n    </tr>\n    <tr>\n      <th>solar</th>\n      <td>-8.80856</td>\n    </tr>\n    <tr>\n      <th>solar</th>\n      <td>-16.59295</td>\n    </tr>\n    <tr>\n      <th>solar</th>\n      <td>-20.73371</td>\n    </tr>\n  </tbody>\n</table>\n<p>8760 rows × 1 columns</p>\n</div>",
      "text/plain": "         maxcap_ws\nname              \nsolar     -8.78827\nsolar     -9.56754\nsolar     -9.91254\nsolar    -11.20422\nsolar    -12.44690\nsolar     -4.41375\nsolar     11.06523\nsolar   1874.37852\nsolar   7408.84553\nsolar  10802.54377\nsolar  11453.97174\nsolar  11361.78920\nsolar  11321.33566\nsolar  11395.51945\nsolar  10416.26878\nsolar   6424.38968\nsolar   1112.12462\nsolar    -10.04748\nsolar    -10.16596\nsolar    -10.16587\nsolar     -9.91654\nsolar     -9.88158\nsolar    -10.83546\nsolar    -17.04244\nsolar    -17.88294\nsolar    -18.01075\nsolar    -18.22207\nsolar    -19.28296\nsolar    -21.43566\nsolar    -15.43444\n...            ...\nsolar    -11.52117\nsolar    -11.75346\nsolar     -7.97511\nsolar     -8.34024\nsolar    -17.09437\nsolar    -17.35703\nsolar    -17.09777\nsolar    -18.90957\nsolar    -19.12458\nsolar    -23.75189\nsolar    -23.58401\nsolar    -59.30077\nsolar    -16.52783\nsolar   1498.49708\nsolar   6709.11008\nsolar  10008.60763\nsolar  10722.80561\nsolar  10620.00622\nsolar  11070.07005\nsolar  11433.66995\nsolar  10382.54651\nsolar   6174.25091\nsolar    932.65147\nsolar     -8.62056\nsolar     -7.18785\nsolar     -7.30025\nsolar     -7.11567\nsolar     -8.80856\nsolar    -16.59295\nsolar    -20.73371\n\n[8760 rows x 1 columns]"
     },
     "metadata": {},
     "execution_count": 16
    }
   ],
   "source": [
    "df_windsolar_cap\n"
   ]
  },
  {
   "cell_type": "code",
   "execution_count": 1,
   "metadata": {},
   "outputs": [],
   "source": [
    "import pandas as pd \n",
    "import csv\n",
    "\n",
    "dict = {'Python' : '.py', 'C++' : '.cpp', 'Java' : '.java'}\n",
    "w = csv.writer(open(\"output.csv\", \"w\"))\n",
    "for key, val in dict.items():\n",
    "    w.writerow([key, val])"
   ]
  },
  {
   "cell_type": "code",
   "execution_count": null,
   "metadata": {},
   "outputs": [],
   "source": []
  },
  {
   "cell_type": "code",
   "execution_count": null,
   "metadata": {},
   "outputs": [],
   "source": []
  },
  {
   "cell_type": "code",
   "execution_count": null,
   "metadata": {},
   "outputs": [],
   "source": []
  },
  {
   "cell_type": "code",
   "execution_count": null,
   "metadata": {},
   "outputs": [],
   "source": []
  },
  {
   "cell_type": "code",
   "execution_count": null,
   "metadata": {},
   "outputs": [],
   "source": []
  },
  {
   "cell_type": "code",
   "execution_count": null,
   "metadata": {},
   "outputs": [],
   "source": []
  },
  {
   "cell_type": "code",
   "execution_count": null,
   "metadata": {},
   "outputs": [],
   "source": []
  },
  {
   "cell_type": "code",
   "execution_count": null,
   "metadata": {},
   "outputs": [],
   "source": []
  }
 ]
}