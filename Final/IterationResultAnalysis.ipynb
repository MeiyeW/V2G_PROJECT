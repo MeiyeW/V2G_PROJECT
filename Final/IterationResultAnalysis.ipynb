{
 "metadata": {
  "language_info": {
   "codemirror_mode": {
    "name": "ipython",
    "version": 3
   },
   "file_extension": ".py",
   "mimetype": "text/x-python",
   "name": "python",
   "nbconvert_exporter": "python",
   "pygments_lexer": "ipython3",
   "version": "2.7.16-final"
  },
  "orig_nbformat": 2,
  "kernelspec": {
   "name": "python_defaultSpec_1605056730572",
   "display_name": "Python 2.7.16 64-bit"
  }
 },
 "nbformat": 4,
 "nbformat_minor": 2,
 "cells": [
  {
   "cell_type": "code",
   "execution_count": 6,
   "metadata": {
    "tags": []
   },
   "outputs": [],
   "source": [
    "import pandas as pd \n",
    "import numpy as np \n",
    "import matplotlib.pyplot as plt\n",
    "import seaborn as sns\n",
    "\n",
    "def getIterationDate(data_name,result_name):\n",
    "    #from V2GSim\n",
    "    # myresult=pd.read_csv('../data/vehicle/VehiclesCap_V2G_'+data_name+'.csv',header=0)\n",
    "    # N = 6# from 10mins to 1 hour\n",
    "    # myresult=myresult.groupby(myresult.index // N).sum()/6# from the unit of W to kW\n",
    "    # myresult=myresult.rename(columns={'EnergyDemand':'netload','EnergyGeneration':'gen_capacity_veh','Regup':'regup_capacity_veh','Regdown':'regdown_capacity_veh'})\n",
    "    #from UCED\n",
    "    if result_name=='netload':\n",
    "        myresult=pd.read_csv('../data/vehicle/VehiclesCap_V2G_'+data_name+'.csv',header=0)\n",
    "        N = 6# from 10mins to 1 hour\n",
    "        myresult=myresult.groupby(myresult.index // N).sum()/6# from the unit of W to kW\n",
    "        myresult=myresult.rename(columns={'EnergyDemand':'netload','EnergyGeneration':'gen_capacity_veh','Regup':'regup_capacity_veh','Regdown':'regdown_capacity_veh'})\n",
    "        return pd.DataFrame(data=myresult[result_name])\n",
    "    else:\n",
    "        VehCap=pd.read_csv('../data/vehicle/VehiclesCap_'+data_name+'.csv',header=0)\n",
    "        return pd.DataFrame(data=VehCap[result_name])\n",
    "\n",
    "def plotResult():\n",
    "    \n",
    "    sns.set()\n",
    "    sns.set_style(\"whitegrid\")\n",
    "    sns.color_palette(\"Set2\")\n",
    "    plt.title('demandCost')\n",
    "    sns.lineplot(data=demandCost,dashes=False).get_figure().savefig(\"Figure/demandCost.png\")\n",
    "    plt.show()\n",
    "    \n",
    "    sns.color_palette(\"Set2\")\n",
    "    plt.title('demand')\n",
    "    sns.lineplot(data=demand,dashes=False).get_figure().savefig(\"Figure/demand.png\")\n",
    "    plt.show()\n",
    "\n",
    "    sns.color_palette(\"Set2\")\n",
    "    plt.title('generationRev')\n",
    "    sns.lineplot(data=generationRev,dashes=False).get_figure().savefig(\"Figure/generationRev.png\")\n",
    "    plt.show()\n",
    "\n",
    "    sns.color_palette(\"Set2\")\n",
    "    plt.title('generation')\n",
    "    sns.lineplot(data=generation,dashes=False).get_figure().savefig(\"Figure/generation.png\")\n",
    "    plt.show()\n",
    "\n",
    "    plt.title('regupRev')\n",
    "    sns.lineplot(data=regupRev[1:],dashes=False).get_figure().savefig(\"Figure/regupRev.png\")\n",
    "    plt.show()\n",
    "\n",
    "    sns.color_palette(\"Set2\")\n",
    "    plt.title('regup')\n",
    "    sns.lineplot(data=regup.drop(columns=['iteration1']),dashes=False).get_figure().savefig(\"Figure/regup.png\")\n",
    "    plt.show()\n",
    "\n",
    "    plt.title('regdownRev')\n",
    "    sns.lineplot(data=regdownRev,dashes=False).get_figure().savefig(\"Figure/regdownRev.png\")\n",
    "    plt.show()\n",
    "\n",
    "    sns.color_palette(\"Set2\")\n",
    "    plt.title('regdown')\n",
    "    sns.lineplot(data=regdown,dashes=False).get_figure().savefig(\"Figure/regdown.png\")\n",
    "    plt.show()\n",
    "\n",
    "    total=generationRev+regupRev+regdownRev-demandCost\n",
    "    plt.title('totalRev')\n",
    "    sns.lineplot(data=total,dashes=False).get_figure().savefig(\"Figure/totalRev.png\")\n",
    "    plt.show()\n",
    "\n",
    "def getResult(iteraNumber):\n",
    "    for i in range(iteraNumber):\n",
    "        if i ==0:\n",
    "            demandCost=[]\n",
    "            generationRev=[]\n",
    "            regupRev=[]\n",
    "            regdownRev=[]\n",
    "        # first iteration\n",
    "            data_name='iteration1_version3_regupregdown20' # from V2GSIM vehicle cap\n",
    "            data_name2='iteration2_version4_regupregdown20'\n",
    "        # from V2GSim\n",
    "            # demand=getIterationDate(data_name,'netload').rename(columns={'netload':'iteration'+str(i+1)})\n",
    "            # generation=getIterationDate(data_name,'gen_capacity_veh').rename(columns={'gen_capacity_veh':'iteration'+str(i+1)})\n",
    "            # regup=getIterationDate(data_name,'regup_capacity_veh').rename(columns={'regup_capacity_veh':'iteration'+str(i+1)})\n",
    "            # regdown=getIterationDate(data_name,'regdown_capacity_veh').rename(columns={'regdown_capacity_veh':'iteration'+str(i+1)})\n",
    "        #from UCED\n",
    "            demand=getIterationDate(data_name,'netload').rename(columns={'netload':'iteration'+str(i+1)})\n",
    "            generation=getIterationDate(data_name2,'gen_capacity_veh').rename(columns={'gen_capacity_veh':'iteration'+str(i+1)})\n",
    "            regup=getIterationDate(data_name2,'regup_capacity_veh').rename(columns={'regup_capacity_veh':'iteration'+str(i+1)})\n",
    "            regdown=getIterationDate(data_name2,'regdown_capacity_veh').rename(columns={'regdown_capacity_veh':'iteration'+str(i+1)})\n",
    "\n",
    "            pr=pd.read_csv('../data/price/price'+data_name2+'.csv',header=0)[:24]\n",
    "            demandCost=np.asarray(demand['iteration1']*pr['pr_e']).sum()\n",
    "            generationRev=np.asarray(generation['iteration1']*pr['pr_e']).sum()\n",
    "            regupRev=np.asarray(regup['iteration1']*pr['pr_fre_u']).sum()\n",
    "            regdownRev=np.asarray(regdown['iteration1']*pr['pr_fre_d']).sum()\n",
    "\n",
    "        else: #start from i=1,iteration 3\n",
    "            data_name='iteration'+str(i*2+1)+'_version4_regupregdown20' # from V2GSIM vehicle cap\n",
    "            data_name2='iteration'+str(i*2+2)+'_version4_regupregdown20'\n",
    "            pr=pd.read_csv('../data/price/price'+data_name2+'.csv',header=0)[:24]\n",
    "            # from V2GSim\n",
    "            # demand2=getIterationDate(data_name,'netload')\n",
    "            # demand['iteration'+str(i+1)]=demand2\n",
    "            # # print(np.asarray(demand['iteration'+str(i+1)]*pr['pr_e']).sum())\n",
    "            # demandCost=np.append(demandCost,np.asarray(demand['iteration'+str(i+1)]*pr['pr_e']).sum())\n",
    "\n",
    "            # generation2=getIterationDate(data_name,'gen_capacity_veh')\n",
    "            # generation['iteration'+str(i+1)]= generation2\n",
    "            # generationRev=np.append(generationRev,np.asarray(generation['iteration'+str(i+1)]*pr['pr_e']).sum())\n",
    "\n",
    "            # regup2=getIterationDate(data_name,'regup_capacity_veh')\n",
    "            # regup['iteration'+str(i+1)]= regup2\n",
    "            # regupRev=np.append(regupRev,np.asarray(regup['iteration'+str(i+1)]*pr['pr_fre_u']).sum())\n",
    "\n",
    "            # regdown2=getIterationDate(data_name,'regdown_capacity_veh')\n",
    "            # regdown['iteration'+str(i+1)]= regdown2\n",
    "            # regdownRev=np.append(regdownRev,np.asarray(regdown['iteration'+str(i+1)]*pr['pr_fre_d']).sum())\n",
    "\n",
    "            # from UCED\n",
    "            demand2=getIterationDate(data_name,'netload')\n",
    "            demand['iteration'+str(i+1)]=demand2\n",
    "            # print(np.asarray(demand['iteration'+str(i+1)]*pr['pr_e']).sum())\n",
    "            demandCost=np.append(demandCost,np.asarray(demand['iteration'+str(i+1)]*pr['pr_e']).sum())\n",
    "\n",
    "            generation2=getIterationDate(data_name2,'gen_capacity_veh')\n",
    "            generation['iteration'+str(i+1)]= generation2       \n",
    "            generationRev=np.append(generationRev,np.asarray(generation['iteration'+str(i+1)]*pr['pr_e']).sum())\n",
    "\n",
    "            regup2=getIterationDate(data_name2,'regup_capacity_veh')\n",
    "            regup['iteration'+str(i+1)]= regup2\n",
    "            regupRev=np.append(regupRev,np.asarray(regup['iteration'+str(i+1)]*pr['pr_fre_u']).sum())\n",
    "\n",
    "            regdown2=getIterationDate(data_name2,'regdown_capacity_veh')\n",
    "            regdown['iteration'+str(i+1)]= regdown2\n",
    "            regdownRev=np.append(regdownRev,np.asarray(regdown['iteration'+str(i+1)]*pr['pr_fre_d']).sum())\n",
    "    return demand,demandCost,generation,generationRev,regup,regupRev,regdown,regdownRev\n",
    "            # netload.insert(i,'day'+str(i),getNetloadDate(data_name),True)\n",
    "\n",
    "\n",
    "    \n",
    "iteraNumber=4\n",
    "demand,demandCost,generation,generationRev,regup,regupRev,regdown,regdownRev=getResult(iteraNumber)\n",
    "# print(getResult(iteraNumber))\n",
    "# plotResult()\n"
   ]
  },
  {
   "cell_type": "code",
   "execution_count": 7,
   "metadata": {},
   "outputs": [
    {
     "output_type": "execute_result",
     "data": {
      "text/plain": "<matplotlib.axes._subplots.AxesSubplot at 0x7ff931079ed0>"
     },
     "metadata": {},
     "execution_count": 7
    },
    {
     "output_type": "display_data",
     "data": {
      "image/png": "[encoded data removed]",
      "text/plain": "<Figure size 432x288 with 1 Axes>",
      "image/svg+xml": "<?xml version=\"1.0\" encoding=\"utf-8\" standalone=\"no\"?>\n<!DOCTYPE svg PUBLIC \"-//W3C//DTD SVG 1.1//EN\"\n  \"http://www.w3.org/Graphics/SVG/1.1/DTD/svg11.dtd\">\n<!-- Created with matplotlib (http://matplotlib.org/) -->\n<svg height=\"252.254844pt\" version=\"1.1\" viewBox=\"0 0 391.5125 252.254844\" width=\"391.5125pt\" xmlns=\"http://www.w3.org/2000/svg\" xmlns:xlink=\"http://www.w3.org/1999/xlink\">\n <defs>\n  <style type=\"text/css\">\n*{stroke-linecap:butt;stroke-linejoin:round;}\n  </style>\n </defs>\n <g id=\"figure_1\">\n  <g id=\"patch_1\">\n   <path d=\"M 0 252.254844 \nL 391.5125 252.254844 \nL 391.5125 0 \nL 0 0 \nz\n\" style=\"fill:none;\"/>\n  </g>\n  <g id=\"axes_1\">\n   <g id=\"patch_2\">\n    <path d=\"M 46.0125 228.376719 \nL 380.8125 228.376719 \nL 380.8125 10.936719 \nL 46.0125 10.936719 \nz\n\" style=\"fill:#ffffff;\"/>\n   </g>\n   <g id=\"matplotlib.axis_1\">\n    <g id=\"xtick_1\">\n     <g id=\"line2d_1\">\n      <defs>\n       <path d=\"M 0 0 \nL 0 3.5 \n\" id=\"mcdb5e40f36\" style=\"stroke:#000000;stroke-width:0.8;\"/>\n      </defs>\n      <g>\n       <use style=\"stroke:#000000;stroke-width:0.8;\" x=\"61.230682\" xlink:href=\"#mcdb5e40f36\" y=\"228.376719\"/>\n      </g>\n     </g>\n     <g id=\"text_1\">\n      <!-- 0 -->\n      <defs>\n       <path d=\"M 31.78125 66.40625 \nQ 24.171875 66.40625 20.328125 58.90625 \nQ 16.5 51.421875 16.5 36.375 \nQ 16.5 21.390625 20.328125 13.890625 \nQ 24.171875 6.390625 31.78125 6.390625 \nQ 39.453125 6.390625 43.28125 13.890625 \nQ 47.125 21.390625 47.125 36.375 \nQ 47.125 51.421875 43.28125 58.90625 \nQ 39.453125 66.40625 31.78125 66.40625 \nz\nM 31.78125 74.21875 \nQ 44.046875 74.21875 50.515625 64.515625 \nQ 56.984375 54.828125 56.984375 36.375 \nQ 56.984375 17.96875 50.515625 8.265625 \nQ 44.046875 -1.421875 31.78125 -1.421875 \nQ 19.53125 -1.421875 13.0625 8.265625 \nQ 6.59375 17.96875 6.59375 36.375 \nQ 6.59375 54.828125 13.0625 64.515625 \nQ 19.53125 74.21875 31.78125 74.21875 \nz\n\" id=\"DejaVuSans-30\"/>\n      </defs>\n      <g transform=\"translate(58.049432 242.975157)scale(0.1 -0.1)\">\n       <use xlink:href=\"#DejaVuSans-30\"/>\n      </g>\n     </g>\n    </g>\n    <g id=\"xtick_2\">\n     <g id=\"line2d_2\">\n      <g>\n       <use style=\"stroke:#000000;stroke-width:0.8;\" x=\"127.39669\" xlink:href=\"#mcdb5e40f36\" y=\"228.376719\"/>\n      </g>\n     </g>\n     <g id=\"text_2\">\n      <!-- 5 -->\n      <defs>\n       <path d=\"M 10.796875 72.90625 \nL 49.515625 72.90625 \nL 49.515625 64.59375 \nL 19.828125 64.59375 \nL 19.828125 46.734375 \nQ 21.96875 47.46875 24.109375 47.828125 \nQ 26.265625 48.1875 28.421875 48.1875 \nQ 40.625 48.1875 47.75 41.5 \nQ 54.890625 34.8125 54.890625 23.390625 \nQ 54.890625 11.625 47.5625 5.09375 \nQ 40.234375 -1.421875 26.90625 -1.421875 \nQ 22.3125 -1.421875 17.546875 -0.640625 \nQ 12.796875 0.140625 7.71875 1.703125 \nL 7.71875 11.625 \nQ 12.109375 9.234375 16.796875 8.0625 \nQ 21.484375 6.890625 26.703125 6.890625 \nQ 35.15625 6.890625 40.078125 11.328125 \nQ 45.015625 15.765625 45.015625 23.390625 \nQ 45.015625 31 40.078125 35.4375 \nQ 35.15625 39.890625 26.703125 39.890625 \nQ 22.75 39.890625 18.8125 39.015625 \nQ 14.890625 38.140625 10.796875 36.28125 \nz\n\" id=\"DejaVuSans-35\"/>\n      </defs>\n      <g transform=\"translate(124.21544 242.975157)scale(0.1 -0.1)\">\n       <use xlink:href=\"#DejaVuSans-35\"/>\n      </g>\n     </g>\n    </g>\n    <g id=\"xtick_3\">\n     <g id=\"line2d_3\">\n      <g>\n       <use style=\"stroke:#000000;stroke-width:0.8;\" x=\"193.562698\" xlink:href=\"#mcdb5e40f36\" y=\"228.376719\"/>\n      </g>\n     </g>\n     <g id=\"text_3\">\n      <!-- 10 -->\n      <defs>\n       <path d=\"M 12.40625 8.296875 \nL 28.515625 8.296875 \nL 28.515625 63.921875 \nL 10.984375 60.40625 \nL 10.984375 69.390625 \nL 28.421875 72.90625 \nL 38.28125 72.90625 \nL 38.28125 8.296875 \nL 54.390625 8.296875 \nL 54.390625 0 \nL 12.40625 0 \nz\n\" id=\"DejaVuSans-31\"/>\n      </defs>\n      <g transform=\"translate(187.200198 242.975157)scale(0.1 -0.1)\">\n       <use xlink:href=\"#DejaVuSans-31\"/>\n       <use x=\"63.623047\" xlink:href=\"#DejaVuSans-30\"/>\n      </g>\n     </g>\n    </g>\n    <g id=\"xtick_4\">\n     <g id=\"line2d_4\">\n      <g>\n       <use style=\"stroke:#000000;stroke-width:0.8;\" x=\"259.728706\" xlink:href=\"#mcdb5e40f36\" y=\"228.376719\"/>\n      </g>\n     </g>\n     <g id=\"text_4\">\n      <!-- 15 -->\n      <g transform=\"translate(253.366206 242.975157)scale(0.1 -0.1)\">\n       <use xlink:href=\"#DejaVuSans-31\"/>\n       <use x=\"63.623047\" xlink:href=\"#DejaVuSans-35\"/>\n      </g>\n     </g>\n    </g>\n    <g id=\"xtick_5\">\n     <g id=\"line2d_5\">\n      <g>\n       <use style=\"stroke:#000000;stroke-width:0.8;\" x=\"325.894713\" xlink:href=\"#mcdb5e40f36\" y=\"228.376719\"/>\n      </g>\n     </g>\n     <g id=\"text_5\">\n      <!-- 20 -->\n      <defs>\n       <path d=\"M 19.1875 8.296875 \nL 53.609375 8.296875 \nL 53.609375 0 \nL 7.328125 0 \nL 7.328125 8.296875 \nQ 12.9375 14.109375 22.625 23.890625 \nQ 32.328125 33.6875 34.8125 36.53125 \nQ 39.546875 41.84375 41.421875 45.53125 \nQ 43.3125 49.21875 43.3125 52.78125 \nQ 43.3125 58.59375 39.234375 62.25 \nQ 35.15625 65.921875 28.609375 65.921875 \nQ 23.96875 65.921875 18.8125 64.3125 \nQ 13.671875 62.703125 7.8125 59.421875 \nL 7.8125 69.390625 \nQ 13.765625 71.78125 18.9375 73 \nQ 24.125 74.21875 28.421875 74.21875 \nQ 39.75 74.21875 46.484375 68.546875 \nQ 53.21875 62.890625 53.21875 53.421875 \nQ 53.21875 48.921875 51.53125 44.890625 \nQ 49.859375 40.875 45.40625 35.40625 \nQ 44.1875 33.984375 37.640625 27.21875 \nQ 31.109375 20.453125 19.1875 8.296875 \nz\n\" id=\"DejaVuSans-32\"/>\n      </defs>\n      <g transform=\"translate(319.532213 242.975157)scale(0.1 -0.1)\">\n       <use xlink:href=\"#DejaVuSans-32\"/>\n       <use x=\"63.623047\" xlink:href=\"#DejaVuSans-30\"/>\n      </g>\n     </g>\n    </g>\n   </g>\n   <g id=\"matplotlib.axis_2\">\n    <g id=\"ytick_1\">\n     <g id=\"line2d_6\">\n      <defs>\n       <path d=\"M 0 0 \nL -3.5 0 \n\" id=\"mabdcb23101\" style=\"stroke:#000000;stroke-width:0.8;\"/>\n      </defs>\n      <g>\n       <use style=\"stroke:#000000;stroke-width:0.8;\" x=\"46.0125\" xlink:href=\"#mabdcb23101\" y=\"218.492774\"/>\n      </g>\n     </g>\n     <g id=\"text_6\">\n      <!-- 0 -->\n      <g transform=\"translate(32.65 222.291993)scale(0.1 -0.1)\">\n       <use xlink:href=\"#DejaVuSans-30\"/>\n      </g>\n     </g>\n    </g>\n    <g id=\"ytick_2\">\n     <g id=\"line2d_7\">\n      <g>\n       <use style=\"stroke:#000000;stroke-width:0.8;\" x=\"46.0125\" xlink:href=\"#mabdcb23101\" y=\"183.910515\"/>\n      </g>\n     </g>\n     <g id=\"text_7\">\n      <!-- 5000 -->\n      <g transform=\"translate(13.5625 187.709733)scale(0.1 -0.1)\">\n       <use xlink:href=\"#DejaVuSans-35\"/>\n       <use x=\"63.623047\" xlink:href=\"#DejaVuSans-30\"/>\n       <use x=\"127.246094\" xlink:href=\"#DejaVuSans-30\"/>\n       <use x=\"190.869141\" xlink:href=\"#DejaVuSans-30\"/>\n      </g>\n     </g>\n    </g>\n    <g id=\"ytick_3\">\n     <g id=\"line2d_8\">\n      <g>\n       <use style=\"stroke:#000000;stroke-width:0.8;\" x=\"46.0125\" xlink:href=\"#mabdcb23101\" y=\"149.328255\"/>\n      </g>\n     </g>\n     <g id=\"text_8\">\n      <!-- 10000 -->\n      <g transform=\"translate(7.2 153.127474)scale(0.1 -0.1)\">\n       <use xlink:href=\"#DejaVuSans-31\"/>\n       <use x=\"63.623047\" xlink:href=\"#DejaVuSans-30\"/>\n       <use x=\"127.246094\" xlink:href=\"#DejaVuSans-30\"/>\n       <use x=\"190.869141\" xlink:href=\"#DejaVuSans-30\"/>\n       <use x=\"254.492188\" xlink:href=\"#DejaVuSans-30\"/>\n      </g>\n     </g>\n    </g>\n    <g id=\"ytick_4\">\n     <g id=\"line2d_9\">\n      <g>\n       <use style=\"stroke:#000000;stroke-width:0.8;\" x=\"46.0125\" xlink:href=\"#mabdcb23101\" y=\"114.745996\"/>\n      </g>\n     </g>\n     <g id=\"text_9\">\n      <!-- 15000 -->\n      <g transform=\"translate(7.2 118.545215)scale(0.1 -0.1)\">\n       <use xlink:href=\"#DejaVuSans-31\"/>\n       <use x=\"63.623047\" xlink:href=\"#DejaVuSans-35\"/>\n       <use x=\"127.246094\" xlink:href=\"#DejaVuSans-30\"/>\n       <use x=\"190.869141\" xlink:href=\"#DejaVuSans-30\"/>\n       <use x=\"254.492188\" xlink:href=\"#DejaVuSans-30\"/>\n      </g>\n     </g>\n    </g>\n    <g id=\"ytick_5\">\n     <g id=\"line2d_10\">\n      <g>\n       <use style=\"stroke:#000000;stroke-width:0.8;\" x=\"46.0125\" xlink:href=\"#mabdcb23101\" y=\"80.163737\"/>\n      </g>\n     </g>\n     <g id=\"text_10\">\n      <!-- 20000 -->\n      <g transform=\"translate(7.2 83.962956)scale(0.1 -0.1)\">\n       <use xlink:href=\"#DejaVuSans-32\"/>\n       <use x=\"63.623047\" xlink:href=\"#DejaVuSans-30\"/>\n       <use x=\"127.246094\" xlink:href=\"#DejaVuSans-30\"/>\n       <use x=\"190.869141\" xlink:href=\"#DejaVuSans-30\"/>\n       <use x=\"254.492188\" xlink:href=\"#DejaVuSans-30\"/>\n      </g>\n     </g>\n    </g>\n    <g id=\"ytick_6\">\n     <g id=\"line2d_11\">\n      <g>\n       <use style=\"stroke:#000000;stroke-width:0.8;\" x=\"46.0125\" xlink:href=\"#mabdcb23101\" y=\"45.581478\"/>\n      </g>\n     </g>\n     <g id=\"text_11\">\n      <!-- 25000 -->\n      <g transform=\"translate(7.2 49.380697)scale(0.1 -0.1)\">\n       <use xlink:href=\"#DejaVuSans-32\"/>\n       <use x=\"63.623047\" xlink:href=\"#DejaVuSans-35\"/>\n       <use x=\"127.246094\" xlink:href=\"#DejaVuSans-30\"/>\n       <use x=\"190.869141\" xlink:href=\"#DejaVuSans-30\"/>\n       <use x=\"254.492188\" xlink:href=\"#DejaVuSans-30\"/>\n      </g>\n     </g>\n    </g>\n    <g id=\"ytick_7\">\n     <g id=\"line2d_12\">\n      <g>\n       <use style=\"stroke:#000000;stroke-width:0.8;\" x=\"46.0125\" xlink:href=\"#mabdcb23101\" y=\"10.999219\"/>\n      </g>\n     </g>\n     <g id=\"text_12\">\n      <!-- 30000 -->\n      <defs>\n       <path d=\"M 40.578125 39.3125 \nQ 47.65625 37.796875 51.625 33 \nQ 55.609375 28.21875 55.609375 21.1875 \nQ 55.609375 10.40625 48.1875 4.484375 \nQ 40.765625 -1.421875 27.09375 -1.421875 \nQ 22.515625 -1.421875 17.65625 -0.515625 \nQ 12.796875 0.390625 7.625 2.203125 \nL 7.625 11.71875 \nQ 11.71875 9.328125 16.59375 8.109375 \nQ 21.484375 6.890625 26.8125 6.890625 \nQ 36.078125 6.890625 40.9375 10.546875 \nQ 45.796875 14.203125 45.796875 21.1875 \nQ 45.796875 27.640625 41.28125 31.265625 \nQ 36.765625 34.90625 28.71875 34.90625 \nL 20.21875 34.90625 \nL 20.21875 43.015625 \nL 29.109375 43.015625 \nQ 36.375 43.015625 40.234375 45.921875 \nQ 44.09375 48.828125 44.09375 54.296875 \nQ 44.09375 59.90625 40.109375 62.90625 \nQ 36.140625 65.921875 28.71875 65.921875 \nQ 24.65625 65.921875 20.015625 65.03125 \nQ 15.375 64.15625 9.8125 62.3125 \nL 9.8125 71.09375 \nQ 15.4375 72.65625 20.34375 73.4375 \nQ 25.25 74.21875 29.59375 74.21875 \nQ 40.828125 74.21875 47.359375 69.109375 \nQ 53.90625 64.015625 53.90625 55.328125 \nQ 53.90625 49.265625 50.4375 45.09375 \nQ 46.96875 40.921875 40.578125 39.3125 \nz\n\" id=\"DejaVuSans-33\"/>\n      </defs>\n      <g transform=\"translate(7.2 14.798438)scale(0.1 -0.1)\">\n       <use xlink:href=\"#DejaVuSans-33\"/>\n       <use x=\"63.623047\" xlink:href=\"#DejaVuSans-30\"/>\n       <use x=\"127.246094\" xlink:href=\"#DejaVuSans-30\"/>\n       <use x=\"190.869141\" xlink:href=\"#DejaVuSans-30\"/>\n       <use x=\"254.492188\" xlink:href=\"#DejaVuSans-30\"/>\n      </g>\n     </g>\n    </g>\n   </g>\n   <g id=\"line2d_13\">\n    <path clip-path=\"url(#pe77dff912a)\" d=\"M 61.230682 218.492806 \nL 74.463883 218.492831 \nL 87.697085 218.492803 \nL 100.930287 207.902237 \nL 114.163488 218.492856 \nL 127.39669 216.832827 \nL 140.629891 215.172802 \nL 153.863093 200.233372 \nL 167.096294 168.417701 \nL 180.329496 162.054501 \nL 193.562698 142.135031 \nL 206.795899 127.19548 \nL 220.029101 140.416742 \nL 233.262302 105.477829 \nL 246.495504 82.653449 \nL 259.728706 138.261802 \nL 272.961907 89.569951 \nL 286.195109 129.270453 \nL 299.42831 133.558587 \nL 312.661512 151.817985 \nL 325.894713 185.293636 \nL 339.127915 204.244691 \nL 352.361117 180.452119 \nL 365.594318 172.535196 \n\" style=\"fill:none;stroke:#1f77b4;stroke-linecap:square;stroke-width:1.5;\"/>\n   </g>\n   <g id=\"line2d_14\">\n    <path clip-path=\"url(#pe77dff912a)\" d=\"M 61.230682 218.493083 \nL 74.463883 218.493004 \nL 87.697085 218.493011 \nL 100.930287 218.492758 \nL 114.163488 218.492755 \nL 127.39669 216.832815 \nL 140.629891 215.172856 \nL 153.863093 194.285182 \nL 167.096294 161.77784 \nL 180.329496 162.746108 \nL 193.562698 82.653471 \nL 206.795899 110.457662 \nL 220.029101 156.52124 \nL 233.262302 119.310624 \nL 246.495504 113.085834 \nL 259.728706 144.209919 \nL 272.961907 131.898627 \nL 286.195109 128.578741 \nL 299.42831 135.495165 \nL 312.661512 147.806448 \nL 325.894713 167.034203 \nL 339.127915 194.284915 \nL 352.361117 206.872689 \nL 365.594318 218.491808 \n\" style=\"fill:none;stroke:#ff7f0e;stroke-linecap:square;stroke-width:1.5;\"/>\n   </g>\n   <g id=\"line2d_15\">\n    <path clip-path=\"url(#pe77dff912a)\" d=\"M 61.230682 218.493025 \nL 74.463883 218.493068 \nL 87.697085 218.493013 \nL 100.930287 218.492746 \nL 114.163488 218.492749 \nL 127.39669 210.88466 \nL 140.629891 218.492759 \nL 153.863093 200.233328 \nL 167.096294 151.541529 \nL 180.329496 153.478063 \nL 193.562698 116.405839 \nL 206.795899 125.258861 \nL 220.029101 145.869892 \nL 233.262302 137.155147 \nL 246.495504 136.186791 \nL 259.728706 126.365471 \nL 272.961907 77.67358 \nL 286.195109 125.950486 \nL 299.42831 144.486566 \nL 312.661512 157.074483 \nL 325.894713 175.333931 \nL 339.127915 208.532893 \nL 352.361117 210.192592 \nL 365.594318 218.491812 \n\" style=\"fill:none;stroke:#2ca02c;stroke-linecap:square;stroke-width:1.5;\"/>\n   </g>\n   <g id=\"line2d_16\">\n    <path clip-path=\"url(#pe77dff912a)\" d=\"M 61.230682 218.492981 \nL 74.463883 218.49297 \nL 87.697085 218.492975 \nL 100.930287 218.492759 \nL 114.163488 218.492758 \nL 127.39669 216.832814 \nL 140.629891 215.172889 \nL 153.863093 200.23331 \nL 167.096294 175.334075 \nL 180.329496 160.394514 \nL 193.562698 88.601675 \nL 206.795899 133.558682 \nL 220.029101 145.86994 \nL 233.262302 123.598908 \nL 246.495504 65.777345 \nL 259.728706 116.129185 \nL 272.961907 20.820355 \nL 286.195109 68.128961 \nL 299.42831 138.538444 \nL 312.661512 135.633514 \nL 325.894713 188.613529 \nL 339.127915 210.192735 \nL 352.361117 210.192481 \nL 365.594318 218.491734 \n\" style=\"fill:none;stroke:#d62728;stroke-linecap:square;stroke-width:1.5;\"/>\n   </g>\n   <g id=\"line2d_17\"/>\n   <g id=\"line2d_18\"/>\n   <g id=\"line2d_19\"/>\n   <g id=\"line2d_20\"/>\n   <g id=\"patch_3\">\n    <path d=\"M 46.0125 228.376719 \nL 46.0125 10.936719 \n\" style=\"fill:none;stroke:#000000;stroke-linecap:square;stroke-linejoin:miter;stroke-width:0.8;\"/>\n   </g>\n   <g id=\"patch_4\">\n    <path d=\"M 380.8125 228.376719 \nL 380.8125 10.936719 \n\" style=\"fill:none;stroke:#000000;stroke-linecap:square;stroke-linejoin:miter;stroke-width:0.8;\"/>\n   </g>\n   <g id=\"patch_5\">\n    <path d=\"M 46.0125 228.376719 \nL 380.8125 228.376719 \n\" style=\"fill:none;stroke:#000000;stroke-linecap:square;stroke-linejoin:miter;stroke-width:0.8;\"/>\n   </g>\n   <g id=\"patch_6\">\n    <path d=\"M 46.0125 10.936719 \nL 380.8125 10.936719 \n\" style=\"fill:none;stroke:#000000;stroke-linecap:square;stroke-linejoin:miter;stroke-width:0.8;\"/>\n   </g>\n   <g id=\"legend_1\">\n    <g id=\"patch_7\">\n     <path d=\"M 293.204688 77.649219 \nL 373.8125 77.649219 \nQ 375.8125 77.649219 375.8125 75.649219 \nL 375.8125 17.936719 \nQ 375.8125 15.936719 373.8125 15.936719 \nL 293.204688 15.936719 \nQ 291.204688 15.936719 291.204688 17.936719 \nL 291.204688 75.649219 \nQ 291.204688 77.649219 293.204688 77.649219 \nz\n\" style=\"fill:#ffffff;opacity:0.8;stroke:#cccccc;stroke-linejoin:miter;\"/>\n    </g>\n    <g id=\"line2d_21\">\n     <path d=\"M 295.204688 24.035157 \nL 315.204688 24.035157 \n\" style=\"fill:none;stroke:#1f77b4;stroke-linecap:square;stroke-width:1.5;\"/>\n    </g>\n    <g id=\"line2d_22\"/>\n    <g id=\"text_13\">\n     <!-- iteration1 -->\n     <defs>\n      <path d=\"M 9.421875 54.6875 \nL 18.40625 54.6875 \nL 18.40625 0 \nL 9.421875 0 \nz\nM 9.421875 75.984375 \nL 18.40625 75.984375 \nL 18.40625 64.59375 \nL 9.421875 64.59375 \nz\n\" id=\"DejaVuSans-69\"/>\n      <path d=\"M 18.3125 70.21875 \nL 18.3125 54.6875 \nL 36.8125 54.6875 \nL 36.8125 47.703125 \nL 18.3125 47.703125 \nL 18.3125 18.015625 \nQ 18.3125 11.328125 20.140625 9.421875 \nQ 21.96875 7.515625 27.59375 7.515625 \nL 36.8125 7.515625 \nL 36.8125 0 \nL 27.59375 0 \nQ 17.1875 0 13.234375 3.875 \nQ 9.28125 7.765625 9.28125 18.015625 \nL 9.28125 47.703125 \nL 2.6875 47.703125 \nL 2.6875 54.6875 \nL 9.28125 54.6875 \nL 9.28125 70.21875 \nz\n\" id=\"DejaVuSans-74\"/>\n      <path d=\"M 56.203125 29.59375 \nL 56.203125 25.203125 \nL 14.890625 25.203125 \nQ 15.484375 15.921875 20.484375 11.0625 \nQ 25.484375 6.203125 34.421875 6.203125 \nQ 39.59375 6.203125 44.453125 7.46875 \nQ 49.3125 8.734375 54.109375 11.28125 \nL 54.109375 2.78125 \nQ 49.265625 0.734375 44.1875 -0.34375 \nQ 39.109375 -1.421875 33.890625 -1.421875 \nQ 20.796875 -1.421875 13.15625 6.1875 \nQ 5.515625 13.8125 5.515625 26.8125 \nQ 5.515625 40.234375 12.765625 48.109375 \nQ 20.015625 56 32.328125 56 \nQ 43.359375 56 49.78125 48.890625 \nQ 56.203125 41.796875 56.203125 29.59375 \nz\nM 47.21875 32.234375 \nQ 47.125 39.59375 43.09375 43.984375 \nQ 39.0625 48.390625 32.421875 48.390625 \nQ 24.90625 48.390625 20.390625 44.140625 \nQ 15.875 39.890625 15.1875 32.171875 \nz\n\" id=\"DejaVuSans-65\"/>\n      <path d=\"M 41.109375 46.296875 \nQ 39.59375 47.171875 37.8125 47.578125 \nQ 36.03125 48 33.890625 48 \nQ 26.265625 48 22.1875 43.046875 \nQ 18.109375 38.09375 18.109375 28.8125 \nL 18.109375 0 \nL 9.078125 0 \nL 9.078125 54.6875 \nL 18.109375 54.6875 \nL 18.109375 46.1875 \nQ 20.953125 51.171875 25.484375 53.578125 \nQ 30.03125 56 36.53125 56 \nQ 37.453125 56 38.578125 55.875 \nQ 39.703125 55.765625 41.0625 55.515625 \nz\n\" id=\"DejaVuSans-72\"/>\n      <path d=\"M 34.28125 27.484375 \nQ 23.390625 27.484375 19.1875 25 \nQ 14.984375 22.515625 14.984375 16.5 \nQ 14.984375 11.71875 18.140625 8.90625 \nQ 21.296875 6.109375 26.703125 6.109375 \nQ 34.1875 6.109375 38.703125 11.40625 \nQ 43.21875 16.703125 43.21875 25.484375 \nL 43.21875 27.484375 \nz\nM 52.203125 31.203125 \nL 52.203125 0 \nL 43.21875 0 \nL 43.21875 8.296875 \nQ 40.140625 3.328125 35.546875 0.953125 \nQ 30.953125 -1.421875 24.3125 -1.421875 \nQ 15.921875 -1.421875 10.953125 3.296875 \nQ 6 8.015625 6 15.921875 \nQ 6 25.140625 12.171875 29.828125 \nQ 18.359375 34.515625 30.609375 34.515625 \nL 43.21875 34.515625 \nL 43.21875 35.40625 \nQ 43.21875 41.609375 39.140625 45 \nQ 35.0625 48.390625 27.6875 48.390625 \nQ 23 48.390625 18.546875 47.265625 \nQ 14.109375 46.140625 10.015625 43.890625 \nL 10.015625 52.203125 \nQ 14.9375 54.109375 19.578125 55.046875 \nQ 24.21875 56 28.609375 56 \nQ 40.484375 56 46.34375 49.84375 \nQ 52.203125 43.703125 52.203125 31.203125 \nz\n\" id=\"DejaVuSans-61\"/>\n      <path d=\"M 30.609375 48.390625 \nQ 23.390625 48.390625 19.1875 42.75 \nQ 14.984375 37.109375 14.984375 27.296875 \nQ 14.984375 17.484375 19.15625 11.84375 \nQ 23.34375 6.203125 30.609375 6.203125 \nQ 37.796875 6.203125 41.984375 11.859375 \nQ 46.1875 17.53125 46.1875 27.296875 \nQ 46.1875 37.015625 41.984375 42.703125 \nQ 37.796875 48.390625 30.609375 48.390625 \nz\nM 30.609375 56 \nQ 42.328125 56 49.015625 48.375 \nQ 55.71875 40.765625 55.71875 27.296875 \nQ 55.71875 13.875 49.015625 6.21875 \nQ 42.328125 -1.421875 30.609375 -1.421875 \nQ 18.84375 -1.421875 12.171875 6.21875 \nQ 5.515625 13.875 5.515625 27.296875 \nQ 5.515625 40.765625 12.171875 48.375 \nQ 18.84375 56 30.609375 56 \nz\n\" id=\"DejaVuSans-6f\"/>\n      <path d=\"M 54.890625 33.015625 \nL 54.890625 0 \nL 45.90625 0 \nL 45.90625 32.71875 \nQ 45.90625 40.484375 42.875 44.328125 \nQ 39.84375 48.1875 33.796875 48.1875 \nQ 26.515625 48.1875 22.3125 43.546875 \nQ 18.109375 38.921875 18.109375 30.90625 \nL 18.109375 0 \nL 9.078125 0 \nL 9.078125 54.6875 \nL 18.109375 54.6875 \nL 18.109375 46.1875 \nQ 21.34375 51.125 25.703125 53.5625 \nQ 30.078125 56 35.796875 56 \nQ 45.21875 56 50.046875 50.171875 \nQ 54.890625 44.34375 54.890625 33.015625 \nz\n\" id=\"DejaVuSans-6e\"/>\n     </defs>\n     <g transform=\"translate(323.204688 27.535157)scale(0.1 -0.1)\">\n      <use xlink:href=\"#DejaVuSans-69\"/>\n      <use x=\"27.783203\" xlink:href=\"#DejaVuSans-74\"/>\n      <use x=\"66.992188\" xlink:href=\"#DejaVuSans-65\"/>\n      <use x=\"128.515625\" xlink:href=\"#DejaVuSans-72\"/>\n      <use x=\"169.628906\" xlink:href=\"#DejaVuSans-61\"/>\n      <use x=\"230.908203\" xlink:href=\"#DejaVuSans-74\"/>\n      <use x=\"270.117188\" xlink:href=\"#DejaVuSans-69\"/>\n      <use x=\"297.900391\" xlink:href=\"#DejaVuSans-6f\"/>\n      <use x=\"359.082031\" xlink:href=\"#DejaVuSans-6e\"/>\n      <use x=\"422.460938\" xlink:href=\"#DejaVuSans-31\"/>\n     </g>\n    </g>\n    <g id=\"line2d_23\">\n     <path d=\"M 295.204688 38.713282 \nL 315.204688 38.713282 \n\" style=\"fill:none;stroke:#ff7f0e;stroke-linecap:square;stroke-width:1.5;\"/>\n    </g>\n    <g id=\"line2d_24\"/>\n    <g id=\"text_14\">\n     <!-- iteration2 -->\n     <g transform=\"translate(323.204688 42.213282)scale(0.1 -0.1)\">\n      <use xlink:href=\"#DejaVuSans-69\"/>\n      <use x=\"27.783203\" xlink:href=\"#DejaVuSans-74\"/>\n      <use x=\"66.992188\" xlink:href=\"#DejaVuSans-65\"/>\n      <use x=\"128.515625\" xlink:href=\"#DejaVuSans-72\"/>\n      <use x=\"169.628906\" xlink:href=\"#DejaVuSans-61\"/>\n      <use x=\"230.908203\" xlink:href=\"#DejaVuSans-74\"/>\n      <use x=\"270.117188\" xlink:href=\"#DejaVuSans-69\"/>\n      <use x=\"297.900391\" xlink:href=\"#DejaVuSans-6f\"/>\n      <use x=\"359.082031\" xlink:href=\"#DejaVuSans-6e\"/>\n      <use x=\"422.460938\" xlink:href=\"#DejaVuSans-32\"/>\n     </g>\n    </g>\n    <g id=\"line2d_25\">\n     <path d=\"M 295.204688 53.391407 \nL 315.204688 53.391407 \n\" style=\"fill:none;stroke:#2ca02c;stroke-linecap:square;stroke-width:1.5;\"/>\n    </g>\n    <g id=\"line2d_26\"/>\n    <g id=\"text_15\">\n     <!-- iteration3 -->\n     <g transform=\"translate(323.204688 56.891407)scale(0.1 -0.1)\">\n      <use xlink:href=\"#DejaVuSans-69\"/>\n      <use x=\"27.783203\" xlink:href=\"#DejaVuSans-74\"/>\n      <use x=\"66.992188\" xlink:href=\"#DejaVuSans-65\"/>\n      <use x=\"128.515625\" xlink:href=\"#DejaVuSans-72\"/>\n      <use x=\"169.628906\" xlink:href=\"#DejaVuSans-61\"/>\n      <use x=\"230.908203\" xlink:href=\"#DejaVuSans-74\"/>\n      <use x=\"270.117188\" xlink:href=\"#DejaVuSans-69\"/>\n      <use x=\"297.900391\" xlink:href=\"#DejaVuSans-6f\"/>\n      <use x=\"359.082031\" xlink:href=\"#DejaVuSans-6e\"/>\n      <use x=\"422.460938\" xlink:href=\"#DejaVuSans-33\"/>\n     </g>\n    </g>\n    <g id=\"line2d_27\">\n     <path d=\"M 295.204688 68.069532 \nL 315.204688 68.069532 \n\" style=\"fill:none;stroke:#d62728;stroke-linecap:square;stroke-width:1.5;\"/>\n    </g>\n    <g id=\"line2d_28\"/>\n    <g id=\"text_16\">\n     <!-- iteration4 -->\n     <defs>\n      <path d=\"M 37.796875 64.3125 \nL 12.890625 25.390625 \nL 37.796875 25.390625 \nz\nM 35.203125 72.90625 \nL 47.609375 72.90625 \nL 47.609375 25.390625 \nL 58.015625 25.390625 \nL 58.015625 17.1875 \nL 47.609375 17.1875 \nL 47.609375 0 \nL 37.796875 0 \nL 37.796875 17.1875 \nL 4.890625 17.1875 \nL 4.890625 26.703125 \nz\n\" id=\"DejaVuSans-34\"/>\n     </defs>\n     <g transform=\"translate(323.204688 71.569532)scale(0.1 -0.1)\">\n      <use xlink:href=\"#DejaVuSans-69\"/>\n      <use x=\"27.783203\" xlink:href=\"#DejaVuSans-74\"/>\n      <use x=\"66.992188\" xlink:href=\"#DejaVuSans-65\"/>\n      <use x=\"128.515625\" xlink:href=\"#DejaVuSans-72\"/>\n      <use x=\"169.628906\" xlink:href=\"#DejaVuSans-61\"/>\n      <use x=\"230.908203\" xlink:href=\"#DejaVuSans-74\"/>\n      <use x=\"270.117188\" xlink:href=\"#DejaVuSans-69\"/>\n      <use x=\"297.900391\" xlink:href=\"#DejaVuSans-6f\"/>\n      <use x=\"359.082031\" xlink:href=\"#DejaVuSans-6e\"/>\n      <use x=\"422.460938\" xlink:href=\"#DejaVuSans-34\"/>\n     </g>\n    </g>\n   </g>\n  </g>\n </g>\n <defs>\n  <clipPath id=\"pe77dff912a\">\n   <rect height=\"217.44\" width=\"334.8\" x=\"46.0125\" y=\"10.936719\"/>\n  </clipPath>\n </defs>\n</svg>\n"
     },
     "metadata": {
      "needs_background": "light"
     }
    }
   ],
   "source": [
    "sns.lineplot(data=-generation-regup+regdown+demand,dashes=False)\n"
   ]
  },
  {
   "cell_type": "code",
   "execution_count": null,
   "metadata": {},
   "outputs": [],
   "source": [
    "import pandas as pd \n",
    "import numpy as np \n",
    "import matplotlib.pyplot as plt\n",
    "import seaborn as sns\n",
    "data_name2='iteration52_version4_regupregdown20'\n",
    "vehCap=pd.read_csv('../data/vehicle/VehiclesCap_'+data_name2+'.csv',header=0)\n",
    "vehCap"
   ]
  },
  {
   "cell_type": "code",
   "execution_count": null,
   "metadata": {},
   "outputs": [],
   "source": [
    "import matplotlib.pyplot as plt\n",
    "sns.color_palette(\"Set2\")\n",
    "sns.set()\n",
    "sns.set_style(\"whitegrid\")\n",
    "sns.lineplot(data=regdownRev,dashes=False)\n",
    "plt.title('regdownRev')"
   ]
  },
  {
   "cell_type": "code",
   "execution_count": null,
   "metadata": {},
   "outputs": [],
   "source": [
    "import matplotlib.pyplot as plt\n",
    "sns.set()\n",
    "sns.set_style(\"whitegrid\")\n",
    "sns.lineplot(data=demandCost,dashes=False)\n",
    "plt.title('demandCost')"
   ]
  },
  {
   "cell_type": "code",
   "execution_count": null,
   "metadata": {},
   "outputs": [],
   "source": [
    "import matplotlib.pyplot as plt\n",
    "sns.set()\n",
    "sns.set_style(\"whitegrid\")\n",
    "sns.lineplot(data=regupRev,dashes=False)\n",
    "plt.title('regupRev')"
   ]
  },
  {
   "cell_type": "code",
   "execution_count": null,
   "metadata": {},
   "outputs": [],
   "source": [
    "import matplotlib.pyplot as plt\n",
    "sns.set()\n",
    "sns.set_style(\"whitegrid\")\n",
    "sns.lineplot(data=generationRev,dashes=False)\n",
    "plt.title('generationReb')"
   ]
  },
  {
   "cell_type": "code",
   "execution_count": null,
   "metadata": {},
   "outputs": [],
   "source": [
    "generationRev"
   ]
  },
  {
   "cell_type": "code",
   "execution_count": null,
   "metadata": {},
   "outputs": [],
   "source": [
    "regupRev"
   ]
  },
  {
   "cell_type": "code",
   "execution_count": null,
   "metadata": {},
   "outputs": [],
   "source": [
    "sns.set()\n",
    "sns.set_style(\"whitegrid\")\n",
    "sns.lineplot(data=regdownRev,dashes=False)\n",
    "plt.title('regdownRev')\n",
    "\n",
    "\n",
    "sns.lineplot(data=demandCost,dashes=False)\n",
    "plt.title('demandCost')\n",
    "# plt.show()\n",
    "\n",
    "sns.lineplot(data=regupRev,dashes=False)\n",
    "plt.title('regupRev')\n",
    "# plt.show()\n",
    "\n",
    "sns.lineplot(data=generationRev,dashes=False)\n",
    "plt.title('generationRev')\n",
    "plt.show()"
   ]
  },
  {
   "cell_type": "code",
   "execution_count": null,
   "metadata": {},
   "outputs": [],
   "source": [
    "demandCost=np.asarray(demand['iteration1']*pr['pr_e']).sum()\n",
    "np.append(demandCost,demandCost)"
   ]
  },
  {
   "cell_type": "code",
   "execution_count": null,
   "metadata": {},
   "outputs": [],
   "source": [
    "import matplotlib.pyplot as plt\n",
    "import seaborn as sns\n",
    "sns.set()\n",
    "sns.set_style(\"whitegrid\")\n",
    "# sns.color_palette(\"Set2\")\n",
    "sns.color_palette(\"Paired\")\n",
    "plt.title('demand')\n",
    "sns.lineplot(data=demand,dashes=False).get_figure().savefig(\"output.png\")\n",
    "\n",
    "# plot.get_figure().savefig(\"output.png\")\n"
   ]
  },
  {
   "cell_type": "code",
   "execution_count": null,
   "metadata": {},
   "outputs": [],
   "source": [
    "sns.set()\n",
    "sns.set_style(\"whitegrid\")\n",
    "sns.lineplot(data=generation,dashes=False)\n",
    "plt.title('generation')"
   ]
  },
  {
   "cell_type": "code",
   "execution_count": null,
   "metadata": {},
   "outputs": [],
   "source": [
    "sns.set()\n",
    "sns.set_style(\"whitegrid\")\n",
    "sns.lineplot(data=regup[1:],dashes=False)\n",
    "plt.title('regup')\n",
    "regup"
   ]
  },
  {
   "cell_type": "code",
   "execution_count": null,
   "metadata": {},
   "outputs": [],
   "source": [
    "\n",
    "regup.drop(columns=['iteration1'])"
   ]
  },
  {
   "cell_type": "code",
   "execution_count": null,
   "metadata": {},
   "outputs": [],
   "source": [
    "sns.set()\n",
    "sns.set_style(\"whitegrid\")\n",
    "sns.lineplot(data=regdown,dashes=False)\n",
    "plt.title('regdown')"
   ]
  },
  {
   "cell_type": "code",
   "execution_count": null,
   "metadata": {},
   "outputs": [],
   "source": [
    "import matplotlib.pyplot as plt\n",
    "sns.set()\n",
    "sns.set_style(\"whitegrid\")\n",
    "\n",
    "    y=\n",
    "    x=demand.index\n",
    "    plt.plot(x, y)\n",
    "    plt.legend('12345', ncol=2, loc='upper left')"
   ]
  },
  {
   "cell_type": "code",
   "execution_count": null,
   "metadata": {},
   "outputs": [],
   "source": []
  },
  {
   "cell_type": "code",
   "execution_count": null,
   "metadata": {},
   "outputs": [],
   "source": []
  },
  {
   "cell_type": "code",
   "execution_count": null,
   "metadata": {},
   "outputs": [],
   "source": [
    "import pandas as pd \n",
    "import numpy as np \n",
    "import seaborn as sns\n",
    "\n",
    "data_name='iteration1_version3_regupregdown20'\n",
    "myresult=pd.read_csv('../data/vehicle/VehiclesCap_V2G_'+data_name+'.csv',header=0)\n",
    "N = 6# from 10mins to 1 hour\n",
    "myresult=myresult.groupby(myresult.index // N).sum()/6# from the unit of W to kW\n",
    "myresult=myresult.rename(columns={'EnergyDemand':'netload','EnergyGeneration':'gen_capacity_veh','Regup':'regup_capacity_veh','Regdown':'regdown_capacity_veh'})\n",
    "myresult"
   ]
  },
  {
   "cell_type": "code",
   "execution_count": null,
   "metadata": {},
   "outputs": [],
   "source": []
  },
  {
   "cell_type": "code",
   "execution_count": null,
   "metadata": {},
   "outputs": [],
   "source": [
    "sns.relplot(\n",
    "    data=myresult,\n",
    "    # x=\"total_bill\", y=\"tip\", col=\"time\",\n",
    "    hue=\"smoker\", style=\"smoker\", size=\"size\",\n",
    ")\n"
   ]
  },
  {
   "cell_type": "code",
   "execution_count": null,
   "metadata": {},
   "outputs": [],
   "source": []
  }
 ]
}