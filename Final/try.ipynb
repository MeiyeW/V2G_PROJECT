{
 "metadata": {
  "language_info": {
   "codemirror_mode": {
    "name": "ipython",
    "version": 3
   },
   "file_extension": ".py",
   "mimetype": "text/x-python",
   "name": "python",
   "nbconvert_exporter": "python",
   "pygments_lexer": "ipython3",
   "version": "2.7.16-final"
  },
  "orig_nbformat": 2,
  "kernelspec": {
   "name": "python_defaultSpec_1601481739449",
   "display_name": "Python 2.7.16 64-bit ('py27': conda)"
  }
 },
 "nbformat": 4,
 "nbformat_minor": 2,
 "cells": [
  {
   "cell_type": "code",
   "execution_count": 13,
   "metadata": {
    "tags": []
   },
   "outputs": [
    {
     "output_type": "stream",
     "name": "stdout",
     "text": "i:\n0\nc:\nmaxcap_ws\n"
    },
    {
     "output_type": "error",
     "ename": "TypeError",
     "evalue": "cannot do label indexing on <class 'pandas.core.indexes.base.Index'> with these indexers [1] of <type 'int'>",
     "traceback": [
      "\u001b[0;31m\u001b[0m",
      "\u001b[0;31mTypeError\u001b[0mTraceback (most recent call last)",
      "\u001b[0;32m<ipython-input-13-7706090440d0>\u001b[0m in \u001b[0;36m<module>\u001b[0;34m()\u001b[0m\n\u001b[1;32m     17\u001b[0m             \u001b[0;32mprint\u001b[0m\u001b[0;34m(\u001b[0m\u001b[0;34m'c:'\u001b[0m\u001b[0;34m)\u001b[0m\u001b[0;34m\u001b[0m\u001b[0m\n\u001b[1;32m     18\u001b[0m             \u001b[0;32mprint\u001b[0m\u001b[0;34m(\u001b[0m\u001b[0mc\u001b[0m\u001b[0;34m)\u001b[0m\u001b[0;34m\u001b[0m\u001b[0m\n\u001b[0;32m---> 19\u001b[0;31m             \u001b[0;32mprint\u001b[0m\u001b[0;34m(\u001b[0m\u001b[0mdf_windsolar_cap\u001b[0m\u001b[0;34m.\u001b[0m\u001b[0mloc\u001b[0m\u001b[0;34m[\u001b[0m\u001b[0;36m1\u001b[0m\u001b[0;34m,\u001b[0m\u001b[0;34m'maxcap_ws'\u001b[0m\u001b[0;34m]\u001b[0m\u001b[0;34m)\u001b[0m\u001b[0;34m\u001b[0m\u001b[0m\n\u001b[0m\u001b[1;32m     20\u001b[0m \u001b[0;34m\u001b[0m\u001b[0m\n\u001b[1;32m     21\u001b[0m             \u001b[0;31m# f.write(str(i+1) + '\\t' + str(df_windsolar_cap.iloc[i,c]) + '\\t')\u001b[0m\u001b[0;34m\u001b[0m\u001b[0;34m\u001b[0m\u001b[0m\n",
      "\u001b[0;32m/Users/meiyewang/opt/anaconda3/envs/py27/lib/python2.7/site-packages/pandas/core/indexing.pyc\u001b[0m in \u001b[0;36m__getitem__\u001b[0;34m(self, key)\u001b[0m\n\u001b[1;32m   1492\u001b[0m             \u001b[0;32mexcept\u001b[0m \u001b[0;34m(\u001b[0m\u001b[0mKeyError\u001b[0m\u001b[0;34m,\u001b[0m \u001b[0mIndexError\u001b[0m\u001b[0;34m,\u001b[0m \u001b[0mAttributeError\u001b[0m\u001b[0;34m)\u001b[0m\u001b[0;34m:\u001b[0m\u001b[0;34m\u001b[0m\u001b[0m\n\u001b[1;32m   1493\u001b[0m                 \u001b[0;32mpass\u001b[0m\u001b[0;34m\u001b[0m\u001b[0m\n\u001b[0;32m-> 1494\u001b[0;31m             \u001b[0;32mreturn\u001b[0m \u001b[0mself\u001b[0m\u001b[0;34m.\u001b[0m\u001b[0m_getitem_tuple\u001b[0m\u001b[0;34m(\u001b[0m\u001b[0mkey\u001b[0m\u001b[0;34m)\u001b[0m\u001b[0;34m\u001b[0m\u001b[0m\n\u001b[0m\u001b[1;32m   1495\u001b[0m         \u001b[0;32melse\u001b[0m\u001b[0;34m:\u001b[0m\u001b[0;34m\u001b[0m\u001b[0m\n\u001b[1;32m   1496\u001b[0m             \u001b[0;31m# we by definition only have the 0th axis\u001b[0m\u001b[0;34m\u001b[0m\u001b[0;34m\u001b[0m\u001b[0m\n",
      "\u001b[0;32m/Users/meiyewang/opt/anaconda3/envs/py27/lib/python2.7/site-packages/pandas/core/indexing.pyc\u001b[0m in \u001b[0;36m_getitem_tuple\u001b[0;34m(self, tup)\u001b[0m\n\u001b[1;32m    866\u001b[0m     \u001b[0;32mdef\u001b[0m \u001b[0m_getitem_tuple\u001b[0m\u001b[0;34m(\u001b[0m\u001b[0mself\u001b[0m\u001b[0;34m,\u001b[0m \u001b[0mtup\u001b[0m\u001b[0;34m)\u001b[0m\u001b[0;34m:\u001b[0m\u001b[0;34m\u001b[0m\u001b[0m\n\u001b[1;32m    867\u001b[0m         \u001b[0;32mtry\u001b[0m\u001b[0;34m:\u001b[0m\u001b[0;34m\u001b[0m\u001b[0m\n\u001b[0;32m--> 868\u001b[0;31m             \u001b[0;32mreturn\u001b[0m \u001b[0mself\u001b[0m\u001b[0;34m.\u001b[0m\u001b[0m_getitem_lowerdim\u001b[0m\u001b[0;34m(\u001b[0m\u001b[0mtup\u001b[0m\u001b[0;34m)\u001b[0m\u001b[0;34m\u001b[0m\u001b[0m\n\u001b[0m\u001b[1;32m    869\u001b[0m         \u001b[0;32mexcept\u001b[0m \u001b[0mIndexingError\u001b[0m\u001b[0;34m:\u001b[0m\u001b[0;34m\u001b[0m\u001b[0m\n\u001b[1;32m    870\u001b[0m             \u001b[0;32mpass\u001b[0m\u001b[0;34m\u001b[0m\u001b[0m\n",
      "\u001b[0;32m/Users/meiyewang/opt/anaconda3/envs/py27/lib/python2.7/site-packages/pandas/core/indexing.pyc\u001b[0m in \u001b[0;36m_getitem_lowerdim\u001b[0;34m(self, tup)\u001b[0m\n\u001b[1;32m    986\u001b[0m         \u001b[0;32mfor\u001b[0m \u001b[0mi\u001b[0m\u001b[0;34m,\u001b[0m \u001b[0mkey\u001b[0m \u001b[0;32min\u001b[0m \u001b[0menumerate\u001b[0m\u001b[0;34m(\u001b[0m\u001b[0mtup\u001b[0m\u001b[0;34m)\u001b[0m\u001b[0;34m:\u001b[0m\u001b[0;34m\u001b[0m\u001b[0m\n\u001b[1;32m    987\u001b[0m             \u001b[0;32mif\u001b[0m \u001b[0mis_label_like\u001b[0m\u001b[0;34m(\u001b[0m\u001b[0mkey\u001b[0m\u001b[0;34m)\u001b[0m \u001b[0;32mor\u001b[0m \u001b[0misinstance\u001b[0m\u001b[0;34m(\u001b[0m\u001b[0mkey\u001b[0m\u001b[0;34m,\u001b[0m \u001b[0mtuple\u001b[0m\u001b[0;34m)\u001b[0m\u001b[0;34m:\u001b[0m\u001b[0;34m\u001b[0m\u001b[0m\n\u001b[0;32m--> 988\u001b[0;31m                 \u001b[0msection\u001b[0m \u001b[0;34m=\u001b[0m \u001b[0mself\u001b[0m\u001b[0;34m.\u001b[0m\u001b[0m_getitem_axis\u001b[0m\u001b[0;34m(\u001b[0m\u001b[0mkey\u001b[0m\u001b[0;34m,\u001b[0m \u001b[0maxis\u001b[0m\u001b[0;34m=\u001b[0m\u001b[0mi\u001b[0m\u001b[0;34m)\u001b[0m\u001b[0;34m\u001b[0m\u001b[0m\n\u001b[0m\u001b[1;32m    989\u001b[0m \u001b[0;34m\u001b[0m\u001b[0m\n\u001b[1;32m    990\u001b[0m                 \u001b[0;31m# we have yielded a scalar ?\u001b[0m\u001b[0;34m\u001b[0m\u001b[0;34m\u001b[0m\u001b[0m\n",
      "\u001b[0;32m/Users/meiyewang/opt/anaconda3/envs/py27/lib/python2.7/site-packages/pandas/core/indexing.pyc\u001b[0m in \u001b[0;36m_getitem_axis\u001b[0;34m(self, key, axis)\u001b[0m\n\u001b[1;32m   1910\u001b[0m \u001b[0;34m\u001b[0m\u001b[0m\n\u001b[1;32m   1911\u001b[0m         \u001b[0;31m# fall thru to straight lookup\u001b[0m\u001b[0;34m\u001b[0m\u001b[0;34m\u001b[0m\u001b[0m\n\u001b[0;32m-> 1912\u001b[0;31m         \u001b[0mself\u001b[0m\u001b[0;34m.\u001b[0m\u001b[0m_validate_key\u001b[0m\u001b[0;34m(\u001b[0m\u001b[0mkey\u001b[0m\u001b[0;34m,\u001b[0m \u001b[0maxis\u001b[0m\u001b[0;34m)\u001b[0m\u001b[0;34m\u001b[0m\u001b[0m\n\u001b[0m\u001b[1;32m   1913\u001b[0m         \u001b[0;32mreturn\u001b[0m \u001b[0mself\u001b[0m\u001b[0;34m.\u001b[0m\u001b[0m_get_label\u001b[0m\u001b[0;34m(\u001b[0m\u001b[0mkey\u001b[0m\u001b[0;34m,\u001b[0m \u001b[0maxis\u001b[0m\u001b[0;34m=\u001b[0m\u001b[0maxis\u001b[0m\u001b[0;34m)\u001b[0m\u001b[0;34m\u001b[0m\u001b[0m\n\u001b[1;32m   1914\u001b[0m \u001b[0;34m\u001b[0m\u001b[0m\n",
      "\u001b[0;32m/Users/meiyewang/opt/anaconda3/envs/py27/lib/python2.7/site-packages/pandas/core/indexing.pyc\u001b[0m in \u001b[0;36m_validate_key\u001b[0;34m(self, key, axis)\u001b[0m\n\u001b[1;32m   1797\u001b[0m \u001b[0;34m\u001b[0m\u001b[0m\n\u001b[1;32m   1798\u001b[0m         \u001b[0;32mif\u001b[0m \u001b[0;32mnot\u001b[0m \u001b[0mis_list_like_indexer\u001b[0m\u001b[0;34m(\u001b[0m\u001b[0mkey\u001b[0m\u001b[0;34m)\u001b[0m\u001b[0;34m:\u001b[0m\u001b[0;34m\u001b[0m\u001b[0m\n\u001b[0;32m-> 1799\u001b[0;31m             \u001b[0mself\u001b[0m\u001b[0;34m.\u001b[0m\u001b[0m_convert_scalar_indexer\u001b[0m\u001b[0;34m(\u001b[0m\u001b[0mkey\u001b[0m\u001b[0;34m,\u001b[0m \u001b[0maxis\u001b[0m\u001b[0;34m)\u001b[0m\u001b[0;34m\u001b[0m\u001b[0m\n\u001b[0m\u001b[1;32m   1800\u001b[0m \u001b[0;34m\u001b[0m\u001b[0m\n\u001b[1;32m   1801\u001b[0m     \u001b[0;32mdef\u001b[0m \u001b[0m_is_scalar_access\u001b[0m\u001b[0;34m(\u001b[0m\u001b[0mself\u001b[0m\u001b[0;34m,\u001b[0m \u001b[0mkey\u001b[0m\u001b[0;34m)\u001b[0m\u001b[0;34m:\u001b[0m\u001b[0;34m\u001b[0m\u001b[0m\n",
      "\u001b[0;32m/Users/meiyewang/opt/anaconda3/envs/py27/lib/python2.7/site-packages/pandas/core/indexing.pyc\u001b[0m in \u001b[0;36m_convert_scalar_indexer\u001b[0;34m(self, key, axis)\u001b[0m\n\u001b[1;32m    260\u001b[0m         \u001b[0max\u001b[0m \u001b[0;34m=\u001b[0m \u001b[0mself\u001b[0m\u001b[0;34m.\u001b[0m\u001b[0mobj\u001b[0m\u001b[0;34m.\u001b[0m\u001b[0m_get_axis\u001b[0m\u001b[0;34m(\u001b[0m\u001b[0mmin\u001b[0m\u001b[0;34m(\u001b[0m\u001b[0maxis\u001b[0m\u001b[0;34m,\u001b[0m \u001b[0mself\u001b[0m\u001b[0;34m.\u001b[0m\u001b[0mndim\u001b[0m \u001b[0;34m-\u001b[0m \u001b[0;36m1\u001b[0m\u001b[0;34m)\u001b[0m\u001b[0;34m)\u001b[0m\u001b[0;34m\u001b[0m\u001b[0m\n\u001b[1;32m    261\u001b[0m         \u001b[0;31m# a scalar\u001b[0m\u001b[0;34m\u001b[0m\u001b[0;34m\u001b[0m\u001b[0m\n\u001b[0;32m--> 262\u001b[0;31m         \u001b[0;32mreturn\u001b[0m \u001b[0max\u001b[0m\u001b[0;34m.\u001b[0m\u001b[0m_convert_scalar_indexer\u001b[0m\u001b[0;34m(\u001b[0m\u001b[0mkey\u001b[0m\u001b[0;34m,\u001b[0m \u001b[0mkind\u001b[0m\u001b[0;34m=\u001b[0m\u001b[0mself\u001b[0m\u001b[0;34m.\u001b[0m\u001b[0mname\u001b[0m\u001b[0;34m)\u001b[0m\u001b[0;34m\u001b[0m\u001b[0m\n\u001b[0m\u001b[1;32m    263\u001b[0m \u001b[0;34m\u001b[0m\u001b[0m\n\u001b[1;32m    264\u001b[0m     \u001b[0;32mdef\u001b[0m \u001b[0m_convert_slice_indexer\u001b[0m\u001b[0;34m(\u001b[0m\u001b[0mself\u001b[0m\u001b[0;34m,\u001b[0m \u001b[0mkey\u001b[0m\u001b[0;34m,\u001b[0m \u001b[0maxis\u001b[0m\u001b[0;34m)\u001b[0m\u001b[0;34m:\u001b[0m\u001b[0;34m\u001b[0m\u001b[0m\n",
      "\u001b[0;32m/Users/meiyewang/opt/anaconda3/envs/py27/lib/python2.7/site-packages/pandas/core/indexes/base.pyc\u001b[0m in \u001b[0;36m_convert_scalar_indexer\u001b[0;34m(self, key, kind)\u001b[0m\n\u001b[1;32m   2879\u001b[0m             \u001b[0;32melif\u001b[0m \u001b[0mkind\u001b[0m \u001b[0;32min\u001b[0m \u001b[0;34m[\u001b[0m\u001b[0;34m'loc'\u001b[0m\u001b[0;34m]\u001b[0m \u001b[0;32mand\u001b[0m \u001b[0mis_integer\u001b[0m\u001b[0;34m(\u001b[0m\u001b[0mkey\u001b[0m\u001b[0;34m)\u001b[0m\u001b[0;34m:\u001b[0m\u001b[0;34m\u001b[0m\u001b[0m\n\u001b[1;32m   2880\u001b[0m                 \u001b[0;32mif\u001b[0m \u001b[0;32mnot\u001b[0m \u001b[0mself\u001b[0m\u001b[0;34m.\u001b[0m\u001b[0mholds_integer\u001b[0m\u001b[0;34m(\u001b[0m\u001b[0;34m)\u001b[0m\u001b[0;34m:\u001b[0m\u001b[0;34m\u001b[0m\u001b[0m\n\u001b[0;32m-> 2881\u001b[0;31m                     \u001b[0;32mreturn\u001b[0m \u001b[0mself\u001b[0m\u001b[0;34m.\u001b[0m\u001b[0m_invalid_indexer\u001b[0m\u001b[0;34m(\u001b[0m\u001b[0;34m'label'\u001b[0m\u001b[0;34m,\u001b[0m \u001b[0mkey\u001b[0m\u001b[0;34m)\u001b[0m\u001b[0;34m\u001b[0m\u001b[0m\n\u001b[0m\u001b[1;32m   2882\u001b[0m \u001b[0;34m\u001b[0m\u001b[0m\n\u001b[1;32m   2883\u001b[0m         \u001b[0;32mreturn\u001b[0m \u001b[0mkey\u001b[0m\u001b[0;34m\u001b[0m\u001b[0m\n",
      "\u001b[0;32m/Users/meiyewang/opt/anaconda3/envs/py27/lib/python2.7/site-packages/pandas/core/indexes/base.pyc\u001b[0m in \u001b[0;36m_invalid_indexer\u001b[0;34m(self, form, key)\u001b[0m\n\u001b[1;32m   3065\u001b[0m                         \"indexers [{key}] of {kind}\".format(\n\u001b[1;32m   3066\u001b[0m                             \u001b[0mform\u001b[0m\u001b[0;34m=\u001b[0m\u001b[0mform\u001b[0m\u001b[0;34m,\u001b[0m \u001b[0mklass\u001b[0m\u001b[0;34m=\u001b[0m\u001b[0mtype\u001b[0m\u001b[0;34m(\u001b[0m\u001b[0mself\u001b[0m\u001b[0;34m)\u001b[0m\u001b[0;34m,\u001b[0m \u001b[0mkey\u001b[0m\u001b[0;34m=\u001b[0m\u001b[0mkey\u001b[0m\u001b[0;34m,\u001b[0m\u001b[0;34m\u001b[0m\u001b[0m\n\u001b[0;32m-> 3067\u001b[0;31m                             kind=type(key)))\n\u001b[0m\u001b[1;32m   3068\u001b[0m \u001b[0;34m\u001b[0m\u001b[0m\n\u001b[1;32m   3069\u001b[0m     \u001b[0;31m# --------------------------------------------------------------------\u001b[0m\u001b[0;34m\u001b[0m\u001b[0;34m\u001b[0m\u001b[0m\n",
      "\u001b[0;31mTypeError\u001b[0m: cannot do label indexing on <class 'pandas.core.indexes.base.Index'> with these indexers [1] of <type 'int'>"
     ]
    }
   ],
   "source": [
    "import pandas as pd\n",
    "import numpy as np\n",
    "df_windsolar_cap=pd.read_csv('../data/generator/SolarCap.csv',header=0).set_index('name')#SolarWindCap\n",
    "df_windsolar_cap\n",
    "\n",
    "data_name = 'test3'\n",
    "with open(''+str(data_name)+'.dat', 'w') as f:\n",
    "    f.write('param:' + '\\t')\n",
    "    for c in df_windsolar_cap.columns:\n",
    "        if c != 'name':\n",
    "            f.write(c + '\\t')\n",
    "    f.write(':=\\n\\n')\n",
    "    for i in range(0,len(df_windsolar_cap)):    \n",
    "        for c in df_windsolar_cap.columns: \n",
    "            print('i:')\n",
    "            print(i)\n",
    "            print('c:')\n",
    "            print(c)\n",
    "            print(df_windsolar_cap.loc[1,'maxcap_ws'])\n",
    "\n",
    "            # f.write(str(i+1) + '\\t' + str(df_windsolar_cap.iloc[i,c]) + '\\t')            \n",
    "        f.write('\\n')\n",
    "    f.write(';\\n\\n')\n"
   ]
  },
  {
   "cell_type": "code",
   "execution_count": 16,
   "metadata": {},
   "outputs": [
    {
     "output_type": "execute_result",
     "data": {
      "text/html": "<div>\n<style scoped>\n    .dataframe tbody tr th:only-of-type {\n        vertical-align: middle;\n    }\n\n    .dataframe tbody tr th {\n        vertical-align: top;\n    }\n\n    .dataframe thead th {\n        text-align: right;\n    }\n</style>\n<table border=\"1\" class=\"dataframe\">\n  <thead>\n    <tr style=\"text-align: right;\">\n      <th></th>\n      <th>maxcap_ws</th>\n    </tr>\n    <tr>\n      <th>name</th>\n      <th></th>\n    </tr>\n  </thead>\n  <tbody>\n    <tr>\n      <th>solar</th>\n      <td>-8.78827</td>\n    </tr>\n    <tr>\n      <th>solar</th>\n      <td>-9.56754</td>\n    </tr>\n    <tr>\n      <th>solar</th>\n      <td>-9.91254</td>\n    </tr>\n    <tr>\n      <th>solar</th>\n      <td>-11.20422</td>\n    </tr>\n    <tr>\n      <th>solar</th>\n      <td>-12.44690</td>\n    </tr>\n    <tr>\n      <th>solar</th>\n      <td>-4.41375</td>\n    </tr>\n    <tr>\n      <th>solar</th>\n      <td>11.06523</td>\n    </tr>\n    <tr>\n      <th>solar</th>\n      <td>1874.37852</td>\n    </tr>\n    <tr>\n      <th>solar</th>\n      <td>7408.84553</td>\n    </tr>\n    <tr>\n      <th>solar</th>\n      <td>10802.54377</td>\n    </tr>\n    <tr>\n      <th>solar</th>\n      <td>11453.97174</td>\n    </tr>\n    <tr>\n      <th>solar</th>\n      <td>11361.78920</td>\n    </tr>\n    <tr>\n      <th>solar</th>\n      <td>11321.33566</td>\n    </tr>\n    <tr>\n      <th>solar</th>\n      <td>11395.51945</td>\n    </tr>\n    <tr>\n      <th>solar</th>\n      <td>10416.26878</td>\n    </tr>\n    <tr>\n      <th>solar</th>\n      <td>6424.38968</td>\n    </tr>\n    <tr>\n      <th>solar</th>\n      <td>1112.12462</td>\n    </tr>\n    <tr>\n      <th>solar</th>\n      <td>-10.04748</td>\n    </tr>\n    <tr>\n      <th>solar</th>\n      <td>-10.16596</td>\n    </tr>\n    <tr>\n      <th>solar</th>\n      <td>-10.16587</td>\n    </tr>\n    <tr>\n      <th>solar</th>\n      <td>-9.91654</td>\n    </tr>\n    <tr>\n      <th>solar</th>\n      <td>-9.88158</td>\n    </tr>\n    <tr>\n      <th>solar</th>\n      <td>-10.83546</td>\n    </tr>\n    <tr>\n      <th>solar</th>\n      <td>-17.04244</td>\n    </tr>\n    <tr>\n      <th>solar</th>\n      <td>-17.88294</td>\n    </tr>\n    <tr>\n      <th>solar</th>\n      <td>-18.01075</td>\n    </tr>\n    <tr>\n      <th>solar</th>\n      <td>-18.22207</td>\n    </tr>\n    <tr>\n      <th>solar</th>\n      <td>-19.28296</td>\n    </tr>\n    <tr>\n      <th>solar</th>\n      <td>-21.43566</td>\n    </tr>\n    <tr>\n      <th>solar</th>\n      <td>-15.43444</td>\n    </tr>\n    <tr>\n      <th>...</th>\n      <td>...</td>\n    </tr>\n    <tr>\n      <th>solar</th>\n      <td>-11.52117</td>\n    </tr>\n    <tr>\n      <th>solar</th>\n      <td>-11.75346</td>\n    </tr>\n    <tr>\n      <th>solar</th>\n      <td>-7.97511</td>\n    </tr>\n    <tr>\n      <th>solar</th>\n      <td>-8.34024</td>\n    </tr>\n    <tr>\n      <th>solar</th>\n      <td>-17.09437</td>\n    </tr>\n    <tr>\n      <th>solar</th>\n      <td>-17.35703</td>\n    </tr>\n    <tr>\n      <th>solar</th>\n      <td>-17.09777</td>\n    </tr>\n    <tr>\n      <th>solar</th>\n      <td>-18.90957</td>\n    </tr>\n    <tr>\n      <th>solar</th>\n      <td>-19.12458</td>\n    </tr>\n    <tr>\n      <th>solar</th>\n      <td>-23.75189</td>\n    </tr>\n    <tr>\n      <th>solar</th>\n      <td>-23.58401</td>\n    </tr>\n    <tr>\n      <th>solar</th>\n      <td>-59.30077</td>\n    </tr>\n    <tr>\n      <th>solar</th>\n      <td>-16.52783</td>\n    </tr>\n    <tr>\n      <th>solar</th>\n      <td>1498.49708</td>\n    </tr>\n    <tr>\n      <th>solar</th>\n      <td>6709.11008</td>\n    </tr>\n    <tr>\n      <th>solar</th>\n      <td>10008.60763</td>\n    </tr>\n    <tr>\n      <th>solar</th>\n      <td>10722.80561</td>\n    </tr>\n    <tr>\n      <th>solar</th>\n      <td>10620.00622</td>\n    </tr>\n    <tr>\n      <th>solar</th>\n      <td>11070.07005</td>\n    </tr>\n    <tr>\n      <th>solar</th>\n      <td>11433.66995</td>\n    </tr>\n    <tr>\n      <th>solar</th>\n      <td>10382.54651</td>\n    </tr>\n    <tr>\n      <th>solar</th>\n      <td>6174.25091</td>\n    </tr>\n    <tr>\n      <th>solar</th>\n      <td>932.65147</td>\n    </tr>\n    <tr>\n      <th>solar</th>\n      <td>-8.62056</td>\n    </tr>\n    <tr>\n      <th>solar</th>\n      <td>-7.18785</td>\n    </tr>\n    <tr>\n      <th>solar</th>\n      <td>-7.30025</td>\n    </tr>\n    <tr>\n      <th>solar</th>\n      <td>-7.11567</td>\n    </tr>\n    <tr>\n      <th>solar</th>\n      <td>-8.80856</td>\n    </tr>\n    <tr>\n      <th>solar</th>\n      <td>-16.59295</td>\n    </tr>\n    <tr>\n      <th>solar</th>\n      <td>-20.73371</td>\n    </tr>\n  </tbody>\n</table>\n<p>8760 rows × 1 columns</p>\n</div>",
      "text/plain": "         maxcap_ws\nname              \nsolar     -8.78827\nsolar     -9.56754\nsolar     -9.91254\nsolar    -11.20422\nsolar    -12.44690\nsolar     -4.41375\nsolar     11.06523\nsolar   1874.37852\nsolar   7408.84553\nsolar  10802.54377\nsolar  11453.97174\nsolar  11361.78920\nsolar  11321.33566\nsolar  11395.51945\nsolar  10416.26878\nsolar   6424.38968\nsolar   1112.12462\nsolar    -10.04748\nsolar    -10.16596\nsolar    -10.16587\nsolar     -9.91654\nsolar     -9.88158\nsolar    -10.83546\nsolar    -17.04244\nsolar    -17.88294\nsolar    -18.01075\nsolar    -18.22207\nsolar    -19.28296\nsolar    -21.43566\nsolar    -15.43444\n...            ...\nsolar    -11.52117\nsolar    -11.75346\nsolar     -7.97511\nsolar     -8.34024\nsolar    -17.09437\nsolar    -17.35703\nsolar    -17.09777\nsolar    -18.90957\nsolar    -19.12458\nsolar    -23.75189\nsolar    -23.58401\nsolar    -59.30077\nsolar    -16.52783\nsolar   1498.49708\nsolar   6709.11008\nsolar  10008.60763\nsolar  10722.80561\nsolar  10620.00622\nsolar  11070.07005\nsolar  11433.66995\nsolar  10382.54651\nsolar   6174.25091\nsolar    932.65147\nsolar     -8.62056\nsolar     -7.18785\nsolar     -7.30025\nsolar     -7.11567\nsolar     -8.80856\nsolar    -16.59295\nsolar    -20.73371\n\n[8760 rows x 1 columns]"
     },
     "metadata": {},
     "execution_count": 16
    }
   ],
   "source": [
    "df_windsolar_cap\n"
   ]
  },
  {
   "cell_type": "code",
   "execution_count": null,
   "metadata": {},
   "outputs": [],
   "source": []
  },
  {
   "cell_type": "code",
   "execution_count": null,
   "metadata": {},
   "outputs": [],
   "source": []
  },
  {
   "cell_type": "code",
   "execution_count": null,
   "metadata": {},
   "outputs": [],
   "source": []
  },
  {
   "cell_type": "code",
   "execution_count": null,
   "metadata": {},
   "outputs": [],
   "source": []
  },
  {
   "cell_type": "code",
   "execution_count": null,
   "metadata": {},
   "outputs": [],
   "source": []
  },
  {
   "cell_type": "code",
   "execution_count": null,
   "metadata": {},
   "outputs": [],
   "source": []
  },
  {
   "cell_type": "code",
   "execution_count": null,
   "metadata": {},
   "outputs": [],
   "source": []
  },
  {
   "cell_type": "code",
   "execution_count": null,
   "metadata": {},
   "outputs": [],
   "source": []
  }
 ]
}