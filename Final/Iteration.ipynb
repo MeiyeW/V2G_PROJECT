{
 "metadata": {
  "language_info": {
   "codemirror_mode": {
    "name": "ipython",
    "version": 3
   },
   "file_extension": ".py",
   "mimetype": "text/x-python",
   "name": "python",
   "nbconvert_exporter": "python",
   "pygments_lexer": "ipython3",
   "version": "2.7.16-final"
  },
  "orig_nbformat": 2,
  "kernelspec": {
   "name": "python_defaultSpec_1601154548167",
   "display_name": "Python 2.7.16 64-bit ('py27': conda)"
  }
 },
 "nbformat": 4,
 "nbformat_minor": 2,
 "cells": [
  {
   "cell_type": "code",
   "execution_count": 1,
   "metadata": {
    "tags": []
   },
   "outputs": [
    {
     "output_type": "stream",
     "name": "stderr",
     "text": "/Users/meiyewang/opt/anaconda3/envs/py27/lib/python2.7/site-packages/pandas/util/_decorators.py:188: FutureWarning: The `sheetname` keyword is deprecated, use `sheet_name` instead\n  return func(*args, **kwargs)\n/Users/meiyewang/opt/anaconda3/envs/py27/lib/python2.7/site-packages/v2gsim/core.py:194: FutureWarning: Sorting because non-concatenation axis is not aligned. A future version\nof pandas will change to not sort by default.\n\nTo accept the future behavior, pass 'sort=False'.\n\nTo retain the current behavior and silence the warning, pass 'sort=True'.\n\n  axis=0)\ncore.initialize_SOC: 100%|####################################################|\ncore.run:  15%|#########                                                      |       mean  mean_rate       std  std_rate\n0  0.950000   0.000000  0.000000  0.000000\n1  0.926814   0.023186  0.110897 -0.110897\n2  0.926647   0.000167  0.110849  0.000049\n\ncore.run: 100%|###############################################################|core.run: 100%|###############################################################|\n"
    }
   ],
   "source": [
    "from __future__ import division\n",
    "import datetime\n",
    "import matplotlib.pyplot as plt\n",
    "import numpy as np\n",
    "import v2gsim \n",
    "import utility\n",
    "from pyomo.opt import SolverFactory\n",
    "from pyomo.core import Var\n",
    "from pyomo.core import Param\n",
    "from operator import itemgetter\n",
    "import pandas as pd\n",
    "import os\n",
    "\n",
    "# Create a project and initialize it with some itineraries\n",
    "project = v2gsim.model.Project()\n",
    "project = v2gsim.itinerary.from_excel(project, '../data/NHTS/California.xlsx')\n",
    "project = v2gsim.itinerary.copy_append(project, nb_of_days_to_add=2)\n",
    "\n",
    "# This function from the itinerary module return all the vehicles that\n",
    "# start and end their day at the same location (e.g. home)\n",
    "project.vehicles = v2gsim.itinerary.get_cycling_itineraries(project)\n",
    "\n",
    "# Reduce the number of vehicles\n",
    "project.vehicles = project.vehicles[0:100]\n",
    "\n",
    "# Create some new charging infrastructures, append those new\n",
    "# infrastructures to the project list of infrastructures\n",
    "charging_stations = []\n",
    "charging_stations.append(\n",
    "    v2gsim.model.ChargingStation(name='L2', maximum_power=7200, minimum_power=0))\n",
    "charging_stations.append(\n",
    "    v2gsim.model.ChargingStation(name='L1_V1G', maximum_power=1400, minimum_power=0, post_simulation=True))\n",
    "charging_stations.append(\n",
    "    v2gsim.model.ChargingStation(name='L2_V2G', maximum_power=7200, minimum_power=-7200, post_simulation=True))\n",
    "project.charging_stations.extend(charging_stations)\n",
    "\n",
    "#Create a data frame with the new infrastructures mix and\n",
    "# apply this mix at all the locations\n",
    "df = pd.DataFrame(index=['L2', 'L1_V1G', 'L2_V2G'],\n",
    "                      data={'charging_station': charging_stations,\n",
    "                            'probability': [0.0, 0.4, 0.6]})\n",
    "for location in project.locations:\n",
    "    if location.category in ['Work', 'Home']:\n",
    "        location.available_charging_station = df.copy()\n",
    "\n",
    "# Initiate SOC and charging infrastructures\n",
    "v2gsim.core.initialize_SOC(project, nb_iteration=2)\n",
    "\n",
    "# Assign a basic result function to save power demand\n",
    "for vehicle in project.vehicles:\n",
    "    vehicle.result_function = v2gsim.post_simulation.netload_optimization.save_vehicle_state_for_optimization\n",
    "\n",
    "\n",
    "# Launch the simulation\n",
    "v2gsim.core.run(project, date_from=project.date + datetime.timedelta(days=1),\n",
    "                date_to=project.date + datetime.timedelta(days=2),\n",
    "                reset_charging_station=False)\n",
    "\n",
    "\n",
    "# Look at the results\n",
    "total_power_demand = v2gsim.post_simulation.result.total_power_demand(project)\n",
    "\n",
    "# Optimization\n",
    "myopti = v2gsim.post_simulation.netload_optimization.CentralOptimization(project, 10,\n",
    "                                                                         project.date + datetime.timedelta(days=1),\n",
    "                                                                         project.date + datetime.timedelta(days=2),\n",
    "                                                                         minimum_SOC=0.1, maximum_SOC=0.95)"
   ]
  },
  {
   "cell_type": "code",
   "execution_count": 17,
   "metadata": {},
   "outputs": [
    {
     "output_type": "execute_result",
     "data": {
      "text/html": "<div>\n<style scoped>\n    .dataframe tbody tr th:only-of-type {\n        vertical-align: middle;\n    }\n\n    .dataframe tbody tr th {\n        vertical-align: top;\n    }\n\n    .dataframe thead th {\n        text-align: right;\n    }\n</style>\n<table border=\"1\" class=\"dataframe\">\n  <thead>\n    <tr style=\"text-align: right;\">\n      <th></th>\n      <th>demand (MW)</th>\n    </tr>\n    <tr>\n      <th>date_time</th>\n      <th></th>\n    </tr>\n  </thead>\n  <tbody>\n    <tr>\n      <th>2018-07-02 00:00:00</th>\n      <td>31187</td>\n    </tr>\n    <tr>\n      <th>2018-07-02 01:00:00</th>\n      <td>32303</td>\n    </tr>\n    <tr>\n      <th>2018-07-02 02:00:00</th>\n      <td>32870</td>\n    </tr>\n    <tr>\n      <th>2018-07-02 03:00:00</th>\n      <td>32478</td>\n    </tr>\n    <tr>\n      <th>2018-07-02 04:00:00</th>\n      <td>31983</td>\n    </tr>\n    <tr>\n      <th>2018-07-02 05:00:00</th>\n      <td>30949</td>\n    </tr>\n    <tr>\n      <th>2018-07-02 06:00:00</th>\n      <td>28655</td>\n    </tr>\n    <tr>\n      <th>2018-07-02 07:00:00</th>\n      <td>26236</td>\n    </tr>\n    <tr>\n      <th>2018-07-02 08:00:00</th>\n      <td>24304</td>\n    </tr>\n    <tr>\n      <th>2018-07-02 09:00:00</th>\n      <td>23037</td>\n    </tr>\n    <tr>\n      <th>2018-07-02 10:00:00</th>\n      <td>22252</td>\n    </tr>\n    <tr>\n      <th>2018-07-02 11:00:00</th>\n      <td>21928</td>\n    </tr>\n    <tr>\n      <th>2018-07-02 12:00:00</th>\n      <td>22281</td>\n    </tr>\n    <tr>\n      <th>2018-07-02 13:00:00</th>\n      <td>23446</td>\n    </tr>\n    <tr>\n      <th>2018-07-02 14:00:00</th>\n      <td>24710</td>\n    </tr>\n    <tr>\n      <th>2018-07-02 15:00:00</th>\n      <td>25965</td>\n    </tr>\n    <tr>\n      <th>2018-07-02 16:00:00</th>\n      <td>26710</td>\n    </tr>\n    <tr>\n      <th>2018-07-02 17:00:00</th>\n      <td>27349</td>\n    </tr>\n    <tr>\n      <th>2018-07-02 18:00:00</th>\n      <td>28164</td>\n    </tr>\n    <tr>\n      <th>2018-07-02 19:00:00</th>\n      <td>28927</td>\n    </tr>\n    <tr>\n      <th>2018-07-02 20:00:00</th>\n      <td>29620</td>\n    </tr>\n    <tr>\n      <th>2018-07-02 21:00:00</th>\n      <td>30663</td>\n    </tr>\n    <tr>\n      <th>2018-07-02 22:00:00</th>\n      <td>31744</td>\n    </tr>\n    <tr>\n      <th>2018-07-02 23:00:00</th>\n      <td>32994</td>\n    </tr>\n    <tr>\n      <th>2018-07-03 00:00:00</th>\n      <td>34000</td>\n    </tr>\n  </tbody>\n</table>\n</div>",
      "text/plain": "                     demand (MW)\ndate_time                       \n2018-07-02 00:00:00        31187\n2018-07-02 01:00:00        32303\n2018-07-02 02:00:00        32870\n2018-07-02 03:00:00        32478\n2018-07-02 04:00:00        31983\n2018-07-02 05:00:00        30949\n2018-07-02 06:00:00        28655\n2018-07-02 07:00:00        26236\n2018-07-02 08:00:00        24304\n2018-07-02 09:00:00        23037\n2018-07-02 10:00:00        22252\n2018-07-02 11:00:00        21928\n2018-07-02 12:00:00        22281\n2018-07-02 13:00:00        23446\n2018-07-02 14:00:00        24710\n2018-07-02 15:00:00        25965\n2018-07-02 16:00:00        26710\n2018-07-02 17:00:00        27349\n2018-07-02 18:00:00        28164\n2018-07-02 19:00:00        28927\n2018-07-02 20:00:00        29620\n2018-07-02 21:00:00        30663\n2018-07-02 22:00:00        31744\n2018-07-02 23:00:00        32994\n2018-07-03 00:00:00        34000"
     },
     "metadata": {},
     "execution_count": 17
    }
   ],
   "source": [
    "# # Load the load data\n",
    "load=pd.read_csv('../data/netload/CAISO1819.csv')\n",
    "startday = datetime.datetime(2018, 7, 2)#iterate through 1 day per time\n",
    "\n",
    "load['date_time'] = [datetime.datetime.strptime(x,\"%m/%d/%Y %H:%M\") for x in load['date_time']]\n",
    "load=load.set_index(load['date_time'])\n",
    "load=load.drop(columns='date_time')\n",
    "\n",
    "# ####################################### add the component of loop around day\n",
    "load = pd.DataFrame(load[startday: startday +datetime.timedelta(days=1)]['demand (MW)'])\n",
    "\n",
    "# load = pd.DataFrame(load[startday]['demand (MW)'])\n",
    "# load"
   ]
  },
  {
   "cell_type": "code",
   "execution_count": 16,
   "metadata": {},
   "outputs": [
    {
     "output_type": "error",
     "ename": "NameError",
     "evalue": "name 'getprice' is not defined",
     "traceback": [
      "\u001b[0;31m\u001b[0m",
      "\u001b[0;31mNameError\u001b[0mTraceback (most recent call last)",
      "\u001b[0;32m<ipython-input-16-30bdcf5d7f8f>\u001b[0m in \u001b[0;36m<module>\u001b[0;34m()\u001b[0m\n\u001b[0;32m----> 1\u001b[0;31m \u001b[0mprice_pd\u001b[0m\u001b[0;34m=\u001b[0m\u001b[0mgetprice\u001b[0m\u001b[0;34m(\u001b[0m\u001b[0minstance\u001b[0m\u001b[0;34m,\u001b[0m\u001b[0mcost_pd\u001b[0m\u001b[0;34m)\u001b[0m\u001b[0;34m\u001b[0m\u001b[0m\n\u001b[0m\u001b[1;32m      2\u001b[0m \u001b[0;34m\u001b[0m\u001b[0m\n\u001b[1;32m      3\u001b[0m myresult = myopti.solve(project, load * 1000000,1500000, price=price_pd,\n\u001b[1;32m      4\u001b[0m                     peak_shaving='economic', SOC_margin=0.05)\n\u001b[1;32m      5\u001b[0m \u001b[0;34m\u001b[0m\u001b[0m\n",
      "\u001b[0;31mNameError\u001b[0m: name 'getprice' is not defined"
     ]
    }
   ],
   "source": [
    "price_pd=getprice(instance,cost_pd)\n",
    "\n",
    "myresult = myopti.solve(project, load * 1000000,1500000, price=price_pd,\n",
    "                    peak_shaving='economic', SOC_margin=0.05)\n",
    "\n",
    "# Get the result in the right format\n",
    "temp_vehicle = pd.DataFrame(\n",
    "    (total_power_demand['total'] - myresult['vehicle_before'] + myresult['vehicle_after']) *\n",
    "    (1500000 / len(project.vehicles)) / (1000 * 1000))  # Scale up and W to MW\n",
    "temp_vehicle = temp_vehicle.rename(columns={0: 'vehicle'})\n",
    "temp_vehicle['index'] = range(0, len(temp_vehicle))\n",
    "temp_vehicle = temp_vehicle.set_index(['index'], drop=True)\n",
    "\n",
    "temp_load = load.copy()\n",
    "temp_load = temp_load.resample('60S')\n",
    "temp_load = temp_load.fillna (method='ffill').fillna(method='bfill')\n",
    "temp_load = temp_load.head(len(temp_vehicle))\n",
    "tempIndex = temp_load.index\n",
    "temp_load['index'] = range(0, len(temp_vehicle))\n",
    "temp_load = temp_load.set_index(['index'], drop=True)\n",
    "\n",
    "temp_result = pd.DataFrame(temp_load['demand (MW)'] + temp_vehicle['vehicle'])\n",
    "temp_result = temp_result.rename(columns={0: 'demand (MW)'})\n",
    "temp_result = temp_result.set_index(tempIndex)\n",
    "temp_load = temp_load.set_index(tempIndex)\n",
    "temp_vehicle = temp_vehicle.set_index(tempIndex)\n",
    "\n",
    "temp_vehicle_demand = pd.DataFrame(\n",
    "    (myresult['vehicle_after_demand']) *    (1500000 / len(project.vehicles)) / (1000 * 1000))  # Scale up and W to MW\n",
    "temp_vehicle_demand = temp_vehicle_demand.set_index(tempIndex)\n",
    "\n",
    "temp_vehicle_generation = pd.DataFrame(\n",
    "    (-myresult['vehicle_after_generation']) *    (1500000 / len(project.vehicles)) / (1000 * 1000))  # Scale up and W to MW\n",
    "temp_vehicle_generation = temp_vehicle_generation.set_index(tempIndex)\n",
    "\n",
    "temp_vehicle_regdown = pd.DataFrame(\n",
    "    (myresult['vehicle_after_regdown']) *    (1500000 / len(project.vehicles)) / (1000 * 1000))  # Scale up and W to MW\n",
    "temp_vehicle_demand = temp_vehicle_demand.set_index(tempIndex)\n",
    "\n",
    "temp_vehicle_regup = pd.DataFrame(\n",
    "    (-myresult['vehicle_after_regup']) *    (1500000 / len(project.vehicles)) / (1000 * 1000))  # Scale up and W to MW\n",
    "temp_vehicle_generation = temp_vehicle_generation.set_index(tempIndex)\n",
    "\n",
    "\n",
    "plt.plot(temp_load['demand (MW)'], label='load')\n",
    "plt.plot(temp_result['demand (MW)'], label='load + vehicles')\n",
    "plt.ylabel('Power (MW)')\n",
    "plt.legend()\n",
    "plt.show()"
   ]
  },
  {
   "cell_type": "code",
   "execution_count": null,
   "metadata": {},
   "outputs": [],
   "source": []
  }
 ]
}