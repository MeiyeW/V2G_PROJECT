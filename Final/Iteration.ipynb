{
 "metadata": {
  "language_info": {
   "codemirror_mode": {
    "name": "ipython",
    "version": 3
   },
   "file_extension": ".py",
   "mimetype": "text/x-python",
   "name": "python",
   "nbconvert_exporter": "python",
   "pygments_lexer": "ipython3",
   "version": "2.7.16-final"
  },
  "orig_nbformat": 2,
  "kernelspec": {
   "name": "python_defaultSpec_1602682889942",
   "display_name": "Python 2.7.16 64-bit ('py27': conda)"
  }
 },
 "nbformat": 4,
 "nbformat_minor": 2,
 "cells": [
  {
   "cell_type": "code",
   "execution_count": 1,
   "metadata": {
    "tags": []
   },
   "outputs": [
    {
     "output_type": "stream",
     "name": "stderr",
     "text": "/Users/meiyewang/opt/anaconda3/envs/py27/lib/python2.7/site-packages/pandas/util/_decorators.py:188: FutureWarning: The `sheetname` keyword is deprecated, use `sheet_name` instead\n  return func(*args, **kwargs)\n/Users/meiyewang/opt/anaconda3/envs/py27/lib/python2.7/site-packages/v2gsim/core.py:194: FutureWarning: Sorting because non-concatenation axis is not aligned. A future version\nof pandas will change to not sort by default.\n\nTo accept the future behavior, pass 'sort=False'.\n\nTo retain the current behavior and silence the warning, pass 'sort=True'.\n\n  axis=0)\ncore.initialize_SOC: 100%|####################################################|\ncore.run:  15%|#########                                                      |       mean  mean_rate       std  std_rate\n0  0.950000   0.000000  0.000000  0.000000\n1  0.926814   0.023186  0.110897 -0.110897\n2  0.926647   0.000167  0.110849  0.000049\n\ncore.run: 100%|###############################################################|core.run: 100%|###############################################################|\n"
    }
   ],
   "source": [
    "from __future__ import division\n",
    "import datetime\n",
    "import matplotlib.pyplot as plt\n",
    "import numpy as np\n",
    "import v2gsim \n",
    "import utility\n",
    "from pyomo.opt import SolverFactory\n",
    "from pyomo.core import Var\n",
    "from pyomo.core import Param\n",
    "from operator import itemgetter\n",
    "import pandas as pd\n",
    "import os\n",
    "\n",
    "# Create a project and initialize it with some itineraries\n",
    "project = v2gsim.model.Project()\n",
    "project = v2gsim.itinerary.from_excel(project, '../data/NHTS/California.xlsx')\n",
    "project = v2gsim.itinerary.copy_append(project, nb_of_days_to_add=2)\n",
    "\n",
    "# This function from the itinerary module return all the vehicles that\n",
    "# start and end their day at the same location (e.g. home)\n",
    "project.vehicles = v2gsim.itinerary.get_cycling_itineraries(project)\n",
    "\n",
    "# Reduce the number of vehicles\n",
    "project.vehicles = project.vehicles[0:100]\n",
    "\n",
    "# Create some new charging infrastructures, append those new\n",
    "# infrastructures to the project list of infrastructures\n",
    "charging_stations = []\n",
    "charging_stations.append(\n",
    "    v2gsim.model.ChargingStation(name='L2', maximum_power=7200, minimum_power=0))\n",
    "charging_stations.append(\n",
    "    v2gsim.model.ChargingStation(name='L1_V1G', maximum_power=1400, minimum_power=0, post_simulation=True))\n",
    "charging_stations.append(\n",
    "    v2gsim.model.ChargingStation(name='L2_V2G', maximum_power=7200, minimum_power=-7200, post_simulation=True))\n",
    "project.charging_stations.extend(charging_stations)\n",
    "\n",
    "#Create a data frame with the new infrastructures mix and\n",
    "# apply this mix at all the locations\n",
    "df = pd.DataFrame(index=['L2', 'L1_V1G', 'L2_V2G'],\n",
    "                      data={'charging_station': charging_stations,\n",
    "                            'probability': [0.0, 0.4, 0.6]})\n",
    "for location in project.locations:\n",
    "    if location.category in ['Work', 'Home']:\n",
    "        location.available_charging_station = df.copy()\n",
    "\n",
    "# Initiate SOC and charging infrastructures\n",
    "v2gsim.core.initialize_SOC(project, nb_iteration=2)\n",
    "\n",
    "# Assign a basic result function to save power demand\n",
    "for vehicle in project.vehicles:\n",
    "    vehicle.result_function = v2gsim.post_simulation.netload_optimization.save_vehicle_state_for_optimization\n",
    "\n",
    "\n",
    "# Launch the simulation\n",
    "v2gsim.core.run(project, date_from=project.date + datetime.timedelta(days=1),\n",
    "                date_to=project.date + datetime.timedelta(days=2),\n",
    "                reset_charging_station=False)\n",
    "\n",
    "\n",
    "# Look at the results\n",
    "total_power_demand = v2gsim.post_simulation.result.total_power_demand(project)\n",
    "\n",
    "# Optimization\n",
    "myopti = v2gsim.post_simulation.netload_optimization.CentralOptimization(project, 10,\n",
    "                                                                         project.date + datetime.timedelta(days=1),\n",
    "                                                                         project.date + datetime.timedelta(days=2),\n",
    "                                                                         minimum_SOC=0.1, maximum_SOC=0.95)"
   ]
  },
  {
   "cell_type": "code",
   "execution_count": 3,
   "metadata": {
    "tags": []
   },
   "outputs": [
    {
     "output_type": "stream",
     "name": "stdout",
     "text": "date_time  netload\n0   8/1/20 00:00  26938.0\n1   8/1/20 01:00  25315.0\n2   8/1/20 02:00  24354.0\n3   8/1/20 03:00  23649.0\n4   8/1/20 04:00  23324.0\n5   8/1/20 05:00  23283.0\n6   8/1/20 06:00  23272.0\n7   8/1/20 07:00  23928.0\n8   8/1/20 08:00  24504.0\n9   8/1/20 09:00  25297.0\n10  8/1/20 10:00  26265.0\n11  8/1/20 11:00  27735.0\n12  8/1/20 12:00  29391.0\n13  8/1/20 13:00  31113.0\n14  8/1/20 14:00  32720.0\n15  8/1/20 15:00  34347.0\n16  8/1/20 16:00  35803.0\n17  8/1/20 17:00  37004.0\n18  8/1/20 18:00  37145.0\n19  8/1/20 19:00  36088.0\n20  8/1/20 20:00  34735.0\n21  8/1/20 21:00  32750.0\n22  8/1/20 22:00  30083.0\n23  8/1/20 23:00  27591.0\n24  8/2/20 00:00  25614.0\n25  8/2/20 01:00  24108.0\n26  8/2/20 02:00  22996.0\n27  8/2/20 03:00  22391.0\n28  8/2/20 04:00  22074.0\n29  8/2/20 05:00  21908.0\n30  8/2/20 06:00  21676.0\n31  8/2/20 07:00  21980.0\n32  8/2/20 08:00  22366.0\n33  8/2/20 09:00  23029.0\n34  8/2/20 10:00  24042.0\n35  8/2/20 11:00  25653.0\n36  8/2/20 12:00  27439.0\n37  8/2/20 13:00  29273.0\n38  8/2/20 14:00  31204.0\n39  8/2/20 15:00  32940.0\n40  8/2/20 16:00  34538.0\n41  8/2/20 17:00  35832.0\n42  8/2/20 18:00  35969.0\n43  8/2/20 19:00  34868.0\n44  8/2/20 20:00  33570.0\n45  8/2/20 21:00  31619.0\n46  8/2/20 22:00  29042.0\n47  8/2/20 23:00  26647.0\n    gen_capacity_veh  regup_capacity_veh  regdown_capacity_veh\n0                0.0       135166.666667         300833.333333\n1                0.0       180666.666667         255333.333333\n2                0.0       204466.666667         231533.333333\n3                0.0       229333.333333         206666.666667\n4                0.0       172766.666667         261833.333333\n5                0.0       184606.666667         237266.666667\n6                0.0       207080.000000         198300.000000\n7                0.0       185326.666667         193080.000000\n8                0.0       174060.000000         204853.333333\n9                0.0       172133.333333         200946.666667\n10               0.0       170266.666667         200933.333333\n11               0.0       192093.333333         172726.666667\n12               0.0       184340.000000         185953.333333\n13               0.0       190320.000000         186357.361663\n14               0.0       251220.000000         100800.000000\n15               0.0       259746.666667          78320.000000\n16               0.0       244306.666667          91166.666667\n17               0.0       190013.333333         148366.666667\n18               0.0       223020.000000         148566.666667\n19               0.0       211360.000000         175773.333333\n20               0.0       203566.666667         182520.000000\n21               0.0       214746.666667         190373.333333\n22               0.0       339646.666667          87033.333333\n23               0.0       394033.333333          41966.666667\n24               0.0       135166.666667         300833.333333\n25               0.0       180666.666667         255333.333333\n26               0.0       204466.666667         231533.333333\n27               0.0       229333.333333         206666.666667\n28               0.0       172766.666667         261833.333333\n29               0.0       184606.666667         237266.666667\n30               0.0       207080.000000         198300.000000\n31               0.0       185326.666667         193080.000000\n32               0.0       174060.000000         204853.333333\n33               0.0       172133.333333         200946.666667\n34               0.0       170266.666667         200933.333333\n35               0.0       192093.333333         172726.666667\n36               0.0       184340.000000         185953.333333\n37               0.0       190320.000000         186357.361663\n38               0.0       251220.000000         100800.000000\n39               0.0       259746.666667          78320.000000\n40               0.0       244306.666667          91166.666667\n41               0.0       190013.333333         148366.666667\n42               0.0       223020.000000         148566.666667\n43               0.0       211360.000000         175773.333333\n44               0.0       203566.666667         182520.000000\n45               0.0       214746.666667         190373.333333\n46               0.0       339646.666667          87033.333333\n47               0.0       394033.333333          41966.666667\n"
    }
   ],
   "source": [
    "import numpy as np\n",
    "import v2gsim \n",
    "import utility\n",
    "from pyomo.opt import SolverFactory\n",
    "from pyomo.core import Var\n",
    "from pyomo.core import Param\n",
    "from operator import itemgetter\n",
    "import pandas as pd\n",
    "import os\n",
    "\n",
    "myresult=pd.read_csv('../data/vehicle/VehiclesCap_iteration1.csv',header=0)\n",
    "N = 6# from 10mins to 1 hour\n",
    "myresult=myresult.groupby(myresult.index // N).sum()/6\n",
    "myresult=myresult.rename(columns={'EnergyDemand':'netload','EnergyGeneration':'gen_capacity_veh','Regup':'regup_capacity_veh','Regdown':'regdown_capacity_veh'})\n",
    "myresult=pd.concat([myresult,myresult],axis=0)\n",
    "myresult.index=range(myresult.shape[0])\n",
    "df_veh_cap=myresult[['gen_capacity_veh'\t,'regup_capacity_veh',\t'regdown_capacity_veh']]\n",
    "\n",
    "df_load = pd.read_csv('../data/netload/20200801CAISO.csv',header=0)[:48]\n",
    "print(df_load)\n",
    "df_load['netload']=myresult['netload']+df_load['netload']\n",
    "print(df_veh_cap)\n"
   ]
  },
  {
   "cell_type": "code",
   "execution_count": 10,
   "metadata": {
    "tags": []
   },
   "outputs": [
    {
     "output_type": "stream",
     "name": "stdout",
     "text": "(25, 2)\n(25, 1)\n(24, 4)\n"
    }
   ],
   "source": [
    "import pandas as pd\n",
    "import datetime \n",
    "data_name = 'iteration1_correct'\n",
    "# # Load the load data\n",
    "load = pd.read_csv('../data/netload/20200801CAISO.csv',header=0)\n",
    "print(load[:25].shape)\n",
    "#CAISO1819: netload in the unit of MW\n",
    "startday = datetime.datetime(2020, 8, 1)#iterate through 1 day per time\n",
    "\n",
    "load['date_time'] = [datetime.datetime.strptime(x,\"%m/%d/%y %H:%M\") for x in load['date_time']]\n",
    "load=load.set_index(load['date_time'])\n",
    "load=load.drop(columns='date_time')\n",
    "\n",
    "# ####################################### add the component of loop around day\n",
    "load = pd.DataFrame(load[startday: startday +datetime.timedelta(days=1)]['netload'])\n",
    "\n",
    "#iteration1\n",
    "pr=pd.read_csv('../data/price/price'+data_name+'.csv',header=0)\n",
    "print(load[:25].shape)\n",
    "print(pr[:25].shape)\n",
    "\n",
    "# pr=pr[:25].set_index(load[:25].index)"
   ]
  },
  {
   "cell_type": "code",
   "execution_count": 7,
   "metadata": {},
   "outputs": [
    {
     "output_type": "execute_result",
     "data": {
      "text/html": "<div>\n<style scoped>\n    .dataframe tbody tr th:only-of-type {\n        vertical-align: middle;\n    }\n\n    .dataframe tbody tr th {\n        vertical-align: top;\n    }\n\n    .dataframe thead th {\n        text-align: right;\n    }\n</style>\n<table border=\"1\" class=\"dataframe\">\n  <thead>\n    <tr style=\"text-align: right;\">\n      <th></th>\n      <th>Generation</th>\n      <th>Reg Up</th>\n      <th>Reg Down</th>\n      <th>load</th>\n      <th>Generation/Load</th>\n      <th>Regup/Load</th>\n      <th>RegDown/Load</th>\n    </tr>\n    <tr>\n      <th>Hour</th>\n      <th></th>\n      <th></th>\n      <th></th>\n      <th></th>\n      <th></th>\n      <th></th>\n      <th></th>\n    </tr>\n  </thead>\n  <tbody>\n    <tr>\n      <th>1</th>\n      <td>304804.149333</td>\n      <td>1724.032</td>\n      <td>1939.536000</td>\n      <td>25315.0</td>\n      <td>12.040456</td>\n      <td>0.068103</td>\n      <td>0.076616</td>\n    </tr>\n    <tr>\n      <th>2</th>\n      <td>181626.226667</td>\n      <td>1620.160</td>\n      <td>255333.333333</td>\n      <td>24354.0</td>\n      <td>7.457758</td>\n      <td>0.066525</td>\n      <td>10.484246</td>\n    </tr>\n    <tr>\n      <th>3</th>\n      <td>235041.661333</td>\n      <td>1558.656</td>\n      <td>1753.488000</td>\n      <td>23649.0</td>\n      <td>9.938757</td>\n      <td>0.065908</td>\n      <td>0.074146</td>\n    </tr>\n    <tr>\n      <th>4</th>\n      <td>230138.653333</td>\n      <td>1513.536</td>\n      <td>206666.666667</td>\n      <td>23324.0</td>\n      <td>9.867032</td>\n      <td>0.064892</td>\n      <td>8.860687</td>\n    </tr>\n    <tr>\n      <th>5</th>\n      <td>265096.661333</td>\n      <td>1492.736</td>\n      <td>1679.328000</td>\n      <td>23283.0</td>\n      <td>11.385846</td>\n      <td>0.064113</td>\n      <td>0.072127</td>\n    </tr>\n    <tr>\n      <th>6</th>\n      <td>185349.266667</td>\n      <td>1490.112</td>\n      <td>237266.666667</td>\n      <td>23272.0</td>\n      <td>7.964475</td>\n      <td>0.064030</td>\n      <td>10.195371</td>\n    </tr>\n    <tr>\n      <th>7</th>\n      <td>201569.954000</td>\n      <td>1489.408</td>\n      <td>1675.584000</td>\n      <td>23928.0</td>\n      <td>8.424020</td>\n      <td>0.062245</td>\n      <td>0.070026</td>\n    </tr>\n    <tr>\n      <th>8</th>\n      <td>186104.236667</td>\n      <td>1531.392</td>\n      <td>193080.000000</td>\n      <td>24504.0</td>\n      <td>7.594851</td>\n      <td>0.062496</td>\n      <td>7.879530</td>\n    </tr>\n    <tr>\n      <th>9</th>\n      <td>208279.521333</td>\n      <td>1568.256</td>\n      <td>1764.288000</td>\n      <td>25297.0</td>\n      <td>8.233368</td>\n      <td>0.061994</td>\n      <td>0.069743</td>\n    </tr>\n    <tr>\n      <th>10</th>\n      <td>172939.333333</td>\n      <td>1619.008</td>\n      <td>200946.666667</td>\n      <td>26265.0</td>\n      <td>6.584403</td>\n      <td>0.061641</td>\n      <td>7.650739</td>\n    </tr>\n    <tr>\n      <th>11</th>\n      <td>204605.113333</td>\n      <td>1680.960</td>\n      <td>1891.080000</td>\n      <td>27735.0</td>\n      <td>7.377145</td>\n      <td>0.060608</td>\n      <td>0.068184</td>\n    </tr>\n    <tr>\n      <th>12</th>\n      <td>192975.633333</td>\n      <td>1775.040</td>\n      <td>172726.666667</td>\n      <td>29391.0</td>\n      <td>6.565807</td>\n      <td>0.060394</td>\n      <td>5.876856</td>\n    </tr>\n    <tr>\n      <th>13</th>\n      <td>190063.285333</td>\n      <td>1881.024</td>\n      <td>2116.152000</td>\n      <td>31113.0</td>\n      <td>6.108806</td>\n      <td>0.060458</td>\n      <td>0.068015</td>\n    </tr>\n    <tr>\n      <th>14</th>\n      <td>191308.800000</td>\n      <td>1991.232</td>\n      <td>186357.361663</td>\n      <td>32720.0</td>\n      <td>5.846846</td>\n      <td>0.060857</td>\n      <td>5.695518</td>\n    </tr>\n    <tr>\n      <th>15</th>\n      <td>105373.040000</td>\n      <td>2094.080</td>\n      <td>2355.840000</td>\n      <td>34347.0</td>\n      <td>3.067896</td>\n      <td>0.060968</td>\n      <td>0.068589</td>\n    </tr>\n    <tr>\n      <th>16</th>\n      <td>260837.866667</td>\n      <td>2198.208</td>\n      <td>78320.000000</td>\n      <td>35803.0</td>\n      <td>7.285363</td>\n      <td>0.061397</td>\n      <td>2.187526</td>\n    </tr>\n    <tr>\n      <th>17</th>\n      <td>96186.052667</td>\n      <td>2291.392</td>\n      <td>2577.816000</td>\n      <td>37004.0</td>\n      <td>2.599342</td>\n      <td>0.061923</td>\n      <td>0.069663</td>\n    </tr>\n    <tr>\n      <th>18</th>\n      <td>191189.133333</td>\n      <td>2368.256</td>\n      <td>148366.666667</td>\n      <td>37145.0</td>\n      <td>5.147103</td>\n      <td>0.063757</td>\n      <td>3.994257</td>\n    </tr>\n    <tr>\n      <th>19</th>\n      <td>153757.106667</td>\n      <td>2377.280</td>\n      <td>2674.440000</td>\n      <td>36088.0</td>\n      <td>4.260616</td>\n      <td>0.065875</td>\n      <td>0.074109</td>\n    </tr>\n    <tr>\n      <th>20</th>\n      <td>212504.900000</td>\n      <td>2309.632</td>\n      <td>175773.333333</td>\n      <td>34735.0</td>\n      <td>6.117890</td>\n      <td>0.066493</td>\n      <td>5.060410</td>\n    </tr>\n    <tr>\n      <th>21</th>\n      <td>187371.920000</td>\n      <td>2223.040</td>\n      <td>2500.920000</td>\n      <td>32750.0</td>\n      <td>5.721280</td>\n      <td>0.067879</td>\n      <td>0.076364</td>\n    </tr>\n    <tr>\n      <th>22</th>\n      <td>215783.866667</td>\n      <td>2096.000</td>\n      <td>190373.333333</td>\n      <td>30083.0</td>\n      <td>7.172950</td>\n      <td>0.069674</td>\n      <td>6.328270</td>\n    </tr>\n    <tr>\n      <th>23</th>\n      <td>91233.109333</td>\n      <td>1925.312</td>\n      <td>2165.976000</td>\n      <td>27591.0</td>\n      <td>3.306626</td>\n      <td>0.069780</td>\n      <td>0.078503</td>\n    </tr>\n    <tr>\n      <th>24</th>\n      <td>394904.833333</td>\n      <td>1765.824</td>\n      <td>41966.666667</td>\n      <td>NaN</td>\n      <td>NaN</td>\n      <td>NaN</td>\n      <td>NaN</td>\n    </tr>\n    <tr>\n      <th>25</th>\n      <td>305157.019553</td>\n      <td>1639.296</td>\n      <td>1844.208000</td>\n      <td>NaN</td>\n      <td>NaN</td>\n      <td>NaN</td>\n      <td>NaN</td>\n    </tr>\n  </tbody>\n</table>\n</div>",
      "text/plain": "         Generation    Reg Up       Reg Down     load  Generation/Load  \\\nHour                                                                     \n1     304804.149333  1724.032    1939.536000  25315.0        12.040456   \n2     181626.226667  1620.160  255333.333333  24354.0         7.457758   \n3     235041.661333  1558.656    1753.488000  23649.0         9.938757   \n4     230138.653333  1513.536  206666.666667  23324.0         9.867032   \n5     265096.661333  1492.736    1679.328000  23283.0        11.385846   \n6     185349.266667  1490.112  237266.666667  23272.0         7.964475   \n7     201569.954000  1489.408    1675.584000  23928.0         8.424020   \n8     186104.236667  1531.392  193080.000000  24504.0         7.594851   \n9     208279.521333  1568.256    1764.288000  25297.0         8.233368   \n10    172939.333333  1619.008  200946.666667  26265.0         6.584403   \n11    204605.113333  1680.960    1891.080000  27735.0         7.377145   \n12    192975.633333  1775.040  172726.666667  29391.0         6.565807   \n13    190063.285333  1881.024    2116.152000  31113.0         6.108806   \n14    191308.800000  1991.232  186357.361663  32720.0         5.846846   \n15    105373.040000  2094.080    2355.840000  34347.0         3.067896   \n16    260837.866667  2198.208   78320.000000  35803.0         7.285363   \n17     96186.052667  2291.392    2577.816000  37004.0         2.599342   \n18    191189.133333  2368.256  148366.666667  37145.0         5.147103   \n19    153757.106667  2377.280    2674.440000  36088.0         4.260616   \n20    212504.900000  2309.632  175773.333333  34735.0         6.117890   \n21    187371.920000  2223.040    2500.920000  32750.0         5.721280   \n22    215783.866667  2096.000  190373.333333  30083.0         7.172950   \n23     91233.109333  1925.312    2165.976000  27591.0         3.306626   \n24    394904.833333  1765.824   41966.666667      NaN              NaN   \n25    305157.019553  1639.296    1844.208000      NaN              NaN   \n\n      Regup/Load  RegDown/Load  \nHour                            \n1       0.068103      0.076616  \n2       0.066525     10.484246  \n3       0.065908      0.074146  \n4       0.064892      8.860687  \n5       0.064113      0.072127  \n6       0.064030     10.195371  \n7       0.062245      0.070026  \n8       0.062496      7.879530  \n9       0.061994      0.069743  \n10      0.061641      7.650739  \n11      0.060608      0.068184  \n12      0.060394      5.876856  \n13      0.060458      0.068015  \n14      0.060857      5.695518  \n15      0.060968      0.068589  \n16      0.061397      2.187526  \n17      0.061923      0.069663  \n18      0.063757      3.994257  \n19      0.065875      0.074109  \n20      0.066493      5.060410  \n21      0.067879      0.076364  \n22      0.069674      6.328270  \n23      0.069780      0.078503  \n24           NaN           NaN  \n25           NaN           NaN  "
     },
     "metadata": {},
     "execution_count": 7
    }
   ],
   "source": [
    "import pandas as pd\n",
    "import datetime \n",
    "data_name = 'iteration1_correct'\n",
    "mwh_pd=pd.read_csv('../data/generator/GeneratorResult'+data_name+'.csv')\n",
    "mwh_pd_gr=mwh_pd.groupby(mwh_pd['Hour'])['Generation','Reg Up','Reg Down'].sum()\n",
    "\n",
    "\n",
    "myresult=pd.read_csv('../data/vehicle/VehiclesCap_iteration1.csv',header=0)\n",
    "N = 6# from 10mins to 1 hour\n",
    "myresult=myresult.groupby(myresult.index // N).sum()/6\n",
    "myresult=myresult.rename(columns={'EnergyDemand':'netload','EnergyGeneration':'gen_capacity_veh','Regup':'regup_capacity_veh','Regdown':'regdown_capacity_veh'})\n",
    "\n",
    "df_veh_cap=myresult[['gen_capacity_veh'\t,'regup_capacity_veh',\t'regdown_capacity_veh']]\n",
    "df_load = pd.read_csv('../data/netload/20200801CAISO.csv',header=0)[:26]\n",
    "mwh_pd_gr['load']=myresult['netload']+df_load['netload']\n",
    "mwh_pd_gr['Generation/Load']=mwh_pd_gr['Generation']/mwh_pd_gr['load']\n",
    "mwh_pd_gr['Regup/Load']=mwh_pd_gr['Reg Up']/mwh_pd_gr['load']\n",
    "mwh_pd_gr['RegDown/Load']=mwh_pd_gr['Reg Down']/mwh_pd_gr['load']\n",
    "mwh_pd_gr"
   ]
  },
  {
   "cell_type": "code",
   "execution_count": 12,
   "metadata": {},
   "outputs": [
    {
     "output_type": "execute_result",
     "data": {
      "text/html": "<div>\n<style scoped>\n    .dataframe tbody tr th:only-of-type {\n        vertical-align: middle;\n    }\n\n    .dataframe tbody tr th {\n        vertical-align: top;\n    }\n\n    .dataframe thead th {\n        text-align: right;\n    }\n</style>\n<table border=\"1\" class=\"dataframe\">\n  <thead>\n    <tr style=\"text-align: right;\">\n      <th></th>\n      <th>Generator</th>\n      <th>Day</th>\n      <th>Hour</th>\n      <th>Generation</th>\n      <th>Reg Up</th>\n      <th>Reg Down</th>\n    </tr>\n  </thead>\n  <tbody>\n    <tr>\n      <th>797</th>\n      <td>solar</td>\n      <td>1</td>\n      <td>1</td>\n      <td>0.00</td>\n      <td>0.0</td>\n      <td>0.0</td>\n    </tr>\n    <tr>\n      <th>1597</th>\n      <td>solar</td>\n      <td>1</td>\n      <td>2</td>\n      <td>0.00</td>\n      <td>0.0</td>\n      <td>0.0</td>\n    </tr>\n    <tr>\n      <th>2397</th>\n      <td>solar</td>\n      <td>1</td>\n      <td>3</td>\n      <td>0.00</td>\n      <td>0.0</td>\n      <td>0.0</td>\n    </tr>\n    <tr>\n      <th>3197</th>\n      <td>solar</td>\n      <td>1</td>\n      <td>4</td>\n      <td>0.00</td>\n      <td>0.0</td>\n      <td>0.0</td>\n    </tr>\n    <tr>\n      <th>3997</th>\n      <td>solar</td>\n      <td>1</td>\n      <td>5</td>\n      <td>0.00</td>\n      <td>0.0</td>\n      <td>0.0</td>\n    </tr>\n    <tr>\n      <th>4797</th>\n      <td>solar</td>\n      <td>1</td>\n      <td>6</td>\n      <td>0.00</td>\n      <td>0.0</td>\n      <td>0.0</td>\n    </tr>\n    <tr>\n      <th>5597</th>\n      <td>solar</td>\n      <td>1</td>\n      <td>7</td>\n      <td>15.37</td>\n      <td>0.0</td>\n      <td>0.0</td>\n    </tr>\n    <tr>\n      <th>6397</th>\n      <td>solar</td>\n      <td>1</td>\n      <td>8</td>\n      <td>15.37</td>\n      <td>0.0</td>\n      <td>0.0</td>\n    </tr>\n    <tr>\n      <th>7197</th>\n      <td>solar</td>\n      <td>1</td>\n      <td>9</td>\n      <td>0.00</td>\n      <td>0.0</td>\n      <td>0.0</td>\n    </tr>\n    <tr>\n      <th>7997</th>\n      <td>solar</td>\n      <td>1</td>\n      <td>10</td>\n      <td>0.00</td>\n      <td>0.0</td>\n      <td>0.0</td>\n    </tr>\n    <tr>\n      <th>8797</th>\n      <td>solar</td>\n      <td>1</td>\n      <td>11</td>\n      <td>0.00</td>\n      <td>0.0</td>\n      <td>0.0</td>\n    </tr>\n    <tr>\n      <th>9597</th>\n      <td>solar</td>\n      <td>1</td>\n      <td>12</td>\n      <td>0.00</td>\n      <td>0.0</td>\n      <td>0.0</td>\n    </tr>\n    <tr>\n      <th>10397</th>\n      <td>solar</td>\n      <td>1</td>\n      <td>13</td>\n      <td>0.00</td>\n      <td>0.0</td>\n      <td>0.0</td>\n    </tr>\n    <tr>\n      <th>11197</th>\n      <td>solar</td>\n      <td>1</td>\n      <td>14</td>\n      <td>0.00</td>\n      <td>0.0</td>\n      <td>0.0</td>\n    </tr>\n    <tr>\n      <th>11997</th>\n      <td>solar</td>\n      <td>1</td>\n      <td>15</td>\n      <td>0.00</td>\n      <td>0.0</td>\n      <td>0.0</td>\n    </tr>\n    <tr>\n      <th>12797</th>\n      <td>solar</td>\n      <td>1</td>\n      <td>16</td>\n      <td>0.00</td>\n      <td>0.0</td>\n      <td>0.0</td>\n    </tr>\n    <tr>\n      <th>13597</th>\n      <td>solar</td>\n      <td>1</td>\n      <td>17</td>\n      <td>15.37</td>\n      <td>0.0</td>\n      <td>0.0</td>\n    </tr>\n    <tr>\n      <th>14397</th>\n      <td>solar</td>\n      <td>1</td>\n      <td>18</td>\n      <td>0.00</td>\n      <td>0.0</td>\n      <td>0.0</td>\n    </tr>\n    <tr>\n      <th>15197</th>\n      <td>solar</td>\n      <td>1</td>\n      <td>19</td>\n      <td>0.00</td>\n      <td>0.0</td>\n      <td>0.0</td>\n    </tr>\n    <tr>\n      <th>15997</th>\n      <td>solar</td>\n      <td>1</td>\n      <td>20</td>\n      <td>0.00</td>\n      <td>0.0</td>\n      <td>0.0</td>\n    </tr>\n    <tr>\n      <th>16797</th>\n      <td>solar</td>\n      <td>1</td>\n      <td>21</td>\n      <td>0.00</td>\n      <td>0.0</td>\n      <td>0.0</td>\n    </tr>\n    <tr>\n      <th>17597</th>\n      <td>solar</td>\n      <td>1</td>\n      <td>22</td>\n      <td>0.00</td>\n      <td>0.0</td>\n      <td>0.0</td>\n    </tr>\n    <tr>\n      <th>18397</th>\n      <td>solar</td>\n      <td>1</td>\n      <td>23</td>\n      <td>0.00</td>\n      <td>0.0</td>\n      <td>0.0</td>\n    </tr>\n    <tr>\n      <th>19197</th>\n      <td>solar</td>\n      <td>1</td>\n      <td>24</td>\n      <td>0.00</td>\n      <td>0.0</td>\n      <td>0.0</td>\n    </tr>\n    <tr>\n      <th>19997</th>\n      <td>solar</td>\n      <td>1</td>\n      <td>25</td>\n      <td>0.00</td>\n      <td>0.0</td>\n      <td>0.0</td>\n    </tr>\n  </tbody>\n</table>\n</div>",
      "text/plain": "      Generator  Day  Hour  Generation  Reg Up  Reg Down\n797       solar    1     1        0.00     0.0       0.0\n1597      solar    1     2        0.00     0.0       0.0\n2397      solar    1     3        0.00     0.0       0.0\n3197      solar    1     4        0.00     0.0       0.0\n3997      solar    1     5        0.00     0.0       0.0\n4797      solar    1     6        0.00     0.0       0.0\n5597      solar    1     7       15.37     0.0       0.0\n6397      solar    1     8       15.37     0.0       0.0\n7197      solar    1     9        0.00     0.0       0.0\n7997      solar    1    10        0.00     0.0       0.0\n8797      solar    1    11        0.00     0.0       0.0\n9597      solar    1    12        0.00     0.0       0.0\n10397     solar    1    13        0.00     0.0       0.0\n11197     solar    1    14        0.00     0.0       0.0\n11997     solar    1    15        0.00     0.0       0.0\n12797     solar    1    16        0.00     0.0       0.0\n13597     solar    1    17       15.37     0.0       0.0\n14397     solar    1    18        0.00     0.0       0.0\n15197     solar    1    19        0.00     0.0       0.0\n15997     solar    1    20        0.00     0.0       0.0\n16797     solar    1    21        0.00     0.0       0.0\n17597     solar    1    22        0.00     0.0       0.0\n18397     solar    1    23        0.00     0.0       0.0\n19197     solar    1    24        0.00     0.0       0.0\n19997     solar    1    25        0.00     0.0       0.0"
     },
     "metadata": {},
     "execution_count": 12
    }
   ],
   "source": [
    "mwh_pd_gr_s=mwh_pd[mwh_pd['Generator']=='solar']\n",
    "\n",
    "mwh_pd_gr_s"
   ]
  },
  {
   "cell_type": "code",
   "execution_count": 13,
   "metadata": {},
   "outputs": [
    {
     "output_type": "execute_result",
     "data": {
      "text/html": "<div>\n<style scoped>\n    .dataframe tbody tr th:only-of-type {\n        vertical-align: middle;\n    }\n\n    .dataframe tbody tr th {\n        vertical-align: top;\n    }\n\n    .dataframe thead th {\n        text-align: right;\n    }\n</style>\n<table border=\"1\" class=\"dataframe\">\n  <thead>\n    <tr style=\"text-align: right;\">\n      <th></th>\n      <th>Generator</th>\n      <th>Day</th>\n      <th>Hour</th>\n      <th>Generation</th>\n      <th>Reg Up</th>\n      <th>Reg Down</th>\n    </tr>\n  </thead>\n  <tbody>\n    <tr>\n      <th>799</th>\n      <td>wind</td>\n      <td>1</td>\n      <td>1</td>\n      <td>200.48000</td>\n      <td>0.0</td>\n      <td>0.0</td>\n    </tr>\n    <tr>\n      <th>1599</th>\n      <td>wind</td>\n      <td>1</td>\n      <td>2</td>\n      <td>150.36000</td>\n      <td>0.0</td>\n      <td>0.0</td>\n    </tr>\n    <tr>\n      <th>2399</th>\n      <td>wind</td>\n      <td>1</td>\n      <td>3</td>\n      <td>100.24000</td>\n      <td>0.0</td>\n      <td>0.0</td>\n    </tr>\n    <tr>\n      <th>3199</th>\n      <td>wind</td>\n      <td>1</td>\n      <td>4</td>\n      <td>50.12000</td>\n      <td>0.0</td>\n      <td>0.0</td>\n    </tr>\n    <tr>\n      <th>3999</th>\n      <td>wind</td>\n      <td>1</td>\n      <td>5</td>\n      <td>0.00000</td>\n      <td>0.0</td>\n      <td>0.0</td>\n    </tr>\n    <tr>\n      <th>4799</th>\n      <td>wind</td>\n      <td>1</td>\n      <td>6</td>\n      <td>0.00000</td>\n      <td>0.0</td>\n      <td>0.0</td>\n    </tr>\n    <tr>\n      <th>5599</th>\n      <td>wind</td>\n      <td>1</td>\n      <td>7</td>\n      <td>0.00000</td>\n      <td>0.0</td>\n      <td>0.0</td>\n    </tr>\n    <tr>\n      <th>6399</th>\n      <td>wind</td>\n      <td>1</td>\n      <td>8</td>\n      <td>0.00000</td>\n      <td>0.0</td>\n      <td>0.0</td>\n    </tr>\n    <tr>\n      <th>7199</th>\n      <td>wind</td>\n      <td>1</td>\n      <td>9</td>\n      <td>0.00000</td>\n      <td>0.0</td>\n      <td>0.0</td>\n    </tr>\n    <tr>\n      <th>7999</th>\n      <td>wind</td>\n      <td>1</td>\n      <td>10</td>\n      <td>0.00000</td>\n      <td>0.0</td>\n      <td>0.0</td>\n    </tr>\n    <tr>\n      <th>8799</th>\n      <td>wind</td>\n      <td>1</td>\n      <td>11</td>\n      <td>0.00000</td>\n      <td>0.0</td>\n      <td>0.0</td>\n    </tr>\n    <tr>\n      <th>9599</th>\n      <td>wind</td>\n      <td>1</td>\n      <td>12</td>\n      <td>0.00000</td>\n      <td>0.0</td>\n      <td>0.0</td>\n    </tr>\n    <tr>\n      <th>10399</th>\n      <td>wind</td>\n      <td>1</td>\n      <td>13</td>\n      <td>0.00000</td>\n      <td>0.0</td>\n      <td>0.0</td>\n    </tr>\n    <tr>\n      <th>11199</th>\n      <td>wind</td>\n      <td>1</td>\n      <td>14</td>\n      <td>0.00000</td>\n      <td>0.0</td>\n      <td>0.0</td>\n    </tr>\n    <tr>\n      <th>11999</th>\n      <td>wind</td>\n      <td>1</td>\n      <td>15</td>\n      <td>0.00000</td>\n      <td>0.0</td>\n      <td>0.0</td>\n    </tr>\n    <tr>\n      <th>12799</th>\n      <td>wind</td>\n      <td>1</td>\n      <td>16</td>\n      <td>0.00000</td>\n      <td>0.0</td>\n      <td>0.0</td>\n    </tr>\n    <tr>\n      <th>13599</th>\n      <td>wind</td>\n      <td>1</td>\n      <td>17</td>\n      <td>0.00000</td>\n      <td>0.0</td>\n      <td>0.0</td>\n    </tr>\n    <tr>\n      <th>14399</th>\n      <td>wind</td>\n      <td>1</td>\n      <td>18</td>\n      <td>0.00000</td>\n      <td>0.0</td>\n      <td>0.0</td>\n    </tr>\n    <tr>\n      <th>15199</th>\n      <td>wind</td>\n      <td>1</td>\n      <td>19</td>\n      <td>0.00000</td>\n      <td>0.0</td>\n      <td>0.0</td>\n    </tr>\n    <tr>\n      <th>15999</th>\n      <td>wind</td>\n      <td>1</td>\n      <td>20</td>\n      <td>0.00000</td>\n      <td>0.0</td>\n      <td>0.0</td>\n    </tr>\n    <tr>\n      <th>16799</th>\n      <td>wind</td>\n      <td>1</td>\n      <td>21</td>\n      <td>0.00000</td>\n      <td>0.0</td>\n      <td>0.0</td>\n    </tr>\n    <tr>\n      <th>17599</th>\n      <td>wind</td>\n      <td>1</td>\n      <td>22</td>\n      <td>0.00000</td>\n      <td>0.0</td>\n      <td>0.0</td>\n    </tr>\n    <tr>\n      <th>18399</th>\n      <td>wind</td>\n      <td>1</td>\n      <td>23</td>\n      <td>0.00000</td>\n      <td>0.0</td>\n      <td>0.0</td>\n    </tr>\n    <tr>\n      <th>19199</th>\n      <td>wind</td>\n      <td>1</td>\n      <td>24</td>\n      <td>0.00000</td>\n      <td>0.0</td>\n      <td>0.0</td>\n    </tr>\n    <tr>\n      <th>19999</th>\n      <td>wind</td>\n      <td>1</td>\n      <td>25</td>\n      <td>750.57822</td>\n      <td>0.0</td>\n      <td>0.0</td>\n    </tr>\n  </tbody>\n</table>\n</div>",
      "text/plain": "      Generator  Day  Hour  Generation  Reg Up  Reg Down\n799        wind    1     1   200.48000     0.0       0.0\n1599       wind    1     2   150.36000     0.0       0.0\n2399       wind    1     3   100.24000     0.0       0.0\n3199       wind    1     4    50.12000     0.0       0.0\n3999       wind    1     5     0.00000     0.0       0.0\n4799       wind    1     6     0.00000     0.0       0.0\n5599       wind    1     7     0.00000     0.0       0.0\n6399       wind    1     8     0.00000     0.0       0.0\n7199       wind    1     9     0.00000     0.0       0.0\n7999       wind    1    10     0.00000     0.0       0.0\n8799       wind    1    11     0.00000     0.0       0.0\n9599       wind    1    12     0.00000     0.0       0.0\n10399      wind    1    13     0.00000     0.0       0.0\n11199      wind    1    14     0.00000     0.0       0.0\n11999      wind    1    15     0.00000     0.0       0.0\n12799      wind    1    16     0.00000     0.0       0.0\n13599      wind    1    17     0.00000     0.0       0.0\n14399      wind    1    18     0.00000     0.0       0.0\n15199      wind    1    19     0.00000     0.0       0.0\n15999      wind    1    20     0.00000     0.0       0.0\n16799      wind    1    21     0.00000     0.0       0.0\n17599      wind    1    22     0.00000     0.0       0.0\n18399      wind    1    23     0.00000     0.0       0.0\n19199      wind    1    24     0.00000     0.0       0.0\n19999      wind    1    25   750.57822     0.0       0.0"
     },
     "metadata": {},
     "execution_count": 13
    }
   ],
   "source": [
    "\n",
    "mwh_pd_gr_w=mwh_pd[mwh_pd['Generator']=='wind']\n",
    "\n",
    "mwh_pd_gr_w"
   ]
  },
  {
   "cell_type": "code",
   "execution_count": 18,
   "metadata": {
    "tags": []
   },
   "outputs": [
    {
     "output_type": "stream",
     "name": "stdout",
     "text": "gen_capacity_veh  regup_capacity_veh  regdown_capacity_veh\n0                0.0       135166.666667         300833.333333\n1                0.0       180666.666667         255333.333333\n2                0.0       204466.666667         231533.333333\n3                0.0       229333.333333         206666.666667\n4                0.0       172766.666667         261833.333333\n5                0.0       184606.666667         237266.666667\n6                0.0       207080.000000         198300.000000\n7                0.0       185326.666667         193080.000000\n8                0.0       174060.000000         204853.333333\n9                0.0       172133.333333         200946.666667\n10               0.0       170266.666667         200933.333333\n11               0.0       192093.333333         172726.666667\n12               0.0       184340.000000         185953.333333\n13               0.0       190320.000000         186357.361663\n14               0.0       251220.000000         100800.000000\n15               0.0       259746.666667          78320.000000\n16               0.0       244306.666667          91166.666667\n17               0.0       190013.333333         148366.666667\n18               0.0       223020.000000         148566.666667\n19               0.0       211360.000000         175773.333333\n20               0.0       203566.666667         182520.000000\n21               0.0       214746.666667         190373.333333\n22               0.0       339646.666667          87033.333333\n23               0.0       394033.333333          41966.666667\n24               0.0       135166.666667         300833.333333\n25               0.0       180666.666667         255333.333333\n26               0.0       204466.666667         231533.333333\n27               0.0       229333.333333         206666.666667\n28               0.0       172766.666667         261833.333333\n29               0.0       184606.666667         237266.666667\n30               0.0       207080.000000         198300.000000\n31               0.0       185326.666667         193080.000000\n32               0.0       174060.000000         204853.333333\n33               0.0       172133.333333         200946.666667\n34               0.0       170266.666667         200933.333333\n35               0.0       192093.333333         172726.666667\n36               0.0       184340.000000         185953.333333\n37               0.0       190320.000000         186357.361663\n38               0.0       251220.000000         100800.000000\n39               0.0       259746.666667          78320.000000\n40               0.0       244306.666667          91166.666667\n41               0.0       190013.333333         148366.666667\n42               0.0       223020.000000         148566.666667\n43               0.0       211360.000000         175773.333333\n44               0.0       203566.666667         182520.000000\n45               0.0       214746.666667         190373.333333\n46               0.0       339646.666667          87033.333333\n47               0.0       394033.333333          41966.666667\n"
    }
   ],
   "source": [
    "myresult=pd.read_csv('../data/vehicle/VehiclesCap_iteration1.csv',header=0)\n",
    "N = 6# from 10mins to 1 hour\n",
    "myresult=myresult.groupby(myresult.index // N).sum()/6\n",
    "myresult=myresult.rename(columns={'EnergyDemand':'netload','EnergyGeneration':'gen_capacity_veh','Regup':'regup_capacity_veh','Regdown':'regdown_capacity_veh'})\n",
    "myresult=pd.concat([myresult,myresult],axis=0)\n",
    "myresult.index=range(myresult.shape[0])\n",
    "df_veh_cap=myresult[['gen_capacity_veh'\t,'regup_capacity_veh',\t'regdown_capacity_veh']]\n",
    "print(df_veh_cap)\n",
    "with open(''+str('vehicle_test')+'.dat', 'w') as f:\n",
    "    f.write('param:' + '\\t')\n",
    "    for c in df_veh_cap.columns:\n",
    "        if c != 'name':\n",
    "            f.write(c + '\\t')\n",
    "    f.write(':=\\n\\n')\n",
    "    for i in range(0,len(df_veh_cap)):    \n",
    "        for c in df_veh_cap.columns: \n",
    "            if c=='gen_capacity_veh':\n",
    "                f.write(str(i+1) + '\\t' + str(df_veh_cap.loc[i,c]) + '\\t') \n",
    "            else:\n",
    "                f.write(str(df_veh_cap.loc[i,c]) + '\\t')            \n",
    "        f.write('\\n')\n",
    "    f.write(';\\n\\n')\n"
   ]
  },
  {
   "cell_type": "code",
   "execution_count": 34,
   "metadata": {},
   "outputs": [
    {
     "output_type": "execute_result",
     "data": {
      "text/html": "<div>\n<style scoped>\n    .dataframe tbody tr th:only-of-type {\n        vertical-align: middle;\n    }\n\n    .dataframe tbody tr th {\n        vertical-align: top;\n    }\n\n    .dataframe thead th {\n        text-align: right;\n    }\n</style>\n<table border=\"1\" class=\"dataframe\">\n  <thead>\n    <tr style=\"text-align: right;\">\n      <th></th>\n      <th>netload</th>\n      <th>gen_capacity_veh</th>\n      <th>regup_capacity_veh</th>\n      <th>regdown_capacity_veh</th>\n    </tr>\n  </thead>\n  <tbody>\n    <tr>\n      <th>0</th>\n      <td>0.0</td>\n      <td>0.0</td>\n      <td>135166.666667</td>\n      <td>300833.333333</td>\n    </tr>\n    <tr>\n      <th>1</th>\n      <td>0.0</td>\n      <td>0.0</td>\n      <td>180666.666667</td>\n      <td>255333.333333</td>\n    </tr>\n    <tr>\n      <th>2</th>\n      <td>0.0</td>\n      <td>0.0</td>\n      <td>204466.666667</td>\n      <td>231533.333333</td>\n    </tr>\n    <tr>\n      <th>3</th>\n      <td>0.0</td>\n      <td>0.0</td>\n      <td>229333.333333</td>\n      <td>206666.666667</td>\n    </tr>\n    <tr>\n      <th>4</th>\n      <td>0.0</td>\n      <td>0.0</td>\n      <td>172766.666667</td>\n      <td>261833.333333</td>\n    </tr>\n    <tr>\n      <th>5</th>\n      <td>0.0</td>\n      <td>0.0</td>\n      <td>184606.666667</td>\n      <td>237266.666667</td>\n    </tr>\n    <tr>\n      <th>6</th>\n      <td>0.0</td>\n      <td>0.0</td>\n      <td>207080.000000</td>\n      <td>198300.000000</td>\n    </tr>\n    <tr>\n      <th>7</th>\n      <td>0.0</td>\n      <td>0.0</td>\n      <td>185326.666667</td>\n      <td>193080.000000</td>\n    </tr>\n    <tr>\n      <th>8</th>\n      <td>0.0</td>\n      <td>0.0</td>\n      <td>174060.000000</td>\n      <td>204853.333333</td>\n    </tr>\n    <tr>\n      <th>9</th>\n      <td>0.0</td>\n      <td>0.0</td>\n      <td>172133.333333</td>\n      <td>200946.666667</td>\n    </tr>\n    <tr>\n      <th>10</th>\n      <td>0.0</td>\n      <td>0.0</td>\n      <td>170266.666667</td>\n      <td>200933.333333</td>\n    </tr>\n    <tr>\n      <th>11</th>\n      <td>0.0</td>\n      <td>0.0</td>\n      <td>192093.333333</td>\n      <td>172726.666667</td>\n    </tr>\n    <tr>\n      <th>12</th>\n      <td>0.0</td>\n      <td>0.0</td>\n      <td>184340.000000</td>\n      <td>185953.333333</td>\n    </tr>\n    <tr>\n      <th>13</th>\n      <td>0.0</td>\n      <td>0.0</td>\n      <td>190320.000000</td>\n      <td>186357.361663</td>\n    </tr>\n    <tr>\n      <th>14</th>\n      <td>0.0</td>\n      <td>0.0</td>\n      <td>251220.000000</td>\n      <td>100800.000000</td>\n    </tr>\n    <tr>\n      <th>15</th>\n      <td>0.0</td>\n      <td>0.0</td>\n      <td>259746.666667</td>\n      <td>78320.000000</td>\n    </tr>\n    <tr>\n      <th>16</th>\n      <td>0.0</td>\n      <td>0.0</td>\n      <td>244306.666667</td>\n      <td>91166.666667</td>\n    </tr>\n    <tr>\n      <th>17</th>\n      <td>0.0</td>\n      <td>0.0</td>\n      <td>190013.333333</td>\n      <td>148366.666667</td>\n    </tr>\n    <tr>\n      <th>18</th>\n      <td>0.0</td>\n      <td>0.0</td>\n      <td>223020.000000</td>\n      <td>148566.666667</td>\n    </tr>\n    <tr>\n      <th>19</th>\n      <td>0.0</td>\n      <td>0.0</td>\n      <td>211360.000000</td>\n      <td>175773.333333</td>\n    </tr>\n    <tr>\n      <th>20</th>\n      <td>0.0</td>\n      <td>0.0</td>\n      <td>203566.666667</td>\n      <td>182520.000000</td>\n    </tr>\n    <tr>\n      <th>21</th>\n      <td>0.0</td>\n      <td>0.0</td>\n      <td>214746.666667</td>\n      <td>190373.333333</td>\n    </tr>\n    <tr>\n      <th>22</th>\n      <td>0.0</td>\n      <td>0.0</td>\n      <td>339646.666667</td>\n      <td>87033.333333</td>\n    </tr>\n    <tr>\n      <th>23</th>\n      <td>0.0</td>\n      <td>0.0</td>\n      <td>394033.333333</td>\n      <td>41966.666667</td>\n    </tr>\n  </tbody>\n</table>\n</div>",
      "text/plain": "    netload  gen_capacity_veh  regup_capacity_veh  regdown_capacity_veh\n0       0.0               0.0       135166.666667         300833.333333\n1       0.0               0.0       180666.666667         255333.333333\n2       0.0               0.0       204466.666667         231533.333333\n3       0.0               0.0       229333.333333         206666.666667\n4       0.0               0.0       172766.666667         261833.333333\n5       0.0               0.0       184606.666667         237266.666667\n6       0.0               0.0       207080.000000         198300.000000\n7       0.0               0.0       185326.666667         193080.000000\n8       0.0               0.0       174060.000000         204853.333333\n9       0.0               0.0       172133.333333         200946.666667\n10      0.0               0.0       170266.666667         200933.333333\n11      0.0               0.0       192093.333333         172726.666667\n12      0.0               0.0       184340.000000         185953.333333\n13      0.0               0.0       190320.000000         186357.361663\n14      0.0               0.0       251220.000000         100800.000000\n15      0.0               0.0       259746.666667          78320.000000\n16      0.0               0.0       244306.666667          91166.666667\n17      0.0               0.0       190013.333333         148366.666667\n18      0.0               0.0       223020.000000         148566.666667\n19      0.0               0.0       211360.000000         175773.333333\n20      0.0               0.0       203566.666667         182520.000000\n21      0.0               0.0       214746.666667         190373.333333\n22      0.0               0.0       339646.666667          87033.333333\n23      0.0               0.0       394033.333333          41966.666667"
     },
     "metadata": {},
     "execution_count": 34
    }
   ],
   "source": [
    "import pandas as pd \n",
    "myresult=pd.read_csv('../data/vehicle/VehiclesCap_iteration1.csv',header=0)\n",
    "N = 6\n",
    "myresult=myresult.groupby(myresult.index // N).sum()/6\n",
    "myresult=myresult.rename(columns={'EnergyDemand':'netload','EnergyGeneration':'gen_capacity_veh','Regup':'regup_capacity_veh','Regdown':'regdown_capacity_veh'})\n",
    "\n",
    "df_load = pd.read_csv('../data/netload/CAISO1819.csv',header=0)[:24]\n",
    "df_load['netload']=myresult['netload']+df_load['netload']\n",
    "\n",
    "myresult"
   ]
  },
  {
   "cell_type": "code",
   "execution_count": 32,
   "metadata": {},
   "outputs": [
    {
     "output_type": "execute_result",
     "data": {
      "text/html": "<div>\n<style scoped>\n    .dataframe tbody tr th:only-of-type {\n        vertical-align: middle;\n    }\n\n    .dataframe tbody tr th {\n        vertical-align: top;\n    }\n\n    .dataframe thead th {\n        text-align: right;\n    }\n</style>\n<table border=\"1\" class=\"dataframe\">\n  <thead>\n    <tr style=\"text-align: right;\">\n      <th></th>\n      <th>gen_capacity_veh</th>\n      <th>regup_capacity_veh</th>\n      <th>regdown_capacity_veh</th>\n    </tr>\n  </thead>\n  <tbody>\n    <tr>\n      <th>0</th>\n      <td>0.0</td>\n      <td>88400.0</td>\n      <td>347600.0</td>\n    </tr>\n    <tr>\n      <th>1</th>\n      <td>0.0</td>\n      <td>252000.0</td>\n      <td>184000.0</td>\n    </tr>\n    <tr>\n      <th>2</th>\n      <td>0.0</td>\n      <td>236400.0</td>\n      <td>199600.0</td>\n    </tr>\n    <tr>\n      <th>3</th>\n      <td>0.0</td>\n      <td>35200.0</td>\n      <td>400800.0</td>\n    </tr>\n    <tr>\n      <th>4</th>\n      <td>0.0</td>\n      <td>46000.0</td>\n      <td>390000.0</td>\n    </tr>\n    <tr>\n      <th>5</th>\n      <td>0.0</td>\n      <td>153000.0</td>\n      <td>283000.0</td>\n    </tr>\n    <tr>\n      <th>6</th>\n      <td>0.0</td>\n      <td>154400.0</td>\n      <td>281600.0</td>\n    </tr>\n    <tr>\n      <th>7</th>\n      <td>0.0</td>\n      <td>234000.0</td>\n      <td>202000.0</td>\n    </tr>\n    <tr>\n      <th>8</th>\n      <td>0.0</td>\n      <td>239800.0</td>\n      <td>196200.0</td>\n    </tr>\n    <tr>\n      <th>9</th>\n      <td>0.0</td>\n      <td>220000.0</td>\n      <td>216000.0</td>\n    </tr>\n    <tr>\n      <th>10</th>\n      <td>0.0</td>\n      <td>94600.0</td>\n      <td>341400.0</td>\n    </tr>\n    <tr>\n      <th>11</th>\n      <td>0.0</td>\n      <td>141200.0</td>\n      <td>294800.0</td>\n    </tr>\n    <tr>\n      <th>12</th>\n      <td>0.0</td>\n      <td>245000.0</td>\n      <td>191000.0</td>\n    </tr>\n    <tr>\n      <th>13</th>\n      <td>0.0</td>\n      <td>159600.0</td>\n      <td>276400.0</td>\n    </tr>\n    <tr>\n      <th>14</th>\n      <td>0.0</td>\n      <td>161000.0</td>\n      <td>275000.0</td>\n    </tr>\n    <tr>\n      <th>15</th>\n      <td>0.0</td>\n      <td>186000.0</td>\n      <td>250000.0</td>\n    </tr>\n    <tr>\n      <th>16</th>\n      <td>0.0</td>\n      <td>270400.0</td>\n      <td>165600.0</td>\n    </tr>\n    <tr>\n      <th>17</th>\n      <td>0.0</td>\n      <td>204800.0</td>\n      <td>231200.0</td>\n    </tr>\n    <tr>\n      <th>18</th>\n      <td>0.0</td>\n      <td>250600.0</td>\n      <td>185400.0</td>\n    </tr>\n    <tr>\n      <th>19</th>\n      <td>0.0</td>\n      <td>224600.0</td>\n      <td>211400.0</td>\n    </tr>\n    <tr>\n      <th>20</th>\n      <td>0.0</td>\n      <td>251000.0</td>\n      <td>185000.0</td>\n    </tr>\n    <tr>\n      <th>21</th>\n      <td>0.0</td>\n      <td>256200.0</td>\n      <td>179800.0</td>\n    </tr>\n    <tr>\n      <th>22</th>\n      <td>0.0</td>\n      <td>188800.0</td>\n      <td>247200.0</td>\n    </tr>\n    <tr>\n      <th>23</th>\n      <td>0.0</td>\n      <td>204800.0</td>\n      <td>231200.0</td>\n    </tr>\n    <tr>\n      <th>24</th>\n      <td>0.0</td>\n      <td>185000.0</td>\n      <td>249600.0</td>\n    </tr>\n    <tr>\n      <th>25</th>\n      <td>0.0</td>\n      <td>179400.0</td>\n      <td>255200.0</td>\n    </tr>\n    <tr>\n      <th>26</th>\n      <td>0.0</td>\n      <td>114800.0</td>\n      <td>319800.0</td>\n    </tr>\n    <tr>\n      <th>27</th>\n      <td>0.0</td>\n      <td>212800.0</td>\n      <td>221800.0</td>\n    </tr>\n    <tr>\n      <th>28</th>\n      <td>0.0</td>\n      <td>175600.0</td>\n      <td>259000.0</td>\n    </tr>\n    <tr>\n      <th>29</th>\n      <td>0.0</td>\n      <td>169000.0</td>\n      <td>265600.0</td>\n    </tr>\n    <tr>\n      <th>...</th>\n      <td>...</td>\n      <td>...</td>\n      <td>...</td>\n    </tr>\n    <tr>\n      <th>114</th>\n      <td>0.0</td>\n      <td>262800.0</td>\n      <td>103200.0</td>\n    </tr>\n    <tr>\n      <th>115</th>\n      <td>0.0</td>\n      <td>191160.0</td>\n      <td>182880.0</td>\n    </tr>\n    <tr>\n      <th>116</th>\n      <td>0.0</td>\n      <td>203000.0</td>\n      <td>188480.0</td>\n    </tr>\n    <tr>\n      <th>117</th>\n      <td>0.0</td>\n      <td>207200.0</td>\n      <td>189440.0</td>\n    </tr>\n    <tr>\n      <th>118</th>\n      <td>0.0</td>\n      <td>190200.0</td>\n      <td>207840.0</td>\n    </tr>\n    <tr>\n      <th>119</th>\n      <td>0.0</td>\n      <td>213800.0</td>\n      <td>182800.0</td>\n    </tr>\n    <tr>\n      <th>120</th>\n      <td>0.0</td>\n      <td>198120.0</td>\n      <td>191840.0</td>\n    </tr>\n    <tr>\n      <th>121</th>\n      <td>0.0</td>\n      <td>218920.0</td>\n      <td>165840.0</td>\n    </tr>\n    <tr>\n      <th>122</th>\n      <td>0.0</td>\n      <td>166120.0</td>\n      <td>218640.0</td>\n    </tr>\n    <tr>\n      <th>123</th>\n      <td>0.0</td>\n      <td>200960.0</td>\n      <td>183800.0</td>\n    </tr>\n    <tr>\n      <th>124</th>\n      <td>0.0</td>\n      <td>229760.0</td>\n      <td>156400.0</td>\n    </tr>\n    <tr>\n      <th>125</th>\n      <td>0.0</td>\n      <td>207520.0</td>\n      <td>178600.0</td>\n    </tr>\n    <tr>\n      <th>126</th>\n      <td>0.0</td>\n      <td>198080.0</td>\n      <td>193200.0</td>\n    </tr>\n    <tr>\n      <th>127</th>\n      <td>0.0</td>\n      <td>233480.0</td>\n      <td>157840.0</td>\n    </tr>\n    <tr>\n      <th>128</th>\n      <td>0.0</td>\n      <td>180720.0</td>\n      <td>217200.0</td>\n    </tr>\n    <tr>\n      <th>129</th>\n      <td>0.0</td>\n      <td>217880.0</td>\n      <td>191800.0</td>\n    </tr>\n    <tr>\n      <th>130</th>\n      <td>0.0</td>\n      <td>208880.0</td>\n      <td>207400.0</td>\n    </tr>\n    <tr>\n      <th>131</th>\n      <td>0.0</td>\n      <td>249440.0</td>\n      <td>174800.0</td>\n    </tr>\n    <tr>\n      <th>132</th>\n      <td>0.0</td>\n      <td>294280.0</td>\n      <td>131400.0</td>\n    </tr>\n    <tr>\n      <th>133</th>\n      <td>0.0</td>\n      <td>279680.0</td>\n      <td>146000.0</td>\n    </tr>\n    <tr>\n      <th>134</th>\n      <td>0.0</td>\n      <td>352640.0</td>\n      <td>71600.0</td>\n    </tr>\n    <tr>\n      <th>135</th>\n      <td>0.0</td>\n      <td>355040.0</td>\n      <td>69200.0</td>\n    </tr>\n    <tr>\n      <th>136</th>\n      <td>0.0</td>\n      <td>364440.0</td>\n      <td>59800.0</td>\n    </tr>\n    <tr>\n      <th>137</th>\n      <td>0.0</td>\n      <td>391800.0</td>\n      <td>44200.0</td>\n    </tr>\n    <tr>\n      <th>138</th>\n      <td>0.0</td>\n      <td>373400.0</td>\n      <td>62600.0</td>\n    </tr>\n    <tr>\n      <th>139</th>\n      <td>0.0</td>\n      <td>395000.0</td>\n      <td>41000.0</td>\n    </tr>\n    <tr>\n      <th>140</th>\n      <td>0.0</td>\n      <td>374800.0</td>\n      <td>61200.0</td>\n    </tr>\n    <tr>\n      <th>141</th>\n      <td>0.0</td>\n      <td>394600.0</td>\n      <td>41400.0</td>\n    </tr>\n    <tr>\n      <th>142</th>\n      <td>0.0</td>\n      <td>399800.0</td>\n      <td>36200.0</td>\n    </tr>\n    <tr>\n      <th>143</th>\n      <td>0.0</td>\n      <td>426600.0</td>\n      <td>9400.0</td>\n    </tr>\n  </tbody>\n</table>\n<p>144 rows × 3 columns</p>\n</div>",
      "text/plain": "     gen_capacity_veh  regup_capacity_veh  regdown_capacity_veh\n0                 0.0             88400.0              347600.0\n1                 0.0            252000.0              184000.0\n2                 0.0            236400.0              199600.0\n3                 0.0             35200.0              400800.0\n4                 0.0             46000.0              390000.0\n5                 0.0            153000.0              283000.0\n6                 0.0            154400.0              281600.0\n7                 0.0            234000.0              202000.0\n8                 0.0            239800.0              196200.0\n9                 0.0            220000.0              216000.0\n10                0.0             94600.0              341400.0\n11                0.0            141200.0              294800.0\n12                0.0            245000.0              191000.0\n13                0.0            159600.0              276400.0\n14                0.0            161000.0              275000.0\n15                0.0            186000.0              250000.0\n16                0.0            270400.0              165600.0\n17                0.0            204800.0              231200.0\n18                0.0            250600.0              185400.0\n19                0.0            224600.0              211400.0\n20                0.0            251000.0              185000.0\n21                0.0            256200.0              179800.0\n22                0.0            188800.0              247200.0\n23                0.0            204800.0              231200.0\n24                0.0            185000.0              249600.0\n25                0.0            179400.0              255200.0\n26                0.0            114800.0              319800.0\n27                0.0            212800.0              221800.0\n28                0.0            175600.0              259000.0\n29                0.0            169000.0              265600.0\n..                ...                 ...                   ...\n114               0.0            262800.0              103200.0\n115               0.0            191160.0              182880.0\n116               0.0            203000.0              188480.0\n117               0.0            207200.0              189440.0\n118               0.0            190200.0              207840.0\n119               0.0            213800.0              182800.0\n120               0.0            198120.0              191840.0\n121               0.0            218920.0              165840.0\n122               0.0            166120.0              218640.0\n123               0.0            200960.0              183800.0\n124               0.0            229760.0              156400.0\n125               0.0            207520.0              178600.0\n126               0.0            198080.0              193200.0\n127               0.0            233480.0              157840.0\n128               0.0            180720.0              217200.0\n129               0.0            217880.0              191800.0\n130               0.0            208880.0              207400.0\n131               0.0            249440.0              174800.0\n132               0.0            294280.0              131400.0\n133               0.0            279680.0              146000.0\n134               0.0            352640.0               71600.0\n135               0.0            355040.0               69200.0\n136               0.0            364440.0               59800.0\n137               0.0            391800.0               44200.0\n138               0.0            373400.0               62600.0\n139               0.0            395000.0               41000.0\n140               0.0            374800.0               61200.0\n141               0.0            394600.0               41400.0\n142               0.0            399800.0               36200.0\n143               0.0            426600.0                9400.0\n\n[144 rows x 3 columns]"
     },
     "metadata": {},
     "execution_count": 32
    }
   ],
   "source": [
    "myresult[['gen_capacity_veh'\t,'regup_capacity_veh',\t'regdown_capacity_veh']]"
   ]
  },
  {
   "cell_type": "code",
   "execution_count": 19,
   "metadata": {},
   "outputs": [],
   "source": [
    "# # Load the load data\n",
    "load=pd.read_csv('../data/netload/CAISO1819.csv')\n",
    "#CAISO1819: netload in the unit of W\n",
    "startday = datetime.datetime(2018, 7, 2)#iterate through 1 day per time\n",
    "\n",
    "load['date_time'] = [datetime.datetime.strptime(x,\"%m/%d/%Y %H:%M\") for x in load['date_time']]\n",
    "load=load.set_index(load['date_time'])\n",
    "load=load.drop(columns='date_time')\n",
    "\n",
    "# ####################################### add the component of loop around day\n",
    "load = pd.DataFrame(load[startday: startday +datetime.timedelta(days=1)]['netload'])\n",
    "\n",
    "\n",
    "price=pd.read_csv(\"../data/price/price.csv\")\n",
    "price=price[:24].set_index(load[:24].index)\n",
    "\n"
   ]
  },
  {
   "cell_type": "code",
   "execution_count": 25,
   "metadata": {
    "tags": []
   },
   "outputs": [
    {
     "output_type": "error",
     "ename": "NameError",
     "evalue": "name 'pr_e' is not defined",
     "traceback": [
      "\u001b[0;31m\u001b[0m",
      "\u001b[0;31mNameError\u001b[0mTraceback (most recent call last)",
      "\u001b[0;32m<ipython-input-25-66d8de2bbe66>\u001b[0m in \u001b[0;36m<module>\u001b[0;34m()\u001b[0m\n\u001b[1;32m      1\u001b[0m \u001b[0;34m\u001b[0m\u001b[0m\n\u001b[0;32m----> 2\u001b[0;31m \u001b[0mpr_e\u001b[0m\u001b[0;34m.\u001b[0m\u001b[0mupdate\u001b[0m\u001b[0;34m(\u001b[0m\u001b[0mtemp_price\u001b[0m\u001b[0;34m.\u001b[0m\u001b[0mto_dict\u001b[0m\u001b[0;34m(\u001b[0m\u001b[0;34m)\u001b[0m\u001b[0;34m[\u001b[0m\u001b[0;34m'pr_e'\u001b[0m\u001b[0;34m]\u001b[0m\u001b[0;34m)\u001b[0m\u001b[0;34m\u001b[0m\u001b[0m\n\u001b[0m",
      "\u001b[0;31mNameError\u001b[0m: name 'pr_e' is not defined"
     ]
    }
   ],
   "source": [
    "\n",
    "pr_e.update(temp_price.to_dict()['pr_e'])\n"
   ]
  },
  {
   "cell_type": "code",
   "execution_count": 8,
   "metadata": {},
   "outputs": [
    {
     "output_type": "execute_result",
     "data": {
      "text/html": "<div>\n<style scoped>\n    .dataframe tbody tr th:only-of-type {\n        vertical-align: middle;\n    }\n\n    .dataframe tbody tr th {\n        vertical-align: top;\n    }\n\n    .dataframe thead th {\n        text-align: right;\n    }\n</style>\n<table border=\"1\" class=\"dataframe\">\n  <thead>\n    <tr style=\"text-align: right;\">\n      <th></th>\n      <th>netload</th>\n    </tr>\n    <tr>\n      <th>date_time</th>\n      <th></th>\n    </tr>\n  </thead>\n  <tbody>\n    <tr>\n      <th>2018-07-02 00:00:00</th>\n      <td>31187.0</td>\n    </tr>\n    <tr>\n      <th>2018-07-02 00:10:00</th>\n      <td>31187.0</td>\n    </tr>\n    <tr>\n      <th>2018-07-02 00:20:00</th>\n      <td>31187.0</td>\n    </tr>\n    <tr>\n      <th>2018-07-02 00:30:00</th>\n      <td>31187.0</td>\n    </tr>\n    <tr>\n      <th>2018-07-02 00:40:00</th>\n      <td>31187.0</td>\n    </tr>\n    <tr>\n      <th>2018-07-02 00:50:00</th>\n      <td>31187.0</td>\n    </tr>\n    <tr>\n      <th>2018-07-02 01:00:00</th>\n      <td>32303.0</td>\n    </tr>\n    <tr>\n      <th>2018-07-02 01:10:00</th>\n      <td>32303.0</td>\n    </tr>\n    <tr>\n      <th>2018-07-02 01:20:00</th>\n      <td>32303.0</td>\n    </tr>\n    <tr>\n      <th>2018-07-02 01:30:00</th>\n      <td>32303.0</td>\n    </tr>\n    <tr>\n      <th>2018-07-02 01:40:00</th>\n      <td>32303.0</td>\n    </tr>\n    <tr>\n      <th>2018-07-02 01:50:00</th>\n      <td>32303.0</td>\n    </tr>\n    <tr>\n      <th>2018-07-02 02:00:00</th>\n      <td>32870.0</td>\n    </tr>\n    <tr>\n      <th>2018-07-02 02:10:00</th>\n      <td>32870.0</td>\n    </tr>\n    <tr>\n      <th>2018-07-02 02:20:00</th>\n      <td>32870.0</td>\n    </tr>\n    <tr>\n      <th>2018-07-02 02:30:00</th>\n      <td>32870.0</td>\n    </tr>\n    <tr>\n      <th>2018-07-02 02:40:00</th>\n      <td>32870.0</td>\n    </tr>\n    <tr>\n      <th>2018-07-02 02:50:00</th>\n      <td>32870.0</td>\n    </tr>\n    <tr>\n      <th>2018-07-02 03:00:00</th>\n      <td>32478.0</td>\n    </tr>\n    <tr>\n      <th>2018-07-02 03:10:00</th>\n      <td>32478.0</td>\n    </tr>\n    <tr>\n      <th>2018-07-02 03:20:00</th>\n      <td>32478.0</td>\n    </tr>\n    <tr>\n      <th>2018-07-02 03:30:00</th>\n      <td>32478.0</td>\n    </tr>\n    <tr>\n      <th>2018-07-02 03:40:00</th>\n      <td>32478.0</td>\n    </tr>\n    <tr>\n      <th>2018-07-02 03:50:00</th>\n      <td>32478.0</td>\n    </tr>\n    <tr>\n      <th>2018-07-02 04:00:00</th>\n      <td>31983.0</td>\n    </tr>\n    <tr>\n      <th>2018-07-02 04:10:00</th>\n      <td>31983.0</td>\n    </tr>\n    <tr>\n      <th>2018-07-02 04:20:00</th>\n      <td>31983.0</td>\n    </tr>\n    <tr>\n      <th>2018-07-02 04:30:00</th>\n      <td>31983.0</td>\n    </tr>\n    <tr>\n      <th>2018-07-02 04:40:00</th>\n      <td>31983.0</td>\n    </tr>\n    <tr>\n      <th>2018-07-02 04:50:00</th>\n      <td>31983.0</td>\n    </tr>\n    <tr>\n      <th>...</th>\n      <td>...</td>\n    </tr>\n    <tr>\n      <th>2018-07-02 19:10:00</th>\n      <td>28927.0</td>\n    </tr>\n    <tr>\n      <th>2018-07-02 19:20:00</th>\n      <td>28927.0</td>\n    </tr>\n    <tr>\n      <th>2018-07-02 19:30:00</th>\n      <td>28927.0</td>\n    </tr>\n    <tr>\n      <th>2018-07-02 19:40:00</th>\n      <td>28927.0</td>\n    </tr>\n    <tr>\n      <th>2018-07-02 19:50:00</th>\n      <td>28927.0</td>\n    </tr>\n    <tr>\n      <th>2018-07-02 20:00:00</th>\n      <td>29620.0</td>\n    </tr>\n    <tr>\n      <th>2018-07-02 20:10:00</th>\n      <td>29620.0</td>\n    </tr>\n    <tr>\n      <th>2018-07-02 20:20:00</th>\n      <td>29620.0</td>\n    </tr>\n    <tr>\n      <th>2018-07-02 20:30:00</th>\n      <td>29620.0</td>\n    </tr>\n    <tr>\n      <th>2018-07-02 20:40:00</th>\n      <td>29620.0</td>\n    </tr>\n    <tr>\n      <th>2018-07-02 20:50:00</th>\n      <td>29620.0</td>\n    </tr>\n    <tr>\n      <th>2018-07-02 21:00:00</th>\n      <td>30663.0</td>\n    </tr>\n    <tr>\n      <th>2018-07-02 21:10:00</th>\n      <td>30663.0</td>\n    </tr>\n    <tr>\n      <th>2018-07-02 21:20:00</th>\n      <td>30663.0</td>\n    </tr>\n    <tr>\n      <th>2018-07-02 21:30:00</th>\n      <td>30663.0</td>\n    </tr>\n    <tr>\n      <th>2018-07-02 21:40:00</th>\n      <td>30663.0</td>\n    </tr>\n    <tr>\n      <th>2018-07-02 21:50:00</th>\n      <td>30663.0</td>\n    </tr>\n    <tr>\n      <th>2018-07-02 22:00:00</th>\n      <td>31744.0</td>\n    </tr>\n    <tr>\n      <th>2018-07-02 22:10:00</th>\n      <td>31744.0</td>\n    </tr>\n    <tr>\n      <th>2018-07-02 22:20:00</th>\n      <td>31744.0</td>\n    </tr>\n    <tr>\n      <th>2018-07-02 22:30:00</th>\n      <td>31744.0</td>\n    </tr>\n    <tr>\n      <th>2018-07-02 22:40:00</th>\n      <td>31744.0</td>\n    </tr>\n    <tr>\n      <th>2018-07-02 22:50:00</th>\n      <td>31744.0</td>\n    </tr>\n    <tr>\n      <th>2018-07-02 23:00:00</th>\n      <td>32994.0</td>\n    </tr>\n    <tr>\n      <th>2018-07-02 23:10:00</th>\n      <td>32994.0</td>\n    </tr>\n    <tr>\n      <th>2018-07-02 23:20:00</th>\n      <td>32994.0</td>\n    </tr>\n    <tr>\n      <th>2018-07-02 23:30:00</th>\n      <td>32994.0</td>\n    </tr>\n    <tr>\n      <th>2018-07-02 23:40:00</th>\n      <td>32994.0</td>\n    </tr>\n    <tr>\n      <th>2018-07-02 23:50:00</th>\n      <td>32994.0</td>\n    </tr>\n    <tr>\n      <th>2018-07-03 00:00:00</th>\n      <td>34000.0</td>\n    </tr>\n  </tbody>\n</table>\n<p>145 rows × 1 columns</p>\n</div>",
      "text/plain": "                     netload\ndate_time                   \n2018-07-02 00:00:00  31187.0\n2018-07-02 00:10:00  31187.0\n2018-07-02 00:20:00  31187.0\n2018-07-02 00:30:00  31187.0\n2018-07-02 00:40:00  31187.0\n2018-07-02 00:50:00  31187.0\n2018-07-02 01:00:00  32303.0\n2018-07-02 01:10:00  32303.0\n2018-07-02 01:20:00  32303.0\n2018-07-02 01:30:00  32303.0\n2018-07-02 01:40:00  32303.0\n2018-07-02 01:50:00  32303.0\n2018-07-02 02:00:00  32870.0\n2018-07-02 02:10:00  32870.0\n2018-07-02 02:20:00  32870.0\n2018-07-02 02:30:00  32870.0\n2018-07-02 02:40:00  32870.0\n2018-07-02 02:50:00  32870.0\n2018-07-02 03:00:00  32478.0\n2018-07-02 03:10:00  32478.0\n2018-07-02 03:20:00  32478.0\n2018-07-02 03:30:00  32478.0\n2018-07-02 03:40:00  32478.0\n2018-07-02 03:50:00  32478.0\n2018-07-02 04:00:00  31983.0\n2018-07-02 04:10:00  31983.0\n2018-07-02 04:20:00  31983.0\n2018-07-02 04:30:00  31983.0\n2018-07-02 04:40:00  31983.0\n2018-07-02 04:50:00  31983.0\n...                      ...\n2018-07-02 19:10:00  28927.0\n2018-07-02 19:20:00  28927.0\n2018-07-02 19:30:00  28927.0\n2018-07-02 19:40:00  28927.0\n2018-07-02 19:50:00  28927.0\n2018-07-02 20:00:00  29620.0\n2018-07-02 20:10:00  29620.0\n2018-07-02 20:20:00  29620.0\n2018-07-02 20:30:00  29620.0\n2018-07-02 20:40:00  29620.0\n2018-07-02 20:50:00  29620.0\n2018-07-02 21:00:00  30663.0\n2018-07-02 21:10:00  30663.0\n2018-07-02 21:20:00  30663.0\n2018-07-02 21:30:00  30663.0\n2018-07-02 21:40:00  30663.0\n2018-07-02 21:50:00  30663.0\n2018-07-02 22:00:00  31744.0\n2018-07-02 22:10:00  31744.0\n2018-07-02 22:20:00  31744.0\n2018-07-02 22:30:00  31744.0\n2018-07-02 22:40:00  31744.0\n2018-07-02 22:50:00  31744.0\n2018-07-02 23:00:00  32994.0\n2018-07-02 23:10:00  32994.0\n2018-07-02 23:20:00  32994.0\n2018-07-02 23:30:00  32994.0\n2018-07-02 23:40:00  32994.0\n2018-07-02 23:50:00  32994.0\n2018-07-03 00:00:00  34000.0\n\n[145 rows x 1 columns]"
     },
     "metadata": {},
     "execution_count": 8
    }
   ],
   "source": [
    "load=load.resample(str(10) + 'T').first()\n",
    "load=load.fillna(method='ffill')\n",
    "load"
   ]
  },
  {
   "cell_type": "code",
   "execution_count": 9,
   "metadata": {},
   "outputs": [
    {
     "output_type": "error",
     "ename": "TypeError",
     "evalue": "Index does not support mutable operations",
     "traceback": [
      "\u001b[0;31m\u001b[0m",
      "\u001b[0;31mTypeError\u001b[0mTraceback (most recent call last)",
      "\u001b[0;32m<ipython-input-9-9f76b56a1ee5>\u001b[0m in \u001b[0;36m<module>\u001b[0;34m()\u001b[0m\n\u001b[1;32m      3\u001b[0m \u001b[0mtemp_price\u001b[0m\u001b[0;34m=\u001b[0m\u001b[0mtemp_price\u001b[0m\u001b[0;34m.\u001b[0m\u001b[0miloc\u001b[0m\u001b[0;34m[\u001b[0m\u001b[0;36m0\u001b[0m\u001b[0;34m:\u001b[0m\u001b[0;36m24\u001b[0m\u001b[0;34m,\u001b[0m\u001b[0;34m]\u001b[0m\u001b[0;34m\u001b[0m\u001b[0m\n\u001b[1;32m      4\u001b[0m \u001b[0;31m# print('net_load',net_load)\u001b[0m\u001b[0;34m\u001b[0m\u001b[0;34m\u001b[0m\u001b[0m\n\u001b[0;32m----> 5\u001b[0;31m \u001b[0mtemp_price\u001b[0m\u001b[0;34m.\u001b[0m\u001b[0mindex\u001b[0m\u001b[0;34m[\u001b[0m\u001b[0;36m0\u001b[0m\u001b[0;34m]\u001b[0m\u001b[0;34m=\u001b[0m\u001b[0mload\u001b[0m\u001b[0;34m.\u001b[0m\u001b[0mindex\u001b[0m\u001b[0;34m[\u001b[0m\u001b[0;36m0\u001b[0m\u001b[0;34m]\u001b[0m\u001b[0;34m\u001b[0m\u001b[0m\n\u001b[0m\u001b[1;32m      6\u001b[0m \u001b[0;32mprint\u001b[0m\u001b[0;34m(\u001b[0m\u001b[0;34m'temp_price'\u001b[0m\u001b[0;34m,\u001b[0m\u001b[0mtemp_price\u001b[0m\u001b[0;34m)\u001b[0m\u001b[0;34m\u001b[0m\u001b[0m\n",
      "\u001b[0;32m/Users/meiyewang/opt/anaconda3/envs/py27/lib/python2.7/site-packages/pandas/core/indexes/base.pyc\u001b[0m in \u001b[0;36m__setitem__\u001b[0;34m(self, key, value)\u001b[0m\n\u001b[1;32m   3936\u001b[0m \u001b[0;34m\u001b[0m\u001b[0m\n\u001b[1;32m   3937\u001b[0m     \u001b[0;32mdef\u001b[0m \u001b[0m__setitem__\u001b[0m\u001b[0;34m(\u001b[0m\u001b[0mself\u001b[0m\u001b[0;34m,\u001b[0m \u001b[0mkey\u001b[0m\u001b[0;34m,\u001b[0m \u001b[0mvalue\u001b[0m\u001b[0;34m)\u001b[0m\u001b[0;34m:\u001b[0m\u001b[0;34m\u001b[0m\u001b[0m\n\u001b[0;32m-> 3938\u001b[0;31m         \u001b[0;32mraise\u001b[0m \u001b[0mTypeError\u001b[0m\u001b[0;34m(\u001b[0m\u001b[0;34m\"Index does not support mutable operations\"\u001b[0m\u001b[0;34m)\u001b[0m\u001b[0;34m\u001b[0m\u001b[0m\n\u001b[0m\u001b[1;32m   3939\u001b[0m \u001b[0;34m\u001b[0m\u001b[0m\n\u001b[1;32m   3940\u001b[0m     \u001b[0;32mdef\u001b[0m \u001b[0m__getitem__\u001b[0m\u001b[0;34m(\u001b[0m\u001b[0mself\u001b[0m\u001b[0;34m,\u001b[0m \u001b[0mkey\u001b[0m\u001b[0;34m)\u001b[0m\u001b[0;34m:\u001b[0m\u001b[0;34m\u001b[0m\u001b[0m\n",
      "\u001b[0;31mTypeError\u001b[0m: Index does not support mutable operations"
     ]
    }
   ],
   "source": []
  },
  {
   "cell_type": "code",
   "execution_count": null,
   "metadata": {},
   "outputs": [],
   "source": []
  },
  {
   "cell_type": "code",
   "execution_count": 17,
   "metadata": {},
   "outputs": [
    {
     "output_type": "execute_result",
     "data": {
      "text/html": "<div>\n<style scoped>\n    .dataframe tbody tr th:only-of-type {\n        vertical-align: middle;\n    }\n\n    .dataframe tbody tr th {\n        vertical-align: top;\n    }\n\n    .dataframe thead th {\n        text-align: right;\n    }\n</style>\n<table border=\"1\" class=\"dataframe\">\n  <thead>\n    <tr style=\"text-align: right;\">\n      <th></th>\n      <th>demand (MW)</th>\n    </tr>\n    <tr>\n      <th>date_time</th>\n      <th></th>\n    </tr>\n  </thead>\n  <tbody>\n    <tr>\n      <th>2018-07-02 00:00:00</th>\n      <td>31187</td>\n    </tr>\n    <tr>\n      <th>2018-07-02 01:00:00</th>\n      <td>32303</td>\n    </tr>\n    <tr>\n      <th>2018-07-02 02:00:00</th>\n      <td>32870</td>\n    </tr>\n    <tr>\n      <th>2018-07-02 03:00:00</th>\n      <td>32478</td>\n    </tr>\n    <tr>\n      <th>2018-07-02 04:00:00</th>\n      <td>31983</td>\n    </tr>\n    <tr>\n      <th>2018-07-02 05:00:00</th>\n      <td>30949</td>\n    </tr>\n    <tr>\n      <th>2018-07-02 06:00:00</th>\n      <td>28655</td>\n    </tr>\n    <tr>\n      <th>2018-07-02 07:00:00</th>\n      <td>26236</td>\n    </tr>\n    <tr>\n      <th>2018-07-02 08:00:00</th>\n      <td>24304</td>\n    </tr>\n    <tr>\n      <th>2018-07-02 09:00:00</th>\n      <td>23037</td>\n    </tr>\n    <tr>\n      <th>2018-07-02 10:00:00</th>\n      <td>22252</td>\n    </tr>\n    <tr>\n      <th>2018-07-02 11:00:00</th>\n      <td>21928</td>\n    </tr>\n    <tr>\n      <th>2018-07-02 12:00:00</th>\n      <td>22281</td>\n    </tr>\n    <tr>\n      <th>2018-07-02 13:00:00</th>\n      <td>23446</td>\n    </tr>\n    <tr>\n      <th>2018-07-02 14:00:00</th>\n      <td>24710</td>\n    </tr>\n    <tr>\n      <th>2018-07-02 15:00:00</th>\n      <td>25965</td>\n    </tr>\n    <tr>\n      <th>2018-07-02 16:00:00</th>\n      <td>26710</td>\n    </tr>\n    <tr>\n      <th>2018-07-02 17:00:00</th>\n      <td>27349</td>\n    </tr>\n    <tr>\n      <th>2018-07-02 18:00:00</th>\n      <td>28164</td>\n    </tr>\n    <tr>\n      <th>2018-07-02 19:00:00</th>\n      <td>28927</td>\n    </tr>\n    <tr>\n      <th>2018-07-02 20:00:00</th>\n      <td>29620</td>\n    </tr>\n    <tr>\n      <th>2018-07-02 21:00:00</th>\n      <td>30663</td>\n    </tr>\n    <tr>\n      <th>2018-07-02 22:00:00</th>\n      <td>31744</td>\n    </tr>\n    <tr>\n      <th>2018-07-02 23:00:00</th>\n      <td>32994</td>\n    </tr>\n    <tr>\n      <th>2018-07-03 00:00:00</th>\n      <td>34000</td>\n    </tr>\n  </tbody>\n</table>\n</div>",
      "text/plain": "                     demand (MW)\ndate_time                       \n2018-07-02 00:00:00        31187\n2018-07-02 01:00:00        32303\n2018-07-02 02:00:00        32870\n2018-07-02 03:00:00        32478\n2018-07-02 04:00:00        31983\n2018-07-02 05:00:00        30949\n2018-07-02 06:00:00        28655\n2018-07-02 07:00:00        26236\n2018-07-02 08:00:00        24304\n2018-07-02 09:00:00        23037\n2018-07-02 10:00:00        22252\n2018-07-02 11:00:00        21928\n2018-07-02 12:00:00        22281\n2018-07-02 13:00:00        23446\n2018-07-02 14:00:00        24710\n2018-07-02 15:00:00        25965\n2018-07-02 16:00:00        26710\n2018-07-02 17:00:00        27349\n2018-07-02 18:00:00        28164\n2018-07-02 19:00:00        28927\n2018-07-02 20:00:00        29620\n2018-07-02 21:00:00        30663\n2018-07-02 22:00:00        31744\n2018-07-02 23:00:00        32994\n2018-07-03 00:00:00        34000"
     },
     "metadata": {},
     "execution_count": 17
    }
   ],
   "source": [
    "# # Load the load data\n",
    "load=pd.read_csv('../data/netload/CAISO1819.csv')\n",
    "startday = datetime.datetime(2018, 7, 2)#iterate through 1 day per time\n",
    "\n",
    "load['date_time'] = [datetime.datetime.strptime(x,\"%m/%d/%Y %H:%M\") for x in load['date_time']]\n",
    "load=load.set_index(load['date_time'])\n",
    "load=load.drop(columns='date_time')\n",
    "\n",
    "# ####################################### add the component of loop around day\n",
    "load = pd.DataFrame(load[startday: startday +datetime.timedelta(days=1)]['demand (MW)'])\n",
    "\n",
    "# load = pd.DataFrame(load[startday]['demand (MW)'])\n",
    "# load"
   ]
  },
  {
   "cell_type": "code",
   "execution_count": 16,
   "metadata": {},
   "outputs": [
    {
     "output_type": "error",
     "ename": "NameError",
     "evalue": "name 'getprice' is not defined",
     "traceback": [
      "\u001b[0;31m\u001b[0m",
      "\u001b[0;31mNameError\u001b[0mTraceback (most recent call last)",
      "\u001b[0;32m<ipython-input-16-30bdcf5d7f8f>\u001b[0m in \u001b[0;36m<module>\u001b[0;34m()\u001b[0m\n\u001b[0;32m----> 1\u001b[0;31m \u001b[0mprice_pd\u001b[0m\u001b[0;34m=\u001b[0m\u001b[0mgetprice\u001b[0m\u001b[0;34m(\u001b[0m\u001b[0minstance\u001b[0m\u001b[0;34m,\u001b[0m\u001b[0mcost_pd\u001b[0m\u001b[0;34m)\u001b[0m\u001b[0;34m\u001b[0m\u001b[0m\n\u001b[0m\u001b[1;32m      2\u001b[0m \u001b[0;34m\u001b[0m\u001b[0m\n\u001b[1;32m      3\u001b[0m myresult = myopti.solve(project, load * 1000000,1500000, price=price_pd,\n\u001b[1;32m      4\u001b[0m                     peak_shaving='economic', SOC_margin=0.05)\n\u001b[1;32m      5\u001b[0m \u001b[0;34m\u001b[0m\u001b[0m\n",
      "\u001b[0;31mNameError\u001b[0m: name 'getprice' is not defined"
     ]
    }
   ],
   "source": [
    "price_pd=getprice(instance,cost_pd)\n",
    "\n",
    "myresult = myopti.solve(project, load * 1000000,1500000, price=price_pd,\n",
    "                    peak_shaving='economic', SOC_margin=0.05)\n",
    "\n",
    "# Get the result in the right format\n",
    "temp_vehicle = pd.DataFrame(\n",
    "    (total_power_demand['total'] - myresult['vehicle_before'] + myresult['vehicle_after']) *\n",
    "    (1500000 / len(project.vehicles)) / (1000 * 1000))  # Scale up and W to MW\n",
    "temp_vehicle = temp_vehicle.rename(columns={0: 'vehicle'})\n",
    "temp_vehicle['index'] = range(0, len(temp_vehicle))\n",
    "temp_vehicle = temp_vehicle.set_index(['index'], drop=True)\n",
    "\n",
    "temp_load = load.copy()\n",
    "temp_load = temp_load.resample('60S')\n",
    "temp_load = temp_load.fillna (method='ffill').fillna(method='bfill')\n",
    "temp_load = temp_load.head(len(temp_vehicle))\n",
    "tempIndex = temp_load.index\n",
    "temp_load['index'] = range(0, len(temp_vehicle))\n",
    "temp_load = temp_load.set_index(['index'], drop=True)\n",
    "\n",
    "temp_result = pd.DataFrame(temp_load['demand (MW)'] + temp_vehicle['vehicle'])\n",
    "temp_result = temp_result.rename(columns={0: 'demand (MW)'})\n",
    "temp_result = temp_result.set_index(tempIndex)\n",
    "temp_load = temp_load.set_index(tempIndex)\n",
    "temp_vehicle = temp_vehicle.set_index(tempIndex)\n",
    "\n",
    "temp_vehicle_demand = pd.DataFrame(\n",
    "    (myresult['vehicle_after_demand']) *    (1500000 / len(project.vehicles)) / (1000 * 1000))  # Scale up and W to MW\n",
    "temp_vehicle_demand = temp_vehicle_demand.set_index(tempIndex)\n",
    "\n",
    "temp_vehicle_generation = pd.DataFrame(\n",
    "    (-myresult['vehicle_after_generation']) *    (1500000 / len(project.vehicles)) / (1000 * 1000))  # Scale up and W to MW\n",
    "temp_vehicle_generation = temp_vehicle_generation.set_index(tempIndex)\n",
    "\n",
    "temp_vehicle_regdown = pd.DataFrame(\n",
    "    (myresult['vehicle_after_regdown']) *    (1500000 / len(project.vehicles)) / (1000 * 1000))  # Scale up and W to MW\n",
    "temp_vehicle_demand = temp_vehicle_demand.set_index(tempIndex)\n",
    "\n",
    "temp_vehicle_regup = pd.DataFrame(\n",
    "    (-myresult['vehicle_after_regup']) *    (1500000 / len(project.vehicles)) / (1000 * 1000))  # Scale up and W to MW\n",
    "temp_vehicle_generation = temp_vehicle_generation.set_index(tempIndex)\n",
    "\n",
    "\n",
    "plt.plot(temp_load['demand (MW)'], label='load')\n",
    "plt.plot(temp_result['demand (MW)'], label='load + vehicles')\n",
    "plt.ylabel('Power (MW)')\n",
    "plt.legend()\n",
    "plt.show()"
   ]
  },
  {
   "cell_type": "code",
   "execution_count": null,
   "metadata": {},
   "outputs": [],
   "source": []
  }
 ]
}