{
 "metadata": {
  "language_info": {
   "codemirror_mode": {
    "name": "ipython",
    "version": 3
   },
   "file_extension": ".py",
   "mimetype": "text/x-python",
   "name": "python",
   "nbconvert_exporter": "python",
   "pygments_lexer": "ipython3",
   "version": "2.7.16-final"
  },
  "orig_nbformat": 2,
  "kernelspec": {
   "name": "python_defaultSpec_1614187119361",
   "display_name": "Python 2.7.16 64-bit ('py27': conda)"
  }
 },
 "nbformat": 4,
 "nbformat_minor": 2,
 "cells": [
  {
   "cell_type": "code",
   "execution_count": 2,
   "metadata": {},
   "outputs": [],
   "source": [
    "from pyomo.opt import SolverFactory\n",
    "from pyomo.core import Var\n",
    "from pyomo.core import Param\n",
    "from operator import itemgetter\n",
    "import pandas as pd\n",
    "from datetime import datetime\n",
    "import os\n",
    "\n",
    "\n",
    "#run number\n",
    "yr=2019\n",
    "run_no = 2\n",
    "###Segment C.2\n",
    "from UCModel import model\n",
    "from UCModel import writeDatFile\n",
    "from UCModel import readSolutionResult\n",
    "\n",
    "def init_load(day,HorizonHours):\n",
    "    df_load = pd.read_csv('../data/netload/CAISO2019Load.csv',header=0)[24*day:(24*day+HorizonHours)]\n",
    "    # df_load = pd.read_csv('../data/netload/20200801CAISO.csv',header=0)[24*day:(24*day+HorizonHours)]\n",
    "\n",
    "    return df_load\n",
    "\n",
    "def init_import(day,HorizonHours):\n",
    "    df_import = pd.read_csv('../data/electricityImport/CAISO2019Import.csv',header=0)[24*day:(24*day+HorizonHours)]\n",
    "    return df_import\n",
    "\n",
    "def init_export(day,HorizonHours):\n",
    "    df_export = pd.read_csv('../data/electricityExport/CAISO2019Export.csv',header=0)[24*day:(24*day+HorizonHours)]\n",
    "\n",
    "    return df_export\n",
    "\n",
    "def init_gen():\n",
    "    df_gen = pd.read_csv('../data/generator/GeneratorWOHydro2019.csv',header=0)\n",
    "    return df_gen\n",
    "\n",
    "def init_hydro(day):\n",
    "    df_hydro = pd.read_csv('../data/hydro/HydroGenerator.csv',header=0)\n",
    "    df_hydro_cap = pd.read_csv('../data/hydro/HydroDailyCapacity.csv',header=0)[day:day+1]\n",
    "    cap=df_hydro_cap['Capacity(MWh)']\n",
    "    df_hydro.at[0, 'maxcap_h'] = cap/24\n",
    "    return df_hydro\n",
    "\n",
    "def init_solar(day,HorizonHours):\n",
    "    df_solar_cap=pd.read_csv('../data/generator/SolarCap.csv',header=0)[24*day:(24*day+HorizonHours)]\n",
    "    df_solar_cons=pd.read_csv('../data/generator/SolarConstraint.csv',header=0)\n",
    "    return  df_solar_cap,df_solar_cons\n",
    "\n",
    "def init_wind(day,HorizonHours):\n",
    "    df_wind_cap=pd.read_csv('../data/generator/WindCap.csv',header=0)[24*day:(24*day+HorizonHours)]\n",
    "    df_wind_cons=pd.read_csv('../data/generator/WindConstraint.csv',header=0)\n",
    "    return df_wind_cap,df_wind_cons\n",
    "\n",
    "def init_veh(myresult):\n",
    "    veh=pd.concat([myresult,myresult],axis=0)\n",
    "    veh.index=range(veh.shape[0])\n",
    "    return veh\n",
    "\n",
    "def v2gResultConversion(myresult,vehicleNumber):\n",
    "    N = 6# from 10mins to 1 hour\n",
    "    myresult=myresult.groupby(myresult.index // N).sum()/6/1000000*vehicleNumber/100# from the unit of W to MW, from 100 vehicles to actual number of vehicles\n",
    "    myresult=myresult.rename(columns={'EnergyDemand':'netload','EnergyGeneration':'gen_capacity_veh','Regup':'regup_capacity_veh','Regdown':'regdown_capacity_veh'})\n",
    "    return myresult\n",
    "\n",
    "def saveResult(mwh_pd,myresult,versionName,day):\n",
    "    mwh_pd.to_csv('../Result/validate'+str(day)+\"_\"+versionName+'vehicleGeneration.csv',index=False)\n",
    "\n",
    "\n",
    "SimDays = 2\n",
    "SimHours = SimDays * 24\n",
    "HorizonHours = 48  ##planning horizon (e.g., 24, 48, 72 hours etc.)\n",
    "regup_margin = 0.064  ##minimum regulation up reserve as a percent of system demand, referenced from https://www.nrel.gov/docs/fy19osti/73590.pdf\n",
    "regdown_margin = 0.072 ##minimum regulation down reserve as a percent of system demand from https://www.nrel.gov/docs/fy19osti/73590.pdf\n",
    "vehicleNumber=15000000\n",
    "batteryCost=8\n",
    "versionName='UCValidation_'+str(run_no)+'_battery'+str(batteryCost)\n",
    "day=1\n",
    "#initialize load\n",
    "df_load=init_load(day,HorizonHours)\n",
    "df_import=init_import(day,HorizonHours)\n",
    "df_export=init_export(day,HorizonHours)\n",
    "df_load['netload']=df_load['netload']-df_import['Import(MW)']+df_export['Export(MW)']\n",
    "###initialize generators\n",
    "df_gen=init_gen()\n",
    "df_solar_cap,df_solar_cons=init_solar(day,HorizonHours)\n",
    "df_wind_cap,df_wind_cons=init_wind(day,HorizonHours)\n",
    "df_hydro=init_hydro(day)\n",
    "# reindex\n",
    "df_solar_cap.index=range(HorizonHours)\n",
    "df_wind_cap.index=range(HorizonHours)\n",
    "df_load.index=range(HorizonHours)\n",
    "\n"
   ]
  },
  {
   "cell_type": "code",
   "execution_count": 4,
   "metadata": {
    "tags": []
   },
   "outputs": [],
   "source": [
    "from pyomo.opt import SolverFactory\n",
    "from pyomo.core import Var\n",
    "from pyomo.core import Param\n",
    "from operator import itemgetter\n",
    "import pandas as pd\n",
    "from datetime import datetime\n",
    "import os\n",
    "\n",
    "\n",
    "#run number\n",
    "yr=2019\n",
    "run_no = 1\n",
    "###Segment C.2\n",
    "from UCModel import model\n",
    "from UCModel import writeDatFile\n",
    "from UCModel import readSolutionResult\n",
    "\n",
    "def init_load(day,HorizonHours):\n",
    "    df_load = pd.read_csv('../data/netload/CAISO2019Load.csv',header=0)[24*day:(24*day+HorizonHours)]\n",
    "    # df_load = pd.read_csv('../data/netload/20200801CAISO.csv',header=0)[24*day:(24*day+HorizonHours)]\n",
    "\n",
    "    return df_load\n",
    "\n",
    "def init_import(day,HorizonHours):\n",
    "    df_import = pd.read_csv('../data/electricityImport/CAISO2019Import.csv',header=0)[24*day:(24*day+HorizonHours)]\n",
    "    return df_import\n",
    "\n",
    "def init_export(day,HorizonHours):\n",
    "    df_export = pd.read_csv('../data/electricityExport/CAISO2019Export.csv',header=0)[24*day:(24*day+HorizonHours)]\n",
    "\n",
    "    return df_export\n",
    "\n",
    "def init_gen():\n",
    "    df_gen = pd.read_csv('../data/generator/GeneratorWOHydro2019.csv',header=0)\n",
    "    return df_gen\n",
    "\n",
    "def init_hydro(day):\n",
    "    df_hydro = pd.read_csv('../data/hydro/HydroGenerator.csv',header=0)\n",
    "    df_hydro_cap = pd.read_csv('../data/hydro/HydroDailyCapacity.csv',header=0)[day:day+1]\n",
    "    cap=df_hydro_cap['Capacity(MWh)']\n",
    "    df_hydro.at[0, 'maxcap_h'] = cap/24\n",
    "    return df_hydro\n",
    "\n",
    "def init_solar(day,HorizonHours):\n",
    "    df_solar_cap=pd.read_csv('../data/generator/SolarCap.csv',header=0)[24*day:(24*day+HorizonHours)]\n",
    "    df_solar_cons=pd.read_csv('../data/generator/SolarConstraint.csv',header=0)\n",
    "    return  df_solar_cap,df_solar_cons\n",
    "\n",
    "def init_wind(day,HorizonHours):\n",
    "    df_wind_cap=pd.read_csv('../data/generator/WindCap.csv',header=0)[24*day:(24*day+HorizonHours)]\n",
    "    df_wind_cons=pd.read_csv('../data/generator/WindConstraint.csv',header=0)\n",
    "    return df_wind_cap,df_wind_cons\n",
    "\n",
    "def init_veh(myresult):\n",
    "    veh=pd.concat([myresult,myresult],axis=0)\n",
    "    veh.index=range(veh.shape[0])\n",
    "    return veh\n",
    "\n",
    "def v2gResultConversion(myresult,vehicleNumber):\n",
    "    N = 6# from 10mins to 1 hour\n",
    "    myresult=myresult.groupby(myresult.index // N).sum()/6/1000000*vehicleNumber/100# from the unit of W to MW, from 100 vehicles to actual number of vehicles\n",
    "    myresult=myresult.rename(columns={'EnergyDemand':'netload','EnergyGeneration':'gen_capacity_veh','Regup':'regup_capacity_veh','Regdown':'regdown_capacity_veh'})\n",
    "    return myresult\n",
    "\n",
    "def saveResult(mwh_pd,myresult,versionName,day):\n",
    "    mwh_pd.to_csv('../Result/validate'+versionName+\"_\"+str(day)+'_vehicleGeneration.csv',index=False)\n",
    "\n",
    "SimDays = 2\n",
    "SimHours = SimDays * 24\n",
    "HorizonHours = 48  ##planning horizon (e.g., 24, 48, 72 hours etc.)\n",
    "regup_margin = 0.064  ##minimum regulation up reserve as a percent of system demand, referenced from https://www.nrel.gov/docs/fy19osti/73590.pdf\n",
    "regdown_margin = 0.072 ##minimum regulation down reserve as a percent of system demand from https://www.nrel.gov/docs/fy19osti/73590.pdf\n",
    "vehicleNumber=15000000\n",
    "batteryCost=8\n",
    "versionName='UCValidation_'+str(run_no)+'_battery'+str(batteryCost)\n",
    "\n",
    "day=363\n",
    "#initialize load\n",
    "df_load=init_load(day,HorizonHours)\n",
    "# print(df_load)\n",
    "\n",
    "df_import=init_import(day,HorizonHours)\n",
    "# print(df_import)\n",
    "\n",
    "df_export=init_export(day,HorizonHours)\n",
    "# print(df_export)\n",
    "\n",
    "df_load['netload']=df_load['netload']-df_import['Import(MW)']+df_export['Export(MW)']\n",
    "\n"
   ]
  },
  {
   "cell_type": "code",
   "execution_count": 5,
   "metadata": {},
   "outputs": [
    {
     "output_type": "execute_result",
     "data": {
      "text/plain": "735644.1250066666"
     },
     "metadata": {},
     "execution_count": 5
    }
   ],
   "source": [
    "df_load['netload'].sum()"
   ]
  },
  {
   "cell_type": "code",
   "execution_count": 11,
   "metadata": {
    "tags": []
   },
   "outputs": [
    {
     "output_type": "stream",
     "name": "stdout",
     "text": "238319563.869187\n219456619\n171880038.0625\n"
    },
    {
     "output_type": "execute_result",
     "data": {
      "text/plain": "153025779.058303"
     },
     "metadata": {},
     "execution_count": 11
    }
   ],
   "source": [
    "df_import = pd.read_csv('../data/electricityImport/CAISO2019Import.csv',header=0)\n",
    "print(df_import['Import(MW)'].sum())\n",
    "df_load = pd.read_csv('../data/netload/CAISO2019Load.csv',header=0)\n",
    "print(df_load['netload'].sum())\n",
    "df_export = pd.read_csv('../data/electricityExport/CAISO2019Export.csv',header=0)\n",
    "print(df_export['Export(MW)'].sum())\n",
    "df_load['netload']=df_load['netload']-df_import['Import(MW)']+df_export['Export(MW)']\n",
    "df_load['netload'].sum()\n",
    "\n"
   ]
  },
  {
   "cell_type": "code",
   "execution_count": 8,
   "metadata": {
    "tags": []
   },
   "outputs": [
    {
     "output_type": "stream",
     "name": "stdout",
     "text": "name  maxcap_h  mincap_h  opcost_h  minup_h    ramp_h  st_cost_h  \\\n0  hydro     44157         0  0.024079        0  23.59814          0   \n\n   var_om_h  fix_om_h  regcost_h  \n0         0     14130       9999  \n"
    }
   ],
   "source": [
    "from pyomo.opt import SolverFactory\n",
    "from pyomo.core import Var\n",
    "from pyomo.core import Param\n",
    "from operator import itemgetter\n",
    "import pandas as pd\n",
    "from datetime import datetime\n",
    "import os\n",
    "\n",
    "day=1\n",
    "df_hydro = pd.read_csv('../data/hydro/HydroGenerator.csv',header=0)\n",
    "\n",
    "df_hydro_cap = pd.read_csv('../data/hydro/HydroDailyCapacity.csv',header=0)[day-1:day]\n",
    "cap=df_hydro_cap['Capacity(MWh)']\n",
    "df_hydro.at[0, 'maxcap_h'] = cap\n",
    "print(df_hydro)\n"
   ]
  },
  {
   "cell_type": "code",
   "execution_count": 1,
   "metadata": {},
   "outputs": [
    {
     "output_type": "error",
     "ename": "KeyError",
     "evalue": "0",
     "traceback": [
      "\u001b[0;31m\u001b[0m",
      "\u001b[0;31mKeyError\u001b[0mTraceback (most recent call last)",
      "\u001b[0;32m<ipython-input-1-9d2f455dc641>\u001b[0m in \u001b[0;36m<module>\u001b[0;34m()\u001b[0m\n\u001b[1;32m     18\u001b[0m \u001b[0;34m\u001b[0m\u001b[0m\n\u001b[1;32m     19\u001b[0m \u001b[0mdf_hydro\u001b[0m \u001b[0;34m=\u001b[0m \u001b[0mpd\u001b[0m\u001b[0;34m.\u001b[0m\u001b[0mread_csv\u001b[0m\u001b[0;34m(\u001b[0m\u001b[0;34m'../data/hydro/HydroGenerator.csv'\u001b[0m\u001b[0;34m,\u001b[0m\u001b[0mheader\u001b[0m\u001b[0;34m=\u001b[0m\u001b[0;36m0\u001b[0m\u001b[0;34m)\u001b[0m\u001b[0;34m\u001b[0m\u001b[0m\n\u001b[0;32m---> 20\u001b[0;31m \u001b[0mdf_hydro_cap\u001b[0m \u001b[0;34m=\u001b[0m \u001b[0mpd\u001b[0m\u001b[0;34m.\u001b[0m\u001b[0mread_csv\u001b[0m\u001b[0;34m(\u001b[0m\u001b[0;34m'../data/hydro/HydroDailyCapacity.csv'\u001b[0m\u001b[0;34m,\u001b[0m\u001b[0mheader\u001b[0m\u001b[0;34m=\u001b[0m\u001b[0;36m0\u001b[0m\u001b[0;34m)\u001b[0m\u001b[0;34m[\u001b[0m\u001b[0mday\u001b[0m\u001b[0;34m]\u001b[0m\u001b[0;34m\u001b[0m\u001b[0m\n\u001b[0m\u001b[1;32m     21\u001b[0m \u001b[0mdf_hydro\u001b[0m\u001b[0;34m[\u001b[0m\u001b[0;34m'maxcap'\u001b[0m\u001b[0;34m]\u001b[0m\u001b[0;34m=\u001b[0m\u001b[0mfloat\u001b[0m\u001b[0;34m(\u001b[0m\u001b[0mdf_hydro_cap\u001b[0m\u001b[0;34m)\u001b[0m\u001b[0;34m\u001b[0m\u001b[0m\n\u001b[1;32m     22\u001b[0m \u001b[0;34m\u001b[0m\u001b[0m\n",
      "\u001b[0;32m/Users/meiyewang/opt/anaconda3/envs/py27/lib/python2.7/site-packages/pandas/core/frame.pyc\u001b[0m in \u001b[0;36m__getitem__\u001b[0;34m(self, key)\u001b[0m\n\u001b[1;32m   2925\u001b[0m             \u001b[0;32mif\u001b[0m \u001b[0mself\u001b[0m\u001b[0;34m.\u001b[0m\u001b[0mcolumns\u001b[0m\u001b[0;34m.\u001b[0m\u001b[0mnlevels\u001b[0m \u001b[0;34m>\u001b[0m \u001b[0;36m1\u001b[0m\u001b[0;34m:\u001b[0m\u001b[0;34m\u001b[0m\u001b[0m\n\u001b[1;32m   2926\u001b[0m                 \u001b[0;32mreturn\u001b[0m \u001b[0mself\u001b[0m\u001b[0;34m.\u001b[0m\u001b[0m_getitem_multilevel\u001b[0m\u001b[0;34m(\u001b[0m\u001b[0mkey\u001b[0m\u001b[0;34m)\u001b[0m\u001b[0;34m\u001b[0m\u001b[0m\n\u001b[0;32m-> 2927\u001b[0;31m             \u001b[0mindexer\u001b[0m \u001b[0;34m=\u001b[0m \u001b[0mself\u001b[0m\u001b[0;34m.\u001b[0m\u001b[0mcolumns\u001b[0m\u001b[0;34m.\u001b[0m\u001b[0mget_loc\u001b[0m\u001b[0;34m(\u001b[0m\u001b[0mkey\u001b[0m\u001b[0;34m)\u001b[0m\u001b[0;34m\u001b[0m\u001b[0m\n\u001b[0m\u001b[1;32m   2928\u001b[0m             \u001b[0;32mif\u001b[0m \u001b[0mis_integer\u001b[0m\u001b[0;34m(\u001b[0m\u001b[0mindexer\u001b[0m\u001b[0;34m)\u001b[0m\u001b[0;34m:\u001b[0m\u001b[0;34m\u001b[0m\u001b[0m\n\u001b[1;32m   2929\u001b[0m                 \u001b[0mindexer\u001b[0m \u001b[0;34m=\u001b[0m \u001b[0;34m[\u001b[0m\u001b[0mindexer\u001b[0m\u001b[0;34m]\u001b[0m\u001b[0;34m\u001b[0m\u001b[0m\n",
      "\u001b[0;32m/Users/meiyewang/opt/anaconda3/envs/py27/lib/python2.7/site-packages/pandas/core/indexes/base.pyc\u001b[0m in \u001b[0;36mget_loc\u001b[0;34m(self, key, method, tolerance)\u001b[0m\n\u001b[1;32m   2657\u001b[0m                 \u001b[0;32mreturn\u001b[0m \u001b[0mself\u001b[0m\u001b[0;34m.\u001b[0m\u001b[0m_engine\u001b[0m\u001b[0;34m.\u001b[0m\u001b[0mget_loc\u001b[0m\u001b[0;34m(\u001b[0m\u001b[0mkey\u001b[0m\u001b[0;34m)\u001b[0m\u001b[0;34m\u001b[0m\u001b[0m\n\u001b[1;32m   2658\u001b[0m             \u001b[0;32mexcept\u001b[0m \u001b[0mKeyError\u001b[0m\u001b[0;34m:\u001b[0m\u001b[0;34m\u001b[0m\u001b[0m\n\u001b[0;32m-> 2659\u001b[0;31m                 \u001b[0;32mreturn\u001b[0m \u001b[0mself\u001b[0m\u001b[0;34m.\u001b[0m\u001b[0m_engine\u001b[0m\u001b[0;34m.\u001b[0m\u001b[0mget_loc\u001b[0m\u001b[0;34m(\u001b[0m\u001b[0mself\u001b[0m\u001b[0;34m.\u001b[0m\u001b[0m_maybe_cast_indexer\u001b[0m\u001b[0;34m(\u001b[0m\u001b[0mkey\u001b[0m\u001b[0;34m)\u001b[0m\u001b[0;34m)\u001b[0m\u001b[0;34m\u001b[0m\u001b[0m\n\u001b[0m\u001b[1;32m   2660\u001b[0m         \u001b[0mindexer\u001b[0m \u001b[0;34m=\u001b[0m \u001b[0mself\u001b[0m\u001b[0;34m.\u001b[0m\u001b[0mget_indexer\u001b[0m\u001b[0;34m(\u001b[0m\u001b[0;34m[\u001b[0m\u001b[0mkey\u001b[0m\u001b[0;34m]\u001b[0m\u001b[0;34m,\u001b[0m \u001b[0mmethod\u001b[0m\u001b[0;34m=\u001b[0m\u001b[0mmethod\u001b[0m\u001b[0;34m,\u001b[0m \u001b[0mtolerance\u001b[0m\u001b[0;34m=\u001b[0m\u001b[0mtolerance\u001b[0m\u001b[0;34m)\u001b[0m\u001b[0;34m\u001b[0m\u001b[0m\n\u001b[1;32m   2661\u001b[0m         \u001b[0;32mif\u001b[0m \u001b[0mindexer\u001b[0m\u001b[0;34m.\u001b[0m\u001b[0mndim\u001b[0m \u001b[0;34m>\u001b[0m \u001b[0;36m1\u001b[0m \u001b[0;32mor\u001b[0m \u001b[0mindexer\u001b[0m\u001b[0;34m.\u001b[0m\u001b[0msize\u001b[0m \u001b[0;34m>\u001b[0m \u001b[0;36m1\u001b[0m\u001b[0;34m:\u001b[0m\u001b[0;34m\u001b[0m\u001b[0m\n",
      "\u001b[0;32mpandas/_libs/index.pyx\u001b[0m in \u001b[0;36mpandas._libs.index.IndexEngine.get_loc\u001b[0;34m()\u001b[0m\n",
      "\u001b[0;32mpandas/_libs/index.pyx\u001b[0m in \u001b[0;36mpandas._libs.index.IndexEngine.get_loc\u001b[0;34m()\u001b[0m\n",
      "\u001b[0;32mpandas/_libs/hashtable_class_helper.pxi\u001b[0m in \u001b[0;36mpandas._libs.hashtable.PyObjectHashTable.get_item\u001b[0;34m()\u001b[0m\n",
      "\u001b[0;32mpandas/_libs/hashtable_class_helper.pxi\u001b[0m in \u001b[0;36mpandas._libs.hashtable.PyObjectHashTable.get_item\u001b[0;34m()\u001b[0m\n",
      "\u001b[0;31mKeyError\u001b[0m: 0"
     ]
    }
   ],
   "source": [
    "from __future__ import division\n",
    "from pyomo.opt import SolverFactory\n",
    "from pyomo.core import Var\n",
    "from pyomo.core import Param\n",
    "from operator import itemgetter\n",
    "import pandas as pd\n",
    "from datetime import datetime\n",
    "import os\n",
    "import datetime as dt\n",
    "import matplotlib.pyplot as plt\n",
    "import cPickle as pickle\n",
    "import numpy as np\n",
    "import v2gsim\n",
    "import matplotlib.pyplot as plt\n",
    "import seaborn as sns\n",
    "\n",
    "day=0\n",
    "\n",
    "df_hydro = pd.read_csv('../data/hydro/HydroGenerator.csv',header=0)\n",
    "df_hydro_cap = pd.read_csv('../data/hydro/HydroDailyCapacity.csv',header=0)[day:day+1]['Capacity(MWh)']\n",
    "df_hydro['maxcap']=float(df_hydro_cap)\n",
    "\n"
   ]
  },
  {
   "cell_type": "code",
   "execution_count": 4,
   "metadata": {},
   "outputs": [],
   "source": [
    "import pandas as pd \n",
    "SimDays = 2\n",
    "SimHours = SimDays * 24\n",
    "HorizonHours = 48  ##planning horizon (e.g., 24, 48, 72 hours etc.)\n",
    "regup_margin = 0.064  ##minimum regulation up reserve as a percent of system demand, referenced from https://www.nrel.gov/docs/fy19osti/73590.pdf\n",
    "regdown_margin = 0.072 ##minimum regulation down reserve as a percent of system demand from https://www.nrel.gov/docs/fy19osti/73590.pdf\n",
    "vehicleNumber=15000000\n",
    "batteryCost=8\n",
    "day=0\n",
    "yr=2019\n",
    "run_no = 3\n",
    "versionName='UCValidation_'+str(run_no)+'_battery'+str(batteryCost)\n"
   ]
  },
  {
   "cell_type": "code",
   "execution_count": 29,
   "metadata": {},
   "outputs": [
    {
     "output_type": "execute_result",
     "data": {
      "text/html": "<div>\n<style scoped>\n    .dataframe tbody tr th:only-of-type {\n        vertical-align: middle;\n    }\n\n    .dataframe tbody tr th {\n        vertical-align: top;\n    }\n\n    .dataframe thead th {\n        text-align: right;\n    }\n</style>\n<table border=\"1\" class=\"dataframe\">\n  <thead>\n    <tr style=\"text-align: right;\">\n      <th></th>\n      <th>Day</th>\n      <th>Hour</th>\n      <th>Generation</th>\n      <th>Reg Up</th>\n      <th>Reg Down</th>\n      <th>name</th>\n      <th>PlantType</th>\n    </tr>\n  </thead>\n  <tbody>\n    <tr>\n      <th>365</th>\n      <td>25</td>\n      <td>325</td>\n      <td>0.000000</td>\n      <td>0.00</td>\n      <td>0.00</td>\n      <td>7552_G_CCST</td>\n      <td>Combined Cycle</td>\n    </tr>\n    <tr>\n      <th>366</th>\n      <td>25</td>\n      <td>325</td>\n      <td>243.160000</td>\n      <td>6.84</td>\n      <td>143.16</td>\n      <td>902_G_1</td>\n      <td>Geothermal</td>\n    </tr>\n    <tr>\n      <th>367</th>\n      <td>25</td>\n      <td>325</td>\n      <td>527.491380</td>\n      <td>0.00</td>\n      <td>0.00</td>\n      <td>Solar</td>\n      <td>Solar</td>\n    </tr>\n    <tr>\n      <th>368</th>\n      <td>50</td>\n      <td>650</td>\n      <td>45927.803721</td>\n      <td>0.00</td>\n      <td>0.00</td>\n      <td>Vehicle</td>\n      <td>Vehicle</td>\n    </tr>\n    <tr>\n      <th>369</th>\n      <td>25</td>\n      <td>325</td>\n      <td>18949.463360</td>\n      <td>0.00</td>\n      <td>0.00</td>\n      <td>Wind</td>\n      <td>Wind</td>\n    </tr>\n  </tbody>\n</table>\n</div>",
      "text/plain": "     Day  Hour    Generation  Reg Up  Reg Down         name       PlantType\n365   25   325      0.000000    0.00      0.00  7552_G_CCST  Combined Cycle\n366   25   325    243.160000    6.84    143.16      902_G_1      Geothermal\n367   25   325    527.491380    0.00      0.00        Solar           Solar\n368   50   650  45927.803721    0.00      0.00      Vehicle         Vehicle\n369   25   325  18949.463360    0.00      0.00         Wind            Wind"
     },
     "metadata": {},
     "execution_count": 29
    }
   ],
   "source": [
    "\n",
    "mwh_pd=pd.read_csv('../Result/validate'+str(day)+\"_\"+versionName+'vehicleGeneration.csv')\n",
    "\n",
    "mwh=mwh_pd.groupby('Generator').sum()\n",
    "genFleet=pd.read_csv('../data/generator/GeneratorRaw2019.csv',header=0)\n",
    "mwh=mwh.merge(genFleet[['name','PlantType']],left_on='Generator',right_on='name',how='left')\n",
    "mwh.at[367,'PlantType']='Solar'\n",
    "mwh.at[368,'PlantType']='Vehicle'\n",
    "mwh.at[369,'PlantType']='Wind'\n",
    "mwh.at[367,'name']='Solar'\n",
    "mwh.at[368,'name']='Vehicle'\n",
    "mwh.at[369,'name']='Wind'\n",
    "mwh.groupby('PlantType').sum()\n",
    "\n",
    "mwh.tail()"
   ]
  },
  {
   "cell_type": "code",
   "execution_count": 1,
   "metadata": {
    "tags": []
   },
   "outputs": [
    {
     "output_type": "stream",
     "name": "stdout",
     "text": "Generation        Reg Up      Reg Down  percentage\nPlantType                                                                  \nBiomass                5.199748e+06  0.000000e+00  0.000000e+00    0.023454\nCoal Steam             1.508750e+05  0.000000e+00  9.052500e+04    0.000681\nCombined Cycle         9.404930e+07  1.358949e+07  5.977830e+06    0.424227\nCombustion Turbine     2.546340e+06  3.352000e-02  0.000000e+00    0.011486\nFossil Waste           4.583094e+05  0.000000e+00  0.000000e+00    0.002067\nFuel Cell              3.828345e+02  0.000000e+00  0.000000e+00    0.000002\nGeothermal             1.623060e+07  0.000000e+00  9.738360e+06    0.073211\nHydro                  3.880894e+07  0.000000e+00  0.000000e+00    0.175055\nLandfill Gas           2.437900e+06  0.000000e+00  0.000000e+00    0.010997\nMunicipal Solid Waste  3.747266e+05  0.000000e+00  0.000000e+00    0.001690\nNon-Fossil Waste       1.168771e+06  0.000000e+00  0.000000e+00    0.005272\nNuclear                1.953124e+07  0.000000e+00  0.000000e+00    0.088099\nO/G Steam              6.494364e+05  4.609201e+05  0.000000e+00    0.002929\nSolar                  2.578533e+07  0.000000e+00  0.000000e+00    0.116310\nWind                   1.430371e+07  0.000000e+00  0.000000e+00    0.064520\n"
    }
   ],
   "source": [
    "import pandas as pd\n",
    "import os\n",
    "\n",
    "def GetData(version):\n",
    "    directory = r'/Users/meiyewang/Desktop/code/Result'\n",
    "    df1=pd.DataFrame(columns=[\"Generator\",\"Day\",\"Hour\",\"Generation\",\"Reg Up\",\"Reg Down\"])\n",
    "    for filename in os.listdir(directory):\n",
    "        if filename.startswith(version) :\n",
    "            # if filename.split('_')[2]==str(run_no):\n",
    "            df=pd.read_csv(os.path.join(directory, filename))\n",
    "            df1=pd.concat([df1,df[[\"Generator\",\"Day\",\"Hour\",\"Generation\",\"Reg Up\",\"Reg Down\"]]])\n",
    "        else:\n",
    "            continue\n",
    "    return df1\n",
    "\n",
    "def aggregateGeneration(df):\n",
    "    mwh=df.groupby('Generator').sum()\n",
    "    genFleet=pd.read_csv('../data/generator/GeneratorRaw2019.csv',header=0)\n",
    "    mwh=mwh.merge(genFleet[['name','PlantType']],left_on='Generator',right_on='name',how='left')\n",
    "    mwh.at[367,'PlantType']='Hydro'\n",
    "    mwh.at[368,'PlantType']='Solar'\n",
    "    mwh.at[370,'PlantType']='Wind'\n",
    "    mwh.at[367,'name']='Hydro'\n",
    "    mwh.at[368,'name']='Solar'\n",
    "    mwh.at[370,'name']='Wind'\n",
    "    aggregateGeneration=mwh.groupby('PlantType').sum()\n",
    "    return aggregateGeneration\n",
    "\n",
    "def percentage(aggregateGeneration):\n",
    "    \n",
    "    generation=aggregateGeneration['Generation'].sum()\n",
    "    aggregateGeneration['percentage']= aggregateGeneration['Generation']/ generation\n",
    "    print(aggregateGeneration)\n",
    "\n",
    "df=GetData(\"validateUCValidation_1\")\n",
    "aggregateGeneration=aggregateGeneration(df)\n",
    "percentage(aggregateGeneration)\n",
    "aggregateGeneration.to_csv('ValidationResult.csv')"
   ]
  },
  {
   "cell_type": "code",
   "execution_count": 6,
   "metadata": {},
   "outputs": [
    {
     "output_type": "execute_result",
     "data": {
      "text/plain": "162931354.56689364"
     },
     "metadata": {},
     "execution_count": 6
    }
   ],
   "source": [
    "aggregateGeneration['Generation'].sum()"
   ]
  },
  {
   "cell_type": "code",
   "execution_count": 3,
   "metadata": {},
   "outputs": [],
   "source": [
    "aggregateGeneration.to_csv('ValidationResult.csv')"
   ]
  },
  {
   "cell_type": "code",
   "execution_count": 60,
   "metadata": {},
   "outputs": [
    {
     "output_type": "execute_result",
     "data": {
      "text/html": "<div>\n<style scoped>\n    .dataframe tbody tr th:only-of-type {\n        vertical-align: middle;\n    }\n\n    .dataframe tbody tr th {\n        vertical-align: top;\n    }\n\n    .dataframe thead th {\n        text-align: right;\n    }\n</style>\n<table border=\"1\" class=\"dataframe\">\n  <thead>\n    <tr style=\"text-align: right;\">\n      <th></th>\n      <th>Generation</th>\n      <th>Reg Up</th>\n      <th>Reg Down</th>\n    </tr>\n    <tr>\n      <th>PlantType</th>\n      <th></th>\n      <th></th>\n      <th></th>\n    </tr>\n  </thead>\n  <tbody>\n    <tr>\n      <th>Biomass</th>\n      <td>5.892028e+06</td>\n      <td>0.000000e+00</td>\n      <td>0.000000e+00</td>\n    </tr>\n    <tr>\n      <th>Coal Steam</th>\n      <td>1.462607e+05</td>\n      <td>7.487316e+03</td>\n      <td>1.229912e+04</td>\n    </tr>\n    <tr>\n      <th>Combined Cycle</th>\n      <td>6.820457e+07</td>\n      <td>1.025770e+07</td>\n      <td>2.106336e+05</td>\n    </tr>\n    <tr>\n      <th>Combustion Turbine</th>\n      <td>1.049770e+06</td>\n      <td>0.000000e+00</td>\n      <td>0.000000e+00</td>\n    </tr>\n    <tr>\n      <th>Fossil Waste</th>\n      <td>5.159998e+05</td>\n      <td>0.000000e+00</td>\n      <td>0.000000e+00</td>\n    </tr>\n    <tr>\n      <th>Fuel Cell</th>\n      <td>0.000000e+00</td>\n      <td>0.000000e+00</td>\n      <td>0.000000e+00</td>\n    </tr>\n    <tr>\n      <th>Geothermal</th>\n      <td>1.654193e+07</td>\n      <td>4.101209e+03</td>\n      <td>1.178745e+07</td>\n    </tr>\n    <tr>\n      <th>Landfill Gas</th>\n      <td>2.810765e+06</td>\n      <td>0.000000e+00</td>\n      <td>0.000000e+00</td>\n    </tr>\n    <tr>\n      <th>Municipal Solid Waste</th>\n      <td>4.158209e+05</td>\n      <td>0.000000e+00</td>\n      <td>0.000000e+00</td>\n    </tr>\n    <tr>\n      <th>Non-Fossil Waste</th>\n      <td>1.320161e+06</td>\n      <td>0.000000e+00</td>\n      <td>0.000000e+00</td>\n    </tr>\n    <tr>\n      <th>Nuclear</th>\n      <td>1.993862e+07</td>\n      <td>0.000000e+00</td>\n      <td>0.000000e+00</td>\n    </tr>\n    <tr>\n      <th>O/G Steam</th>\n      <td>0.000000e+00</td>\n      <td>4.066061e+05</td>\n      <td>0.000000e+00</td>\n    </tr>\n    <tr>\n      <th>Solar</th>\n      <td>3.168177e+05</td>\n      <td>0.000000e+00</td>\n      <td>0.000000e+00</td>\n    </tr>\n    <tr>\n      <th>Vehicle</th>\n      <td>3.970243e+07</td>\n      <td>0.000000e+00</td>\n      <td>0.000000e+00</td>\n    </tr>\n    <tr>\n      <th>Wind</th>\n      <td>9.960255e+06</td>\n      <td>0.000000e+00</td>\n      <td>0.000000e+00</td>\n    </tr>\n  </tbody>\n</table>\n</div>",
      "text/plain": "                         Generation        Reg Up      Reg Down\nPlantType                                                      \nBiomass                5.892028e+06  0.000000e+00  0.000000e+00\nCoal Steam             1.462607e+05  7.487316e+03  1.229912e+04\nCombined Cycle         6.820457e+07  1.025770e+07  2.106336e+05\nCombustion Turbine     1.049770e+06  0.000000e+00  0.000000e+00\nFossil Waste           5.159998e+05  0.000000e+00  0.000000e+00\nFuel Cell              0.000000e+00  0.000000e+00  0.000000e+00\nGeothermal             1.654193e+07  4.101209e+03  1.178745e+07\nLandfill Gas           2.810765e+06  0.000000e+00  0.000000e+00\nMunicipal Solid Waste  4.158209e+05  0.000000e+00  0.000000e+00\nNon-Fossil Waste       1.320161e+06  0.000000e+00  0.000000e+00\nNuclear                1.993862e+07  0.000000e+00  0.000000e+00\nO/G Steam              0.000000e+00  4.066061e+05  0.000000e+00\nSolar                  3.168177e+05  0.000000e+00  0.000000e+00\nVehicle                3.970243e+07  0.000000e+00  0.000000e+00\nWind                   9.960255e+06  0.000000e+00  0.000000e+00"
     },
     "metadata": {},
     "execution_count": 60
    }
   ],
   "source": [
    "def aggregateGeneration(df):\n",
    "    mwh=df.groupby('Generator').sum()\n",
    "    genFleet=pd.read_csv('../data/generator/GeneratorRaw2019.csv',header=0)\n",
    "    mwh=mwh.merge(genFleet[['name','PlantType']],left_on='Generator',right_on='name',how='left')\n",
    "    mwh.at[367,'PlantType']='Solar'\n",
    "    mwh.at[368,'PlantType']='Vehicle'\n",
    "    mwh.at[369,'PlantType']='Wind'\n",
    "    mwh.at[367,'name']='Solar'\n",
    "    mwh.at[368,'name']='Vehicle'\n",
    "    mwh.at[369,'name']='Wind'\n",
    "    aggregateGeneration=mwh.groupby('PlantType').sum()\n",
    "    return aggregateGeneration\n",
    "aggregateGeneration()"
   ]
  },
  {
   "cell_type": "code",
   "execution_count": 73,
   "metadata": {
    "tags": []
   },
   "outputs": [
    {
     "output_type": "stream",
     "name": "stdout",
     "text": "0.00072957068914661\n0.3454512429481703\n0.09945689815383467\n0.24930540900404768\n0.02939033565823097\n0.08251367887928089\n0.049683277102905744\n"
    }
   ],
   "source": [
    "mwh_group=mwh.groupby('PlantType').sum()\n",
    "generation=mwh_group['Generation'].sum()\n",
    "# mwh_group\n",
    "coal=mwh_group.at['Coal Steam','Generation']/200475000\n",
    "print(coal)\n",
    "ng=(mwh_group.at['Combined Cycle','Generation']+mwh_group.at['Combustion Turbine','Generation'])/200475000\n",
    "print(ng)\n",
    "nuclear=(mwh_group.at['Nuclear','Generation'])/200475000\n",
    "print(nuclear)\n",
    "renewable=(mwh_group.at['Solar','Generation']+mwh_group.at['Wind','Generation']+mwh_group.at['Vehicle','Generation'])/200475000\n",
    "print(renewable)\n",
    "biomass=(mwh_group.at['Biomass','Generation'])/200475000\n",
    "print(biomass)\n",
    "geothermal=(mwh_group.at['Geothermal','Generation'])/200475000\n",
    "print(geothermal)\n",
    "wind=(mwh_group.at['Wind','Generation'])/200475000\n",
    "print(wind)"
   ]
  },
  {
   "cell_type": "code",
   "execution_count": 80,
   "metadata": {
    "tags": []
   },
   "outputs": [
    {
     "output_type": "stream",
     "name": "stdout",
     "text": "4609895.408632993\n"
    }
   ],
   "source": [
    "other=(mwh_group.at['Landfill Gas','Generation']+mwh_group.at['Municipal Solid Waste','Generation']+mwh_group.at['Non-Fossil Waste','Generation'])/360*365\n",
    "print(other)\n",
    "\n"
   ]
  },
  {
   "cell_type": "code",
   "execution_count": 5,
   "metadata": {},
   "outputs": [
    {
     "output_type": "execute_result",
     "data": {
      "text/html": "<div>\n<style scoped>\n    .dataframe tbody tr th:only-of-type {\n        vertical-align: middle;\n    }\n\n    .dataframe tbody tr th {\n        vertical-align: top;\n    }\n\n    .dataframe thead th {\n        text-align: right;\n    }\n</style>\n<table border=\"1\" class=\"dataframe\">\n  <thead>\n    <tr style=\"text-align: right;\">\n      <th></th>\n      <th>Generation</th>\n      <th>Reg Up</th>\n      <th>Reg Down</th>\n    </tr>\n    <tr>\n      <th>Generator</th>\n      <th></th>\n      <th></th>\n      <th></th>\n    </tr>\n  </thead>\n  <tbody>\n    <tr>\n      <th>10034_G_GEN1</th>\n      <td>2.227000e+03</td>\n      <td>0.000000</td>\n      <td>0.000000</td>\n    </tr>\n    <tr>\n      <th>10034_G_GEN2</th>\n      <td>9.720000e+02</td>\n      <td>0.000000</td>\n      <td>0.000000</td>\n    </tr>\n    <tr>\n      <th>10052_B_BLR1</th>\n      <td>5.569958e+05</td>\n      <td>0.000000</td>\n      <td>0.000000</td>\n    </tr>\n    <tr>\n      <th>10091_G_G2</th>\n      <td>8.769439e+04</td>\n      <td>0.000000</td>\n      <td>0.000000</td>\n    </tr>\n    <tr>\n      <th>10091_G_GEN1</th>\n      <td>3.473256e+04</td>\n      <td>0.000000</td>\n      <td>0.000000</td>\n    </tr>\n    <tr>\n      <th>10110_G_GEN1</th>\n      <td>3.076548e+02</td>\n      <td>0.000000</td>\n      <td>0.000000</td>\n    </tr>\n    <tr>\n      <th>10144_B_BLR3</th>\n      <td>5.001870e+04</td>\n      <td>0.000000</td>\n      <td>0.000000</td>\n    </tr>\n    <tr>\n      <th>10156_G_GEN2</th>\n      <td>1.308000e+02</td>\n      <td>0.000000</td>\n      <td>0.000000</td>\n    </tr>\n    <tr>\n      <th>10156_G_GEN3</th>\n      <td>3.003460e+02</td>\n      <td>0.000000</td>\n      <td>0.000000</td>\n    </tr>\n    <tr>\n      <th>10156_G_GEN4</th>\n      <td>9.000000e+02</td>\n      <td>0.000000</td>\n      <td>0.000000</td>\n    </tr>\n    <tr>\n      <th>10169_G_GEN1</th>\n      <td>0.000000e+00</td>\n      <td>0.000000</td>\n      <td>0.000000</td>\n    </tr>\n    <tr>\n      <th>10169_G_GEN2</th>\n      <td>0.000000e+00</td>\n      <td>0.000000</td>\n      <td>0.000000</td>\n    </tr>\n    <tr>\n      <th>10175_G_0799</th>\n      <td>7.743302e-01</td>\n      <td>0.000000</td>\n      <td>0.000000</td>\n    </tr>\n    <tr>\n      <th>10175_G_5083</th>\n      <td>0.000000e+00</td>\n      <td>0.000000</td>\n      <td>0.000000</td>\n    </tr>\n    <tr>\n      <th>10213_G_GEN1</th>\n      <td>2.786400e+02</td>\n      <td>0.000000</td>\n      <td>0.000000</td>\n    </tr>\n    <tr>\n      <th>10213_G_GEN2</th>\n      <td>3.870000e+01</td>\n      <td>0.000000</td>\n      <td>0.000000</td>\n    </tr>\n    <tr>\n      <th>10213_G_GEN5</th>\n      <td>1.568000e+01</td>\n      <td>0.000000</td>\n      <td>0.000000</td>\n    </tr>\n    <tr>\n      <th>10213_G_GEN6</th>\n      <td>1.857606e+02</td>\n      <td>0.000000</td>\n      <td>0.000000</td>\n    </tr>\n    <tr>\n      <th>10213_G_GEN7</th>\n      <td>6.199803e+03</td>\n      <td>336.337920</td>\n      <td>0.000000</td>\n    </tr>\n    <tr>\n      <th>10213_G_GEN8</th>\n      <td>7.935200e+02</td>\n      <td>41.065333</td>\n      <td>0.000000</td>\n    </tr>\n    <tr>\n      <th>10294_G_GTG</th>\n      <td>1.912600e+03</td>\n      <td>0.000000</td>\n      <td>0.000000</td>\n    </tr>\n    <tr>\n      <th>10294_G_STG</th>\n      <td>7.600000e+02</td>\n      <td>0.000000</td>\n      <td>0.000000</td>\n    </tr>\n    <tr>\n      <th>10342_G_TG1</th>\n      <td>9.590000e+02</td>\n      <td>0.000000</td>\n      <td>0.000000</td>\n    </tr>\n    <tr>\n      <th>10342_G_TG2</th>\n      <td>9.170000e+02</td>\n      <td>0.000000</td>\n      <td>0.000000</td>\n    </tr>\n    <tr>\n      <th>10342_G_TG3</th>\n      <td>8.777000e+02</td>\n      <td>0.000000</td>\n      <td>0.000000</td>\n    </tr>\n    <tr>\n      <th>10349_G_GEN1</th>\n      <td>1.333893e+03</td>\n      <td>0.000000</td>\n      <td>0.000000</td>\n    </tr>\n    <tr>\n      <th>10387_G_1A</th>\n      <td>2.303920e+05</td>\n      <td>0.000000</td>\n      <td>0.000000</td>\n    </tr>\n    <tr>\n      <th>10387_G_3</th>\n      <td>7.294277e+04</td>\n      <td>0.000000</td>\n      <td>0.000000</td>\n    </tr>\n    <tr>\n      <th>10405_G_GEN1</th>\n      <td>0.000000e+00</td>\n      <td>0.000000</td>\n      <td>0.000000</td>\n    </tr>\n    <tr>\n      <th>10405_G_GEN2</th>\n      <td>0.000000e+00</td>\n      <td>0.000000</td>\n      <td>0.000000</td>\n    </tr>\n    <tr>\n      <th>...</th>\n      <td>...</td>\n      <td>...</td>\n      <td>...</td>\n    </tr>\n    <tr>\n      <th>59557_G_AC2FC</th>\n      <td>0.000000e+00</td>\n      <td>0.000000</td>\n      <td>0.000000</td>\n    </tr>\n    <tr>\n      <th>6060_G_4</th>\n      <td>3.910340e+01</td>\n      <td>0.000000</td>\n      <td>0.000000</td>\n    </tr>\n    <tr>\n      <th>60918_G_00003</th>\n      <td>4.933154e+04</td>\n      <td>0.000000</td>\n      <td>0.000000</td>\n    </tr>\n    <tr>\n      <th>6099_G_1</th>\n      <td>2.218911e+06</td>\n      <td>0.000000</td>\n      <td>0.000000</td>\n    </tr>\n    <tr>\n      <th>6099_G_2</th>\n      <td>2.212338e+06</td>\n      <td>0.000000</td>\n      <td>0.000000</td>\n    </tr>\n    <tr>\n      <th>6211_G_GEN1</th>\n      <td>0.000000e+00</td>\n      <td>0.000000</td>\n      <td>0.000000</td>\n    </tr>\n    <tr>\n      <th>6704_G_10</th>\n      <td>0.000000e+00</td>\n      <td>0.000000</td>\n      <td>0.000000</td>\n    </tr>\n    <tr>\n      <th>6704_G_14</th>\n      <td>0.000000e+00</td>\n      <td>0.000000</td>\n      <td>0.000000</td>\n    </tr>\n    <tr>\n      <th>7266_G_2</th>\n      <td>0.000000e+00</td>\n      <td>0.000000</td>\n      <td>0.000000</td>\n    </tr>\n    <tr>\n      <th>7266_G_3</th>\n      <td>0.000000e+00</td>\n      <td>0.000000</td>\n      <td>0.000000</td>\n    </tr>\n    <tr>\n      <th>7307_G_4</th>\n      <td>5.400000e+02</td>\n      <td>0.000000</td>\n      <td>0.000000</td>\n    </tr>\n    <tr>\n      <th>7307_G_5</th>\n      <td>5.658000e+02</td>\n      <td>0.000000</td>\n      <td>0.000000</td>\n    </tr>\n    <tr>\n      <th>7307_G_6</th>\n      <td>3.116000e+02</td>\n      <td>0.000000</td>\n      <td>0.000000</td>\n    </tr>\n    <tr>\n      <th>7368_G_1</th>\n      <td>5.385421e+04</td>\n      <td>136.553400</td>\n      <td>32247.246600</td>\n    </tr>\n    <tr>\n      <th>7368_G_2</th>\n      <td>5.384798e+04</td>\n      <td>142.783683</td>\n      <td>32241.016317</td>\n    </tr>\n    <tr>\n      <th>7369_G_3</th>\n      <td>6.011079e+04</td>\n      <td>78.916100</td>\n      <td>36023.023900</td>\n    </tr>\n    <tr>\n      <th>7369_G_4</th>\n      <td>9.568412e+04</td>\n      <td>277.936296</td>\n      <td>57271.734984</td>\n    </tr>\n    <tr>\n      <th>7449_G_NA1</th>\n      <td>1.611362e+02</td>\n      <td>0.000000</td>\n      <td>0.000000</td>\n    </tr>\n    <tr>\n      <th>7527_G_2</th>\n      <td>0.000000e+00</td>\n      <td>0.000000</td>\n      <td>0.000000</td>\n    </tr>\n    <tr>\n      <th>7527_G_CCCT</th>\n      <td>0.000000e+00</td>\n      <td>0.000000</td>\n      <td>0.000000</td>\n    </tr>\n    <tr>\n      <th>7551_G_CCST</th>\n      <td>9.851200e+02</td>\n      <td>0.000000</td>\n      <td>0.000000</td>\n    </tr>\n    <tr>\n      <th>7551_G_CT1A</th>\n      <td>1.247120e+03</td>\n      <td>0.000000</td>\n      <td>0.000000</td>\n    </tr>\n    <tr>\n      <th>7551_G_CT1B</th>\n      <td>1.247120e+03</td>\n      <td>0.000000</td>\n      <td>0.000000</td>\n    </tr>\n    <tr>\n      <th>7552_G_CCCT</th>\n      <td>2.751690e+03</td>\n      <td>125.208000</td>\n      <td>0.000000</td>\n    </tr>\n    <tr>\n      <th>7552_G_CCST</th>\n      <td>2.554600e+03</td>\n      <td>31.800000</td>\n      <td>0.000000</td>\n    </tr>\n    <tr>\n      <th>902_G_1</th>\n      <td>1.999658e+04</td>\n      <td>3.420000</td>\n      <td>11996.580000</td>\n    </tr>\n    <tr>\n      <th>hydro</th>\n      <td>6.875317e+06</td>\n      <td>0.000000</td>\n      <td>0.000000</td>\n    </tr>\n    <tr>\n      <th>solar</th>\n      <td>5.241685e+04</td>\n      <td>0.000000</td>\n      <td>0.000000</td>\n    </tr>\n    <tr>\n      <th>vehicle</th>\n      <td>0.000000e+00</td>\n      <td>0.000000</td>\n      <td>0.000000</td>\n    </tr>\n    <tr>\n      <th>wind</th>\n      <td>1.746440e+06</td>\n      <td>0.000000</td>\n      <td>0.000000</td>\n    </tr>\n  </tbody>\n</table>\n<p>371 rows × 3 columns</p>\n</div>",
      "text/plain": "                 Generation      Reg Up      Reg Down\nGenerator                                            \n10034_G_GEN1   2.227000e+03    0.000000      0.000000\n10034_G_GEN2   9.720000e+02    0.000000      0.000000\n10052_B_BLR1   5.569958e+05    0.000000      0.000000\n10091_G_G2     8.769439e+04    0.000000      0.000000\n10091_G_GEN1   3.473256e+04    0.000000      0.000000\n10110_G_GEN1   3.076548e+02    0.000000      0.000000\n10144_B_BLR3   5.001870e+04    0.000000      0.000000\n10156_G_GEN2   1.308000e+02    0.000000      0.000000\n10156_G_GEN3   3.003460e+02    0.000000      0.000000\n10156_G_GEN4   9.000000e+02    0.000000      0.000000\n10169_G_GEN1   0.000000e+00    0.000000      0.000000\n10169_G_GEN2   0.000000e+00    0.000000      0.000000\n10175_G_0799   7.743302e-01    0.000000      0.000000\n10175_G_5083   0.000000e+00    0.000000      0.000000\n10213_G_GEN1   2.786400e+02    0.000000      0.000000\n10213_G_GEN2   3.870000e+01    0.000000      0.000000\n10213_G_GEN5   1.568000e+01    0.000000      0.000000\n10213_G_GEN6   1.857606e+02    0.000000      0.000000\n10213_G_GEN7   6.199803e+03  336.337920      0.000000\n10213_G_GEN8   7.935200e+02   41.065333      0.000000\n10294_G_GTG    1.912600e+03    0.000000      0.000000\n10294_G_STG    7.600000e+02    0.000000      0.000000\n10342_G_TG1    9.590000e+02    0.000000      0.000000\n10342_G_TG2    9.170000e+02    0.000000      0.000000\n10342_G_TG3    8.777000e+02    0.000000      0.000000\n10349_G_GEN1   1.333893e+03    0.000000      0.000000\n10387_G_1A     2.303920e+05    0.000000      0.000000\n10387_G_3      7.294277e+04    0.000000      0.000000\n10405_G_GEN1   0.000000e+00    0.000000      0.000000\n10405_G_GEN2   0.000000e+00    0.000000      0.000000\n...                     ...         ...           ...\n59557_G_AC2FC  0.000000e+00    0.000000      0.000000\n6060_G_4       3.910340e+01    0.000000      0.000000\n60918_G_00003  4.933154e+04    0.000000      0.000000\n6099_G_1       2.218911e+06    0.000000      0.000000\n6099_G_2       2.212338e+06    0.000000      0.000000\n6211_G_GEN1    0.000000e+00    0.000000      0.000000\n6704_G_10      0.000000e+00    0.000000      0.000000\n6704_G_14      0.000000e+00    0.000000      0.000000\n7266_G_2       0.000000e+00    0.000000      0.000000\n7266_G_3       0.000000e+00    0.000000      0.000000\n7307_G_4       5.400000e+02    0.000000      0.000000\n7307_G_5       5.658000e+02    0.000000      0.000000\n7307_G_6       3.116000e+02    0.000000      0.000000\n7368_G_1       5.385421e+04  136.553400  32247.246600\n7368_G_2       5.384798e+04  142.783683  32241.016317\n7369_G_3       6.011079e+04   78.916100  36023.023900\n7369_G_4       9.568412e+04  277.936296  57271.734984\n7449_G_NA1     1.611362e+02    0.000000      0.000000\n7527_G_2       0.000000e+00    0.000000      0.000000\n7527_G_CCCT    0.000000e+00    0.000000      0.000000\n7551_G_CCST    9.851200e+02    0.000000      0.000000\n7551_G_CT1A    1.247120e+03    0.000000      0.000000\n7551_G_CT1B    1.247120e+03    0.000000      0.000000\n7552_G_CCCT    2.751690e+03  125.208000      0.000000\n7552_G_CCST    2.554600e+03   31.800000      0.000000\n902_G_1        1.999658e+04    3.420000  11996.580000\nhydro          6.875317e+06    0.000000      0.000000\nsolar          5.241685e+04    0.000000      0.000000\nvehicle        0.000000e+00    0.000000      0.000000\nwind           1.746440e+06    0.000000      0.000000\n\n[371 rows x 3 columns]"
     },
     "metadata": {},
     "execution_count": 5
    }
   ],
   "source": [
    "mwh=df.groupby('Generator').sum()\n",
    "# genFleet=pd.read_csv('../data/generator/GeneratorRaw2019.csv',header=0)\n",
    "# mwh=mwh.merge(genFleet[['name','PlantType']],left_on='Generator',right_on='name',how='left')\n",
    "mwh"
   ]
  },
  {
   "cell_type": "code",
   "execution_count": null,
   "metadata": {},
   "outputs": [],
   "source": []
  },
  {
   "cell_type": "code",
   "execution_count": 10,
   "metadata": {},
   "outputs": [
    {
     "output_type": "execute_result",
     "data": {
      "text/html": "<div>\n<style scoped>\n    .dataframe tbody tr th:only-of-type {\n        vertical-align: middle;\n    }\n\n    .dataframe tbody tr th {\n        vertical-align: top;\n    }\n\n    .dataframe thead th {\n        text-align: right;\n    }\n</style>\n<table border=\"1\" class=\"dataframe\">\n  <thead>\n    <tr style=\"text-align: right;\">\n      <th></th>\n      <th>name</th>\n      <th>maxcap</th>\n      <th>mincap</th>\n      <th>opcost</th>\n      <th>minup</th>\n      <th>ramp</th>\n      <th>st_cost</th>\n      <th>var_om</th>\n      <th>fix_om</th>\n      <th>regcost</th>\n    </tr>\n  </thead>\n  <tbody>\n    <tr>\n      <th>0</th>\n      <td>hydro</td>\n      <td>0</td>\n      <td>0</td>\n      <td>0.024079</td>\n      <td>0</td>\n      <td>23.59814</td>\n      <td>0</td>\n      <td>0</td>\n      <td>14130</td>\n      <td>9999</td>\n    </tr>\n  </tbody>\n</table>\n</div>",
      "text/plain": "    name  maxcap  mincap    opcost  minup      ramp  st_cost  var_om  fix_om  \\\n0  hydro       0       0  0.024079      0  23.59814        0       0   14130   \n\n   regcost  \n0     9999  "
     },
     "metadata": {},
     "execution_count": 10
    }
   ],
   "source": [
    "day=0\n",
    "\n",
    "df_hydro = pd.read_csv('../data/hydro/HydroGenerator.csv',header=0)\n",
    "df_hydro_cap = pd.read_csv('../data/hydro/HydroDailyCapacity.csv',header=0)[day:day+1]['Capacity(MWh)']\n",
    "df_hydro[0:1]['maxcap']=float(df_hydro_cap)\n",
    "df_hydro\n",
    "\n"
   ]
  },
  {
   "cell_type": "code",
   "execution_count": null,
   "metadata": {
    "tags": []
   },
   "outputs": [],
   "source": [
    "\n",
    "writeDatFile(df_gen,df_solar_cap,df_solar_cons,df_wind_cap,df_wind_cons,df_veh_cap,df_load,SimDays,SimHours,HorizonHours,regup_margin,regdown_margin,versionName,batteryCost)\n",
    "# print(df_veh_cap)\n",
    "###Create instand and solve \n",
    "instance = model.create_instance(versionName+'.dat')\n",
    "opt = SolverFactory(\"gurobi\") ##SolverFactory(\"cplex\")\n",
    "# opt.options[\"threads\"] = 1\n",
    "H = instance.HorizonHours\n",
    "K=range(1,H+1)\n",
    "\n",
    "pr2,vehCap2=readSolutionResult(opt,instance,K,veh,df_gen,df_solar_cons,df_wind_cons,batteryCost)\n",
    "print(pr2)\n",
    "print(\"complete\")"
   ]
  },
  {
   "cell_type": "code",
   "execution_count": null,
   "metadata": {},
   "outputs": [],
   "source": [
    "def init_gen():\n",
    "    df_gen = pd.read_csv('../data/generator/GeneratorRaw2019.csv',header=0)\n",
    "    return df_gen\n",
    "df_gen=init_gen().groupby('PlantType').sum()\n",
    "df_gen"
   ]
  },
  {
   "cell_type": "code",
   "execution_count": null,
   "metadata": {},
   "outputs": [],
   "source": [
    "df_load_total = pd.read_csv('../data/netload/CAISO2019Load.csv',header=0)\n",
    "df_load_total.max()"
   ]
  },
  {
   "cell_type": "code",
   "execution_count": null,
   "metadata": {},
   "outputs": [],
   "source": [
    "\n",
    "df_load=init_load(day,HorizonHours)\n",
    "df_load.max()"
   ]
  },
  {
   "cell_type": "code",
   "execution_count": null,
   "metadata": {},
   "outputs": [],
   "source": [
    "def init_gen():\n",
    "    df_gen = pd.read_csv('../data/generator/Generator.csv',header=0)\n",
    "    return df_gen\n",
    "init_gen().sum()   "
   ]
  },
  {
   "cell_type": "code",
   "execution_count": 87,
   "metadata": {},
   "outputs": [
    {
     "output_type": "execute_result",
     "data": {
      "text/plain": "MW    26609.433766\ndtype: float64"
     },
     "metadata": {},
     "execution_count": 87
    }
   ],
   "source": [
    "df_solar_cap=pd.read_csv('../data/generator/SolarCap.csv',header=0)\n",
    "df_solar_cap.sum()/1000"
   ]
  },
  {
   "cell_type": "code",
   "execution_count": 89,
   "metadata": {},
   "outputs": [
    {
     "output_type": "execute_result",
     "data": {
      "text/plain": "(8760, 1)"
     },
     "metadata": {},
     "execution_count": 89
    }
   ],
   "source": [
    "df_solar_cap.shape"
   ]
  },
  {
   "cell_type": "code",
   "execution_count": 88,
   "metadata": {},
   "outputs": [
    {
     "output_type": "execute_result",
     "data": {
      "text/plain": "MW    13886.920096\ndtype: float64"
     },
     "metadata": {},
     "execution_count": 88
    }
   ],
   "source": [
    "df_wind_cap=pd.read_csv('../data/generator/WindCap.csv',header=0)\n",
    "df_wind_cap.sum()/1000\n"
   ]
  },
  {
   "cell_type": "code",
   "execution_count": 4,
   "metadata": {},
   "outputs": [],
   "source": []
  },
  {
   "cell_type": "code",
   "execution_count": 5,
   "metadata": {
    "tags": []
   },
   "outputs": [],
   "source": [
    "day=0\n",
    "HorizonHours=48\n",
    "\n",
    "load= pd.read_csv('../data/netload/CAISO2019Load.csv',header=0)\n",
    "\n",
    "import datetime as dt\n",
    "load['Unnamed: 0'] = [dt.datetime.strptime(x,\"%Y-%m-%d %H:%M\") for x in load['Unnamed: 0']]\n",
    "load=load.set_index(load['Unnamed: 0'])\n",
    "load=load.drop(columns='Unnamed: 0')\n",
    "load.to_csv('../data/netload/CAISO2019LoadTimeAsIndex.csv')"
   ]
  },
  {
   "cell_type": "code",
   "execution_count": 6,
   "metadata": {
    "tags": []
   },
   "outputs": [
    {
     "output_type": "stream",
     "name": "stdout",
     "text": "Unnamed: 0  netload\n0     2019-01-01 00:00:00    21934\n1     2019-01-01 01:00:00    21188\n2     2019-01-01 02:00:00    20613\n3     2019-01-01 03:00:00    20298\n4     2019-01-01 04:00:00    20338\n5     2019-01-01 05:00:00    20807\n6     2019-01-01 06:00:00    21543\n7     2019-01-01 07:00:00    21514\n8     2019-01-01 08:00:00    20906\n9     2019-01-01 09:00:00    20291\n10    2019-01-01 10:00:00    19691\n11    2019-01-01 11:00:00    19097\n12    2019-01-01 12:00:00    18680\n13    2019-01-01 13:00:00    18765\n14    2019-01-01 14:00:00    19406\n15    2019-01-01 15:00:00    20621\n16    2019-01-01 16:00:00    23016\n17    2019-01-01 17:00:00    26277\n18    2019-01-01 18:00:00    26921\n19    2019-01-01 19:00:00    26736\n20    2019-01-01 20:00:00    26319\n21    2019-01-01 21:00:00    25351\n22    2019-01-01 22:00:00    23802\n23    2019-01-01 23:00:00    22274\n24    2019-01-02 00:00:00    21285\n25    2019-01-02 01:00:00    20594\n26    2019-01-02 02:00:00    20275\n27    2019-01-02 03:00:00    20401\n28    2019-01-02 04:00:00    21189\n29    2019-01-02 05:00:00    22800\n...                   ...      ...\n8730  2019-12-30 18:00:00    28484\n8731  2019-12-30 19:00:00    28018\n8732  2019-12-30 20:00:00    27270\n8733  2019-12-30 21:00:00    26046\n8734  2019-12-30 22:00:00    24319\n8735  2019-12-30 23:00:00    22656\n8736  2019-12-31 00:00:00    21590\n8737  2019-12-31 01:00:00    20790\n8738  2019-12-31 02:00:00    20367\n8739  2019-12-31 03:00:00    20343\n8740  2019-12-31 04:00:00    20881\n8741  2019-12-31 05:00:00    22120\n8742  2019-12-31 06:00:00    23537\n8743  2019-12-31 07:00:00    24061\n8744  2019-12-31 08:00:00    23779\n8745  2019-12-31 09:00:00    23132\n8746  2019-12-31 10:00:00    22579\n8747  2019-12-31 11:00:00    22140\n8748  2019-12-31 12:00:00    21873\n8749  2019-12-31 13:00:00    21973\n8750  2019-12-31 14:00:00    22250\n8751  2019-12-31 15:00:00    23066\n8752  2019-12-31 16:00:00    24893\n8753  2019-12-31 17:00:00    26876\n8754  2019-12-31 18:00:00    26589\n8755  2019-12-31 19:00:00    25700\n8756  2019-12-31 20:00:00    24797\n8757  2019-12-31 21:00:00    23943\n8758  2019-12-31 22:00:00    23081\n8759  2019-12-31 23:00:00    22277\n\n[8760 rows x 2 columns]\n"
    }
   ],
   "source": [
    "load_com = pd.read_csv('../data/netload/CAISO2019LoadTimeAsIndex.csv',header=0)\n",
    "print(load_com)"
   ]
  },
  {
   "cell_type": "code",
   "execution_count": 2,
   "metadata": {
    "tags": []
   },
   "outputs": [
    {
     "output_type": "stream",
     "name": "stdout",
     "text": "Unnamed: 0  netload\n0   2019-01-01 00:00:00    21934\n1   2019-01-01 01:00:00    21188\n2   2019-01-01 02:00:00    20613\n3   2019-01-01 03:00:00    20298\n4   2019-01-01 04:00:00    20338\n5   2019-01-01 05:00:00    20807\n6   2019-01-01 06:00:00    21543\n7   2019-01-01 07:00:00    21514\n8   2019-01-01 08:00:00    20906\n9   2019-01-01 09:00:00    20291\n10  2019-01-01 10:00:00    19691\n11  2019-01-01 11:00:00    19097\n12  2019-01-01 12:00:00    18680\n13  2019-01-01 13:00:00    18765\n14  2019-01-01 14:00:00    19406\n15  2019-01-01 15:00:00    20621\n16  2019-01-01 16:00:00    23016\n17  2019-01-01 17:00:00    26277\n18  2019-01-01 18:00:00    26921\n19  2019-01-01 19:00:00    26736\n20  2019-01-01 20:00:00    26319\n21  2019-01-01 21:00:00    25351\n22  2019-01-01 22:00:00    23802\n23  2019-01-01 23:00:00    22274\n24  2019-01-02 00:00:00    21285\n"
    }
   ],
   "source": [
    "import pandas as pd\n",
    "day=0\n",
    "HorizonHours=48\n",
    "import datetime as dt\n",
    "\n",
    "def init_loadWithIndex(load_com,day,HorizonHours):\n",
    "    load = load_com[24*day:(24*day+HorizonHours)]\n",
    "    return load\n",
    "\n",
    "load=init_loadWithIndex(load_com,day,HorizonHours)[:25]\n",
    "print(load)"
   ]
  },
  {
   "cell_type": "code",
   "execution_count": 8,
   "metadata": {},
   "outputs": [
    {
     "output_type": "execute_result",
     "data": {
      "text/html": "<div>\n<style scoped>\n    .dataframe tbody tr th:only-of-type {\n        vertical-align: middle;\n    }\n\n    .dataframe tbody tr th {\n        vertical-align: top;\n    }\n\n    .dataframe thead th {\n        text-align: right;\n    }\n</style>\n<table border=\"1\" class=\"dataframe\">\n  <thead>\n    <tr style=\"text-align: right;\">\n      <th></th>\n      <th>Generator</th>\n      <th>Day</th>\n      <th>Hour</th>\n      <th>gen_capacity_veh</th>\n      <th>regup_capacity_veh</th>\n      <th>regdown_capacity_veh</th>\n    </tr>\n  </thead>\n  <tbody>\n    <tr>\n      <th>0</th>\n      <td>vehicle</td>\n      <td>1</td>\n      <td>1</td>\n      <td>5296.692301</td>\n      <td>0.0</td>\n      <td>5200.483010</td>\n    </tr>\n    <tr>\n      <th>1</th>\n      <td>vehicle</td>\n      <td>1</td>\n      <td>2</td>\n      <td>5305.586535</td>\n      <td>0.0</td>\n      <td>5210.519415</td>\n    </tr>\n    <tr>\n      <th>2</th>\n      <td>vehicle</td>\n      <td>1</td>\n      <td>3</td>\n      <td>5306.481817</td>\n      <td>0.0</td>\n      <td>5270.051250</td>\n    </tr>\n    <tr>\n      <th>3</th>\n      <td>vehicle</td>\n      <td>1</td>\n      <td>4</td>\n      <td>5344.364082</td>\n      <td>0.0</td>\n      <td>5072.007917</td>\n    </tr>\n    <tr>\n      <th>4</th>\n      <td>vehicle</td>\n      <td>1</td>\n      <td>5</td>\n      <td>5222.595872</td>\n      <td>0.0</td>\n      <td>5041.634958</td>\n    </tr>\n    <tr>\n      <th>5</th>\n      <td>vehicle</td>\n      <td>1</td>\n      <td>6</td>\n      <td>5049.000000</td>\n      <td>0.0</td>\n      <td>4871.920710</td>\n    </tr>\n    <tr>\n      <th>6</th>\n      <td>vehicle</td>\n      <td>1</td>\n      <td>7</td>\n      <td>4917.000000</td>\n      <td>0.0</td>\n      <td>4836.597593</td>\n    </tr>\n    <tr>\n      <th>7</th>\n      <td>vehicle</td>\n      <td>1</td>\n      <td>8</td>\n      <td>4372.500000</td>\n      <td>0.0</td>\n      <td>4600.914658</td>\n    </tr>\n    <tr>\n      <th>8</th>\n      <td>vehicle</td>\n      <td>1</td>\n      <td>9</td>\n      <td>4636.500000</td>\n      <td>0.0</td>\n      <td>4749.725333</td>\n    </tr>\n    <tr>\n      <th>9</th>\n      <td>vehicle</td>\n      <td>1</td>\n      <td>10</td>\n      <td>4504.769756</td>\n      <td>0.0</td>\n      <td>4772.341130</td>\n    </tr>\n    <tr>\n      <th>10</th>\n      <td>vehicle</td>\n      <td>1</td>\n      <td>11</td>\n      <td>4092.000000</td>\n      <td>0.0</td>\n      <td>4463.300000</td>\n    </tr>\n    <tr>\n      <th>11</th>\n      <td>vehicle</td>\n      <td>1</td>\n      <td>12</td>\n      <td>4028.890445</td>\n      <td>0.0</td>\n      <td>4414.678165</td>\n    </tr>\n    <tr>\n      <th>12</th>\n      <td>vehicle</td>\n      <td>1</td>\n      <td>13</td>\n      <td>3920.328987</td>\n      <td>0.0</td>\n      <td>4364.508326</td>\n    </tr>\n    <tr>\n      <th>13</th>\n      <td>vehicle</td>\n      <td>1</td>\n      <td>14</td>\n      <td>4033.929211</td>\n      <td>0.0</td>\n      <td>4448.080758</td>\n    </tr>\n    <tr>\n      <th>14</th>\n      <td>vehicle</td>\n      <td>1</td>\n      <td>15</td>\n      <td>3947.570875</td>\n      <td>0.0</td>\n      <td>4460.400000</td>\n    </tr>\n    <tr>\n      <th>15</th>\n      <td>vehicle</td>\n      <td>1</td>\n      <td>16</td>\n      <td>3519.451232</td>\n      <td>0.0</td>\n      <td>4424.111713</td>\n    </tr>\n    <tr>\n      <th>16</th>\n      <td>vehicle</td>\n      <td>1</td>\n      <td>17</td>\n      <td>4438.500000</td>\n      <td>0.0</td>\n      <td>4755.092667</td>\n    </tr>\n    <tr>\n      <th>17</th>\n      <td>vehicle</td>\n      <td>1</td>\n      <td>18</td>\n      <td>4211.788730</td>\n      <td>0.0</td>\n      <td>4554.679333</td>\n    </tr>\n    <tr>\n      <th>18</th>\n      <td>vehicle</td>\n      <td>1</td>\n      <td>19</td>\n      <td>4702.500000</td>\n      <td>0.0</td>\n      <td>4990.781164</td>\n    </tr>\n    <tr>\n      <th>19</th>\n      <td>vehicle</td>\n      <td>1</td>\n      <td>20</td>\n      <td>4669.500000</td>\n      <td>0.0</td>\n      <td>4941.300000</td>\n    </tr>\n    <tr>\n      <th>20</th>\n      <td>vehicle</td>\n      <td>1</td>\n      <td>21</td>\n      <td>4702.500000</td>\n      <td>0.0</td>\n      <td>5093.800000</td>\n    </tr>\n    <tr>\n      <th>21</th>\n      <td>vehicle</td>\n      <td>1</td>\n      <td>22</td>\n      <td>4999.513934</td>\n      <td>0.0</td>\n      <td>5343.167876</td>\n    </tr>\n    <tr>\n      <th>22</th>\n      <td>vehicle</td>\n      <td>1</td>\n      <td>23</td>\n      <td>5232.227775</td>\n      <td>0.0</td>\n      <td>5682.705821</td>\n    </tr>\n    <tr>\n      <th>23</th>\n      <td>vehicle</td>\n      <td>1</td>\n      <td>24</td>\n      <td>4929.242028</td>\n      <td>0.0</td>\n      <td>5811.338000</td>\n    </tr>\n    <tr>\n      <th>24</th>\n      <td>vehicle</td>\n      <td>1</td>\n      <td>1</td>\n      <td>5296.692301</td>\n      <td>0.0</td>\n      <td>5200.483010</td>\n    </tr>\n    <tr>\n      <th>25</th>\n      <td>vehicle</td>\n      <td>1</td>\n      <td>2</td>\n      <td>5305.586535</td>\n      <td>0.0</td>\n      <td>5210.519415</td>\n    </tr>\n    <tr>\n      <th>26</th>\n      <td>vehicle</td>\n      <td>1</td>\n      <td>3</td>\n      <td>5306.481817</td>\n      <td>0.0</td>\n      <td>5270.051250</td>\n    </tr>\n    <tr>\n      <th>27</th>\n      <td>vehicle</td>\n      <td>1</td>\n      <td>4</td>\n      <td>5344.364082</td>\n      <td>0.0</td>\n      <td>5072.007917</td>\n    </tr>\n    <tr>\n      <th>28</th>\n      <td>vehicle</td>\n      <td>1</td>\n      <td>5</td>\n      <td>5222.595872</td>\n      <td>0.0</td>\n      <td>5041.634958</td>\n    </tr>\n    <tr>\n      <th>29</th>\n      <td>vehicle</td>\n      <td>1</td>\n      <td>6</td>\n      <td>5049.000000</td>\n      <td>0.0</td>\n      <td>4871.920710</td>\n    </tr>\n    <tr>\n      <th>30</th>\n      <td>vehicle</td>\n      <td>1</td>\n      <td>7</td>\n      <td>4917.000000</td>\n      <td>0.0</td>\n      <td>4836.597593</td>\n    </tr>\n    <tr>\n      <th>31</th>\n      <td>vehicle</td>\n      <td>1</td>\n      <td>8</td>\n      <td>4372.500000</td>\n      <td>0.0</td>\n      <td>4600.914658</td>\n    </tr>\n    <tr>\n      <th>32</th>\n      <td>vehicle</td>\n      <td>1</td>\n      <td>9</td>\n      <td>4636.500000</td>\n      <td>0.0</td>\n      <td>4749.725333</td>\n    </tr>\n    <tr>\n      <th>33</th>\n      <td>vehicle</td>\n      <td>1</td>\n      <td>10</td>\n      <td>4504.769756</td>\n      <td>0.0</td>\n      <td>4772.341130</td>\n    </tr>\n    <tr>\n      <th>34</th>\n      <td>vehicle</td>\n      <td>1</td>\n      <td>11</td>\n      <td>4092.000000</td>\n      <td>0.0</td>\n      <td>4463.300000</td>\n    </tr>\n    <tr>\n      <th>35</th>\n      <td>vehicle</td>\n      <td>1</td>\n      <td>12</td>\n      <td>4028.890445</td>\n      <td>0.0</td>\n      <td>4414.678165</td>\n    </tr>\n    <tr>\n      <th>36</th>\n      <td>vehicle</td>\n      <td>1</td>\n      <td>13</td>\n      <td>3920.328987</td>\n      <td>0.0</td>\n      <td>4364.508326</td>\n    </tr>\n    <tr>\n      <th>37</th>\n      <td>vehicle</td>\n      <td>1</td>\n      <td>14</td>\n      <td>4033.929211</td>\n      <td>0.0</td>\n      <td>4448.080758</td>\n    </tr>\n    <tr>\n      <th>38</th>\n      <td>vehicle</td>\n      <td>1</td>\n      <td>15</td>\n      <td>3947.570875</td>\n      <td>0.0</td>\n      <td>4460.400000</td>\n    </tr>\n    <tr>\n      <th>39</th>\n      <td>vehicle</td>\n      <td>1</td>\n      <td>16</td>\n      <td>3519.451232</td>\n      <td>0.0</td>\n      <td>4424.111713</td>\n    </tr>\n    <tr>\n      <th>40</th>\n      <td>vehicle</td>\n      <td>1</td>\n      <td>17</td>\n      <td>4438.500000</td>\n      <td>0.0</td>\n      <td>4755.092667</td>\n    </tr>\n    <tr>\n      <th>41</th>\n      <td>vehicle</td>\n      <td>1</td>\n      <td>18</td>\n      <td>4211.788730</td>\n      <td>0.0</td>\n      <td>4554.679333</td>\n    </tr>\n    <tr>\n      <th>42</th>\n      <td>vehicle</td>\n      <td>1</td>\n      <td>19</td>\n      <td>4702.500000</td>\n      <td>0.0</td>\n      <td>4990.781164</td>\n    </tr>\n    <tr>\n      <th>43</th>\n      <td>vehicle</td>\n      <td>1</td>\n      <td>20</td>\n      <td>4669.500000</td>\n      <td>0.0</td>\n      <td>4941.300000</td>\n    </tr>\n    <tr>\n      <th>44</th>\n      <td>vehicle</td>\n      <td>1</td>\n      <td>21</td>\n      <td>4702.500000</td>\n      <td>0.0</td>\n      <td>5093.800000</td>\n    </tr>\n    <tr>\n      <th>45</th>\n      <td>vehicle</td>\n      <td>1</td>\n      <td>22</td>\n      <td>4999.513934</td>\n      <td>0.0</td>\n      <td>5343.167876</td>\n    </tr>\n    <tr>\n      <th>46</th>\n      <td>vehicle</td>\n      <td>1</td>\n      <td>23</td>\n      <td>5232.227775</td>\n      <td>0.0</td>\n      <td>5682.705821</td>\n    </tr>\n    <tr>\n      <th>47</th>\n      <td>vehicle</td>\n      <td>1</td>\n      <td>24</td>\n      <td>4929.242028</td>\n      <td>0.0</td>\n      <td>5811.338000</td>\n    </tr>\n  </tbody>\n</table>\n</div>",
      "text/plain": "   Generator  Day  Hour  gen_capacity_veh  regup_capacity_veh  \\\n0    vehicle    1     1       5296.692301                 0.0   \n1    vehicle    1     2       5305.586535                 0.0   \n2    vehicle    1     3       5306.481817                 0.0   \n3    vehicle    1     4       5344.364082                 0.0   \n4    vehicle    1     5       5222.595872                 0.0   \n5    vehicle    1     6       5049.000000                 0.0   \n6    vehicle    1     7       4917.000000                 0.0   \n7    vehicle    1     8       4372.500000                 0.0   \n8    vehicle    1     9       4636.500000                 0.0   \n9    vehicle    1    10       4504.769756                 0.0   \n10   vehicle    1    11       4092.000000                 0.0   \n11   vehicle    1    12       4028.890445                 0.0   \n12   vehicle    1    13       3920.328987                 0.0   \n13   vehicle    1    14       4033.929211                 0.0   \n14   vehicle    1    15       3947.570875                 0.0   \n15   vehicle    1    16       3519.451232                 0.0   \n16   vehicle    1    17       4438.500000                 0.0   \n17   vehicle    1    18       4211.788730                 0.0   \n18   vehicle    1    19       4702.500000                 0.0   \n19   vehicle    1    20       4669.500000                 0.0   \n20   vehicle    1    21       4702.500000                 0.0   \n21   vehicle    1    22       4999.513934                 0.0   \n22   vehicle    1    23       5232.227775                 0.0   \n23   vehicle    1    24       4929.242028                 0.0   \n24   vehicle    1     1       5296.692301                 0.0   \n25   vehicle    1     2       5305.586535                 0.0   \n26   vehicle    1     3       5306.481817                 0.0   \n27   vehicle    1     4       5344.364082                 0.0   \n28   vehicle    1     5       5222.595872                 0.0   \n29   vehicle    1     6       5049.000000                 0.0   \n30   vehicle    1     7       4917.000000                 0.0   \n31   vehicle    1     8       4372.500000                 0.0   \n32   vehicle    1     9       4636.500000                 0.0   \n33   vehicle    1    10       4504.769756                 0.0   \n34   vehicle    1    11       4092.000000                 0.0   \n35   vehicle    1    12       4028.890445                 0.0   \n36   vehicle    1    13       3920.328987                 0.0   \n37   vehicle    1    14       4033.929211                 0.0   \n38   vehicle    1    15       3947.570875                 0.0   \n39   vehicle    1    16       3519.451232                 0.0   \n40   vehicle    1    17       4438.500000                 0.0   \n41   vehicle    1    18       4211.788730                 0.0   \n42   vehicle    1    19       4702.500000                 0.0   \n43   vehicle    1    20       4669.500000                 0.0   \n44   vehicle    1    21       4702.500000                 0.0   \n45   vehicle    1    22       4999.513934                 0.0   \n46   vehicle    1    23       5232.227775                 0.0   \n47   vehicle    1    24       4929.242028                 0.0   \n\n    regdown_capacity_veh  \n0            5200.483010  \n1            5210.519415  \n2            5270.051250  \n3            5072.007917  \n4            5041.634958  \n5            4871.920710  \n6            4836.597593  \n7            4600.914658  \n8            4749.725333  \n9            4772.341130  \n10           4463.300000  \n11           4414.678165  \n12           4364.508326  \n13           4448.080758  \n14           4460.400000  \n15           4424.111713  \n16           4755.092667  \n17           4554.679333  \n18           4990.781164  \n19           4941.300000  \n20           5093.800000  \n21           5343.167876  \n22           5682.705821  \n23           5811.338000  \n24           5200.483010  \n25           5210.519415  \n26           5270.051250  \n27           5072.007917  \n28           5041.634958  \n29           4871.920710  \n30           4836.597593  \n31           4600.914658  \n32           4749.725333  \n33           4772.341130  \n34           4463.300000  \n35           4414.678165  \n36           4364.508326  \n37           4448.080758  \n38           4460.400000  \n39           4424.111713  \n40           4755.092667  \n41           4554.679333  \n42           4990.781164  \n43           4941.300000  \n44           5093.800000  \n45           5343.167876  \n46           5682.705821  \n47           5811.338000  "
     },
     "metadata": {},
     "execution_count": 8
    }
   ],
   "source": [
    "import pandas as pd\n",
    "from datetime import datetime\n",
    "import numpy as np\n",
    "import v2gsim\n",
    "vehCap=pd.read_csv('../Result/2019_1_battery_8_renewable_0.7_vehicleNum_1500000_0_vehicleGeneration.csv',header=0)\n",
    "pr=pd.read_csv    ('../Result/2019_1_battery_8_renewable_0.7_vehicleNum_1500000_0__price.csv',header=0)\n",
    "# myresult=v2gResultConversion(pd.read_csv('../data/vehicle/VehiclesCap_V2G_0_2019_1_battery8_renewable0.7_vehicleNum1500000.csv',header=0),vehicleNumber)     \n",
    "\n",
    "vehCap=pd.concat([vehCap,vehCap],ignore_index=True)\n",
    "pr=pd.concat([pr,pr],ignore_index=True)\n",
    "vehCap\n",
    "# vehCap.iloc[-1]"
   ]
  },
  {
   "cell_type": "code",
   "execution_count": null,
   "metadata": {},
   "outputs": [],
   "source": []
  },
  {
   "cell_type": "code",
   "execution_count": 3,
   "metadata": {},
   "outputs": [
    {
     "output_type": "execute_result",
     "data": {
      "text/html": "<div>\n<style scoped>\n    .dataframe tbody tr th:only-of-type {\n        vertical-align: middle;\n    }\n\n    .dataframe tbody tr th {\n        vertical-align: top;\n    }\n\n    .dataframe thead th {\n        text-align: right;\n    }\n</style>\n<table border=\"1\" class=\"dataframe\">\n  <thead>\n    <tr style=\"text-align: right;\">\n      <th></th>\n      <th>0</th>\n      <th>Hour</th>\n      <th>pr_e</th>\n      <th>pr_fre_d</th>\n      <th>pr_fre_u</th>\n    </tr>\n  </thead>\n  <tbody>\n    <tr>\n      <th>0</th>\n      <td>NaN</td>\n      <td>0.0</td>\n      <td>31.999246</td>\n      <td>8.0</td>\n      <td>2.686903</td>\n    </tr>\n    <tr>\n      <th>1</th>\n      <td>NaN</td>\n      <td>1.0</td>\n      <td>31.999246</td>\n      <td>8.0</td>\n      <td>2.684355</td>\n    </tr>\n    <tr>\n      <th>2</th>\n      <td>NaN</td>\n      <td>2.0</td>\n      <td>31.999246</td>\n      <td>8.0</td>\n      <td>2.667639</td>\n    </tr>\n    <tr>\n      <th>3</th>\n      <td>NaN</td>\n      <td>3.0</td>\n      <td>31.999246</td>\n      <td>8.0</td>\n      <td>2.666075</td>\n    </tr>\n    <tr>\n      <th>4</th>\n      <td>NaN</td>\n      <td>4.0</td>\n      <td>31.999246</td>\n      <td>8.0</td>\n      <td>2.666851</td>\n    </tr>\n    <tr>\n      <th>5</th>\n      <td>NaN</td>\n      <td>5.0</td>\n      <td>31.999246</td>\n      <td>8.0</td>\n      <td>2.684735</td>\n    </tr>\n    <tr>\n      <th>6</th>\n      <td>NaN</td>\n      <td>6.0</td>\n      <td>31.999246</td>\n      <td>8.0</td>\n      <td>2.691150</td>\n    </tr>\n    <tr>\n      <th>7</th>\n      <td>NaN</td>\n      <td>7.0</td>\n      <td>31.999246</td>\n      <td>8.0</td>\n      <td>2.687091</td>\n    </tr>\n    <tr>\n      <th>8</th>\n      <td>NaN</td>\n      <td>8.0</td>\n      <td>31.999246</td>\n      <td>8.0</td>\n      <td>2.659590</td>\n    </tr>\n    <tr>\n      <th>9</th>\n      <td>NaN</td>\n      <td>9.0</td>\n      <td>31.999246</td>\n      <td>8.0</td>\n      <td>2.542985</td>\n    </tr>\n    <tr>\n      <th>10</th>\n      <td>NaN</td>\n      <td>10.0</td>\n      <td>31.999246</td>\n      <td>8.0</td>\n      <td>2.542985</td>\n    </tr>\n    <tr>\n      <th>11</th>\n      <td>NaN</td>\n      <td>11.0</td>\n      <td>31.999246</td>\n      <td>8.0</td>\n      <td>2.294995</td>\n    </tr>\n    <tr>\n      <th>12</th>\n      <td>NaN</td>\n      <td>12.0</td>\n      <td>31.999246</td>\n      <td>8.0</td>\n      <td>2.294995</td>\n    </tr>\n    <tr>\n      <th>13</th>\n      <td>NaN</td>\n      <td>13.0</td>\n      <td>31.999246</td>\n      <td>8.0</td>\n      <td>2.294995</td>\n    </tr>\n    <tr>\n      <th>14</th>\n      <td>NaN</td>\n      <td>14.0</td>\n      <td>31.999246</td>\n      <td>8.0</td>\n      <td>2.659482</td>\n    </tr>\n    <tr>\n      <th>15</th>\n      <td>NaN</td>\n      <td>15.0</td>\n      <td>31.999246</td>\n      <td>8.0</td>\n      <td>2.661754</td>\n    </tr>\n    <tr>\n      <th>16</th>\n      <td>NaN</td>\n      <td>16.0</td>\n      <td>32.697263</td>\n      <td>8.0</td>\n      <td>2.691789</td>\n    </tr>\n    <tr>\n      <th>17</th>\n      <td>NaN</td>\n      <td>17.0</td>\n      <td>37.628509</td>\n      <td>8.0</td>\n      <td>3.402851</td>\n    </tr>\n    <tr>\n      <th>18</th>\n      <td>NaN</td>\n      <td>18.0</td>\n      <td>59.312188</td>\n      <td>8.0</td>\n      <td>3.402851</td>\n    </tr>\n    <tr>\n      <th>19</th>\n      <td>NaN</td>\n      <td>19.0</td>\n      <td>59.305614</td>\n      <td>8.0</td>\n      <td>3.402851</td>\n    </tr>\n    <tr>\n      <th>20</th>\n      <td>NaN</td>\n      <td>20.0</td>\n      <td>34.685447</td>\n      <td>8.0</td>\n      <td>3.011991</td>\n    </tr>\n    <tr>\n      <th>21</th>\n      <td>NaN</td>\n      <td>21.0</td>\n      <td>34.685447</td>\n      <td>8.0</td>\n      <td>2.804375</td>\n    </tr>\n    <tr>\n      <th>22</th>\n      <td>NaN</td>\n      <td>22.0</td>\n      <td>34.685447</td>\n      <td>8.0</td>\n      <td>2.726828</td>\n    </tr>\n    <tr>\n      <th>23</th>\n      <td>NaN</td>\n      <td>23.0</td>\n      <td>34.685447</td>\n      <td>8.0</td>\n      <td>2.707969</td>\n    </tr>\n    <tr>\n      <th>24</th>\n      <td>23.000000</td>\n      <td>NaN</td>\n      <td>NaN</td>\n      <td>NaN</td>\n      <td>NaN</td>\n    </tr>\n    <tr>\n      <th>25</th>\n      <td>34.685447</td>\n      <td>NaN</td>\n      <td>NaN</td>\n      <td>NaN</td>\n      <td>NaN</td>\n    </tr>\n    <tr>\n      <th>26</th>\n      <td>2.707969</td>\n      <td>NaN</td>\n      <td>NaN</td>\n      <td>NaN</td>\n      <td>NaN</td>\n    </tr>\n    <tr>\n      <th>27</th>\n      <td>8.000000</td>\n      <td>NaN</td>\n      <td>NaN</td>\n      <td>NaN</td>\n      <td>NaN</td>\n    </tr>\n  </tbody>\n</table>\n</div>",
      "text/plain": "            0  Hour       pr_e  pr_fre_d  pr_fre_u\n0         NaN   0.0  31.999246       8.0  2.686903\n1         NaN   1.0  31.999246       8.0  2.684355\n2         NaN   2.0  31.999246       8.0  2.667639\n3         NaN   3.0  31.999246       8.0  2.666075\n4         NaN   4.0  31.999246       8.0  2.666851\n5         NaN   5.0  31.999246       8.0  2.684735\n6         NaN   6.0  31.999246       8.0  2.691150\n7         NaN   7.0  31.999246       8.0  2.687091\n8         NaN   8.0  31.999246       8.0  2.659590\n9         NaN   9.0  31.999246       8.0  2.542985\n10        NaN  10.0  31.999246       8.0  2.542985\n11        NaN  11.0  31.999246       8.0  2.294995\n12        NaN  12.0  31.999246       8.0  2.294995\n13        NaN  13.0  31.999246       8.0  2.294995\n14        NaN  14.0  31.999246       8.0  2.659482\n15        NaN  15.0  31.999246       8.0  2.661754\n16        NaN  16.0  32.697263       8.0  2.691789\n17        NaN  17.0  37.628509       8.0  3.402851\n18        NaN  18.0  59.312188       8.0  3.402851\n19        NaN  19.0  59.305614       8.0  3.402851\n20        NaN  20.0  34.685447       8.0  3.011991\n21        NaN  21.0  34.685447       8.0  2.804375\n22        NaN  22.0  34.685447       8.0  2.726828\n23        NaN  23.0  34.685447       8.0  2.707969\n24  23.000000   NaN        NaN       NaN       NaN\n25  34.685447   NaN        NaN       NaN       NaN\n26   2.707969   NaN        NaN       NaN       NaN\n27   8.000000   NaN        NaN       NaN       NaN"
     },
     "metadata": {},
     "execution_count": 3
    }
   ],
   "source": [
    "pr\n"
   ]
  },
  {
   "cell_type": "code",
   "execution_count": null,
   "metadata": {},
   "outputs": [],
   "source": []
  }
 ]
}