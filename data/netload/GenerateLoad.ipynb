{
 "metadata": {
  "language_info": {
   "codemirror_mode": {
    "name": "ipython",
    "version": 3
   },
   "file_extension": ".py",
   "mimetype": "text/x-python",
   "name": "python",
   "nbconvert_exporter": "python",
   "pygments_lexer": "ipython3",
   "version": "2.7.16-final"
  },
  "orig_nbformat": 2,
  "kernelspec": {
   "name": "python_defaultSpec_1607493662552",
   "display_name": "Python 2.7.16 64-bit ('py27': conda)"
  }
 },
 "nbformat": 4,
 "nbformat_minor": 2,
 "cells": [
  {
   "cell_type": "code",
   "execution_count": 32,
   "metadata": {
    "tags": []
   },
   "outputs": [
    {
     "output_type": "error",
     "ename": "SyntaxError",
     "evalue": "invalid syntax (<ipython-input-32-dd80aeb72cfd>, line 24)",
     "traceback": [
      "\u001b[0;36m  File \u001b[0;32m\"<ipython-input-32-dd80aeb72cfd>\"\u001b[0;36m, line \u001b[0;32m24\u001b[0m\n\u001b[0;31m    yearTotal.iloc[0]['INTERVALSTARTTIME_GMT']al=yearlyLoad[yearlyLoad['TAC_AREA_NAME']=='CA ISO-TAC'].drop(columns='TAC_AREA_NAME')\u001b[0m\n\u001b[0m                                               ^\u001b[0m\n\u001b[0;31mSyntaxError\u001b[0m\u001b[0;31m:\u001b[0m invalid syntax\n"
     ]
    }
   ],
   "source": [
    "import pandas as pd\n",
    "import numpy as np \n",
    "from datetime import datetime\n",
    "import os\n",
    "from pytz import timezone\n",
    "\n",
    "def GetLoadRawYearlyData():\n",
    "    directory = r'/Users/meiyewang/Desktop/code/data/netload/ACTUAL/2019'\n",
    "    df1=pd.DataFrame(columns=[\"INTERVALSTARTTIME_GMT\",'MW','TAC_AREA_NAME'])\n",
    "    for filename in os.listdir(directory):\n",
    "        if filename.endswith(\".csv\") :\n",
    "            df=pd.read_csv(os.path.join(directory, filename))\n",
    "            df1=pd.concat([df1,df[[\"INTERVALSTARTTIME_GMT\",'MW','TAC_AREA_NAME']]])\n",
    "        else:\n",
    "            continue\n",
    "    return df1\n",
    "\n",
    "def SortTimeOrder(df):\n",
    "    timelist=[datetime.strptime(df.index[i][:16], \"%Y-%m-%dT%H:%M\").replace(tzinfo=timezone('UTC')).astimezone(timezone('US/Pacific')) for i in range(df.shape[0])]\n",
    "    df.index=[str(timelist[i])[:16] for i in range(len(timelist))]\n",
    "    return df\n",
    "\n",
    "yearlyLoad=GetLoadRawYearlyData()\n",
    "yearTotal.iloc[0]['INTERVALSTARTTIME_GMT']=yearlyLoad[yearlyLoad['TAC_AREA_NAME']=='CA ISO-TAC'].drop(columns='TAC_AREA_NAME')\n",
    "yearlyLoadAggre=SortTimeOrder(yearTotal.groupby(by=\"INTERVALSTARTTIME_GMT\").sum())\n",
    "yearlyLoadAggre=SortTimeOrder(yearTotal.groupby(by=\"INTERVALSTARTTIME_GMT\").sum())\n",
    "yearlyLoadAggre.to_csv('CAISO2019Load.csv')\n",
    "yearlyLoadAggre"
   ]
  },
  {
   "cell_type": "code",
   "execution_count": 33,
   "metadata": {},
   "outputs": [],
   "source": [
    "# yearlyLoadAggre=SortTimeOrder(yearTotal.groupby(by=\"INTERVALSTARTTIME_GMT\").sum())\n",
    "# yearlyLoadAggre.rename(columns={'INTERVALSTARTTIME_GMT':'date_time'})\n",
    "yearlyLoadAggre.to_csv('CAISO2019Load.csv')"
   ]
  },
  {
   "cell_type": "code",
   "execution_count": 27,
   "metadata": {
    "tags": []
   },
   "outputs": [
    {
     "output_type": "execute_result",
     "data": {
      "text/html": "<div>\n<style scoped>\n    .dataframe tbody tr th:only-of-type {\n        vertical-align: middle;\n    }\n\n    .dataframe tbody tr th {\n        vertical-align: top;\n    }\n\n    .dataframe thead th {\n        text-align: right;\n    }\n</style>\n<table border=\"1\" class=\"dataframe\">\n  <thead>\n    <tr style=\"text-align: right;\">\n      <th></th>\n      <th>INTERVALSTARTTIME_GMT</th>\n      <th>MW</th>\n    </tr>\n  </thead>\n  <tbody>\n    <tr>\n      <th>46</th>\n      <td>2019-03-22T09:00:00-00:00</td>\n      <td>19262</td>\n    </tr>\n    <tr>\n      <th>47</th>\n      <td>2019-03-23T06:00:00-00:00</td>\n      <td>21725</td>\n    </tr>\n    <tr>\n      <th>48</th>\n      <td>2019-03-23T01:00:00-00:00</td>\n      <td>24571</td>\n    </tr>\n    <tr>\n      <th>49</th>\n      <td>2019-03-22T18:00:00-00:00</td>\n      <td>23273</td>\n    </tr>\n    <tr>\n      <th>50</th>\n      <td>2019-03-22T19:00:00-00:00</td>\n      <td>22830</td>\n    </tr>\n    <tr>\n      <th>51</th>\n      <td>2019-03-22T08:00:00-00:00</td>\n      <td>19810</td>\n    </tr>\n    <tr>\n      <th>52</th>\n      <td>2019-03-22T11:00:00-00:00</td>\n      <td>19689</td>\n    </tr>\n    <tr>\n      <th>53</th>\n      <td>2019-03-23T05:00:00-00:00</td>\n      <td>23231</td>\n    </tr>\n    <tr>\n      <th>54</th>\n      <td>2019-03-22T15:00:00-00:00</td>\n      <td>24617</td>\n    </tr>\n    <tr>\n      <th>55</th>\n      <td>2019-03-22T20:00:00-00:00</td>\n      <td>22724</td>\n    </tr>\n    <tr>\n      <th>56</th>\n      <td>2019-03-23T02:00:00-00:00</td>\n      <td>25966</td>\n    </tr>\n    <tr>\n      <th>57</th>\n      <td>2019-03-22T10:00:00-00:00</td>\n      <td>19175</td>\n    </tr>\n    <tr>\n      <th>58</th>\n      <td>2019-03-23T00:00:00-00:00</td>\n      <td>23534</td>\n    </tr>\n    <tr>\n      <th>59</th>\n      <td>2019-03-22T17:00:00-00:00</td>\n      <td>23932</td>\n    </tr>\n    <tr>\n      <th>60</th>\n      <td>2019-03-22T21:00:00-00:00</td>\n      <td>22913</td>\n    </tr>\n    <tr>\n      <th>61</th>\n      <td>2019-03-23T03:00:00-00:00</td>\n      <td>25759</td>\n    </tr>\n    <tr>\n      <th>62</th>\n      <td>2019-03-22T12:00:00-00:00</td>\n      <td>21224</td>\n    </tr>\n    <tr>\n      <th>63</th>\n      <td>2019-03-22T13:00:00-00:00</td>\n      <td>23722</td>\n    </tr>\n    <tr>\n      <th>64</th>\n      <td>2019-03-22T14:00:00-00:00</td>\n      <td>24892</td>\n    </tr>\n    <tr>\n      <th>65</th>\n      <td>2019-03-22T22:00:00-00:00</td>\n      <td>23021</td>\n    </tr>\n    <tr>\n      <th>66</th>\n      <td>2019-03-22T23:00:00-00:00</td>\n      <td>23163</td>\n    </tr>\n    <tr>\n      <th>67</th>\n      <td>2019-03-23T04:00:00-00:00</td>\n      <td>24784</td>\n    </tr>\n    <tr>\n      <th>68</th>\n      <td>2019-03-22T16:00:00-00:00</td>\n      <td>24276</td>\n    </tr>\n    <tr>\n      <th>324</th>\n      <td>2019-03-23T07:00:00-00:00</td>\n      <td>20627</td>\n    </tr>\n    <tr>\n      <th>69</th>\n      <td>2019-10-28T20:00:00-00:00</td>\n      <td>22567</td>\n    </tr>\n    <tr>\n      <th>70</th>\n      <td>2019-10-28T10:00:00-00:00</td>\n      <td>17848</td>\n    </tr>\n    <tr>\n      <th>71</th>\n      <td>2019-10-28T13:00:00-00:00</td>\n      <td>21988</td>\n    </tr>\n    <tr>\n      <th>72</th>\n      <td>2019-10-29T00:00:00-00:00</td>\n      <td>26138</td>\n    </tr>\n    <tr>\n      <th>73</th>\n      <td>2019-10-28T19:00:00-00:00</td>\n      <td>22108</td>\n    </tr>\n    <tr>\n      <th>74</th>\n      <td>2019-10-28T17:00:00-00:00</td>\n      <td>22232</td>\n    </tr>\n    <tr>\n      <th>...</th>\n      <td>...</td>\n      <td>...</td>\n    </tr>\n    <tr>\n      <th>87</th>\n      <td>2019-11-01T04:00:00-00:00</td>\n      <td>24623</td>\n    </tr>\n    <tr>\n      <th>88</th>\n      <td>2019-10-31T18:00:00-00:00</td>\n      <td>22794</td>\n    </tr>\n    <tr>\n      <th>89</th>\n      <td>2019-10-31T15:00:00-00:00</td>\n      <td>25205</td>\n    </tr>\n    <tr>\n      <th>90</th>\n      <td>2019-10-31T11:00:00-00:00</td>\n      <td>20435</td>\n    </tr>\n    <tr>\n      <th>91</th>\n      <td>2019-10-31T17:00:00-00:00</td>\n      <td>23389</td>\n    </tr>\n    <tr>\n      <th>348</th>\n      <td>2019-11-01T07:00:00-00:00</td>\n      <td>20846</td>\n    </tr>\n    <tr>\n      <th>69</th>\n      <td>2019-10-25T20:00:00-00:00</td>\n      <td>29341</td>\n    </tr>\n    <tr>\n      <th>70</th>\n      <td>2019-10-25T09:00:00-00:00</td>\n      <td>21060</td>\n    </tr>\n    <tr>\n      <th>71</th>\n      <td>2019-10-26T05:00:00-00:00</td>\n      <td>25502</td>\n    </tr>\n    <tr>\n      <th>72</th>\n      <td>2019-10-26T00:00:00-00:00</td>\n      <td>32493</td>\n    </tr>\n    <tr>\n      <th>73</th>\n      <td>2019-10-25T13:00:00-00:00</td>\n      <td>24605</td>\n    </tr>\n    <tr>\n      <th>74</th>\n      <td>2019-10-25T17:00:00-00:00</td>\n      <td>26983</td>\n    </tr>\n    <tr>\n      <th>75</th>\n      <td>2019-10-26T06:00:00-00:00</td>\n      <td>23561</td>\n    </tr>\n    <tr>\n      <th>76</th>\n      <td>2019-10-26T04:00:00-00:00</td>\n      <td>27450</td>\n    </tr>\n    <tr>\n      <th>77</th>\n      <td>2019-10-26T02:00:00-00:00</td>\n      <td>30698</td>\n    </tr>\n    <tr>\n      <th>78</th>\n      <td>2019-10-26T01:00:00-00:00</td>\n      <td>31802</td>\n    </tr>\n    <tr>\n      <th>79</th>\n      <td>2019-10-25T22:00:00-00:00</td>\n      <td>32076</td>\n    </tr>\n    <tr>\n      <th>80</th>\n      <td>2019-10-25T19:00:00-00:00</td>\n      <td>28100</td>\n    </tr>\n    <tr>\n      <th>81</th>\n      <td>2019-10-25T11:00:00-00:00</td>\n      <td>21198</td>\n    </tr>\n    <tr>\n      <th>82</th>\n      <td>2019-10-25T18:00:00-00:00</td>\n      <td>27484</td>\n    </tr>\n    <tr>\n      <th>83</th>\n      <td>2019-10-25T14:00:00-00:00</td>\n      <td>25672</td>\n    </tr>\n    <tr>\n      <th>84</th>\n      <td>2019-10-26T03:00:00-00:00</td>\n      <td>29125</td>\n    </tr>\n    <tr>\n      <th>85</th>\n      <td>2019-10-25T23:00:00-00:00</td>\n      <td>32753</td>\n    </tr>\n    <tr>\n      <th>86</th>\n      <td>2019-10-25T21:00:00-00:00</td>\n      <td>30803</td>\n    </tr>\n    <tr>\n      <th>87</th>\n      <td>2019-10-25T08:00:00-00:00</td>\n      <td>21761</td>\n    </tr>\n    <tr>\n      <th>88</th>\n      <td>2019-10-25T16:00:00-00:00</td>\n      <td>26653</td>\n    </tr>\n    <tr>\n      <th>89</th>\n      <td>2019-10-25T15:00:00-00:00</td>\n      <td>26092</td>\n    </tr>\n    <tr>\n      <th>90</th>\n      <td>2019-10-25T12:00:00-00:00</td>\n      <td>22629</td>\n    </tr>\n    <tr>\n      <th>91</th>\n      <td>2019-10-25T10:00:00-00:00</td>\n      <td>20785</td>\n    </tr>\n    <tr>\n      <th>348</th>\n      <td>2019-10-26T07:00:00-00:00</td>\n      <td>22059</td>\n    </tr>\n  </tbody>\n</table>\n<p>8760 rows × 2 columns</p>\n</div>",
      "text/plain": "         INTERVALSTARTTIME_GMT     MW\n46   2019-03-22T09:00:00-00:00  19262\n47   2019-03-23T06:00:00-00:00  21725\n48   2019-03-23T01:00:00-00:00  24571\n49   2019-03-22T18:00:00-00:00  23273\n50   2019-03-22T19:00:00-00:00  22830\n51   2019-03-22T08:00:00-00:00  19810\n52   2019-03-22T11:00:00-00:00  19689\n53   2019-03-23T05:00:00-00:00  23231\n54   2019-03-22T15:00:00-00:00  24617\n55   2019-03-22T20:00:00-00:00  22724\n56   2019-03-23T02:00:00-00:00  25966\n57   2019-03-22T10:00:00-00:00  19175\n58   2019-03-23T00:00:00-00:00  23534\n59   2019-03-22T17:00:00-00:00  23932\n60   2019-03-22T21:00:00-00:00  22913\n61   2019-03-23T03:00:00-00:00  25759\n62   2019-03-22T12:00:00-00:00  21224\n63   2019-03-22T13:00:00-00:00  23722\n64   2019-03-22T14:00:00-00:00  24892\n65   2019-03-22T22:00:00-00:00  23021\n66   2019-03-22T23:00:00-00:00  23163\n67   2019-03-23T04:00:00-00:00  24784\n68   2019-03-22T16:00:00-00:00  24276\n324  2019-03-23T07:00:00-00:00  20627\n69   2019-10-28T20:00:00-00:00  22567\n70   2019-10-28T10:00:00-00:00  17848\n71   2019-10-28T13:00:00-00:00  21988\n72   2019-10-29T00:00:00-00:00  26138\n73   2019-10-28T19:00:00-00:00  22108\n74   2019-10-28T17:00:00-00:00  22232\n..                         ...    ...\n87   2019-11-01T04:00:00-00:00  24623\n88   2019-10-31T18:00:00-00:00  22794\n89   2019-10-31T15:00:00-00:00  25205\n90   2019-10-31T11:00:00-00:00  20435\n91   2019-10-31T17:00:00-00:00  23389\n348  2019-11-01T07:00:00-00:00  20846\n69   2019-10-25T20:00:00-00:00  29341\n70   2019-10-25T09:00:00-00:00  21060\n71   2019-10-26T05:00:00-00:00  25502\n72   2019-10-26T00:00:00-00:00  32493\n73   2019-10-25T13:00:00-00:00  24605\n74   2019-10-25T17:00:00-00:00  26983\n75   2019-10-26T06:00:00-00:00  23561\n76   2019-10-26T04:00:00-00:00  27450\n77   2019-10-26T02:00:00-00:00  30698\n78   2019-10-26T01:00:00-00:00  31802\n79   2019-10-25T22:00:00-00:00  32076\n80   2019-10-25T19:00:00-00:00  28100\n81   2019-10-25T11:00:00-00:00  21198\n82   2019-10-25T18:00:00-00:00  27484\n83   2019-10-25T14:00:00-00:00  25672\n84   2019-10-26T03:00:00-00:00  29125\n85   2019-10-25T23:00:00-00:00  32753\n86   2019-10-25T21:00:00-00:00  30803\n87   2019-10-25T08:00:00-00:00  21761\n88   2019-10-25T16:00:00-00:00  26653\n89   2019-10-25T15:00:00-00:00  26092\n90   2019-10-25T12:00:00-00:00  22629\n91   2019-10-25T10:00:00-00:00  20785\n348  2019-10-26T07:00:00-00:00  22059\n\n[8760 rows x 2 columns]"
     },
     "metadata": {},
     "execution_count": 27
    }
   ],
   "source": [
    "# def SortTimeOrder(df):\n",
    "#     timelist=[datetime.strptime(df.index[i][:16], \"%Y-%m-%dT%H:%M\").replace(tzinfo=timezone('UTC')).astimezone(timezone('US/Pacific')) for i in range(df.shape[0])]\n",
    "#     df.index=[str(timelist[i])[:16] for i in range(len(timelist))]\n",
    "#     return df\n",
    "\n",
    "#把yeartotal中的时区转换过来就可以了！！！\n",
    "# yearTotyearTotal.iloc[i]['INTERVALSTARTTIME_GMT']][:16] for i in range(yearTotal.shape[0])]\n",
    "# yearTotal.iloc[i]['INTERVALSTARTTIME_GMT']][:16]al=yearlyLoad[yearlyLoad['TAC_AREA_NAME']=='CA ISO-TAC'].drop(columns='TAC_AREA_NAME')\n",
    "# yearTotal.sort_values(['INTERVALSTARTTIME_GMT'])\n",
    "\n",
    "# for i in range(8760):\n",
    "#     yearTotal['time']=datetime.strptime(yearTotal.iloc[i]['INTERVALSTARTTIME_GMT'][:16], \"%Y-%m-%dT%H:%M\").replace(tzinfo=timezone('UTC')).astimezone(timezone('US/Pacific'))\n",
    "#     # datetime.strptime(df.index[i][:16], \"%Y-%m-%dT%H:%M\")\n",
    "\n",
    "# yearTotal['time']=datetime.strptime(yearTotal.iloc[i]['INTERVALSTARTTIME_GMT']][:16], \"%Y-%m-%dT%H:%M\") \n",
    "yearTotal"
   ]
  },
  {
   "cell_type": "code",
   "execution_count": 23,
   "metadata": {},
   "outputs": [
    {
     "output_type": "execute_result",
     "data": {
      "text/plain": "'2019-03-22T09:00:00-00:00'"
     },
     "metadata": {},
     "execution_count": 23
    }
   ],
   "source": [
    "# timelist=[datetime.strptime(yearTotal.iloc[[i,'INTERVALSTARTTIME_GMT']][:16], \"%Y-%m-%dT%H:%M\").replace(tzinfo=timezone('UTC')).astimezone(timezone('US/Pacific')) for i in range(yearTotal.shape[0])]\n",
    "timelist=[yearTotal.iloc[i]['INTERVALSTARTTIME_GMT']][:16] for i in range(yearTotal.shape[0])]\n",
    "# yearTotal.iloc[0]['INTERVALSTARTTIME_GMT']"
   ]
  },
  {
   "cell_type": "code",
   "execution_count": 4,
   "metadata": {},
   "outputs": [
    {
     "output_type": "error",
     "ename": "AttributeError",
     "evalue": "'Index' object has no attribute 'astimezone'",
     "traceback": [
      "\u001b[0;31m\u001b[0m",
      "\u001b[0;31mAttributeError\u001b[0mTraceback (most recent call last)",
      "\u001b[0;32m<ipython-input-4-da51c9f0761a>\u001b[0m in \u001b[0;36m<module>\u001b[0;34m()\u001b[0m\n\u001b[0;32m----> 1\u001b[0;31m \u001b[0mloadResultDF\u001b[0m\u001b[0;34m.\u001b[0m\u001b[0mindex\u001b[0m\u001b[0;34m.\u001b[0m\u001b[0mastimezone\u001b[0m\u001b[0;34m(\u001b[0m\u001b[0mtimezone\u001b[0m\u001b[0;34m(\u001b[0m\u001b[0;34m'US/Pacific'\u001b[0m\u001b[0;34m)\u001b[0m\u001b[0;34m)\u001b[0m\u001b[0;34m\u001b[0m\u001b[0m\n\u001b[0m",
      "\u001b[0;31mAttributeError\u001b[0m: 'Index' object has no attribute 'astimezone'"
     ]
    }
   ],
   "source": [
    "loadResultDF.index.astimezone(timezone('US/Pacific'))"
   ]
  },
  {
   "cell_type": "code",
   "execution_count": null,
   "metadata": {},
   "outputs": [],
   "source": [
    "datetime_utc = datetime_obj.replace(tzinfo=timezone('UTC'))"
   ]
  }
 ]
}