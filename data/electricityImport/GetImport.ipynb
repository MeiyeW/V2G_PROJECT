{
 "metadata": {
  "language_info": {
   "codemirror_mode": {
    "name": "ipython",
    "version": 3
   },
   "file_extension": ".py",
   "mimetype": "text/x-python",
   "name": "python",
   "nbconvert_exporter": "python",
   "pygments_lexer": "ipython3",
   "version": "2.7.16-final"
  },
  "orig_nbformat": 2,
  "kernelspec": {
   "name": "python_defaultSpec_1607971359848",
   "display_name": "Python 2.7.16 64-bit"
  }
 },
 "nbformat": 4,
 "nbformat_minor": 2,
 "cells": [
  {
   "cell_type": "code",
   "execution_count": null,
   "metadata": {},
   "outputs": [],
   "source": [
    "import pandas as pd\n",
    "import numpy as np \n",
    "from datetime import datetime\n",
    "import os\n",
    "from pytz import timezone\n",
    "\n",
    "def GetLoadRawYearlyData():\n",
    "    directory = r'/Users/meiyewang/Desktop/code/data/electricityImport/RTM/2019'\n",
    "    df1=pd.DataFrame(columns=[\"INTERVALSTARTTIME_GMT\",'MW'])\n",
    "    for filename in os.listdir(directory):\n",
    "        if filename.endswith(\".csv\") :\n",
    "            df=pd.read_csv(os.path.join(directory, filename))\n",
    "            df1=pd.concat([df1,df[[\"INTERVALSTARTTIME_GMT\",'MW']]])\n",
    "        else:\n",
    "            continue\n",
    "    return df1\n",
    "\n",
    "def SortTimeOrder(df):\n",
    "    timelist=[datetime.strptime(df.index[i][:16], \"%Y-%m-%dT%H:%M\").replace(tzinfo=timezone('UTC')).astimezone(timezone('US/Pacific')) for i in range(df.shape[0])]\n",
    "    df.index=[str(timelist[i])[:16] for i in range(len(timelist))]\n",
    "    return df\n",
    "\n",
    "yearlyImport=pd.read_csv('../RTM/2019/EleImportRTM20190101.csv')\n",
    "yearlyImportAggre=SortTimeOrder(yearlyImport)\n",
    "ImportResultDF=pd.DataFrame(data=yearlyImportAggre)\n",
    "ImportResultDF=ImportResultDF.rename(columns={'MW':'Import(MW)'})\n",
    "\n",
    "# ImportResultDF.to_csv('CAISO2019Import.csv')\n",
    "# yearlyLoadAggre\n",
    "\n"
   ]
  },
  {
   "cell_type": "code",
   "execution_count": null,
   "metadata": {},
   "outputs": [],
   "source": [
    "import pandas as pd\n",
    "import numpy as np \n",
    "from datetime import datetime\n",
    "import os\n",
    "from pytz import timezone\n",
    "\n",
    "def GetImportRawYearlyData():\n",
    "    directory = r'/Users/meiyewang/Desktop/code/data/electricityImport/RTM/2019'\n",
    "    df1=pd.DataFrame(columns=[\"INTERVALSTARTTIME_GMT\",'MW'])\n",
    "    for filename in os.listdir(directory):\n",
    "        if filename.endswith(\".csv\") :\n",
    "            df=pd.read_csv(os.path.join(directory, filename))\n",
    "            df1=pd.concat([df1,df[[\"INTERVALSTARTTIME_GMT\",'MW']]])\n",
    "        else:\n",
    "            continue\n",
    "    return df1\n",
    "\n",
    "yearlyImport=GetImportRawYearlyData()\n",
    "yearlyImport.index=yearlyImport['INTERVALSTARTTIME_GMT']"
   ]
  },
  {
   "cell_type": "code",
   "execution_count": null,
   "metadata": {},
   "outputs": [],
   "source": [
    "\n",
    "yearlyImport=pd.read_csv('RTM/2019/EleImportRTM20190310.csv',header=0)[[\"INTERVALSTARTTIME_GMT\",'MW']]\n",
    "yearlyImport.index=yearlyImport['INTERVALSTARTTIME_GMT']\n",
    "timelist=[datetime.strptime(yearlyImport.index[i][:13], \"%Y-%m-%dT%H\").replace(tzinfo=timezone('UTC')).astimezone(timezone('US/Pacific')) for i in range(yearlyImport.shape[0])]\n",
    "yearlyImport.index=[str(timelist[i])[:13] for i in range(len(timelist))]\n",
    "yearlyImportAggre=yearlyImport.groupby(by=yearlyImport.index).sum()\n",
    "ImportResultDF=pd.DataFrame(data=yearlyImportAggre)\n",
    "ImportResultDF=ImportResultDF.rename(columns={'MW':'Import(MW)'})\n",
    "ImportResultDF\n"
   ]
  },
  {
   "cell_type": "code",
   "execution_count": null,
   "metadata": {},
   "outputs": [],
   "source": []
  }
 ]
}