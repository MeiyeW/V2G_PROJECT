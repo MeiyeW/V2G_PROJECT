{
 "cells": [
  {
   "cell_type": "markdown",
   "metadata": {},
   "source": [
    "$$e^x=\\sum_{i=0}^\\infty \\frac{1}{i!}x^i$$"
   ]
  },
  {
   "cell_type": "markdown",
   "metadata": {},
   "source": [
    "$$ min \\sum_{t=1}^{T} P_{batt,t}(x) (Pr_{e,t}+Pr_{b}) h  $$"
   ]
  },
  {
   "cell_type": "markdown",
   "metadata": {},
   "source": [
    "$$ x=[x_1,···,x_T]^t$$"
   ]
  },
  {
   "cell_type": "markdown",
   "metadata": {},
   "source": [
    "$$s.t.  SOC_{min}<x_t<SOC_{max}, t=1,2,3...T $$"
   ]
  },
  {
   "cell_type": "markdown",
   "metadata": {},
   "source": [
    "$$SOC_{t+1}=SOC_{t}+\\frac {P_{batt,t}(x)h}{BatteryCapacity}$$\n"
   ]
  },
  {
   "cell_type": "markdown",
   "metadata": {},
   "source": [
    "\n",
    " $$P_{min}<P_{batt,t}<P_{max}, \\forall t \\in Plugin Period $$"
   ]
  },
  {
   "cell_type": "markdown",
   "metadata": {},
   "source": [
    " $$P_{batt,t}=-P_{prop,t}, \\forall t \\in Driving Period $$"
   ]
  },
  {
   "cell_type": "markdown",
   "metadata": {},
   "source": [
    " $$x_1=x_T$$"
   ]
  },
  {
   "cell_type": "markdown",
   "metadata": {},
   "source": [
    "$$ min \\sum_{i,t}[p_{i,t}*OC_{i,t}+f_{i,t}*OC_{i,t}*FOS+r_{i,t}*OC_{i,t}*ROS+v_{i,t}*SU_{i}] , \\forall t \\in T, i \\in I $$"
   ]
  },
  {
   "cell_type": "markdown",
   "metadata": {},
   "source": [
    "$$s.t. \\sum_{i}p_{i,t}= D_{t} ,  \\forall t \\in T, i \\in I  $$"
   ]
  },
  {
   "cell_type": "markdown",
   "metadata": {},
   "source": [
    "$$ \\sum_{i}f_{i,t}= F_{t} ,  \\forall t \\in T, i \\in I  $$"
   ]
  },
  {
   "cell_type": "markdown",
   "metadata": {},
   "source": [
    "$$p_{i,t}\\leq p_{i,max}*u_{i,t},  \\forall t \\in T, i \\in I  $$"
   ]
  },
  {
   "cell_type": "markdown",
   "metadata": {},
   "source": [
    "$$p_{i,t}\\geq p_{i,max}*u_{i,t},  \\forall t \\in T, i \\in I  $$"
   ]
  },
  {
   "cell_type": "markdown",
   "metadata": {},
   "source": [
    "$$c_{i,t}^{UP}-c_{i,t}^{DOWN}=p_{i,t}-p_{i,t-1},  \\forall t >1, i \\in I  $$"
   ]
  },
  {
   "cell_type": "markdown",
   "metadata": {},
   "source": [
    "$$c_{i,t}^{UP}-c_{i,t}^{DOWN}=p_{i,t}-p_{i},  \\forall t =1, i \\in I  $$"
   ]
  },
  {
   "cell_type": "markdown",
   "metadata": {},
   "source": [
    "$$c_{i,t}^{UP}-c_{i,t}^{DOWN}\\leq RL_{i}*u_{i,t}+p_{i,min}*v_{i,t},  \\forall t \\in T, i \\in I  $$"
   ]
  },
  {
   "cell_type": "markdown",
   "metadata": {},
   "source": [
    "$$u_{i,t}\\geq v_{i,t},  \\forall t \\in T, i \\in I  $$"
   ]
  },
  {
   "cell_type": "markdown",
   "metadata": {},
   "source": [
    "$$u_{i,t-1}+v_{i,t} \\leq 1,  \\forall t >1, i \\in I  $$\n"
   ]
  },
  {
   "cell_type": "markdown",
   "metadata": {},
   "source": [
    "$$U_{i}+v_{i,t} \\leq 1,  \\forall t =1, i \\in I  $$\n"
   ]
  },
  {
   "cell_type": "markdown",
   "metadata": {},
   "source": [
    "$$w_{i,t}=u_{i,t-1}-u_{i,t}+v_{i,t} ,  \\forall t >1, i \\in I  $$\n"
   ]
  },
  {
   "cell_type": "markdown",
   "metadata": {},
   "source": [
    "$$w_{i,t}=U_{i}-u_{i,t}+v_{i,t} ,  \\forall t =1, i \\in I  $$\n"
   ]
  },
  {
   "cell_type": "markdown",
   "metadata": {},
   "source": [
    "$$u_{i,t}+w_{i,t-(MDT_{i-1})}+w_{i,t-(MDT_{i-2})}+···+w_{i,t}\\leq 1 ,  \\forall t >MDT_{i}, i \\in I  $$\n"
   ]
  },
  {
   "cell_type": "markdown",
   "metadata": {},
   "source": [
    "$$u_{i,t}+w_{i,1}+···+w_{i,t}\\leq 1 ,  \\forall t >MDT_{i}, i \\in I  $$\n"
   ]
  },
  {
   "cell_type": "markdown",
   "metadata": {},
   "source": [
    "$$u_{i,t}\\leq 0 ,  \\forall t =K_{i}, i \\in I  $$\n"
   ]
  },
  {
   "cell_type": "markdown",
   "metadata": {},
   "source": [
    "$$  \\sum_{t=1}^{T} _{batt,t}(x) (Pr_{e,t}+Pr_{b}) h  $$\n"
   ]
  }
 ],
 "metadata": {
  "kernelspec": {
   "display_name": "Python 2",
   "language": "python",
   "name": "python2"
  },
  "language_info": {
   "codemirror_mode": {
    "name": "ipython",
    "version": 2
   },
   "file_extension": ".py",
   "mimetype": "text/x-python",
   "name": "python",
   "nbconvert_exporter": "python",
   "pygments_lexer": "ipython2",
   "version": "2.7.16-final"
  }
 },
 "nbformat": 4,
 "nbformat_minor": 4
}