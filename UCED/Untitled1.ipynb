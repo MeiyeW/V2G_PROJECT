{
 "cells": [
  {
   "cell_type": "code",
   "execution_count": null,
   "metadata": {},
   "outputs": [],
   "source": [
    "import pandas as pd\n",
    "import numpy as np\n",
    "df_gen_param = pd.read_csv('test_generators.csv',header=0)\n",
    "gen_name = df_gen_param['name']\n",
    "gen_maxcap = df_gen_param['maxcap']\n",
    "gen_heat_rate = df_gen_param['heat_rate']\n",
    "gen_var_om = df_gen_param['var_om']\n",
    "gen_fuel_cost = df_gen_param['fuel_cost']\n",
    "gen_st_cost = df_gen_param['st_cost']\n"
   ]
  },
  {
   "cell_type": "code",
   "execution_count": null,
   "metadata": {},
   "outputs": [],
   "source": [
    "cost= []\n",
    "price=[]\n",
    "ls=[]"
   ]
  },
  {
   "cell_type": "code",
   "execution_count": null,
   "metadata": {},
   "outputs": [],
   "source": [
    "for i in range(len(gen_name)):\n",
    "    cost_e =  gen_heat_rate[i]*gen_fuel_cost[i]+gen_var_om[i]\n",
    "    cost_fre_u =  gen_heat_rate[i]*gen_fuel_cost[i]+gen_var_om[i]*0.5\n",
    "    cost_fre_d = gen_heat_rate[i]*gen_fuel_cost[i]+gen_var_om[i]*0.3\n",
    "    cost.append((gen_name[i],cost_e,cost_fre_u,cost_fre_d))\n",
    "\n",
    "cost_pd=pd.DataFrame(cost,columns=('Generator','cost_e','cost_fre_u','cost_fre_d'))\n",
    "cost_pd=cost_pd.sort_values(by=\"Generator\")\n",
    "cost_pd=cost_pd.reset_index(drop=True)\n",
    "cost_pd"
   ]
  },
  {
   "cell_type": "code",
   "execution_count": null,
   "metadata": {},
   "outputs": [],
   "source": [
    "price=[]\n",
    "mwh_pd = pd.read_csv('out_camb_R1_2018_mwh.csv',header=0)\n",
    "mwh_pd=mwh_pd.sort_values(by=[\"Generator\",\"Time\"])\n",
    "mwh_pd=mwh_pd.reset_index(drop=True)\n",
    "mwh_pd.head()\n",
    "\n",
    "regup_pd = pd.read_csv('out_camb_R1_2018_regup.csv',header=0)\n",
    "regup_pd=regup_pd.sort_values(by=[\"Generator\",\"Time\"])\n",
    "regup_pd=regup_pd.reset_index(drop=True)\n",
    "regup_pd.head()\n",
    "\n",
    "regdown_pd = pd.read_csv('out_camb_R1_2018_regdown.csv',header=0)\n",
    "regdown_pd=regdown_pd.sort_values(by=[\"Generator\",\"Time\"])\n",
    "regdown_pd=regdown_pd.reset_index(drop=True)\n",
    "regdown_pd.head()"
   ]
  },
  {
   "cell_type": "code",
   "execution_count": null,
   "metadata": {},
   "outputs": [],
   "source": []
  },
  {
   "cell_type": "code",
   "execution_count": null,
   "metadata": {},
   "outputs": [],
   "source": [
    "\n",
    "for i in range(8760):\n",
    "    pr_e=[]\n",
    "    pr_fre_u=[]\n",
    "    pr_fre_d=[]\n",
    "    for j in range(len(gen_name)):    \n",
    "        pr_e.append((mwh_pd['Value'][i+j*8760]>0).astype(int)*1*cost_pd[\"cost_e\"][j])\n",
    "        pr_fre_u.append((regup_pd['Value'][i+j*8760]>0).astype(int)*1*cost_pd[\"cost_fre_u\"][j])\n",
    "        pr_fre_d.append((regdown_pd['Value'][i+j*8760]>0).astype(int)*1*cost_pd[\"cost_fre_d\"][j])\n",
    "        price.append((i,max(pr_e),max(pr_fre_u),max(pr_fre_d)))\n",
    "print(price)\n",
    "\n"
   ]
  },
  {
   "cell_type": "code",
   "execution_count": null,
   "metadata": {},
   "outputs": [],
   "source": []
  },
  {
   "cell_type": "code",
   "execution_count": null,
   "metadata": {},
   "outputs": [],
   "source": []
  },
  {
   "cell_type": "code",
   "execution_count": null,
   "metadata": {},
   "outputs": [],
   "source": [
    "price_pd=pd.DataFrame(price,columns=(\"hour\",'pr_e','pr_fre_u','pr_fre_d'))\n",
    "price_pd.shape\n"
   ]
  },
  {
   "cell_type": "code",
   "execution_count": null,
   "metadata": {},
   "outputs": [],
   "source": []
  },
  {
   "cell_type": "code",
   "execution_count": null,
   "metadata": {},
   "outputs": [],
   "source": []
  },
  {
   "cell_type": "code",
   "execution_count": null,
   "metadata": {},
   "outputs": [],
   "source": []
  }
 ],
 "metadata": {
  "kernelspec": {
   "display_name": "Python 2",
   "language": "python",
   "name": "python2"
  },
  "language_info": {
   "codemirror_mode": {
    "name": "ipython",
    "version": 2
   },
   "file_extension": ".py",
   "mimetype": "text/x-python",
   "name": "python",
   "nbconvert_exporter": "python",
   "pygments_lexer": "ipython2",
   "version": "2.7.16"
  }
 },
 "nbformat": 4,
 "nbformat_minor": 2
}
