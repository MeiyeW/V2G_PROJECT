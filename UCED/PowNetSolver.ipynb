{
 "cells": [
  {
   "cell_type": "code",
   "execution_count": 1,
   "metadata": {},
   "outputs": [],
   "source": [
    "from pyomo.opt import SolverFactory\n",
    "from pyomo.core import Var\n",
    "from pyomo.core import Param\n",
    "from operator import itemgetter\n",
    "import pandas as pd\n",
    "from datetime import datetime\n",
    "import os"
   ]
  },
  {
   "cell_type": "code",
   "execution_count": 2,
   "metadata": {},
   "outputs": [
    {
     "data": {
      "text/plain": [
       "\"C:\\\\Users\\\\Meiye's laptop\\\\OneDrive\\\\UMich\\\\Thesis\\\\Methods\\\\V2G-Sim-beta-master\\\\UCED\""
      ]
     },
     "execution_count": 2,
     "metadata": {},
     "output_type": "execute_result"
    }
   ],
   "source": [
    "###Segment C.1\n",
    "yr = 2016\n",
    "run_no = 1\n",
    "os.getcwd()\n"
   ]
  },
  {
   "cell_type": "code",
   "execution_count": 3,
   "metadata": {},
   "outputs": [
    {
     "name": "stdout",
     "output_type": "stream",
     "text": [
      "('Gen_Nodes:', 12)\n"
     ]
    }
   ],
   "source": [
    "###Segment C.2\n",
    "from PowNetModel import model\n"
   ]
  },
  {
   "cell_type": "code",
   "execution_count": null,
   "metadata": {},
   "outputs": [],
   "source": [
    "###Segment C.3\n",
    "instance = model.create_instance('pownet_data_camb_2016.dat')"
   ]
  },
  {
   "cell_type": "code",
   "execution_count": null,
   "metadata": {},
   "outputs": [],
   "source": [
    "###Segment C.4\n",
    "opt = SolverFactory(\"gurobi\") ##SolverFactory(\"cplex\")\n",
    "opt.options[\"threads\"] = 1\n",
    "H = instance.HorizonHours\n",
    "K=range(1,H+1)\n",
    "start = 1 ##1 to 364\n",
    "end  = 366 ##2 to 366"
   ]
  },
  {
   "cell_type": "code",
   "execution_count": null,
   "metadata": {},
   "outputs": [],
   "source": [
    "###Segment C.5\n",
    "#Space to store results\n",
    "on=[]\n",
    "switch=[]\n",
    "\n",
    "mwh=[]\n",
    "hydro=[]\n",
    "solar=[]\n",
    "wind=[]\n",
    "\n",
    "hydro_import=[]\n",
    "\n",
    "srsv=[]\n",
    "nrsv=[]\n",
    "\n",
    "vlt_angle=[]\n",
    "\n",
    "for day in range(start,end):\n",
    "    for z in instance.d_nodes:\n",
    "     #load Demand and Reserve time series data\n",
    "        for i in K:\n",
    "            instance.HorizonDemand[z,i] = instance.SimDemand[z,(day-1)*24+i]\n",
    "            instance.HorizonReserves[i] = instance.SimReserves[(day-1)*24+i] \n",
    "            \n",
    "    for z in instance.h_nodes:\n",
    "     #load Hydropower time series data\n",
    "        for i in K:\n",
    "            instance.HorizonHydro[z,i] = instance.SimHydro[z,(day-1)*24+i]\n",
    "            \n",
    "#     for z in instance.s_nodes:\n",
    "#      #load Solar time series data\n",
    "#         for i in K:\n",
    "#             instance.HorizonSolar[z,i] = instance.SimSolar[z,(day-1)*24+i]\n",
    "            \n",
    "#     for z in instance.w_nodes:\n",
    "#      #load Wind time series data\n",
    "#         for i in K:\n",
    "#             instance.HorizonWind[z,i] = instance.SimWind[z,(day-1)*24+i]\n",
    "            \n",
    "    for z in instance.h_imports:\n",
    "     #load Hydropower time series data\n",
    "        for i in K:\n",
    "            instance.HorizonHydroImport[z,i] = instance.SimHydroImport[z,(day-1)*24+i]\n",
    "\n",
    "    result = opt.solve(instance) ##,tee=True to check number of variables\n",
    "    instance.solutions.load_from(result)   \n",
    " \n",
    "#  #The following section is for storing and sorting results\n",
    "    for v in instance.component_objects(Var, active=True):\n",
    "        varobject = getattr(instance, str(v))\n",
    "        a=str(v)\n",
    "        if a=='hydro':\n",
    "      \n",
    "             for index in varobject:\n",
    "                 if int(index[1]>0 and index[1]<25):\n",
    "                    if index[0] in instance.h_nodes:\n",
    "                        hydro.append((index[0],index[1]+((day-1)*24),varobject[index].value))   \n",
    "\n",
    "#         if a=='solar':\n",
    "      \n",
    "#              for index in varobject:\n",
    "#                  if int(index[1]>0 and index[1]<25):\n",
    "#                     if index[0] in instance.s_nodes:\n",
    "#                         solar.append((index[0],index[1]+((day-1)*24),varobject[index].value))   \n",
    "\n",
    "#         if a=='wind':\n",
    "      \n",
    "#              for index in varobject:\n",
    "#                  if int(index[1]>0 and index[1]<25):\n",
    "#                     if index[0] in instance.w_nodes:\n",
    "#                         wind.append((index[0],index[1]+((day-1)*24),varobject[index].value))   \n",
    "                            \n",
    "\n",
    "        if a=='hydro_import':\n",
    "      \n",
    "             for index in varobject:\n",
    "                 if int(index[1]>0 and index[1]<25):\n",
    "                    if index[0] in instance.h_imports:\n",
    "                        hydro_import.append((index[0],index[1]+((day-1)*24),varobject[index].value))   \n",
    "\n",
    "        if a=='vlt_angle':\n",
    "      \n",
    "             for index in varobject:\n",
    "                 if int(index[1]>0 and index[1]<25):\n",
    "                    if index[0] in instance.nodes:\n",
    "                        vlt_angle.append((index[0],index[1]+((day-1)*24),varobject[index].value))   \n",
    "        if a=='mwh':\n",
    "            for index in varobject:\n",
    "                if int(index[1]>0 and index[1]<25):\n",
    "                    mwh.append((index[0],index[1]+((day-1)*24),varobject[index].value))                                              \n",
    "\n",
    "                        \n",
    "        if a=='on':        \n",
    "            for index in varobject:\n",
    "                if int(index[1]>0 and index[1]<25):\n",
    "                    on.append((index[0],index[1]+((day-1)*24),varobject[index].value))\n",
    "\n",
    "        if a=='switch':  \n",
    "            for index in varobject:\n",
    "                if int(index[1]>0 and index[1]<25):\n",
    "                    switch.append((index[0],index[1]+((day-1)*24),varobject[index].value))\n",
    "\n",
    "\n",
    "        if a=='srsv':    \n",
    "            for index in varobject:\n",
    "                if int(index[1]>0 and index[1]<25):\n",
    "                    srsv.append((index[0],index[1]+((day-1)*24),varobject[index].value))\n",
    "\n",
    "                        \n",
    "        if a=='nrsv':    \n",
    "            for index in varobject:\n",
    "                if int(index[1]>0 and index[1]<25):\n",
    "                    nrsv.append((index[0],index[1]+((day-1)*24),varobject[index].value))\n",
    "\n",
    "        \n",
    "    hydro_pd=pd.DataFrame(hydro,columns=('Node','Time','Value'))\n",
    "    hydro_import_pd=pd.DataFrame(hydro_import,columns=('Node','Time','Value'))\n",
    "#     solar_pd=pd.DataFrame(solar,columns=('Node','Time','Value'))\n",
    "#     wind_pd=pd.DataFrame(wind,columns=('Node','Time','Value'))\n",
    "    \n",
    "    vlt_angle_pd=pd.DataFrame(vlt_angle,columns=('Node','Time','Value'))\n",
    "    \n",
    "    mwh_pd=pd.DataFrame(mwh,columns=('Generator','Time','Value'))    \n",
    "    on_pd=pd.DataFrame(on,columns=('Generator','Time','Value'))\n",
    "    switch_pd=pd.DataFrame(switch,columns=('Generator','Time','Value'))\n",
    "    srsv_pd=pd.DataFrame(srsv,columns=('Generator','Time','Value'))\n",
    "    nrsv_pd=pd.DataFrame(nrsv,columns=('Generator','Time','Value'))\n",
    "\n",
    "\n",
    "\n",
    "###to save outputs\n",
    "    mwh_pd.to_csv('out_camb_R'+str(run_no)+'_'+str(yr)+'_mwh.csv')\n",
    "    \n",
    "    hydro_pd.to_csv('out_camb_R'+str(run_no)+'_'+str(yr)+'_hydro.csv')\n",
    "    hydro_import_pd.to_csv('out_camb_R'+str(run_no)+'_'+str(yr)+'_hydro_import.csv')\n",
    "#     solar_pd.to_csv('out_camb_R'+str(run_no)+'_'+str(yr)+'_solar.csv')\n",
    "#     wind_pd.to_csv('out_camb_R'+str(run_no)+'_'+str(yr)+'_wind.csv')\n",
    "    \n",
    "    vlt_angle_pd.to_csv('out_camb_R'+str(run_no)+'_'+str(yr)+'_vlt_angle.csv')\n",
    "    \n",
    "    on_pd.to_csv('out_camb_R'+str(run_no)+'_'+str(yr)+'_on.csv')\n",
    "    switch_pd.to_csv('out_camb_R'+str(run_no)+'_'+str(yr)+'_switch.csv')\n",
    "    srsv_pd.to_csv('out_camb_R'+str(run_no)+'_'+str(yr)+'_srsv.csv')\n",
    "    nrsv_pd.to_csv('out_camb_R'+str(run_no)+'_'+str(yr)+'_nrsv.csv')\n",
    " \n",
    "    print(day)\n",
    "    print(str(datetime.now()))"
   ]
  },
  {
   "cell_type": "code",
   "execution_count": null,
   "metadata": {},
   "outputs": [],
   "source": []
  }
 ],
 "metadata": {
  "kernelspec": {
   "display_name": "Python 3",
   "language": "python",
   "name": "python3"
  },
  "language_info": {
   "codemirror_mode": {
    "name": "ipython",
    "version": 3
   },
   "file_extension": ".py",
   "mimetype": "text/x-python",
   "name": "python",
   "nbconvert_exporter": "python",
   "pygments_lexer": "ipython3",
   "version": "3.7.6"
  }
 },
 "nbformat": 4,
 "nbformat_minor": 4
}