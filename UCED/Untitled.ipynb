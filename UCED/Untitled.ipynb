{
 "cells": [
  {
   "cell_type": "code",
   "execution_count": 1,
   "metadata": {},
   "outputs": [],
   "source": [
    "from pyomo.opt import SolverFactory\n",
    "from pyomo.core import Var\n",
    "from pyomo.core import Param\n",
    "from operator import itemgetter\n",
    "import pandas as pd\n",
    "from datetime import datetime\n",
    "import os"
   ]
  },
  {
   "cell_type": "code",
   "execution_count": 2,
   "metadata": {},
   "outputs": [
    {
     "name": "stdout",
     "output_type": "stream",
     "text": [
      "('Complete:', 'test')\n"
     ]
    }
   ],
   "source": [
    "#run number\n",
    "yr=2018\n",
    "run_no = 1\n",
    "###Segment C.2\n",
    "from UCModel import model\n",
    "\n",
    "###Segment C.3\n",
    "instance = model.create_instance('test.dat')"
   ]
  },
  {
   "cell_type": "code",
   "execution_count": 3,
   "metadata": {},
   "outputs": [],
   "source": [
    "###Segment C.4\n",
    "opt = SolverFactory(\"gurobi\") ##SolverFactory(\"cplex\")\n",
    "opt.options[\"threads\"] = 1\n",
    "H = instance.HorizonHours\n",
    "K=range(1,H+1)\n",
    "start = 1 ##1 to 364\n",
    "end  = 366 ##2 to 366\n",
    "###Segment C.5\n",
    "#Space to store results\n",
    "on=[]\n",
    "switch=[]\n",
    "\n",
    "mwh=[]\n",
    "regup=[]\n",
    "regdown=[]\n",
    "nse=[]\n",
    "\n",
    "for day in range(start,end):\n",
    "         #load Demand and Reserve time series data\n",
    "    for i in K:\n",
    "            instance.HorizonDemand[i] = instance.SimDemand[(day-1)*24+i]\n",
    "           \n",
    "    result = opt.solve(instance) ##,tee=True to check number of variables\n",
    "    instance.solutions.load_from(result)   "
   ]
  },
  {
   "cell_type": "code",
   "execution_count": null,
   "metadata": {},
   "outputs": [],
   "source": [
    "##The following section is for storing and sorting results\n",
    "    for v in instance.component_objects(Var, active=True):\n",
    "        varobject = getattr(instance, str(v))\n",
    "        a=str(v)\n",
    "       \n",
    "        if a=='mwh':\n",
    "            for index in varobject:\n",
    "                if int(index[1]>0 and index[1]<25):\n",
    "                    mwh.append((index[0], day,index[1]+((day-1)*24),varobject[index].value))                                              \n",
    "      \n",
    "        if a=='regup':    \n",
    "            for index in varobject:\n",
    "                if int(index[1]>0 and index[1]<25):\n",
    "                    regup.append((index[0],day,index[1]+((day-1)*24),varobject[index].value))\n",
    "\n",
    "        if a=='regdown':    \n",
    "            for index in varobject:\n",
    "                if int(index[1]>0 and index[1]<25):\n",
    "                    regdown.append((index[0],day,index[1]+((day-1)*24),varobject[index].value))\n",
    "         \n",
    "        regup_pd=pd.DataFrame(regup,columns=('Generator','Day','Hour','Value'))\n",
    "        regdown_pd=pd.DataFrame(regdown,columns=('Generator','Day','Hour','Value'))  \n",
    "        mwh_pd=pd.DataFrame(mwh,columns=('Generator','Day','Hour','Value'))    \n",
    "    # on_pd=pd.DataFrame(on,columns=('Generator','Day','Hour','Value'))\n",
    "    # switch_pd=pd.DataFrame(switch,columns=('Generator','Day','Hour','Value'))\n",
    "    # nse_pd=pd.DataFrame(nse,columns=('Generator','Day','Hour','Value'))"
   ]
  },
  {
   "cell_type": "code",
   "execution_count": null,
   "metadata": {},
   "outputs": [],
   "source": [
    "df_gen_param = pd.read_csv('test_generators.csv',header=0)\n",
    "gen_name = df_gen_param['name']\n",
    "gen_maxcap = df_gen_param['maxcap']\n",
    "gen_heat_rate = df_gen_param['heat_rate']\n",
    "gen_var_om = df_gen_param['var_om']\n",
    "gen_fuel_cost = df_gen_param['fuel_cost']\n",
    "gen_st_cost = df_gen_param['st_cost']\n",
    "\n",
    "cost= []\n",
    "price=[]\n",
    "ls=[]"
   ]
  },
  {
   "cell_type": "code",
   "execution_count": null,
   "metadata": {},
   "outputs": [],
   "source": [
    "for i in range(len(gen_name)):\n",
    "    cost_e =  gen_heat_rate[i]*gen_fuel_cost[i]+gen_var_om[i]\n",
    "    cost_fre_u =  gen_heat_rate[i]*gen_fuel_cost[i]+gen_var_om[i]*0.5\n",
    "    cost_fre_d = gen_heat_rate[i]*gen_fuel_cost[i]+gen_var_om[i]*0.3\n",
    "    cost.append((gen_name[i],cost_e,cost_fre_u,cost_fre_d))\n",
    "cost_pd=pd.DataFrame(cost,columns=('Generator','cost_e','cost_fre_u','cost_fre_d'))\n",
    "\n",
    "for i in range(8760):\n",
    "    for j in range(len(gen_name)):\n",
    "        pr_e=(mwh_pd[(i*24+j),'Value']>0).astype(int)*1*cost[j,'cost_e']\n",
    "        pr_fre_u=(mwh_pd[(i*24+j),'Value']>0).astype(int)*1*cost[j,'cost_fre_u']\n",
    "        pr_fre_d=(mwh_pd[(i*24+j),'Value']>0).astype(int)*1*cost[j,'cost_fre_d']\n",
    "        ls.append((pr_e,pr_fre_u,pr_fre_d))\n",
    "    price.append(max(ls))\n",
    "    \n",
    "print(price)"
   ]
  }
 ],
 "metadata": {
  "kernelspec": {
   "display_name": "Python 2",
   "language": "python",
   "name": "python2"
  },
  "language_info": {
   "codemirror_mode": {
    "name": "ipython",
    "version": 2
   },
   "file_extension": ".py",
   "mimetype": "text/x-python",
   "name": "python",
   "nbconvert_exporter": "python",
   "pygments_lexer": "ipython2",
   "version": "2.7.16"
  }
 },
 "nbformat": 4,
 "nbformat_minor": 2
}
