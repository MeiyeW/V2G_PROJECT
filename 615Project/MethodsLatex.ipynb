{
 "cells": [
  {
   "cell_type": "markdown",
   "metadata": {},
   "source": [
    "$$e^x=\\sum_{i=0}^\\infty \\frac{1}{i!}x^i$$"
   ]
  },
  {
   "cell_type": "markdown",
   "metadata": {},
   "source": [
    "$$ min \\sum_{t=1}^{T} P_{batt,t}(x) Pr_{e,t} h  $$"
   ]
  },
  {
   "cell_type": "markdown",
   "metadata": {},
   "source": [
    "$$ x=[x_1,···,x_T]^t$$"
   ]
  },
  {
   "cell_type": "markdown",
   "metadata": {},
   "source": [
    "$s.t.  SOC_{min}<x_t<SOC_{max}, t=1,2,3...T $"
   ]
  },
  {
   "cell_type": "markdown",
   "metadata": {},
   "source": [
    "$SOC_{t+1}=SOC_{t}+\\frac {P_{batt,t}(x)h}{BatteryCapacity}$"
   ]
  },
  {
   "cell_type": "markdown",
   "metadata": {},
   "source": [
    "\n",
    " $P_{min}<P_{batt,t}<P_{max}, \\forall t \\in Plugin Period $"
   ]
  },
  {
   "cell_type": "markdown",
   "metadata": {},
   "source": [
    " $P_{batt,t}=-P_{prop,t}, \\forall t \\in Driving Period $"
   ]
  },
  {
   "cell_type": "markdown",
   "metadata": {},
   "source": [
    " $x_1=x_T$"
   ]
  },
  {
   "cell_type": "code",
   "execution_count": null,
   "metadata": {},
   "outputs": [],
   "source": []
  }
 ],
 "metadata": {
  "kernelspec": {
   "display_name": "Python 3",
   "language": "python",
   "name": "python3"
  },
  "language_info": {
   "codemirror_mode": {
    "name": "ipython",
    "version": 3
   },
   "file_extension": ".py",
   "mimetype": "text/x-python",
   "name": "python",
   "nbconvert_exporter": "python",
   "pygments_lexer": "ipython3",
   "version": "3.7.5"
  }
 },
 "nbformat": 4,
 "nbformat_minor": 4
}
