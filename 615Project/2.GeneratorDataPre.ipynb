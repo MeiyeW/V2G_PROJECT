{
 "cells": [
  {
   "cell_type": "code",
   "execution_count": 1,
   "metadata": {},
   "outputs": [],
   "source": [
    "import pandas as pd\n",
    "import numpy as np"
   ]
  },
  {
   "cell_type": "code",
   "execution_count": 2,
   "metadata": {},
   "outputs": [],
   "source": [
    "#--Loading a .csv file to pandas--\n",
    "generator= pd.read_csv('GeneratorCA.csv')"
   ]
  },
  {
   "cell_type": "code",
   "execution_count": 3,
   "metadata": {},
   "outputs": [
    {
     "output_type": "execute_result",
     "data": {
      "text/plain": "  Energy.Source.1           Technology  Utility.ID Generator.ID Prime.Mover  \\\n0              AB  Other Waste Biomass       19946         GEN1          ST   \n1             DFO    Petroleum Liquids       61088          G-1          IC   \n2             DFO    Petroleum Liquids        9216            2          GT   \n3             DFO    Petroleum Liquids       58893        EG15B          IC   \n4             DFO    Petroleum Liquids       58893          20B          IC   \n\n   Nameplate.Capacity..MW.  Nameplate.Power.Factor  Summer.Capacity..MW.  \\\n0                     29.1                    0.90                  26.5   \n1                      2.0                    1.00                   2.0   \n2                     24.9                    0.85                  23.0   \n3                      2.3                    0.97                   2.3   \n4                      2.3                    0.97                   2.3   \n\n   Winter.Capacity..MW.  Minimum.Load..MW.  ...  Planned.Retirement.Year  \\\n0                  26.5               15.0  ...                      NaN   \n1                   2.0                0.5  ...                      NaN   \n2                  23.0                1.5  ...                      NaN   \n3                   2.3                0.0  ...                      NaN   \n4                   2.3                0.0  ...                      NaN   \n\n    VOM       fuelTypes     unit heatRateLow  heatRateHigh  fuelCost  \\\n0  2.41  solidRenewable     tons         7.0          18.0    2.5000   \n1  1.00       petroleum  barrels         5.5           6.2   18.3435   \n2  1.00       petroleum  barrels         5.5           6.2   18.3435   \n3  1.00       petroleum  barrels         5.5           6.2   18.3435   \n4  1.00       petroleum  barrels         5.5           6.2   18.3435   \n\n                                               Notes capacityQuantile  \\\n0                           Agricultural By-Products         0.000000   \n1  Distillate Fuel Oil (including diesel, No. 1, ...         0.223301   \n2  Distillate Fuel Oil (including diesel, No. 1, ...         0.990291   \n3  Distillate Fuel Oil (including diesel, No. 1, ...         0.533981   \n4  Distillate Fuel Oil (including diesel, No. 1, ...         0.533981   \n\n   capacityQuan  \n0             C  \n1             C  \n2             A  \n3             B  \n4             B  \n\n[5 rows x 21 columns]",
      "text/html": "<div>\n<style scoped>\n    .dataframe tbody tr th:only-of-type {\n        vertical-align: middle;\n    }\n\n    .dataframe tbody tr th {\n        vertical-align: top;\n    }\n\n    .dataframe thead th {\n        text-align: right;\n    }\n</style>\n<table border=\"1\" class=\"dataframe\">\n  <thead>\n    <tr style=\"text-align: right;\">\n      <th></th>\n      <th>Energy.Source.1</th>\n      <th>Technology</th>\n      <th>Utility.ID</th>\n      <th>Generator.ID</th>\n      <th>Prime.Mover</th>\n      <th>Nameplate.Capacity..MW.</th>\n      <th>Nameplate.Power.Factor</th>\n      <th>Summer.Capacity..MW.</th>\n      <th>Winter.Capacity..MW.</th>\n      <th>Minimum.Load..MW.</th>\n      <th>...</th>\n      <th>Planned.Retirement.Year</th>\n      <th>VOM</th>\n      <th>fuelTypes</th>\n      <th>unit</th>\n      <th>heatRateLow</th>\n      <th>heatRateHigh</th>\n      <th>fuelCost</th>\n      <th>Notes</th>\n      <th>capacityQuantile</th>\n      <th>capacityQuan</th>\n    </tr>\n  </thead>\n  <tbody>\n    <tr>\n      <th>0</th>\n      <td>AB</td>\n      <td>Other Waste Biomass</td>\n      <td>19946</td>\n      <td>GEN1</td>\n      <td>ST</td>\n      <td>29.1</td>\n      <td>0.90</td>\n      <td>26.5</td>\n      <td>26.5</td>\n      <td>15.0</td>\n      <td>...</td>\n      <td>NaN</td>\n      <td>2.41</td>\n      <td>solidRenewable</td>\n      <td>tons</td>\n      <td>7.0</td>\n      <td>18.0</td>\n      <td>2.5000</td>\n      <td>Agricultural By-Products</td>\n      <td>0.000000</td>\n      <td>C</td>\n    </tr>\n    <tr>\n      <th>1</th>\n      <td>DFO</td>\n      <td>Petroleum Liquids</td>\n      <td>61088</td>\n      <td>G-1</td>\n      <td>IC</td>\n      <td>2.0</td>\n      <td>1.00</td>\n      <td>2.0</td>\n      <td>2.0</td>\n      <td>0.5</td>\n      <td>...</td>\n      <td>NaN</td>\n      <td>1.00</td>\n      <td>petroleum</td>\n      <td>barrels</td>\n      <td>5.5</td>\n      <td>6.2</td>\n      <td>18.3435</td>\n      <td>Distillate Fuel Oil (including diesel, No. 1, ...</td>\n      <td>0.223301</td>\n      <td>C</td>\n    </tr>\n    <tr>\n      <th>2</th>\n      <td>DFO</td>\n      <td>Petroleum Liquids</td>\n      <td>9216</td>\n      <td>2</td>\n      <td>GT</td>\n      <td>24.9</td>\n      <td>0.85</td>\n      <td>23.0</td>\n      <td>23.0</td>\n      <td>1.5</td>\n      <td>...</td>\n      <td>NaN</td>\n      <td>1.00</td>\n      <td>petroleum</td>\n      <td>barrels</td>\n      <td>5.5</td>\n      <td>6.2</td>\n      <td>18.3435</td>\n      <td>Distillate Fuel Oil (including diesel, No. 1, ...</td>\n      <td>0.990291</td>\n      <td>A</td>\n    </tr>\n    <tr>\n      <th>3</th>\n      <td>DFO</td>\n      <td>Petroleum Liquids</td>\n      <td>58893</td>\n      <td>EG15B</td>\n      <td>IC</td>\n      <td>2.3</td>\n      <td>0.97</td>\n      <td>2.3</td>\n      <td>2.3</td>\n      <td>0.0</td>\n      <td>...</td>\n      <td>NaN</td>\n      <td>1.00</td>\n      <td>petroleum</td>\n      <td>barrels</td>\n      <td>5.5</td>\n      <td>6.2</td>\n      <td>18.3435</td>\n      <td>Distillate Fuel Oil (including diesel, No. 1, ...</td>\n      <td>0.533981</td>\n      <td>B</td>\n    </tr>\n    <tr>\n      <th>4</th>\n      <td>DFO</td>\n      <td>Petroleum Liquids</td>\n      <td>58893</td>\n      <td>20B</td>\n      <td>IC</td>\n      <td>2.3</td>\n      <td>0.97</td>\n      <td>2.3</td>\n      <td>2.3</td>\n      <td>0.0</td>\n      <td>...</td>\n      <td>NaN</td>\n      <td>1.00</td>\n      <td>petroleum</td>\n      <td>barrels</td>\n      <td>5.5</td>\n      <td>6.2</td>\n      <td>18.3435</td>\n      <td>Distillate Fuel Oil (including diesel, No. 1, ...</td>\n      <td>0.533981</td>\n      <td>B</td>\n    </tr>\n  </tbody>\n</table>\n<p>5 rows × 21 columns</p>\n</div>"
     },
     "metadata": {},
     "execution_count": 3
    }
   ],
   "source": [
    "generator.head()\n",
    "# demand.shape"
   ]
  },
  {
   "cell_type": "code",
   "execution_count": 4,
   "metadata": {},
   "outputs": [
    {
     "output_type": "execute_result",
     "data": {
      "text/plain": "(2625, 21)"
     },
     "metadata": {},
     "execution_count": 4
    }
   ],
   "source": [
    "generator.shape\n",
    "\n",
    "#generatorCA.shape\n",
    "#generator.columns"
   ]
  },
  {
   "cell_type": "code",
   "execution_count": 145,
   "metadata": {},
   "outputs": [
    {
     "name": "stdout",
     "output_type": "stream",
     "text": [
      "  Energy.Source.1           Technology  Utility.ID Generator.ID Prime.Mover  \\\n",
      "0              AB  Other Waste Biomass       19946         GEN1          ST   \n",
      "\n",
      "   Nameplate.Capacity..MW.  Nameplate.Power.Factor  Summer.Capacity..MW.  \\\n",
      "0                     29.1                     0.9                  26.5   \n",
      "\n",
      "   Winter.Capacity..MW.  Minimum.Load..MW.  ...  Planned.Retirement.Year  \\\n",
      "0                  26.5               15.0  ...                      NaN   \n",
      "\n",
      "    VOM       fuelTypes  unit heatRateLow  heatRateHigh  fuelCost  \\\n",
      "0  2.41  solidRenewable  tons         7.0          18.0       2.5   \n",
      "\n",
      "                      Notes capacityQuantile  capacityQuan  \n",
      "0  Agricultural By-Products              0.0             C  \n",
      "\n",
      "[1 rows x 21 columns]\n",
      "     Energy.Source.1            Technology  Utility.ID Generator.ID  \\\n",
      "0                 AB   Other Waste Biomass       19946         GEN1   \n",
      "2623             WND  Onshore Wind Turbine       61279        EXIS2   \n",
      "2624             WND  Onshore Wind Turbine       17058            1   \n",
      "\n",
      "     Prime.Mover  Nameplate.Capacity..MW.  Nameplate.Power.Factor  \\\n",
      "0             ST                     29.1                     0.9   \n",
      "2623          WT                     16.1                     NaN   \n",
      "2624          WT                     61.5                     NaN   \n",
      "\n",
      "      Summer.Capacity..MW.  Winter.Capacity..MW.  Minimum.Load..MW.  ...  \\\n",
      "0                     26.5                  26.5               15.0  ...   \n",
      "2623                  16.1                  16.1                0.1  ...   \n",
      "2624                  61.5                  61.5                2.6  ...   \n",
      "\n",
      "      Planned.Retirement.Year   VOM       fuelTypes  unit heatRateLow  \\\n",
      "0                         NaN  2.41  solidRenewable  tons         7.0   \n",
      "2623                      NaN  2.20  otherRenewable   NaN         0.0   \n",
      "2624                      NaN  2.20  otherRenewable   NaN         0.0   \n",
      "\n",
      "      heatRateHigh  fuelCost                     Notes capacityQuantile  \\\n",
      "0             18.0       2.5  Agricultural By-Products         0.000000   \n",
      "2623           0.0       0.0                      Wind         0.437956   \n",
      "2624           0.0       0.0                      Wind         0.751825   \n",
      "\n",
      "      capacityQuan  \n",
      "0                C  \n",
      "2623             B  \n",
      "2624             A  \n",
      "\n",
      "[3 rows x 21 columns]\n"
     ]
    }
   ],
   "source": [
    "generator.head(1)\n",
    "# generatorCombine = pd.DataFrame(columns = ['EnergySource','Capacity','MinLoad','VariableCost']) \n",
    "# generatorCombine.head()"
   ]
  },
  {
   "cell_type": "code",
   "execution_count": 5,
   "metadata": {},
   "outputs": [],
   "source": [
    "GA=pd.DataFrame(generator.head(1))\n",
    "for name, group in generator.groupby([\"Energy.Source.1\",\"capacityQuan\"]):\n",
    "    if name[1] ==\"B\": \n",
    "        group[\"Nameplate.Power.Factor\"]=(group[\"heatRateLow\"]+ group[\"heatRateHigh\"])/2\n",
    "    else:\n",
    "        if name[1] ==\"C\": \n",
    "            group[\"Nameplate.Power.Factor\"]=group[\"heatRateLow\"]/4+ 3*group[\"heatRateHigh\"]/4\n",
    "           \n",
    "        else:\n",
    "                group[\"Nameplate.Power.Factor\"]=3*group[\"heatRateLow\"]/4+ group[\"heatRateHigh\"]/4   \n",
    "    group[\"variableCost\"]=group[\"Nameplate.Power.Factor\"]*group[\"fuelCost\"]+group[\"VOM\"]\n",
    "    GA=GA.append(group)\n",
    "#     print(group['Nameplate.Capacity..MW.'].sum())\n",
    "#     print(name)\n",
    "#     print(group)\n",
    "#     a_row=pd.Series([group['Technology'],group['Nameplate.Capacity..MW.'].sum(),group['Energy.Source.1'],group['Minimum.Load..MW.'],group['variableCost']])\n",
    "#     print(a_row)\n",
    "#     print(\"Technology\",group.Technology.unique())\n",
    "#     print(\"SumCapacity\",group['Nameplate.Capacity..MW.'].sum())\n",
    "#     print(\"EnergySource\",group['Energy.Source.1'])\n",
    "#     generatorCombine=pd.concat([a_row,generatorCombine],ignore_index=True)\n",
    "# generatorCombine.head()\n",
    "   "
   ]
  },
  {
   "cell_type": "code",
   "execution_count": 6,
   "metadata": {},
   "outputs": [
    {
     "output_type": "execute_result",
     "data": {
      "text/plain": "Solar Photovoltaic                        780\nConventional Hydroelectric                443\nNatural Gas Fired Combustion Turbine      293\nNatural Gas Fired Combined Cycle          207\nOnshore Wind Turbine                      138\nPetroleum Liquids                         130\nLandfill Gas                              129\nNatural Gas Internal Combustion Engine    104\nGeothermal                                 86\nOther Waste Biomass                        74\nOther Natural Gas                          67\nWood/Wood Waste Biomass                    35\nBatteries                                  34\nHydroelectric Pumped Storage               32\nNatural Gas Steam Turbine                  26\nSolar Thermal without Energy Storage       15\nOther Gases                                15\nAll Other                                   9\nConventional Steam Coal                     3\nMunicipal Solid Waste                       2\nNuclear                                     2\nPetroleum Coke                              1\nName: Technology, dtype: int64"
     },
     "metadata": {},
     "execution_count": 6
    }
   ],
   "source": [
    "GA=GA.iloc[1:]\n",
    "GA=GA[['Technology','Nameplate.Capacity..MW.','Minimum.Load..MW.','variableCost']]\n",
    "GA\n",
    "GA['Technology'].value_counts()"
   ]
  },
  {
   "cell_type": "code",
   "execution_count": 7,
   "metadata": {},
   "outputs": [
    {
     "output_type": "execute_result",
     "data": {
      "text/plain": "                                                     Nameplate.Capacity..MW.  \\\nvariableCost Technology                                                        \n0.000000     Batteries                                                 233.6   \n             Nuclear                                                  2323.0   \n             Solar Photovoltaic                                      10543.7   \n1.700000     Conventional Hydroelectric                              10068.4   \n2.200000     Onshore Wind Turbine                                     6077.8   \n2.400000     Natural Gas Steam Turbine                                6154.4   \n2.440000     Landfill Gas                                              340.0   \n             Municipal Solid Waste                                      59.6   \n2.520000     Natural Gas Steam Turbine                                 218.6   \n             Other Natural Gas                                          10.0   \n2.640000     Natural Gas Steam Turbine                                   4.4   \n             Other Natural Gas                                          84.9   \n2.860000     Geothermal                                               2792.0   \n4.500000     All Other                                                 113.7   \n5.237400     Other Waste Biomass                                       101.5   \n5.494300     Other Gases                                               141.5   \n5.900000     Natural Gas Fired Combustion Turbine                     5459.6   \n6.020000     Natural Gas Fired Combustion Turbine                     6871.2   \n             Natural Gas Internal Combustion Engine                    237.2   \n6.140000     Natural Gas Fired Combustion Turbine                       52.8   \n             Natural Gas Internal Combustion Engine                    161.4   \n6.545600     Other Waste Biomass                                        42.0   \n7.853800     Other Waste Biomass                                         4.6   \n8.638200     Other Gases                                               115.1   \n9.430000     Hydroelectric Pumped Storage                             3745.6   \n11.782100    Other Gases                                                13.5   \n12.300000    Natural Gas Fired Combined Cycle                        19577.7   \n12.420000    Natural Gas Fired Combined Cycle                         2955.9   \n12.540000    Natural Gas Fired Combined Cycle                            7.5   \n38.485000    Wood/Wood Waste Biomass                                   335.9   \n40.535000    Other Waste Biomass                                        29.1   \n48.660000    Wood/Wood Waste Biomass                                   383.8   \n55.150000    Petroleum Coke                                             27.3   \n58.835000    Wood/Wood Waste Biomass                                    97.8   \n59.963750    Petroleum Liquids                                           2.3   \n68.234000    Conventional Steam Coal                                    55.0   \n73.931000    Conventional Steam Coal                                     7.5   \n105.099362   Petroleum Liquids                                         173.9   \n108.309475   Petroleum Liquids                                          92.7   \n111.519588   Petroleum Liquids                                          58.4   \n132.031000   Petroleum Liquids                                         223.5   \n\n                                                     Minimum.Load..MW.  \nvariableCost Technology                                                 \n0.000000     Batteries                                            27.3  \n             Nuclear                                               0.0  \n             Solar Photovoltaic                                    0.0  \n1.700000     Conventional Hydroelectric                          780.6  \n2.200000     Onshore Wind Turbine                                520.2  \n2.400000     Natural Gas Steam Turbine                           860.0  \n2.440000     Landfill Gas                                        155.6  \n             Municipal Solid Waste                                 5.0  \n2.520000     Natural Gas Steam Turbine                            43.0  \n             Other Natural Gas                                     6.1  \n2.640000     Natural Gas Steam Turbine                             0.7  \n             Other Natural Gas                                    37.2  \n2.860000     Geothermal                                          690.3  \n4.500000     All Other                                            11.9  \n5.237400     Other Waste Biomass                                  54.5  \n5.494300     Other Gases                                          81.0  \n5.900000     Natural Gas Fired Combustion Turbine               2677.0  \n6.020000     Natural Gas Fired Combustion Turbine               3447.4  \n             Natural Gas Internal Combustion Engine              183.6  \n6.140000     Natural Gas Fired Combustion Turbine                 25.3  \n             Natural Gas Internal Combustion Engine               87.9  \n6.545600     Other Waste Biomass                                  24.3  \n7.853800     Other Waste Biomass                                   3.9  \n8.638200     Other Gases                                          55.0  \n9.430000     Hydroelectric Pumped Storage                        701.0  \n11.782100    Other Gases                                           6.5  \n12.300000    Natural Gas Fired Combined Cycle                   8689.8  \n12.420000    Natural Gas Fired Combined Cycle                   1292.4  \n12.540000    Natural Gas Fired Combined Cycle                      2.6  \n38.485000    Wood/Wood Waste Biomass                             119.2  \n40.535000    Other Waste Biomass                                  15.0  \n48.660000    Wood/Wood Waste Biomass                             115.9  \n55.150000    Petroleum Coke                                        2.0  \n58.835000    Wood/Wood Waste Biomass                              34.7  \n59.963750    Petroleum Liquids                                     2.3  \n68.234000    Conventional Steam Coal                              20.0  \n73.931000    Conventional Steam Coal                               1.0  \n105.099362   Petroleum Liquids                                    50.3  \n108.309475   Petroleum Liquids                                     0.0  \n111.519588   Petroleum Liquids                                    20.1  \n132.031000   Petroleum Liquids                                    45.0  ",
      "text/html": "<div>\n<style scoped>\n    .dataframe tbody tr th:only-of-type {\n        vertical-align: middle;\n    }\n\n    .dataframe tbody tr th {\n        vertical-align: top;\n    }\n\n    .dataframe thead th {\n        text-align: right;\n    }\n</style>\n<table border=\"1\" class=\"dataframe\">\n  <thead>\n    <tr style=\"text-align: right;\">\n      <th></th>\n      <th></th>\n      <th>Nameplate.Capacity..MW.</th>\n      <th>Minimum.Load..MW.</th>\n    </tr>\n    <tr>\n      <th>variableCost</th>\n      <th>Technology</th>\n      <th></th>\n      <th></th>\n    </tr>\n  </thead>\n  <tbody>\n    <tr>\n      <th rowspan=\"3\" valign=\"top\">0.000000</th>\n      <th>Batteries</th>\n      <td>233.6</td>\n      <td>27.3</td>\n    </tr>\n    <tr>\n      <th>Nuclear</th>\n      <td>2323.0</td>\n      <td>0.0</td>\n    </tr>\n    <tr>\n      <th>Solar Photovoltaic</th>\n      <td>10543.7</td>\n      <td>0.0</td>\n    </tr>\n    <tr>\n      <th>1.700000</th>\n      <th>Conventional Hydroelectric</th>\n      <td>10068.4</td>\n      <td>780.6</td>\n    </tr>\n    <tr>\n      <th>2.200000</th>\n      <th>Onshore Wind Turbine</th>\n      <td>6077.8</td>\n      <td>520.2</td>\n    </tr>\n    <tr>\n      <th>2.400000</th>\n      <th>Natural Gas Steam Turbine</th>\n      <td>6154.4</td>\n      <td>860.0</td>\n    </tr>\n    <tr>\n      <th rowspan=\"2\" valign=\"top\">2.440000</th>\n      <th>Landfill Gas</th>\n      <td>340.0</td>\n      <td>155.6</td>\n    </tr>\n    <tr>\n      <th>Municipal Solid Waste</th>\n      <td>59.6</td>\n      <td>5.0</td>\n    </tr>\n    <tr>\n      <th rowspan=\"2\" valign=\"top\">2.520000</th>\n      <th>Natural Gas Steam Turbine</th>\n      <td>218.6</td>\n      <td>43.0</td>\n    </tr>\n    <tr>\n      <th>Other Natural Gas</th>\n      <td>10.0</td>\n      <td>6.1</td>\n    </tr>\n    <tr>\n      <th rowspan=\"2\" valign=\"top\">2.640000</th>\n      <th>Natural Gas Steam Turbine</th>\n      <td>4.4</td>\n      <td>0.7</td>\n    </tr>\n    <tr>\n      <th>Other Natural Gas</th>\n      <td>84.9</td>\n      <td>37.2</td>\n    </tr>\n    <tr>\n      <th>2.860000</th>\n      <th>Geothermal</th>\n      <td>2792.0</td>\n      <td>690.3</td>\n    </tr>\n    <tr>\n      <th>4.500000</th>\n      <th>All Other</th>\n      <td>113.7</td>\n      <td>11.9</td>\n    </tr>\n    <tr>\n      <th>5.237400</th>\n      <th>Other Waste Biomass</th>\n      <td>101.5</td>\n      <td>54.5</td>\n    </tr>\n    <tr>\n      <th>5.494300</th>\n      <th>Other Gases</th>\n      <td>141.5</td>\n      <td>81.0</td>\n    </tr>\n    <tr>\n      <th>5.900000</th>\n      <th>Natural Gas Fired Combustion Turbine</th>\n      <td>5459.6</td>\n      <td>2677.0</td>\n    </tr>\n    <tr>\n      <th rowspan=\"2\" valign=\"top\">6.020000</th>\n      <th>Natural Gas Fired Combustion Turbine</th>\n      <td>6871.2</td>\n      <td>3447.4</td>\n    </tr>\n    <tr>\n      <th>Natural Gas Internal Combustion Engine</th>\n      <td>237.2</td>\n      <td>183.6</td>\n    </tr>\n    <tr>\n      <th rowspan=\"2\" valign=\"top\">6.140000</th>\n      <th>Natural Gas Fired Combustion Turbine</th>\n      <td>52.8</td>\n      <td>25.3</td>\n    </tr>\n    <tr>\n      <th>Natural Gas Internal Combustion Engine</th>\n      <td>161.4</td>\n      <td>87.9</td>\n    </tr>\n    <tr>\n      <th>6.545600</th>\n      <th>Other Waste Biomass</th>\n      <td>42.0</td>\n      <td>24.3</td>\n    </tr>\n    <tr>\n      <th>7.853800</th>\n      <th>Other Waste Biomass</th>\n      <td>4.6</td>\n      <td>3.9</td>\n    </tr>\n    <tr>\n      <th>8.638200</th>\n      <th>Other Gases</th>\n      <td>115.1</td>\n      <td>55.0</td>\n    </tr>\n    <tr>\n      <th>9.430000</th>\n      <th>Hydroelectric Pumped Storage</th>\n      <td>3745.6</td>\n      <td>701.0</td>\n    </tr>\n    <tr>\n      <th>11.782100</th>\n      <th>Other Gases</th>\n      <td>13.5</td>\n      <td>6.5</td>\n    </tr>\n    <tr>\n      <th>12.300000</th>\n      <th>Natural Gas Fired Combined Cycle</th>\n      <td>19577.7</td>\n      <td>8689.8</td>\n    </tr>\n    <tr>\n      <th>12.420000</th>\n      <th>Natural Gas Fired Combined Cycle</th>\n      <td>2955.9</td>\n      <td>1292.4</td>\n    </tr>\n    <tr>\n      <th>12.540000</th>\n      <th>Natural Gas Fired Combined Cycle</th>\n      <td>7.5</td>\n      <td>2.6</td>\n    </tr>\n    <tr>\n      <th>38.485000</th>\n      <th>Wood/Wood Waste Biomass</th>\n      <td>335.9</td>\n      <td>119.2</td>\n    </tr>\n    <tr>\n      <th>40.535000</th>\n      <th>Other Waste Biomass</th>\n      <td>29.1</td>\n      <td>15.0</td>\n    </tr>\n    <tr>\n      <th>48.660000</th>\n      <th>Wood/Wood Waste Biomass</th>\n      <td>383.8</td>\n      <td>115.9</td>\n    </tr>\n    <tr>\n      <th>55.150000</th>\n      <th>Petroleum Coke</th>\n      <td>27.3</td>\n      <td>2.0</td>\n    </tr>\n    <tr>\n      <th>58.835000</th>\n      <th>Wood/Wood Waste Biomass</th>\n      <td>97.8</td>\n      <td>34.7</td>\n    </tr>\n    <tr>\n      <th>59.963750</th>\n      <th>Petroleum Liquids</th>\n      <td>2.3</td>\n      <td>2.3</td>\n    </tr>\n    <tr>\n      <th>68.234000</th>\n      <th>Conventional Steam Coal</th>\n      <td>55.0</td>\n      <td>20.0</td>\n    </tr>\n    <tr>\n      <th>73.931000</th>\n      <th>Conventional Steam Coal</th>\n      <td>7.5</td>\n      <td>1.0</td>\n    </tr>\n    <tr>\n      <th>105.099362</th>\n      <th>Petroleum Liquids</th>\n      <td>173.9</td>\n      <td>50.3</td>\n    </tr>\n    <tr>\n      <th>108.309475</th>\n      <th>Petroleum Liquids</th>\n      <td>92.7</td>\n      <td>0.0</td>\n    </tr>\n    <tr>\n      <th>111.519588</th>\n      <th>Petroleum Liquids</th>\n      <td>58.4</td>\n      <td>20.1</td>\n    </tr>\n    <tr>\n      <th>132.031000</th>\n      <th>Petroleum Liquids</th>\n      <td>223.5</td>\n      <td>45.0</td>\n    </tr>\n  </tbody>\n</table>\n</div>"
     },
     "metadata": {},
     "execution_count": 7
    }
   ],
   "source": [
    "list(GA.columns.values)\n",
    "VC=GA.groupby(['variableCost','Technology']).sum()\n",
    "VC.shape\n",
    "VC\n",
    "# VC.join(VC,GA[['Technology','variableCost']].drop_duplicates(),how=\"left\")\n",
    "#  GA[['Technology','variableCost']].drop_duplicates()"
   ]
  },
  {
   "cell_type": "code",
   "execution_count": 8,
   "metadata": {},
   "outputs": [],
   "source": [
    "VC.to_csv(\"GeneratorAggregated.csv\")"
   ]
  },
  {
   "cell_type": "code",
   "execution_count": null,
   "metadata": {},
   "outputs": [],
   "source": []
  }
 ],
 "metadata": {
  "kernelspec": {
   "display_name": "Python 3",
   "language": "python",
   "name": "python3"
  },
  "language_info": {
   "codemirror_mode": {
    "name": "ipython",
    "version": 3
   },
   "file_extension": ".py",
   "mimetype": "text/x-python",
   "name": "python",
   "nbconvert_exporter": "python",
   "pygments_lexer": "ipython3",
   "version": "2.7.16-final"
  }
 },
 "nbformat": 4,
 "nbformat_minor": 4
}